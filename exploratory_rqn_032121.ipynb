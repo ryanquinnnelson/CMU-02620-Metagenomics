{
 "cells": [
  {
   "cell_type": "markdown",
   "id": "objective-quebec",
   "metadata": {},
   "source": [
    "### Imports"
   ]
  },
  {
   "cell_type": "code",
   "execution_count": 105,
   "id": "exclusive-deficit",
   "metadata": {},
   "outputs": [],
   "source": [
    "import numpy as np\n",
    "import pandas as pd\n",
    "from Bio import SeqIO\n",
    "from Bio.Seq import Seq\n",
    "import sys"
   ]
  },
  {
   "cell_type": "markdown",
   "id": "continuing-defensive",
   "metadata": {},
   "source": [
    "# 1. Data Exploration"
   ]
  },
  {
   "cell_type": "markdown",
   "id": "important-wheel",
   "metadata": {},
   "source": [
    "### Load metadata"
   ]
  },
  {
   "cell_type": "code",
   "execution_count": 2,
   "id": "marked-battery",
   "metadata": {},
   "outputs": [],
   "source": [
    "df_meta = pd.read_csv('data/train_small-db.meta',delimiter='\\t')"
   ]
  },
  {
   "cell_type": "code",
   "execution_count": 3,
   "id": "white-preference",
   "metadata": {
    "scrolled": false
   },
   "outputs": [
    {
     "data": {
      "text/html": [
       "<div>\n",
       "<style scoped>\n",
       "    .dataframe tbody tr th:only-of-type {\n",
       "        vertical-align: middle;\n",
       "    }\n",
       "\n",
       "    .dataframe tbody tr th {\n",
       "        vertical-align: top;\n",
       "    }\n",
       "\n",
       "    .dataframe thead th {\n",
       "        text-align: right;\n",
       "    }\n",
       "</style>\n",
       "<table border=\"1\" class=\"dataframe\">\n",
       "  <thead>\n",
       "    <tr style=\"text-align: right;\">\n",
       "      <th></th>\n",
       "      <th>sequence.id</th>\n",
       "      <th>genome.id</th>\n",
       "      <th>taxid.strain</th>\n",
       "      <th>taxid.species</th>\n",
       "      <th>taxid.genus</th>\n",
       "    </tr>\n",
       "  </thead>\n",
       "  <tbody>\n",
       "    <tr>\n",
       "      <th>0</th>\n",
       "      <td>Cupriavidus_necator_N-1</td>\n",
       "      <td>NC_015723</td>\n",
       "      <td>1042878</td>\n",
       "      <td>106590</td>\n",
       "      <td>106589</td>\n",
       "    </tr>\n",
       "    <tr>\n",
       "      <th>1</th>\n",
       "      <td>Cupriavidus_necator_N-1</td>\n",
       "      <td>NC_015724</td>\n",
       "      <td>1042878</td>\n",
       "      <td>106590</td>\n",
       "      <td>106589</td>\n",
       "    </tr>\n",
       "    <tr>\n",
       "      <th>2</th>\n",
       "      <td>Cupriavidus_necator_N-1</td>\n",
       "      <td>NC_015726</td>\n",
       "      <td>1042878</td>\n",
       "      <td>106590</td>\n",
       "      <td>106589</td>\n",
       "    </tr>\n",
       "    <tr>\n",
       "      <th>3</th>\n",
       "      <td>Cupriavidus_necator_N-1</td>\n",
       "      <td>NC_015727</td>\n",
       "      <td>1042878</td>\n",
       "      <td>106590</td>\n",
       "      <td>106589</td>\n",
       "    </tr>\n",
       "    <tr>\n",
       "      <th>4</th>\n",
       "      <td>Rhodospirillum_rubrum_ATCC_11170</td>\n",
       "      <td>NC_007641</td>\n",
       "      <td>269796</td>\n",
       "      <td>1085</td>\n",
       "      <td>1081</td>\n",
       "    </tr>\n",
       "    <tr>\n",
       "      <th>...</th>\n",
       "      <td>...</td>\n",
       "      <td>...</td>\n",
       "      <td>...</td>\n",
       "      <td>...</td>\n",
       "      <td>...</td>\n",
       "    </tr>\n",
       "    <tr>\n",
       "      <th>1559</th>\n",
       "      <td>Burkholderia_cenocepacia_J2315</td>\n",
       "      <td>NC_011002</td>\n",
       "      <td>216591</td>\n",
       "      <td>95486</td>\n",
       "      <td>32008</td>\n",
       "    </tr>\n",
       "    <tr>\n",
       "      <th>1560</th>\n",
       "      <td>Burkholderia_cenocepacia_J2315</td>\n",
       "      <td>NC_011003</td>\n",
       "      <td>216591</td>\n",
       "      <td>95486</td>\n",
       "      <td>32008</td>\n",
       "    </tr>\n",
       "    <tr>\n",
       "      <th>1561</th>\n",
       "      <td>Burkholderia_cenocepacia_MC0-3</td>\n",
       "      <td>NC_010508</td>\n",
       "      <td>406425</td>\n",
       "      <td>95486</td>\n",
       "      <td>32008</td>\n",
       "    </tr>\n",
       "    <tr>\n",
       "      <th>1562</th>\n",
       "      <td>Burkholderia_cenocepacia_MC0-3</td>\n",
       "      <td>NC_010512</td>\n",
       "      <td>406425</td>\n",
       "      <td>95486</td>\n",
       "      <td>32008</td>\n",
       "    </tr>\n",
       "    <tr>\n",
       "      <th>1563</th>\n",
       "      <td>Burkholderia_cenocepacia_MC0-3</td>\n",
       "      <td>NC_010515</td>\n",
       "      <td>406425</td>\n",
       "      <td>95486</td>\n",
       "      <td>32008</td>\n",
       "    </tr>\n",
       "  </tbody>\n",
       "</table>\n",
       "<p>1564 rows × 5 columns</p>\n",
       "</div>"
      ],
      "text/plain": [
       "                           sequence.id  genome.id  taxid.strain  \\\n",
       "0              Cupriavidus_necator_N-1  NC_015723       1042878   \n",
       "1              Cupriavidus_necator_N-1  NC_015724       1042878   \n",
       "2              Cupriavidus_necator_N-1  NC_015726       1042878   \n",
       "3              Cupriavidus_necator_N-1  NC_015727       1042878   \n",
       "4     Rhodospirillum_rubrum_ATCC_11170  NC_007641        269796   \n",
       "...                                ...        ...           ...   \n",
       "1559    Burkholderia_cenocepacia_J2315  NC_011002        216591   \n",
       "1560    Burkholderia_cenocepacia_J2315  NC_011003        216591   \n",
       "1561    Burkholderia_cenocepacia_MC0-3  NC_010508        406425   \n",
       "1562    Burkholderia_cenocepacia_MC0-3  NC_010512        406425   \n",
       "1563    Burkholderia_cenocepacia_MC0-3  NC_010515        406425   \n",
       "\n",
       "      taxid.species  taxid.genus  \n",
       "0            106590       106589  \n",
       "1            106590       106589  \n",
       "2            106590       106589  \n",
       "3            106590       106589  \n",
       "4              1085         1081  \n",
       "...             ...          ...  \n",
       "1559          95486        32008  \n",
       "1560          95486        32008  \n",
       "1561          95486        32008  \n",
       "1562          95486        32008  \n",
       "1563          95486        32008  \n",
       "\n",
       "[1564 rows x 5 columns]"
      ]
     },
     "execution_count": 3,
     "metadata": {},
     "output_type": "execute_result"
    }
   ],
   "source": [
    "df_meta"
   ]
  },
  {
   "cell_type": "markdown",
   "id": "super-condition",
   "metadata": {},
   "source": [
    "### Explore metadata"
   ]
  },
  {
   "cell_type": "code",
   "execution_count": 16,
   "id": "sexual-consciousness",
   "metadata": {
    "scrolled": true
   },
   "outputs": [
    {
     "name": "stdout",
     "output_type": "stream",
     "text": [
      "Number of sequence ids: 872\n",
      "Number of genome ids: 1564\n",
      "Number of taxid strains: 872\n",
      "Number of taxid species: 193\n",
      "Number of taxid genus: 76\n"
     ]
    }
   ],
   "source": [
    "print('Number of sequence ids:',len(df_meta['sequence.id'].unique()))\n",
    "print('Number of genome ids:',len(df_meta['genome.id'].unique()))\n",
    "print('Number of taxid strains:',len(df_meta['taxid.strain'].unique()))\n",
    "print('Number of taxid species:',len(df_meta['taxid.species'].unique()))\n",
    "print('Number of taxid genus:',len(df_meta['taxid.genus'].unique()))"
   ]
  },
  {
   "cell_type": "markdown",
   "id": "another-encyclopedia",
   "metadata": {},
   "source": [
    "### Load taxid data"
   ]
  },
  {
   "cell_type": "code",
   "execution_count": 9,
   "id": "transparent-investment",
   "metadata": {},
   "outputs": [],
   "source": [
    "df_taxid = pd.read_csv('data/train_small-db.species-level.taxid',header = None)"
   ]
  },
  {
   "cell_type": "code",
   "execution_count": 10,
   "id": "stupid-onion",
   "metadata": {
    "scrolled": false
   },
   "outputs": [
    {
     "data": {
      "text/html": [
       "<div>\n",
       "<style scoped>\n",
       "    .dataframe tbody tr th:only-of-type {\n",
       "        vertical-align: middle;\n",
       "    }\n",
       "\n",
       "    .dataframe tbody tr th {\n",
       "        vertical-align: top;\n",
       "    }\n",
       "\n",
       "    .dataframe thead th {\n",
       "        text-align: right;\n",
       "    }\n",
       "</style>\n",
       "<table border=\"1\" class=\"dataframe\">\n",
       "  <thead>\n",
       "    <tr style=\"text-align: right;\">\n",
       "      <th></th>\n",
       "      <th>0</th>\n",
       "    </tr>\n",
       "  </thead>\n",
       "  <tbody>\n",
       "    <tr>\n",
       "      <th>0</th>\n",
       "      <td>106590</td>\n",
       "    </tr>\n",
       "    <tr>\n",
       "      <th>1</th>\n",
       "      <td>106590</td>\n",
       "    </tr>\n",
       "    <tr>\n",
       "      <th>2</th>\n",
       "      <td>106590</td>\n",
       "    </tr>\n",
       "    <tr>\n",
       "      <th>3</th>\n",
       "      <td>106590</td>\n",
       "    </tr>\n",
       "    <tr>\n",
       "      <th>4</th>\n",
       "      <td>1085</td>\n",
       "    </tr>\n",
       "    <tr>\n",
       "      <th>...</th>\n",
       "      <td>...</td>\n",
       "    </tr>\n",
       "    <tr>\n",
       "      <th>1559</th>\n",
       "      <td>95486</td>\n",
       "    </tr>\n",
       "    <tr>\n",
       "      <th>1560</th>\n",
       "      <td>95486</td>\n",
       "    </tr>\n",
       "    <tr>\n",
       "      <th>1561</th>\n",
       "      <td>95486</td>\n",
       "    </tr>\n",
       "    <tr>\n",
       "      <th>1562</th>\n",
       "      <td>95486</td>\n",
       "    </tr>\n",
       "    <tr>\n",
       "      <th>1563</th>\n",
       "      <td>95486</td>\n",
       "    </tr>\n",
       "  </tbody>\n",
       "</table>\n",
       "<p>1564 rows × 1 columns</p>\n",
       "</div>"
      ],
      "text/plain": [
       "           0\n",
       "0     106590\n",
       "1     106590\n",
       "2     106590\n",
       "3     106590\n",
       "4       1085\n",
       "...      ...\n",
       "1559   95486\n",
       "1560   95486\n",
       "1561   95486\n",
       "1562   95486\n",
       "1563   95486\n",
       "\n",
       "[1564 rows x 1 columns]"
      ]
     },
     "execution_count": 10,
     "metadata": {},
     "output_type": "execute_result"
    }
   ],
   "source": [
    "df_taxid"
   ]
  },
  {
   "cell_type": "markdown",
   "id": "measured-rating",
   "metadata": {},
   "source": [
    "### Load sequence data"
   ]
  },
  {
   "cell_type": "code",
   "execution_count": 58,
   "id": "demographic-camping",
   "metadata": {},
   "outputs": [
    {
     "data": {
      "text/plain": [
       "1564"
      ]
     },
     "execution_count": 58,
     "metadata": {},
     "output_type": "execute_result"
    }
   ],
   "source": [
    "%% time\n",
    "\n",
    "filename='/Users/ryanqnelson/Downloads/large-scale-metagenomics-1.0/data/train-dataset/train_small-db.fasta'\n",
    "\n",
    "count = 0\n",
    "for seq_record in SeqIO.parse(filename, \"fasta\"):\n",
    "    count += 1\n",
    "\n",
    "count"
   ]
  },
  {
   "cell_type": "markdown",
   "id": "taken-acrylic",
   "metadata": {},
   "source": [
    "# 2. Build toy dataset"
   ]
  },
  {
   "cell_type": "markdown",
   "id": "opened-salvation",
   "metadata": {},
   "source": [
    "### Calculate sequence lengths\n",
    "To identify small sequences which can be used to generate a toy dataset."
   ]
  },
  {
   "cell_type": "code",
   "execution_count": 42,
   "id": "disturbed-valentine",
   "metadata": {},
   "outputs": [],
   "source": [
    "%%time\n",
    "\n",
    "# create dataframe containing sequence lengths for each sequence\n",
    "filename='/Users/ryanqnelson/Downloads/large-scale-metagenomics-1.0/data/train-dataset/train_small-db.fasta'\n",
    "\n",
    "ids = []\n",
    "lengths = []\n",
    "\n",
    "for i,seq_record in enumerate(SeqIO.parse(filename, \"fasta\")):\n",
    "        ids.append(seq_record.id)\n",
    "        lengths.append(len(seq_record.seq))\n",
    "        \n",
    "df_lengths = pd.DataFrame(list(zip(ids, lengths)), columns =['genome.id', 'sequence.length'])\n",
    "df_lengths.head()"
   ]
  },
  {
   "cell_type": "code",
   "execution_count": 85,
   "id": "terminal-wayne",
   "metadata": {},
   "outputs": [],
   "source": [
    "# join with taxonomy information to get species\n",
    "df = df_meta.set_index('genome.id').join(\n",
    "    df_lengths.set_index('genome.id'),lsuffix='_caller', rsuffix='_other'\n",
    ").reset_index()"
   ]
  },
  {
   "cell_type": "code",
   "execution_count": 86,
   "id": "instrumental-stretch",
   "metadata": {
    "scrolled": false
   },
   "outputs": [
    {
     "data": {
      "text/html": [
       "<div>\n",
       "<style scoped>\n",
       "    .dataframe tbody tr th:only-of-type {\n",
       "        vertical-align: middle;\n",
       "    }\n",
       "\n",
       "    .dataframe tbody tr th {\n",
       "        vertical-align: top;\n",
       "    }\n",
       "\n",
       "    .dataframe thead th {\n",
       "        text-align: right;\n",
       "    }\n",
       "</style>\n",
       "<table border=\"1\" class=\"dataframe\">\n",
       "  <thead>\n",
       "    <tr style=\"text-align: right;\">\n",
       "      <th></th>\n",
       "      <th>genome.id</th>\n",
       "      <th>sequence.id</th>\n",
       "      <th>taxid.strain</th>\n",
       "      <th>taxid.species</th>\n",
       "      <th>taxid.genus</th>\n",
       "      <th>sequence.length</th>\n",
       "    </tr>\n",
       "  </thead>\n",
       "  <tbody>\n",
       "    <tr>\n",
       "      <th>0</th>\n",
       "      <td>NC_015723</td>\n",
       "      <td>Cupriavidus_necator_N-1</td>\n",
       "      <td>1042878</td>\n",
       "      <td>106590</td>\n",
       "      <td>106589</td>\n",
       "      <td>2684606</td>\n",
       "    </tr>\n",
       "    <tr>\n",
       "      <th>1</th>\n",
       "      <td>NC_015724</td>\n",
       "      <td>Cupriavidus_necator_N-1</td>\n",
       "      <td>1042878</td>\n",
       "      <td>106590</td>\n",
       "      <td>106589</td>\n",
       "      <td>424140</td>\n",
       "    </tr>\n",
       "    <tr>\n",
       "      <th>2</th>\n",
       "      <td>NC_015726</td>\n",
       "      <td>Cupriavidus_necator_N-1</td>\n",
       "      <td>1042878</td>\n",
       "      <td>106590</td>\n",
       "      <td>106589</td>\n",
       "      <td>3872936</td>\n",
       "    </tr>\n",
       "    <tr>\n",
       "      <th>3</th>\n",
       "      <td>NC_015727</td>\n",
       "      <td>Cupriavidus_necator_N-1</td>\n",
       "      <td>1042878</td>\n",
       "      <td>106590</td>\n",
       "      <td>106589</td>\n",
       "      <td>1499175</td>\n",
       "    </tr>\n",
       "    <tr>\n",
       "      <th>4</th>\n",
       "      <td>NC_007641</td>\n",
       "      <td>Rhodospirillum_rubrum_ATCC_11170</td>\n",
       "      <td>269796</td>\n",
       "      <td>1085</td>\n",
       "      <td>1081</td>\n",
       "      <td>53732</td>\n",
       "    </tr>\n",
       "  </tbody>\n",
       "</table>\n",
       "</div>"
      ],
      "text/plain": [
       "   genome.id                       sequence.id  taxid.strain  taxid.species  \\\n",
       "0  NC_015723           Cupriavidus_necator_N-1       1042878         106590   \n",
       "1  NC_015724           Cupriavidus_necator_N-1       1042878         106590   \n",
       "2  NC_015726           Cupriavidus_necator_N-1       1042878         106590   \n",
       "3  NC_015727           Cupriavidus_necator_N-1       1042878         106590   \n",
       "4  NC_007641  Rhodospirillum_rubrum_ATCC_11170        269796           1085   \n",
       "\n",
       "   taxid.genus  sequence.length  \n",
       "0       106589          2684606  \n",
       "1       106589           424140  \n",
       "2       106589          3872936  \n",
       "3       106589          1499175  \n",
       "4         1081            53732  "
      ]
     },
     "execution_count": 86,
     "metadata": {},
     "output_type": "execute_result"
    }
   ],
   "source": [
    "df.head()"
   ]
  },
  {
   "cell_type": "code",
   "execution_count": 57,
   "id": "professional-legislation",
   "metadata": {},
   "outputs": [],
   "source": [
    "# df.to_csv('data/train_small-db.lengths.csv')"
   ]
  },
  {
   "cell_type": "code",
   "execution_count": 87,
   "id": "classical-unknown",
   "metadata": {},
   "outputs": [],
   "source": [
    "# bin data v1\n",
    "bins = [0, 1e3, 1e4, 1e5, 1e6, 1e7, 1e8, 1e9, 1e10]\n",
    "df['binned'] = pd.cut(df['sequence.length'], bins)"
   ]
  },
  {
   "cell_type": "code",
   "execution_count": 88,
   "id": "expressed-petersburg",
   "metadata": {},
   "outputs": [
    {
     "data": {
      "text/plain": [
       "(1000000.0, 10000000.0]          953\n",
       "(10000.0, 100000.0]              291\n",
       "(1000.0, 10000.0]                198\n",
       "(100000.0, 1000000.0]            122\n",
       "(1000000000.0, 10000000000.0]      0\n",
       "(100000000.0, 1000000000.0]        0\n",
       "(10000000.0, 100000000.0]          0\n",
       "(0.0, 1000.0]                      0\n",
       "Name: binned, dtype: int64"
      ]
     },
     "execution_count": 88,
     "metadata": {},
     "output_type": "execute_result"
    }
   ],
   "source": [
    "df['binned'].value_counts()"
   ]
  },
  {
   "cell_type": "code",
   "execution_count": 89,
   "id": "express-camera",
   "metadata": {},
   "outputs": [],
   "source": [
    "# bin data v2\n",
    "bins = [0, 1e3, 2*1e3, 5*1e3, 1e4, 1e5, 1e6, 1e7]\n",
    "df['binned'] = pd.cut(df['sequence.length'], bins)"
   ]
  },
  {
   "cell_type": "code",
   "execution_count": 90,
   "id": "spatial-forty",
   "metadata": {},
   "outputs": [
    {
     "data": {
      "text/plain": [
       "(1000000.0, 10000000.0]    953\n",
       "(10000.0, 100000.0]        291\n",
       "(5000.0, 10000.0]          134\n",
       "(100000.0, 1000000.0]      122\n",
       "(2000.0, 5000.0]            59\n",
       "(1000.0, 2000.0]             5\n",
       "(0.0, 1000.0]                0\n",
       "Name: binned, dtype: int64"
      ]
     },
     "execution_count": 90,
     "metadata": {},
     "output_type": "execute_result"
    }
   ],
   "source": [
    "df['binned'].value_counts()"
   ]
  },
  {
   "cell_type": "code",
   "execution_count": 95,
   "id": "decent-vanilla",
   "metadata": {},
   "outputs": [
    {
     "data": {
      "text/html": [
       "<div>\n",
       "<style scoped>\n",
       "    .dataframe tbody tr th:only-of-type {\n",
       "        vertical-align: middle;\n",
       "    }\n",
       "\n",
       "    .dataframe tbody tr th {\n",
       "        vertical-align: top;\n",
       "    }\n",
       "\n",
       "    .dataframe thead th {\n",
       "        text-align: right;\n",
       "    }\n",
       "</style>\n",
       "<table border=\"1\" class=\"dataframe\">\n",
       "  <thead>\n",
       "    <tr style=\"text-align: right;\">\n",
       "      <th></th>\n",
       "      <th>genome.id</th>\n",
       "      <th>sequence.id</th>\n",
       "      <th>taxid.strain</th>\n",
       "      <th>taxid.species</th>\n",
       "      <th>taxid.genus</th>\n",
       "      <th>sequence.length</th>\n",
       "      <th>binned</th>\n",
       "    </tr>\n",
       "  </thead>\n",
       "  <tbody>\n",
       "    <tr>\n",
       "      <th>36</th>\n",
       "      <td>NC_013451</td>\n",
       "      <td>Staphylococcus_aureus_subsp._aureus_ED98</td>\n",
       "      <td>681288</td>\n",
       "      <td>1280</td>\n",
       "      <td>1279</td>\n",
       "      <td>1442</td>\n",
       "      <td>(1000.0, 2000.0]</td>\n",
       "    </tr>\n",
       "    <tr>\n",
       "      <th>540</th>\n",
       "      <td>NC_006375</td>\n",
       "      <td>Lactobacillus_plantarum_WCFS1</td>\n",
       "      <td>220668</td>\n",
       "      <td>1590</td>\n",
       "      <td>1578</td>\n",
       "      <td>1917</td>\n",
       "      <td>(1000.0, 2000.0]</td>\n",
       "    </tr>\n",
       "    <tr>\n",
       "      <th>757</th>\n",
       "      <td>NC_019565</td>\n",
       "      <td>Helicobacter_pylori_Aklavik86</td>\n",
       "      <td>1055532</td>\n",
       "      <td>210</td>\n",
       "      <td>209</td>\n",
       "      <td>1634</td>\n",
       "      <td>(1000.0, 2000.0]</td>\n",
       "    </tr>\n",
       "    <tr>\n",
       "      <th>818</th>\n",
       "      <td>NC_015407</td>\n",
       "      <td>Mycoplasma_mycoides_subsp._capri_LC_str._95010</td>\n",
       "      <td>862259</td>\n",
       "      <td>2102</td>\n",
       "      <td>2093</td>\n",
       "      <td>1840</td>\n",
       "      <td>(1000.0, 2000.0]</td>\n",
       "    </tr>\n",
       "    <tr>\n",
       "      <th>1197</th>\n",
       "      <td>NC_016841</td>\n",
       "      <td>Klebsiella_pneumoniae_subsp._pneumoniae_HS11286</td>\n",
       "      <td>1125630</td>\n",
       "      <td>573</td>\n",
       "      <td>570</td>\n",
       "      <td>1308</td>\n",
       "      <td>(1000.0, 2000.0]</td>\n",
       "    </tr>\n",
       "  </tbody>\n",
       "</table>\n",
       "</div>"
      ],
      "text/plain": [
       "      genome.id                                      sequence.id  \\\n",
       "36    NC_013451         Staphylococcus_aureus_subsp._aureus_ED98   \n",
       "540   NC_006375                    Lactobacillus_plantarum_WCFS1   \n",
       "757   NC_019565                    Helicobacter_pylori_Aklavik86   \n",
       "818   NC_015407   Mycoplasma_mycoides_subsp._capri_LC_str._95010   \n",
       "1197  NC_016841  Klebsiella_pneumoniae_subsp._pneumoniae_HS11286   \n",
       "\n",
       "      taxid.strain  taxid.species  taxid.genus  sequence.length  \\\n",
       "36          681288           1280         1279             1442   \n",
       "540         220668           1590         1578             1917   \n",
       "757        1055532            210          209             1634   \n",
       "818         862259           2102         2093             1840   \n",
       "1197       1125630            573          570             1308   \n",
       "\n",
       "                binned  \n",
       "36    (1000.0, 2000.0]  \n",
       "540   (1000.0, 2000.0]  \n",
       "757   (1000.0, 2000.0]  \n",
       "818   (1000.0, 2000.0]  \n",
       "1197  (1000.0, 2000.0]  "
      ]
     },
     "execution_count": 95,
     "metadata": {},
     "output_type": "execute_result"
    }
   ],
   "source": [
    "df[df['sequence.length'] < 2000]"
   ]
  },
  {
   "cell_type": "code",
   "execution_count": 93,
   "id": "acute-clark",
   "metadata": {},
   "outputs": [],
   "source": [
    "# get sequences with lengths between 1000 and 2000 bp\n",
    "genome_ids = df[df['sequence.length'] < 2000]['genome.id'].to_list()"
   ]
  },
  {
   "cell_type": "code",
   "execution_count": 94,
   "id": "signed-liquid",
   "metadata": {},
   "outputs": [
    {
     "data": {
      "text/plain": [
       "['NC_013451', 'NC_006375', 'NC_019565', 'NC_015407', 'NC_016841']"
      ]
     },
     "execution_count": 94,
     "metadata": {},
     "output_type": "execute_result"
    }
   ],
   "source": [
    "genome_ids"
   ]
  },
  {
   "cell_type": "markdown",
   "id": "spatial-cedar",
   "metadata": {},
   "source": [
    "### Select specific samples\n",
    "Select smallest length samples to use for method development."
   ]
  },
  {
   "cell_type": "code",
   "execution_count": 99,
   "id": "operating-surge",
   "metadata": {},
   "outputs": [
    {
     "name": "stdout",
     "output_type": "stream",
     "text": [
      "NC_013451 1442\n",
      "NC_006375 1917\n",
      "NC_019565 1634\n",
      "NC_015407 1840\n",
      "NC_016841 1308\n"
     ]
    }
   ],
   "source": [
    "\n",
    "input_file='/Users/ryanqnelson/Downloads/large-scale-metagenomics-1.0/data/train-dataset/train_small-db.fasta'\n",
    "output_file = \"data/train_small-db_toy2000.fasta\"\n",
    "\n",
    "# get toy sample sequences\n",
    "sequences = []\n",
    "for seq_record in SeqIO.parse(input_file, \"fasta\"):\n",
    "    if seq_record.id in genome_ids:\n",
    "        print(seq_record.id, len(seq_record.seq))\n",
    "        sequences.append(seq_record)\n",
    "        \n",
    "# write toy sample to file\n",
    "with open(output_file, \"w\") as output_handle:\n",
    "    SeqIO.write(sequences, output_handle, \"fasta\")"
   ]
  },
  {
   "cell_type": "code",
   "execution_count": 111,
   "id": "flexible-treasury",
   "metadata": {},
   "outputs": [
    {
     "name": "stdout",
     "output_type": "stream",
     "text": [
      "<class 'str'> 1442\n",
      "<class 'str'> 1917\n",
      "<class 'str'> 1634\n",
      "<class 'str'> 1840\n",
      "<class 'str'> 1308\n"
     ]
    }
   ],
   "source": [
    "# verify this worked by reading results back in\n",
    "input_file = \"data/train_small-db_toy2000.fasta\"\n",
    "for seq_record in SeqIO.parse(input_file, \"fasta\"):\n",
    "    print(type(seq_record.id), len(seq_record.seq))"
   ]
  },
  {
   "cell_type": "code",
   "execution_count": 109,
   "id": "legendary-replica",
   "metadata": {},
   "outputs": [
    {
     "data": {
      "text/plain": [
       "Seq('t')"
      ]
     },
     "execution_count": 109,
     "metadata": {},
     "output_type": "execute_result"
    }
   ],
   "source": [
    "# verify I can slice sequence\n",
    "my_seq = Seq(\"atcg\")\n",
    "my_seq[1:2]"
   ]
  },
  {
   "cell_type": "code",
   "execution_count": 131,
   "id": "fabulous-consent",
   "metadata": {},
   "outputs": [
    {
     "data": {
      "text/plain": [
       "(array([0, 1]),)"
      ]
     },
     "execution_count": 131,
     "metadata": {},
     "output_type": "execute_result"
    }
   ],
   "source": [
    "a = np.array([['a','b','c'],\n",
    "         ['d','e','c'],\n",
    "         ['d','e','i']],dtype='|S1')\n",
    "\n",
    "np.where(a[:,2] == b'c')"
   ]
  },
  {
   "cell_type": "code",
   "execution_count": 133,
   "id": "casual-cream",
   "metadata": {},
   "outputs": [
    {
     "data": {
      "text/plain": [
       "array([3, 3, 4])"
      ]
     },
     "execution_count": 133,
     "metadata": {},
     "output_type": "execute_result"
    }
   ],
   "source": [
    "a = np.array([[1,2,3],\n",
    "             [1,2,3],\n",
    "             [1,2,4]])\n",
    "a[:,-1]"
   ]
  }
 ],
 "metadata": {
  "kernelspec": {
   "display_name": "Python 3",
   "language": "python",
   "name": "python3"
  },
  "language_info": {
   "codemirror_mode": {
    "name": "ipython",
    "version": 3
   },
   "file_extension": ".py",
   "mimetype": "text/x-python",
   "name": "python",
   "nbconvert_exporter": "python",
   "pygments_lexer": "ipython3",
   "version": "3.6.12"
  }
 },
 "nbformat": 4,
 "nbformat_minor": 5
}
