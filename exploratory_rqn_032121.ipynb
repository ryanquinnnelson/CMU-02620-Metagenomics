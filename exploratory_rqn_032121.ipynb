{
 "cells": [
  {
   "cell_type": "markdown",
   "id": "former-currency",
   "metadata": {},
   "source": [
    "### Imports"
   ]
  },
  {
   "cell_type": "code",
   "execution_count": 15,
   "id": "difficult-attachment",
   "metadata": {},
   "outputs": [],
   "source": [
    "import numpy as np\n",
    "import pandas as pd\n",
    "from Bio import SeqIO"
   ]
  },
  {
   "cell_type": "markdown",
   "id": "sharp-developer",
   "metadata": {},
   "source": [
    "### Load Data"
   ]
  },
  {
   "cell_type": "code",
   "execution_count": 5,
   "id": "available-nightmare",
   "metadata": {},
   "outputs": [],
   "source": [
    "df_meta = pd.read_csv('data/train_small-db.meta',delimiter='\\t')"
   ]
  },
  {
   "cell_type": "code",
   "execution_count": 12,
   "id": "overall-earthquake",
   "metadata": {},
   "outputs": [
    {
     "data": {
      "text/html": [
       "<div>\n",
       "<style scoped>\n",
       "    .dataframe tbody tr th:only-of-type {\n",
       "        vertical-align: middle;\n",
       "    }\n",
       "\n",
       "    .dataframe tbody tr th {\n",
       "        vertical-align: top;\n",
       "    }\n",
       "\n",
       "    .dataframe thead th {\n",
       "        text-align: right;\n",
       "    }\n",
       "</style>\n",
       "<table border=\"1\" class=\"dataframe\">\n",
       "  <thead>\n",
       "    <tr style=\"text-align: right;\">\n",
       "      <th></th>\n",
       "      <th>sequence.id</th>\n",
       "      <th>genome.id</th>\n",
       "      <th>taxid.strain</th>\n",
       "      <th>taxid.species</th>\n",
       "      <th>taxid.genus</th>\n",
       "    </tr>\n",
       "  </thead>\n",
       "  <tbody>\n",
       "    <tr>\n",
       "      <th>0</th>\n",
       "      <td>Cupriavidus_necator_N-1</td>\n",
       "      <td>NC_015723</td>\n",
       "      <td>1042878</td>\n",
       "      <td>106590</td>\n",
       "      <td>106589</td>\n",
       "    </tr>\n",
       "    <tr>\n",
       "      <th>1</th>\n",
       "      <td>Cupriavidus_necator_N-1</td>\n",
       "      <td>NC_015724</td>\n",
       "      <td>1042878</td>\n",
       "      <td>106590</td>\n",
       "      <td>106589</td>\n",
       "    </tr>\n",
       "    <tr>\n",
       "      <th>2</th>\n",
       "      <td>Cupriavidus_necator_N-1</td>\n",
       "      <td>NC_015726</td>\n",
       "      <td>1042878</td>\n",
       "      <td>106590</td>\n",
       "      <td>106589</td>\n",
       "    </tr>\n",
       "    <tr>\n",
       "      <th>3</th>\n",
       "      <td>Cupriavidus_necator_N-1</td>\n",
       "      <td>NC_015727</td>\n",
       "      <td>1042878</td>\n",
       "      <td>106590</td>\n",
       "      <td>106589</td>\n",
       "    </tr>\n",
       "    <tr>\n",
       "      <th>4</th>\n",
       "      <td>Rhodospirillum_rubrum_ATCC_11170</td>\n",
       "      <td>NC_007641</td>\n",
       "      <td>269796</td>\n",
       "      <td>1085</td>\n",
       "      <td>1081</td>\n",
       "    </tr>\n",
       "    <tr>\n",
       "      <th>...</th>\n",
       "      <td>...</td>\n",
       "      <td>...</td>\n",
       "      <td>...</td>\n",
       "      <td>...</td>\n",
       "      <td>...</td>\n",
       "    </tr>\n",
       "    <tr>\n",
       "      <th>1559</th>\n",
       "      <td>Burkholderia_cenocepacia_J2315</td>\n",
       "      <td>NC_011002</td>\n",
       "      <td>216591</td>\n",
       "      <td>95486</td>\n",
       "      <td>32008</td>\n",
       "    </tr>\n",
       "    <tr>\n",
       "      <th>1560</th>\n",
       "      <td>Burkholderia_cenocepacia_J2315</td>\n",
       "      <td>NC_011003</td>\n",
       "      <td>216591</td>\n",
       "      <td>95486</td>\n",
       "      <td>32008</td>\n",
       "    </tr>\n",
       "    <tr>\n",
       "      <th>1561</th>\n",
       "      <td>Burkholderia_cenocepacia_MC0-3</td>\n",
       "      <td>NC_010508</td>\n",
       "      <td>406425</td>\n",
       "      <td>95486</td>\n",
       "      <td>32008</td>\n",
       "    </tr>\n",
       "    <tr>\n",
       "      <th>1562</th>\n",
       "      <td>Burkholderia_cenocepacia_MC0-3</td>\n",
       "      <td>NC_010512</td>\n",
       "      <td>406425</td>\n",
       "      <td>95486</td>\n",
       "      <td>32008</td>\n",
       "    </tr>\n",
       "    <tr>\n",
       "      <th>1563</th>\n",
       "      <td>Burkholderia_cenocepacia_MC0-3</td>\n",
       "      <td>NC_010515</td>\n",
       "      <td>406425</td>\n",
       "      <td>95486</td>\n",
       "      <td>32008</td>\n",
       "    </tr>\n",
       "  </tbody>\n",
       "</table>\n",
       "<p>1564 rows × 5 columns</p>\n",
       "</div>"
      ],
      "text/plain": [
       "                           sequence.id  genome.id  taxid.strain  \\\n",
       "0              Cupriavidus_necator_N-1  NC_015723       1042878   \n",
       "1              Cupriavidus_necator_N-1  NC_015724       1042878   \n",
       "2              Cupriavidus_necator_N-1  NC_015726       1042878   \n",
       "3              Cupriavidus_necator_N-1  NC_015727       1042878   \n",
       "4     Rhodospirillum_rubrum_ATCC_11170  NC_007641        269796   \n",
       "...                                ...        ...           ...   \n",
       "1559    Burkholderia_cenocepacia_J2315  NC_011002        216591   \n",
       "1560    Burkholderia_cenocepacia_J2315  NC_011003        216591   \n",
       "1561    Burkholderia_cenocepacia_MC0-3  NC_010508        406425   \n",
       "1562    Burkholderia_cenocepacia_MC0-3  NC_010512        406425   \n",
       "1563    Burkholderia_cenocepacia_MC0-3  NC_010515        406425   \n",
       "\n",
       "      taxid.species  taxid.genus  \n",
       "0            106590       106589  \n",
       "1            106590       106589  \n",
       "2            106590       106589  \n",
       "3            106590       106589  \n",
       "4              1085         1081  \n",
       "...             ...          ...  \n",
       "1559          95486        32008  \n",
       "1560          95486        32008  \n",
       "1561          95486        32008  \n",
       "1562          95486        32008  \n",
       "1563          95486        32008  \n",
       "\n",
       "[1564 rows x 5 columns]"
      ]
     },
     "execution_count": 12,
     "metadata": {},
     "output_type": "execute_result"
    }
   ],
   "source": [
    "df_meta"
   ]
  },
  {
   "cell_type": "code",
   "execution_count": 10,
   "id": "iraqi-example",
   "metadata": {},
   "outputs": [],
   "source": [
    "df_taxid = pd.read_csv('data/train_small-db.species-level.taxid',header = None)"
   ]
  },
  {
   "cell_type": "code",
   "execution_count": 13,
   "id": "sitting-tourist",
   "metadata": {
    "scrolled": false
   },
   "outputs": [
    {
     "data": {
      "text/html": [
       "<div>\n",
       "<style scoped>\n",
       "    .dataframe tbody tr th:only-of-type {\n",
       "        vertical-align: middle;\n",
       "    }\n",
       "\n",
       "    .dataframe tbody tr th {\n",
       "        vertical-align: top;\n",
       "    }\n",
       "\n",
       "    .dataframe thead th {\n",
       "        text-align: right;\n",
       "    }\n",
       "</style>\n",
       "<table border=\"1\" class=\"dataframe\">\n",
       "  <thead>\n",
       "    <tr style=\"text-align: right;\">\n",
       "      <th></th>\n",
       "      <th>0</th>\n",
       "    </tr>\n",
       "  </thead>\n",
       "  <tbody>\n",
       "    <tr>\n",
       "      <th>0</th>\n",
       "      <td>106590</td>\n",
       "    </tr>\n",
       "    <tr>\n",
       "      <th>1</th>\n",
       "      <td>106590</td>\n",
       "    </tr>\n",
       "    <tr>\n",
       "      <th>2</th>\n",
       "      <td>106590</td>\n",
       "    </tr>\n",
       "    <tr>\n",
       "      <th>3</th>\n",
       "      <td>106590</td>\n",
       "    </tr>\n",
       "    <tr>\n",
       "      <th>4</th>\n",
       "      <td>1085</td>\n",
       "    </tr>\n",
       "    <tr>\n",
       "      <th>...</th>\n",
       "      <td>...</td>\n",
       "    </tr>\n",
       "    <tr>\n",
       "      <th>1559</th>\n",
       "      <td>95486</td>\n",
       "    </tr>\n",
       "    <tr>\n",
       "      <th>1560</th>\n",
       "      <td>95486</td>\n",
       "    </tr>\n",
       "    <tr>\n",
       "      <th>1561</th>\n",
       "      <td>95486</td>\n",
       "    </tr>\n",
       "    <tr>\n",
       "      <th>1562</th>\n",
       "      <td>95486</td>\n",
       "    </tr>\n",
       "    <tr>\n",
       "      <th>1563</th>\n",
       "      <td>95486</td>\n",
       "    </tr>\n",
       "  </tbody>\n",
       "</table>\n",
       "<p>1564 rows × 1 columns</p>\n",
       "</div>"
      ],
      "text/plain": [
       "           0\n",
       "0     106590\n",
       "1     106590\n",
       "2     106590\n",
       "3     106590\n",
       "4       1085\n",
       "...      ...\n",
       "1559   95486\n",
       "1560   95486\n",
       "1561   95486\n",
       "1562   95486\n",
       "1563   95486\n",
       "\n",
       "[1564 rows x 1 columns]"
      ]
     },
     "execution_count": 13,
     "metadata": {},
     "output_type": "execute_result"
    }
   ],
   "source": [
    "df_taxid"
   ]
  },
  {
   "cell_type": "code",
   "execution_count": 22,
   "id": "continuing-division",
   "metadata": {},
   "outputs": [
    {
     "data": {
      "text/plain": [
       "1564"
      ]
     },
     "execution_count": 22,
     "metadata": {},
     "output_type": "execute_result"
    }
   ],
   "source": [
    "filename='/Users/ryanqnelson/Downloads/large-scale-metagenomics-1.0/data/train-dataset/train_small-db.fasta'\n",
    "count = 0\n",
    "for each in SeqIO.parse(filename, \"fasta\"):\n",
    "    count +=1\n",
    "count"
   ]
  },
  {
   "cell_type": "code",
   "execution_count": 21,
   "id": "bacterial-healthcare",
   "metadata": {},
   "outputs": [
    {
     "name": "stdout",
     "output_type": "stream",
     "text": [
      "NC_015723\n",
      "Seq('cagaaaacaggcgagcagggcaaaggctttgcgtacctgtttctgcgtgacaac...tgg')\n",
      "2684606\n"
     ]
    }
   ],
   "source": [
    "\n",
    "for i,seq_record in enumerate(SeqIO.parse(filename, \"fasta\")):\n",
    "    if i == 0:\n",
    "        print(seq_record.id)\n",
    "        print(repr(seq_record.seq))\n",
    "        print(len(seq_record))\n"
   ]
  }
 ],
 "metadata": {
  "kernelspec": {
   "display_name": "Python 3",
   "language": "python",
   "name": "python3"
  },
  "language_info": {
   "codemirror_mode": {
    "name": "ipython",
    "version": 3
   },
   "file_extension": ".py",
   "mimetype": "text/x-python",
   "name": "python",
   "nbconvert_exporter": "python",
   "pygments_lexer": "ipython3",
   "version": "3.6.12"
  }
 },
 "nbformat": 4,
 "nbformat_minor": 5
}
