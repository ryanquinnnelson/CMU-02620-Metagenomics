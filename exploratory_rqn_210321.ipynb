{
 "cells": [
  {
   "cell_type": "markdown",
   "id": "adequate-malpractice",
   "metadata": {},
   "source": [
    "### Imports"
   ]
  },
  {
   "cell_type": "code",
   "execution_count": 30,
   "id": "technological-pizza",
   "metadata": {},
   "outputs": [],
   "source": [
    "import numpy as np\n",
    "import pandas as pd\n",
    "from Bio import SeqIO\n",
    "from Bio.Seq import Seq\n",
    "import sys"
   ]
  },
  {
   "cell_type": "markdown",
   "id": "experienced-confidentiality",
   "metadata": {},
   "source": [
    "# 1. Data Exploration"
   ]
  },
  {
   "cell_type": "markdown",
   "id": "enclosed-duplicate",
   "metadata": {},
   "source": [
    "### Load metadata"
   ]
  },
  {
   "cell_type": "code",
   "execution_count": 31,
   "id": "integrated-margin",
   "metadata": {},
   "outputs": [],
   "source": [
    "df_meta = pd.read_csv('data/train_small-db.meta',delimiter='\\t')"
   ]
  },
  {
   "cell_type": "code",
   "execution_count": 32,
   "id": "backed-attribute",
   "metadata": {
    "scrolled": false
   },
   "outputs": [
    {
     "data": {
      "text/html": [
       "<div>\n",
       "<style scoped>\n",
       "    .dataframe tbody tr th:only-of-type {\n",
       "        vertical-align: middle;\n",
       "    }\n",
       "\n",
       "    .dataframe tbody tr th {\n",
       "        vertical-align: top;\n",
       "    }\n",
       "\n",
       "    .dataframe thead th {\n",
       "        text-align: right;\n",
       "    }\n",
       "</style>\n",
       "<table border=\"1\" class=\"dataframe\">\n",
       "  <thead>\n",
       "    <tr style=\"text-align: right;\">\n",
       "      <th></th>\n",
       "      <th>sequence.id</th>\n",
       "      <th>genome.id</th>\n",
       "      <th>taxid.strain</th>\n",
       "      <th>taxid.species</th>\n",
       "      <th>taxid.genus</th>\n",
       "    </tr>\n",
       "  </thead>\n",
       "  <tbody>\n",
       "    <tr>\n",
       "      <th>0</th>\n",
       "      <td>Cupriavidus_necator_N-1</td>\n",
       "      <td>NC_015723</td>\n",
       "      <td>1042878</td>\n",
       "      <td>106590</td>\n",
       "      <td>106589</td>\n",
       "    </tr>\n",
       "    <tr>\n",
       "      <th>1</th>\n",
       "      <td>Cupriavidus_necator_N-1</td>\n",
       "      <td>NC_015724</td>\n",
       "      <td>1042878</td>\n",
       "      <td>106590</td>\n",
       "      <td>106589</td>\n",
       "    </tr>\n",
       "    <tr>\n",
       "      <th>2</th>\n",
       "      <td>Cupriavidus_necator_N-1</td>\n",
       "      <td>NC_015726</td>\n",
       "      <td>1042878</td>\n",
       "      <td>106590</td>\n",
       "      <td>106589</td>\n",
       "    </tr>\n",
       "    <tr>\n",
       "      <th>3</th>\n",
       "      <td>Cupriavidus_necator_N-1</td>\n",
       "      <td>NC_015727</td>\n",
       "      <td>1042878</td>\n",
       "      <td>106590</td>\n",
       "      <td>106589</td>\n",
       "    </tr>\n",
       "    <tr>\n",
       "      <th>4</th>\n",
       "      <td>Rhodospirillum_rubrum_ATCC_11170</td>\n",
       "      <td>NC_007641</td>\n",
       "      <td>269796</td>\n",
       "      <td>1085</td>\n",
       "      <td>1081</td>\n",
       "    </tr>\n",
       "    <tr>\n",
       "      <th>...</th>\n",
       "      <td>...</td>\n",
       "      <td>...</td>\n",
       "      <td>...</td>\n",
       "      <td>...</td>\n",
       "      <td>...</td>\n",
       "    </tr>\n",
       "    <tr>\n",
       "      <th>1559</th>\n",
       "      <td>Burkholderia_cenocepacia_J2315</td>\n",
       "      <td>NC_011002</td>\n",
       "      <td>216591</td>\n",
       "      <td>95486</td>\n",
       "      <td>32008</td>\n",
       "    </tr>\n",
       "    <tr>\n",
       "      <th>1560</th>\n",
       "      <td>Burkholderia_cenocepacia_J2315</td>\n",
       "      <td>NC_011003</td>\n",
       "      <td>216591</td>\n",
       "      <td>95486</td>\n",
       "      <td>32008</td>\n",
       "    </tr>\n",
       "    <tr>\n",
       "      <th>1561</th>\n",
       "      <td>Burkholderia_cenocepacia_MC0-3</td>\n",
       "      <td>NC_010508</td>\n",
       "      <td>406425</td>\n",
       "      <td>95486</td>\n",
       "      <td>32008</td>\n",
       "    </tr>\n",
       "    <tr>\n",
       "      <th>1562</th>\n",
       "      <td>Burkholderia_cenocepacia_MC0-3</td>\n",
       "      <td>NC_010512</td>\n",
       "      <td>406425</td>\n",
       "      <td>95486</td>\n",
       "      <td>32008</td>\n",
       "    </tr>\n",
       "    <tr>\n",
       "      <th>1563</th>\n",
       "      <td>Burkholderia_cenocepacia_MC0-3</td>\n",
       "      <td>NC_010515</td>\n",
       "      <td>406425</td>\n",
       "      <td>95486</td>\n",
       "      <td>32008</td>\n",
       "    </tr>\n",
       "  </tbody>\n",
       "</table>\n",
       "<p>1564 rows × 5 columns</p>\n",
       "</div>"
      ],
      "text/plain": [
       "                           sequence.id  genome.id  taxid.strain  \\\n",
       "0              Cupriavidus_necator_N-1  NC_015723       1042878   \n",
       "1              Cupriavidus_necator_N-1  NC_015724       1042878   \n",
       "2              Cupriavidus_necator_N-1  NC_015726       1042878   \n",
       "3              Cupriavidus_necator_N-1  NC_015727       1042878   \n",
       "4     Rhodospirillum_rubrum_ATCC_11170  NC_007641        269796   \n",
       "...                                ...        ...           ...   \n",
       "1559    Burkholderia_cenocepacia_J2315  NC_011002        216591   \n",
       "1560    Burkholderia_cenocepacia_J2315  NC_011003        216591   \n",
       "1561    Burkholderia_cenocepacia_MC0-3  NC_010508        406425   \n",
       "1562    Burkholderia_cenocepacia_MC0-3  NC_010512        406425   \n",
       "1563    Burkholderia_cenocepacia_MC0-3  NC_010515        406425   \n",
       "\n",
       "      taxid.species  taxid.genus  \n",
       "0            106590       106589  \n",
       "1            106590       106589  \n",
       "2            106590       106589  \n",
       "3            106590       106589  \n",
       "4              1085         1081  \n",
       "...             ...          ...  \n",
       "1559          95486        32008  \n",
       "1560          95486        32008  \n",
       "1561          95486        32008  \n",
       "1562          95486        32008  \n",
       "1563          95486        32008  \n",
       "\n",
       "[1564 rows x 5 columns]"
      ]
     },
     "execution_count": 32,
     "metadata": {},
     "output_type": "execute_result"
    }
   ],
   "source": [
    "df_meta"
   ]
  },
  {
   "cell_type": "markdown",
   "id": "romance-weapon",
   "metadata": {},
   "source": [
    "### Explore metadata"
   ]
  },
  {
   "cell_type": "code",
   "execution_count": 33,
   "id": "charitable-repeat",
   "metadata": {
    "scrolled": true
   },
   "outputs": [
    {
     "name": "stdout",
     "output_type": "stream",
     "text": [
      "Number of sequence ids: 872\n",
      "Number of genome ids: 1564\n",
      "Number of taxid strains: 872\n",
      "Number of taxid species: 193\n",
      "Number of taxid genus: 76\n"
     ]
    }
   ],
   "source": [
    "print('Number of sequence ids:',len(df_meta['sequence.id'].unique()))\n",
    "print('Number of genome ids:',len(df_meta['genome.id'].unique()))\n",
    "print('Number of taxid strains:',len(df_meta['taxid.strain'].unique()))\n",
    "print('Number of taxid species:',len(df_meta['taxid.species'].unique()))\n",
    "print('Number of taxid genus:',len(df_meta['taxid.genus'].unique()))"
   ]
  },
  {
   "cell_type": "markdown",
   "id": "necessary-struggle",
   "metadata": {},
   "source": [
    "### Load taxid data"
   ]
  },
  {
   "cell_type": "code",
   "execution_count": 34,
   "id": "fatal-officer",
   "metadata": {},
   "outputs": [],
   "source": [
    "df_taxid = pd.read_csv('data/train_small-db.species-level.taxid',header = None)"
   ]
  },
  {
   "cell_type": "code",
   "execution_count": 35,
   "id": "characteristic-heater",
   "metadata": {
    "scrolled": false
   },
   "outputs": [
    {
     "data": {
      "text/html": [
       "<div>\n",
       "<style scoped>\n",
       "    .dataframe tbody tr th:only-of-type {\n",
       "        vertical-align: middle;\n",
       "    }\n",
       "\n",
       "    .dataframe tbody tr th {\n",
       "        vertical-align: top;\n",
       "    }\n",
       "\n",
       "    .dataframe thead th {\n",
       "        text-align: right;\n",
       "    }\n",
       "</style>\n",
       "<table border=\"1\" class=\"dataframe\">\n",
       "  <thead>\n",
       "    <tr style=\"text-align: right;\">\n",
       "      <th></th>\n",
       "      <th>0</th>\n",
       "    </tr>\n",
       "  </thead>\n",
       "  <tbody>\n",
       "    <tr>\n",
       "      <th>0</th>\n",
       "      <td>106590</td>\n",
       "    </tr>\n",
       "    <tr>\n",
       "      <th>1</th>\n",
       "      <td>106590</td>\n",
       "    </tr>\n",
       "    <tr>\n",
       "      <th>2</th>\n",
       "      <td>106590</td>\n",
       "    </tr>\n",
       "    <tr>\n",
       "      <th>3</th>\n",
       "      <td>106590</td>\n",
       "    </tr>\n",
       "    <tr>\n",
       "      <th>4</th>\n",
       "      <td>1085</td>\n",
       "    </tr>\n",
       "    <tr>\n",
       "      <th>...</th>\n",
       "      <td>...</td>\n",
       "    </tr>\n",
       "    <tr>\n",
       "      <th>1559</th>\n",
       "      <td>95486</td>\n",
       "    </tr>\n",
       "    <tr>\n",
       "      <th>1560</th>\n",
       "      <td>95486</td>\n",
       "    </tr>\n",
       "    <tr>\n",
       "      <th>1561</th>\n",
       "      <td>95486</td>\n",
       "    </tr>\n",
       "    <tr>\n",
       "      <th>1562</th>\n",
       "      <td>95486</td>\n",
       "    </tr>\n",
       "    <tr>\n",
       "      <th>1563</th>\n",
       "      <td>95486</td>\n",
       "    </tr>\n",
       "  </tbody>\n",
       "</table>\n",
       "<p>1564 rows × 1 columns</p>\n",
       "</div>"
      ],
      "text/plain": [
       "           0\n",
       "0     106590\n",
       "1     106590\n",
       "2     106590\n",
       "3     106590\n",
       "4       1085\n",
       "...      ...\n",
       "1559   95486\n",
       "1560   95486\n",
       "1561   95486\n",
       "1562   95486\n",
       "1563   95486\n",
       "\n",
       "[1564 rows x 1 columns]"
      ]
     },
     "execution_count": 35,
     "metadata": {},
     "output_type": "execute_result"
    }
   ],
   "source": [
    "df_taxid"
   ]
  },
  {
   "cell_type": "markdown",
   "id": "herbal-administrator",
   "metadata": {},
   "source": [
    "### Load sequence data"
   ]
  },
  {
   "cell_type": "code",
   "execution_count": 36,
   "id": "prerequisite-burning",
   "metadata": {},
   "outputs": [],
   "source": [
    "# %%time\n",
    "\n",
    "# filename='/Users/ryanqnelson/Downloads/large-scale-metagenomics-1.0/data/train-dataset/train_small-db.fasta'\n",
    "\n",
    "# count = 0\n",
    "# for seq_record in SeqIO.parse(filename, \"fasta\"):\n",
    "#     count += 1\n",
    "\n",
    "# count"
   ]
  },
  {
   "cell_type": "markdown",
   "id": "satisfied-amino",
   "metadata": {},
   "source": [
    "# 2. Build toy dataset"
   ]
  },
  {
   "cell_type": "markdown",
   "id": "outdoor-hobby",
   "metadata": {},
   "source": [
    "### Calculate sequence lengths\n",
    "To identify small sequences which can be used to generate a toy dataset."
   ]
  },
  {
   "cell_type": "code",
   "execution_count": 37,
   "id": "conditional-chamber",
   "metadata": {},
   "outputs": [
    {
     "name": "stdout",
     "output_type": "stream",
     "text": [
      "CPU times: user 15 s, sys: 1.4 s, total: 16.4 s\n",
      "Wall time: 16.5 s\n"
     ]
    },
    {
     "data": {
      "text/html": [
       "<div>\n",
       "<style scoped>\n",
       "    .dataframe tbody tr th:only-of-type {\n",
       "        vertical-align: middle;\n",
       "    }\n",
       "\n",
       "    .dataframe tbody tr th {\n",
       "        vertical-align: top;\n",
       "    }\n",
       "\n",
       "    .dataframe thead th {\n",
       "        text-align: right;\n",
       "    }\n",
       "</style>\n",
       "<table border=\"1\" class=\"dataframe\">\n",
       "  <thead>\n",
       "    <tr style=\"text-align: right;\">\n",
       "      <th></th>\n",
       "      <th>genome.id</th>\n",
       "      <th>sequence.length</th>\n",
       "    </tr>\n",
       "  </thead>\n",
       "  <tbody>\n",
       "    <tr>\n",
       "      <th>0</th>\n",
       "      <td>NC_015723</td>\n",
       "      <td>2684606</td>\n",
       "    </tr>\n",
       "    <tr>\n",
       "      <th>1</th>\n",
       "      <td>NC_015724</td>\n",
       "      <td>424140</td>\n",
       "    </tr>\n",
       "    <tr>\n",
       "      <th>2</th>\n",
       "      <td>NC_015726</td>\n",
       "      <td>3872936</td>\n",
       "    </tr>\n",
       "    <tr>\n",
       "      <th>3</th>\n",
       "      <td>NC_015727</td>\n",
       "      <td>1499175</td>\n",
       "    </tr>\n",
       "    <tr>\n",
       "      <th>4</th>\n",
       "      <td>NC_007641</td>\n",
       "      <td>53732</td>\n",
       "    </tr>\n",
       "  </tbody>\n",
       "</table>\n",
       "</div>"
      ],
      "text/plain": [
       "   genome.id  sequence.length\n",
       "0  NC_015723          2684606\n",
       "1  NC_015724           424140\n",
       "2  NC_015726          3872936\n",
       "3  NC_015727          1499175\n",
       "4  NC_007641            53732"
      ]
     },
     "execution_count": 37,
     "metadata": {},
     "output_type": "execute_result"
    }
   ],
   "source": [
    "%%time\n",
    "\n",
    "# create dataframe containing sequence lengths for each sequence\n",
    "filename='/Users/ryanqnelson/Downloads/large-scale-metagenomics-1.0/data/train-dataset/train_small-db.fasta'\n",
    "\n",
    "ids = []\n",
    "lengths = []\n",
    "\n",
    "for i,seq_record in enumerate(SeqIO.parse(filename, \"fasta\")):\n",
    "        ids.append(seq_record.id)\n",
    "        lengths.append(len(seq_record.seq))\n",
    "        \n",
    "df_lengths = pd.DataFrame(list(zip(ids, lengths)), columns =['genome.id', 'sequence.length'])\n",
    "df_lengths.head()"
   ]
  },
  {
   "cell_type": "code",
   "execution_count": 38,
   "id": "sought-northern",
   "metadata": {},
   "outputs": [],
   "source": [
    "# join with taxonomy information to get species\n",
    "df = df_meta.set_index('genome.id').join(\n",
    "    df_lengths.set_index('genome.id'),lsuffix='_caller', rsuffix='_other'\n",
    ").reset_index()"
   ]
  },
  {
   "cell_type": "code",
   "execution_count": 39,
   "id": "ready-haiti",
   "metadata": {
    "scrolled": false
   },
   "outputs": [
    {
     "data": {
      "text/html": [
       "<div>\n",
       "<style scoped>\n",
       "    .dataframe tbody tr th:only-of-type {\n",
       "        vertical-align: middle;\n",
       "    }\n",
       "\n",
       "    .dataframe tbody tr th {\n",
       "        vertical-align: top;\n",
       "    }\n",
       "\n",
       "    .dataframe thead th {\n",
       "        text-align: right;\n",
       "    }\n",
       "</style>\n",
       "<table border=\"1\" class=\"dataframe\">\n",
       "  <thead>\n",
       "    <tr style=\"text-align: right;\">\n",
       "      <th></th>\n",
       "      <th>genome.id</th>\n",
       "      <th>sequence.id</th>\n",
       "      <th>taxid.strain</th>\n",
       "      <th>taxid.species</th>\n",
       "      <th>taxid.genus</th>\n",
       "      <th>sequence.length</th>\n",
       "    </tr>\n",
       "  </thead>\n",
       "  <tbody>\n",
       "    <tr>\n",
       "      <th>0</th>\n",
       "      <td>NC_015723</td>\n",
       "      <td>Cupriavidus_necator_N-1</td>\n",
       "      <td>1042878</td>\n",
       "      <td>106590</td>\n",
       "      <td>106589</td>\n",
       "      <td>2684606</td>\n",
       "    </tr>\n",
       "    <tr>\n",
       "      <th>1</th>\n",
       "      <td>NC_015724</td>\n",
       "      <td>Cupriavidus_necator_N-1</td>\n",
       "      <td>1042878</td>\n",
       "      <td>106590</td>\n",
       "      <td>106589</td>\n",
       "      <td>424140</td>\n",
       "    </tr>\n",
       "    <tr>\n",
       "      <th>2</th>\n",
       "      <td>NC_015726</td>\n",
       "      <td>Cupriavidus_necator_N-1</td>\n",
       "      <td>1042878</td>\n",
       "      <td>106590</td>\n",
       "      <td>106589</td>\n",
       "      <td>3872936</td>\n",
       "    </tr>\n",
       "    <tr>\n",
       "      <th>3</th>\n",
       "      <td>NC_015727</td>\n",
       "      <td>Cupriavidus_necator_N-1</td>\n",
       "      <td>1042878</td>\n",
       "      <td>106590</td>\n",
       "      <td>106589</td>\n",
       "      <td>1499175</td>\n",
       "    </tr>\n",
       "    <tr>\n",
       "      <th>4</th>\n",
       "      <td>NC_007641</td>\n",
       "      <td>Rhodospirillum_rubrum_ATCC_11170</td>\n",
       "      <td>269796</td>\n",
       "      <td>1085</td>\n",
       "      <td>1081</td>\n",
       "      <td>53732</td>\n",
       "    </tr>\n",
       "  </tbody>\n",
       "</table>\n",
       "</div>"
      ],
      "text/plain": [
       "   genome.id                       sequence.id  taxid.strain  taxid.species  \\\n",
       "0  NC_015723           Cupriavidus_necator_N-1       1042878         106590   \n",
       "1  NC_015724           Cupriavidus_necator_N-1       1042878         106590   \n",
       "2  NC_015726           Cupriavidus_necator_N-1       1042878         106590   \n",
       "3  NC_015727           Cupriavidus_necator_N-1       1042878         106590   \n",
       "4  NC_007641  Rhodospirillum_rubrum_ATCC_11170        269796           1085   \n",
       "\n",
       "   taxid.genus  sequence.length  \n",
       "0       106589          2684606  \n",
       "1       106589           424140  \n",
       "2       106589          3872936  \n",
       "3       106589          1499175  \n",
       "4         1081            53732  "
      ]
     },
     "execution_count": 39,
     "metadata": {},
     "output_type": "execute_result"
    }
   ],
   "source": [
    "df.head()"
   ]
  },
  {
   "cell_type": "code",
   "execution_count": 40,
   "id": "pressed-trinidad",
   "metadata": {},
   "outputs": [],
   "source": [
    "# df.to_csv('data/train_small-db.lengths.csv')"
   ]
  },
  {
   "cell_type": "code",
   "execution_count": 41,
   "id": "fatty-charter",
   "metadata": {},
   "outputs": [],
   "source": [
    "# bin data v1\n",
    "bins = [0, 1e3, 1e4, 1e5, 1e6, 1e7, 1e8, 1e9, 1e10]\n",
    "df['binned'] = pd.cut(df['sequence.length'], bins)"
   ]
  },
  {
   "cell_type": "code",
   "execution_count": 42,
   "id": "golden-elephant",
   "metadata": {},
   "outputs": [
    {
     "data": {
      "text/plain": [
       "(1000000.0, 10000000.0]          953\n",
       "(10000.0, 100000.0]              291\n",
       "(1000.0, 10000.0]                198\n",
       "(100000.0, 1000000.0]            122\n",
       "(1000000000.0, 10000000000.0]      0\n",
       "(100000000.0, 1000000000.0]        0\n",
       "(10000000.0, 100000000.0]          0\n",
       "(0.0, 1000.0]                      0\n",
       "Name: binned, dtype: int64"
      ]
     },
     "execution_count": 42,
     "metadata": {},
     "output_type": "execute_result"
    }
   ],
   "source": [
    "df['binned'].value_counts()"
   ]
  },
  {
   "cell_type": "code",
   "execution_count": 43,
   "id": "complimentary-investor",
   "metadata": {},
   "outputs": [],
   "source": [
    "# bin data v2\n",
    "bins = [0, 1e3, 2*1e3, 5*1e3, 1e4, 1e5, 1e6, 1e7]\n",
    "df['binned'] = pd.cut(df['sequence.length'], bins)"
   ]
  },
  {
   "cell_type": "code",
   "execution_count": 44,
   "id": "brief-packet",
   "metadata": {},
   "outputs": [
    {
     "data": {
      "text/plain": [
       "(1000000.0, 10000000.0]    953\n",
       "(10000.0, 100000.0]        291\n",
       "(5000.0, 10000.0]          134\n",
       "(100000.0, 1000000.0]      122\n",
       "(2000.0, 5000.0]            59\n",
       "(1000.0, 2000.0]             5\n",
       "(0.0, 1000.0]                0\n",
       "Name: binned, dtype: int64"
      ]
     },
     "execution_count": 44,
     "metadata": {},
     "output_type": "execute_result"
    }
   ],
   "source": [
    "df['binned'].value_counts()"
   ]
  },
  {
   "cell_type": "code",
   "execution_count": 45,
   "id": "streaming-finding",
   "metadata": {},
   "outputs": [
    {
     "data": {
      "text/html": [
       "<div>\n",
       "<style scoped>\n",
       "    .dataframe tbody tr th:only-of-type {\n",
       "        vertical-align: middle;\n",
       "    }\n",
       "\n",
       "    .dataframe tbody tr th {\n",
       "        vertical-align: top;\n",
       "    }\n",
       "\n",
       "    .dataframe thead th {\n",
       "        text-align: right;\n",
       "    }\n",
       "</style>\n",
       "<table border=\"1\" class=\"dataframe\">\n",
       "  <thead>\n",
       "    <tr style=\"text-align: right;\">\n",
       "      <th></th>\n",
       "      <th>genome.id</th>\n",
       "      <th>sequence.id</th>\n",
       "      <th>taxid.strain</th>\n",
       "      <th>taxid.species</th>\n",
       "      <th>taxid.genus</th>\n",
       "      <th>sequence.length</th>\n",
       "      <th>binned</th>\n",
       "    </tr>\n",
       "  </thead>\n",
       "  <tbody>\n",
       "    <tr>\n",
       "      <th>36</th>\n",
       "      <td>NC_013451</td>\n",
       "      <td>Staphylococcus_aureus_subsp._aureus_ED98</td>\n",
       "      <td>681288</td>\n",
       "      <td>1280</td>\n",
       "      <td>1279</td>\n",
       "      <td>1442</td>\n",
       "      <td>(1000.0, 2000.0]</td>\n",
       "    </tr>\n",
       "    <tr>\n",
       "      <th>540</th>\n",
       "      <td>NC_006375</td>\n",
       "      <td>Lactobacillus_plantarum_WCFS1</td>\n",
       "      <td>220668</td>\n",
       "      <td>1590</td>\n",
       "      <td>1578</td>\n",
       "      <td>1917</td>\n",
       "      <td>(1000.0, 2000.0]</td>\n",
       "    </tr>\n",
       "    <tr>\n",
       "      <th>757</th>\n",
       "      <td>NC_019565</td>\n",
       "      <td>Helicobacter_pylori_Aklavik86</td>\n",
       "      <td>1055532</td>\n",
       "      <td>210</td>\n",
       "      <td>209</td>\n",
       "      <td>1634</td>\n",
       "      <td>(1000.0, 2000.0]</td>\n",
       "    </tr>\n",
       "    <tr>\n",
       "      <th>818</th>\n",
       "      <td>NC_015407</td>\n",
       "      <td>Mycoplasma_mycoides_subsp._capri_LC_str._95010</td>\n",
       "      <td>862259</td>\n",
       "      <td>2102</td>\n",
       "      <td>2093</td>\n",
       "      <td>1840</td>\n",
       "      <td>(1000.0, 2000.0]</td>\n",
       "    </tr>\n",
       "    <tr>\n",
       "      <th>1197</th>\n",
       "      <td>NC_016841</td>\n",
       "      <td>Klebsiella_pneumoniae_subsp._pneumoniae_HS11286</td>\n",
       "      <td>1125630</td>\n",
       "      <td>573</td>\n",
       "      <td>570</td>\n",
       "      <td>1308</td>\n",
       "      <td>(1000.0, 2000.0]</td>\n",
       "    </tr>\n",
       "  </tbody>\n",
       "</table>\n",
       "</div>"
      ],
      "text/plain": [
       "      genome.id                                      sequence.id  \\\n",
       "36    NC_013451         Staphylococcus_aureus_subsp._aureus_ED98   \n",
       "540   NC_006375                    Lactobacillus_plantarum_WCFS1   \n",
       "757   NC_019565                    Helicobacter_pylori_Aklavik86   \n",
       "818   NC_015407   Mycoplasma_mycoides_subsp._capri_LC_str._95010   \n",
       "1197  NC_016841  Klebsiella_pneumoniae_subsp._pneumoniae_HS11286   \n",
       "\n",
       "      taxid.strain  taxid.species  taxid.genus  sequence.length  \\\n",
       "36          681288           1280         1279             1442   \n",
       "540         220668           1590         1578             1917   \n",
       "757        1055532            210          209             1634   \n",
       "818         862259           2102         2093             1840   \n",
       "1197       1125630            573          570             1308   \n",
       "\n",
       "                binned  \n",
       "36    (1000.0, 2000.0]  \n",
       "540   (1000.0, 2000.0]  \n",
       "757   (1000.0, 2000.0]  \n",
       "818   (1000.0, 2000.0]  \n",
       "1197  (1000.0, 2000.0]  "
      ]
     },
     "execution_count": 45,
     "metadata": {},
     "output_type": "execute_result"
    }
   ],
   "source": [
    "df[df['sequence.length'] < 2000]"
   ]
  },
  {
   "cell_type": "code",
   "execution_count": 46,
   "id": "caring-calvin",
   "metadata": {},
   "outputs": [],
   "source": [
    "# get sequences with lengths between 1000 and 2000 bp\n",
    "genome_ids = df[df['sequence.length'] < 2000]['genome.id'].to_list()\n",
    "species_ids = df[df['sequence.length'] < 2000]['taxid.species'].to_list()"
   ]
  },
  {
   "cell_type": "code",
   "execution_count": 47,
   "id": "undefined-queen",
   "metadata": {},
   "outputs": [
    {
     "name": "stdout",
     "output_type": "stream",
     "text": [
      "['NC_013451', 'NC_006375', 'NC_019565', 'NC_015407', 'NC_016841']\n",
      "[1280, 1590, 210, 2102, 573]\n"
     ]
    }
   ],
   "source": [
    "print(genome_ids)\n",
    "print(species_ids)"
   ]
  },
  {
   "cell_type": "markdown",
   "id": "floral-absorption",
   "metadata": {},
   "source": [
    "### Select specific samples\n",
    "Select smallest length samples to use for method development."
   ]
  },
  {
   "cell_type": "code",
   "execution_count": 48,
   "id": "hidden-aberdeen",
   "metadata": {},
   "outputs": [],
   "source": [
    "# input_file='/Users/ryanqnelson/Downloads/large-scale-metagenomics-1.0/data/train-dataset/train_small-db.fasta'\n",
    "# output_file = \"data/train_small-db_toy-2000.fasta\"\n",
    "\n",
    "# # get toy sample sequences\n",
    "# sequences = []\n",
    "# for seq_record in SeqIO.parse(input_file, \"fasta\"):\n",
    "#     if seq_record.id in genome_ids:\n",
    "#         print(seq_record.id, len(seq_record.seq))\n",
    "#         sequences.append(seq_record)\n",
    "        \n",
    "# # write toy sample to file\n",
    "# with open(output_file, \"w\") as output_handle:\n",
    "#     SeqIO.write(sequences, output_handle, \"fasta\")\n",
    "    "
   ]
  },
  {
   "cell_type": "code",
   "execution_count": 49,
   "id": "defensive-suite",
   "metadata": {},
   "outputs": [],
   "source": [
    "# # verify this worked by reading results back in\n",
    "# input_file = \"data/train_small-db_toy-2000.fasta\"\n",
    "# for seq_record in SeqIO.parse(input_file, \"fasta\"):\n",
    "#     print(seq_record.id, len(seq_record.seq))"
   ]
  },
  {
   "cell_type": "markdown",
   "id": "planned-consultancy",
   "metadata": {},
   "source": [
    "### Save matching taxid.species"
   ]
  },
  {
   "cell_type": "code",
   "execution_count": 50,
   "id": "consecutive-language",
   "metadata": {},
   "outputs": [],
   "source": [
    "# genome_ids = df[df['sequence.length'] < 2000]['taxid.species'].to_list()\n",
    "# print(genome_ids)\n",
    "# output_file = \"data/train_small-db_toy-2000.taxid\"\n",
    "# with open(output_file,'w') as output_handle:\n",
    "#     for each in genome_ids:\n",
    "#         output_handle.write(str(each) + '\\n')"
   ]
  },
  {
   "cell_type": "markdown",
   "id": "mediterranean-canvas",
   "metadata": {},
   "source": [
    "# 2. Build small scale dataset\n",
    "around 100 samples"
   ]
  },
  {
   "cell_type": "code",
   "execution_count": 51,
   "id": "buried-paragraph",
   "metadata": {},
   "outputs": [
    {
     "data": {
      "text/plain": [
       "198"
      ]
     },
     "execution_count": 51,
     "metadata": {},
     "output_type": "execute_result"
    }
   ],
   "source": [
    "len(df[df['sequence.length'] < 10000])"
   ]
  },
  {
   "cell_type": "code",
   "execution_count": 52,
   "id": "stuck-strand",
   "metadata": {},
   "outputs": [],
   "source": [
    "# get sequences with lengths between 1000 and 2000 bp\n",
    "genome_ids = df[df['sequence.length'] < 10000]['genome.id'].to_list()\n",
    "species_ids = df[df['sequence.length'] < 10000]['taxid.species'].to_list()"
   ]
  },
  {
   "cell_type": "code",
   "execution_count": 19,
   "id": "instructional-plasma",
   "metadata": {},
   "outputs": [],
   "source": [
    "# input_file='/Users/ryanqnelson/Downloads/large-scale-metagenomics-1.0/data/train-dataset/train_small-db.fasta'\n",
    "# output_file = \"data/train_small-db_toy-10000.fasta\"\n",
    "\n",
    "# # get toy sample sequences\n",
    "# sequences = []\n",
    "# for seq_record in SeqIO.parse(input_file, \"fasta\"):\n",
    "#     if seq_record.id in genome_ids:\n",
    "# #         print(seq_record.id, len(seq_record.seq))\n",
    "#         sequences.append(seq_record)\n",
    "        \n",
    "# # write toy sample to file\n",
    "# with open(output_file, \"w\") as output_handle:\n",
    "#     SeqIO.write(sequences, output_handle, \"fasta\")\n",
    "    "
   ]
  },
  {
   "cell_type": "code",
   "execution_count": 55,
   "id": "compound-language",
   "metadata": {
    "scrolled": false
   },
   "outputs": [
    {
     "name": "stdout",
     "output_type": "stream",
     "text": [
      "NC_021657 2908\n",
      "NC_022227 3332\n",
      "NC_022228 2472\n",
      "NC_006629 4440\n",
      "NC_017346 2241\n",
      "NC_013451 1442\n",
      "NC_013452 4440\n",
      "NC_017348 2993\n",
      "NC_017334 5246\n",
      "NC_017335 4381\n",
      "NC_017336 3158\n",
      "NC_017332 3011\n",
      "NC_007790 3125\n",
      "NC_007791 4439\n",
      "NC_012417 3125\n",
      "NC_022605 3011\n",
      "NC_008500 4449\n",
      "NC_008501 3361\n",
      "NC_021989 9319\n",
      "NC_021990 2189\n",
      "NC_021996 4072\n",
      "NC_000957 5228\n",
      "NC_001904 9386\n",
      "NC_017399 8722\n",
      "NC_020273 8009\n",
      "NC_017189 6758\n",
      "NC_022531 8438\n",
      "NC_011657 3091\n",
      "NC_011776 3091\n",
      "NC_007104 5108\n",
      "NC_007106 8191\n",
      "NC_007107 9150\n",
      "NC_018494 3091\n",
      "NC_016773 5436\n",
      "NC_016774 3091\n",
      "NC_016793 3869\n",
      "NC_010008 5428\n",
      "NC_010009 9098\n",
      "NC_017194 5838\n",
      "NC_018881 8240\n",
      "NC_018882 7635\n",
      "NC_018883 6880\n",
      "NC_018884 5518\n",
      "NC_018885 2062\n",
      "NC_018886 8513\n",
      "NC_018490 8574\n",
      "NC_018503 9070\n",
      "NC_018511 7697\n",
      "NC_018512 6824\n",
      "NC_017207 8513\n",
      "NC_017210 6880\n",
      "NC_017211 8252\n",
      "NC_017212 9547\n",
      "NC_020241 8513\n",
      "NC_020242 8241\n",
      "NC_020243 7635\n",
      "NC_020377 8251\n",
      "NC_020378 9671\n",
      "NC_020390 6880\n",
      "NC_012657 9953\n",
      "NC_021515 7240\n",
      "NC_021520 6464\n",
      "NC_021525 8636\n",
      "NC_021228 8686\n",
      "NC_006375 1917\n",
      "NC_006376 2365\n",
      "NC_021498 6499\n",
      "NC_017471 4541\n",
      "NC_007487 3637\n",
      "NC_022578 5328\n",
      "NC_019562 2891\n",
      "NC_019565 1634\n",
      "NC_014257 6032\n",
      "NC_017064 5289\n",
      "NC_017369 9129\n",
      "NC_017370 2637\n",
      "NC_017364 2557\n",
      "NC_008087 9370\n",
      "NC_017734 8304\n",
      "NC_020556 4158\n",
      "NC_014556 8712\n",
      "NC_017356 7228\n",
      "NC_017380 3253\n",
      "NC_017383 7326\n",
      "NC_015407 1840\n",
      "NC_004253 3661\n",
      "NC_004943 3626\n",
      "NC_015053 4895\n",
      "NC_015066 3624\n",
      "NC_017220 4233\n",
      "NC_017222 6230\n",
      "NC_019938 9865\n",
      "NC_019939 2804\n",
      "NC_012552 3471\n",
      "NC_018293 6634\n",
      "NC_018304 9999\n",
      "NT_187146 6634\n",
      "NT_187150 9999\n",
      "NC_018185 8028\n",
      "NC_018186 6448\n",
      "NC_018187 5600\n",
      "NC_018188 3697\n",
      "NC_018189 3269\n",
      "NC_018190 3566\n",
      "NC_018195 6694\n",
      "NC_018196 4651\n",
      "NC_018197 3020\n",
      "NC_009136 8285\n",
      "NC_017164 8041\n",
      "NC_011585 8729\n",
      "NC_010401 5644\n",
      "NC_010402 9661\n",
      "NC_010403 2726\n",
      "NC_020525 7416\n",
      "NC_010395 6106\n",
      "NC_017165 8731\n",
      "NC_011034 4153\n",
      "NC_016840 3751\n",
      "NC_016841 1308\n",
      "NC_016847 3353\n",
      "NC_009652 4259\n",
      "NC_009653 3478\n",
      "NC_010656 2089\n",
      "NC_010659 5114\n",
      "NC_010672 7437\n",
      "NC_009344 8953\n",
      "NC_017320 6850\n",
      "NC_017321 4042\n",
      "NC_017329 6200\n",
      "NC_017330 3180\n",
      "NC_009038 7995\n",
      "NC_009345 8401\n",
      "NC_009346 5153\n",
      "NC_009347 2101\n",
      "NC_017170 8431\n",
      "NC_017264 9600\n",
      "NC_005816 9609\n",
      "NC_003132 9612\n",
      "NC_017156 9611\n",
      "NC_017159 9608\n",
      "NC_014027 9609\n",
      "NC_010940 3533\n",
      "NC_010941 4236\n",
      "NC_010942 5685\n",
      "NC_017388 3070\n",
      "NC_017389 4960\n",
      "NC_017391 2610\n",
      "NC_017438 7480\n",
      "NC_019272 7502\n",
      "NC_020946 7502\n",
      "NC_020979 7502\n",
      "NC_007430 7510\n",
      "NC_023057 7501\n",
      "NC_017435 7493\n",
      "NC_017433 7493\n",
      "NC_020986 7493\n",
      "NC_020958 7492\n",
      "NC_020959 7493\n",
      "NC_020947 7502\n",
      "NC_020987 7502\n",
      "NC_020960 7502\n",
      "NC_020988 7493\n",
      "NC_020961 7471\n",
      "NC_020962 7500\n",
      "NC_020989 7500\n",
      "NC_020551 7502\n",
      "NC_020513 7502\n",
      "NC_020963 7493\n",
      "NC_020951 7500\n",
      "NC_020982 7500\n",
      "NC_020952 7500\n",
      "NC_021049 7499\n",
      "NC_021051 7499\n",
      "NC_020983 7500\n",
      "NC_020984 7500\n",
      "NC_020980 7500\n",
      "NC_020948 7500\n",
      "NC_020949 7500\n",
      "NC_020981 7500\n",
      "NC_020950 7500\n",
      "NC_020953 7500\n",
      "NC_020954 7500\n",
      "NC_020955 7500\n",
      "NC_020985 7500\n",
      "NC_020956 7473\n",
      "NC_020957 7415\n",
      "NC_019392 7553\n",
      "NC_017288 7553\n",
      "NC_015217 7553\n",
      "NC_018633 7487\n",
      "NC_018634 7552\n",
      "NC_018635 7553\n",
      "NC_018636 7491\n",
      "NC_018637 7552\n",
      "NC_018638 7553\n",
      "NC_018639 7553\n",
      "NC_018640 7553\n",
      "NC_017286 7530\n"
     ]
    }
   ],
   "source": [
    "# # verify this worked by reading results back in\n",
    "# input_file = \"data/train_small-db_toy-10000.fasta\"\n",
    "# for i,seq_record in enumerate(SeqIO.parse(input_file, \"fasta\")):\n",
    "# #     print(seq_record.id, len(seq_record.seq))\n",
    "#     assert seq_record.id == genome_ids[i], seq_record.id + ' '  + str(i)"
   ]
  },
  {
   "cell_type": "code",
   "execution_count": 58,
   "id": "progressive-approval",
   "metadata": {},
   "outputs": [],
   "source": [
    "# species_ids = df[df['sequence.length'] < 10000]['taxid.species'].to_list()\n",
    "\n",
    "# output_file = \"data/train_small-db_toy-10000.taxid\"\n",
    "# with open(output_file,'w') as output_handle:\n",
    "#     for each in species_ids:\n",
    "#         output_handle.write(str(each) + '\\n')"
   ]
  },
  {
   "cell_type": "code",
   "execution_count": 60,
   "id": "literary-raising",
   "metadata": {},
   "outputs": [
    {
     "data": {
      "text/html": [
       "<div>\n",
       "<style scoped>\n",
       "    .dataframe tbody tr th:only-of-type {\n",
       "        vertical-align: middle;\n",
       "    }\n",
       "\n",
       "    .dataframe tbody tr th {\n",
       "        vertical-align: top;\n",
       "    }\n",
       "\n",
       "    .dataframe thead th {\n",
       "        text-align: right;\n",
       "    }\n",
       "</style>\n",
       "<table border=\"1\" class=\"dataframe\">\n",
       "  <thead>\n",
       "    <tr style=\"text-align: right;\">\n",
       "      <th></th>\n",
       "      <th>genome.id</th>\n",
       "      <th>sequence.id</th>\n",
       "      <th>taxid.strain</th>\n",
       "      <th>taxid.species</th>\n",
       "      <th>taxid.genus</th>\n",
       "      <th>sequence.length</th>\n",
       "      <th>binned</th>\n",
       "    </tr>\n",
       "  </thead>\n",
       "  <tbody>\n",
       "    <tr>\n",
       "      <th>1513</th>\n",
       "      <td>NC_017288</td>\n",
       "      <td>Chlamydia_psittaci_6BC_(Chlamydophila_psittaci...</td>\n",
       "      <td>331636</td>\n",
       "      <td>83554</td>\n",
       "      <td>810</td>\n",
       "      <td>7553</td>\n",
       "      <td>(5000.0, 10000.0]</td>\n",
       "    </tr>\n",
       "  </tbody>\n",
       "</table>\n",
       "</div>"
      ],
      "text/plain": [
       "      genome.id                                        sequence.id  \\\n",
       "1513  NC_017288  Chlamydia_psittaci_6BC_(Chlamydophila_psittaci...   \n",
       "\n",
       "      taxid.strain  taxid.species  taxid.genus  sequence.length  \\\n",
       "1513        331636          83554          810             7553   \n",
       "\n",
       "                 binned  \n",
       "1513  (5000.0, 10000.0]  "
      ]
     },
     "execution_count": 60,
     "metadata": {},
     "output_type": "execute_result"
    }
   ],
   "source": [
    "# df[df['genome.id'] == 'NC_017288']"
   ]
  }
 ],
 "metadata": {
  "kernelspec": {
   "display_name": "Python 3",
   "language": "python",
   "name": "python3"
  },
  "language_info": {
   "codemirror_mode": {
    "name": "ipython",
    "version": 3
   },
   "file_extension": ".py",
   "mimetype": "text/x-python",
   "name": "python",
   "nbconvert_exporter": "python",
   "pygments_lexer": "ipython3",
   "version": "3.6.12"
  }
 },
 "nbformat": 4,
 "nbformat_minor": 5
}
