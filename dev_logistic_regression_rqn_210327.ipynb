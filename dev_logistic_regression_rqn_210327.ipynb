{
 "cells": [
  {
   "cell_type": "markdown",
   "id": "unable-laugh",
   "metadata": {},
   "source": [
    "### Imports"
   ]
  },
  {
   "cell_type": "code",
   "execution_count": 2,
   "id": "superior-healing",
   "metadata": {},
   "outputs": [],
   "source": [
    "from math import exp\n",
    "import numpy as np\n",
    "import matplotlib.pyplot  as plt\n",
    "from sklearn.datasets import make_classification\n",
    "from packages.linear_model.LogisticRegression import LogisticRegression\n",
    "from sklearn.model_selection import train_test_split\n",
    "from sklearn.metrics import log_loss\n",
    "import pandas as pd\n",
    "from sklearn.metrics import recall_score\n",
    "from packages.linear_model.MulticlassLogisticRegression import MulticlassLogisticRegression"
   ]
  },
  {
   "cell_type": "markdown",
   "id": "occupied-warrior",
   "metadata": {},
   "source": [
    "# 1. K-nearest Neighbor Classifier\n",
    "### 1.1. Model Definition\n",
    "Non-parametric, no model, no learning.\n",
    "\n",
    "- Given $X_{new}$, find its k-nearest neighbors according to some distance measure\n",
    "    - Euclidean distance: $(X_i-X_{new})^T(X_i-X_{new})$\n",
    "- Classify $X_{new}$ as the majority vote, based on the labels of these neighbors"
   ]
  },
  {
   "cell_type": "code",
   "execution_count": null,
   "id": "outside-tuition",
   "metadata": {},
   "outputs": [],
   "source": []
  },
  {
   "cell_type": "markdown",
   "id": "better-halifax",
   "metadata": {},
   "source": [
    "# 2. Naïve Bayes Classifier\n",
    "### 2.1. Model Definition\n",
    "Model assumes all features are conditionally independent.\n",
    "\n",
    "$$P(Y|X_1,\\ldots,X_n)=\\frac{P(Y)\\prod_{i=1}^n P(X_i|Y)}{P(X_1,\\dots,X_n)}$$\n",
    "\n",
    "\n",
    "where \n",
    "- $X$ is a feature for a given sample. \n",
    "- $n$ is the total number of samples.\n",
    "- $Y$ is the label for a given sample.\n",
    "\n",
    "\n",
    "#### Subcomponents\n",
    "\n",
    "\n",
    "$P(Y)=\\pi^Y(1-\\pi)^{1-Y}$\n",
    "\n",
    "where \n",
    "- $\\pi$ is a parameter defining $P(Y=1)$ and must be learned.\n",
    "\n",
    "***\n",
    "If $X_i$ is discrete, $P(X_i|Y)$ follows a Multinoulli distribution:\n",
    "\n",
    "$P(X_i=k|Y=j)=\\prod_k \\theta_{ijk}^{(1-\\delta(X_i,k))}$\n",
    "\n",
    "where \n",
    "- $\\delta(X_i,k)$ is an indicator function which takes value 1 if $X_i=k$ and value 0 otherwise.\n",
    "- $k$: The number of possible values for a given feature.\n",
    "***\n",
    "\n",
    "\n",
    "\n",
    "If $X_i$ is continuous, $P(X_i|Y)$ follows a Gaussian distribution:\n",
    "\n",
    "$P(X_i|Y)\\sim N(\\mu_i,\\sigma_i^2)$\n",
    "\n",
    "where \n",
    "- $\\mu_i$ and $\\sigma_i^2$ are parameters which must be learned. \n",
    "***\n",
    "$P(X_1,\\dots,X_n)$\n",
    "\n",
    "where\n",
    "\n",
    "$P(X_1,\\dots,X_n)=P(Y=0)\\sum_{i=1}^n P(X_i|Y=0)+P(Y=1)\\sum_{i=1}^n P(X_i|Y=1)$"
   ]
  },
  {
   "cell_type": "markdown",
   "id": "broken-possession",
   "metadata": {},
   "source": [
    "### 2.3. MLE for Naïve Bayes\n",
    "\n",
    "$$\\pi=\\frac{s_1}{n}$$\n",
    "\n",
    "where \n",
    "- $s_1$: number of samples with $Y=1$\n",
    "- $n$: total number of samples\n",
    "\n",
    "***\n",
    "\n",
    "$$\\theta_{ijk}=\\frac{s_{1,k}}{s_1}$$\n",
    "\n",
    "where\n",
    "- $s_{1,k}$: number of samples with $X_i=k,Y=1$"
   ]
  },
  {
   "cell_type": "code",
   "execution_count": 3,
   "id": "typical-research",
   "metadata": {},
   "outputs": [],
   "source": [
    "# Given $X_{new}$:\n",
    "# - Compute $P(Y=1)\\prod_{i=1}^nP(X_j=X_{j_{new}}|Y=1)$\n",
    "# - Compute $P(Y=0)\\prod_{i=1}^nP(X_j=X_{j_{new}}|Y=0)$\n",
    "# - Classify $X_{new}$ as the label with the higher probability."
   ]
  },
  {
   "cell_type": "markdown",
   "id": "thousand-clark",
   "metadata": {},
   "source": [
    "### 2.4. MAP estimation for Naïve Bayes\n",
    "\n",
    "$$\\pi=\\frac{s_1+\\alpha_0}{n+\\alpha_0 + \\beta_0}$$\n",
    "\n",
    "where \n",
    "- $s_1$: number of samples with $Y=1$\n",
    "- $n$: total number of samples\n",
    "- $\\alpha_0$:\n",
    "- $\\beta_0$:\n",
    "\n",
    "***\n",
    "\n",
    "$$\\theta_{ijk}=\\frac{s_{1,k}+\\alpha_{ijk0}}{s_1+\\alpha_{ijk0}+\\beta_{ijk0}}$$\n",
    "\n",
    "where\n",
    "- $s_{1,k}$: number of samples with $X_i=k,Y=1$\n",
    "- $\\alpha_{ijk0}$:\n",
    "- $\\beta_{ijk0}$:"
   ]
  },
  {
   "cell_type": "code",
   "execution_count": null,
   "id": "linear-consciousness",
   "metadata": {},
   "outputs": [],
   "source": []
  },
  {
   "cell_type": "markdown",
   "id": "expected-syndication",
   "metadata": {},
   "source": [
    "# 3. Logistic Regression\n",
    "### 3.1. Model Definition (two class)\n",
    "Transforms continuous value from linear regression into discrete values for output.\n",
    "\n",
    "$$P(Y=0|X=\\{X_1,\\ldots, X_n\\})=\\frac{1}{1+\\exp{(w_0 + \\sum_{i=1}^n w_iX_i)}}$$\n",
    "\n",
    "$$P(Y=1|X=\\{X_1,\\ldots, X_n\\})=\\frac{\\exp{(w_0 + \\sum_{i=1}^n w_iX_i)}}{1+\\exp{(w_0 + \\sum_{i=1}^n w_iX_i)}}$$"
   ]
  },
  {
   "cell_type": "markdown",
   "id": "wanted-motivation",
   "metadata": {},
   "source": [
    "### 3.2. MCLE for Logistic Regression (two class)\n",
    "We want to use MCLE to learn the model parameters. MCLE cannot be solved in closed-form with respect to $W$.\n",
    "\n",
    "$$\\hat{W}_{MCLE}=\\underset{W}{argmax} \\prod_l P(Y^l|X^l,W)$$\n",
    "\n",
    "where\n",
    "- $l$: number of training examples"
   ]
  },
  {
   "cell_type": "markdown",
   "id": "known-daisy",
   "metadata": {},
   "source": [
    "### 3.3. MCLE  for Logistic Regression (two class) with Gradient Descent\n",
    "Parameters can be derived using gradient descent because logistic regression is concave. Start with a random initialization of parameters. Repeat until the change is less than $\\epsilon$, that is, until $l(W)_t - l(W)_{t-1} < \\epsilon$.\n",
    "\n",
    "$$l(W)=\\sum_l \\left(Y^l(w_0+\\sum_i^n w_i X^l_i)-ln(1+exp(w_0+\\sum_i^n w_i X^l_i)) \\right)$$\n",
    "\n",
    "$$w_i \\leftarrow w_i + \\eta \\nabla(W) $$\n",
    "\n",
    "where \n",
    "- $\\eta$ is step size (learning rate)\n",
    "- $X_i^l$: value of $X_i$ for the $l$th training example.\n",
    "- $\\nabla(W)$ is the gradient\n",
    "\n",
    "***\n",
    "\n",
    "#### Subcomponents\n",
    "\n",
    "$\\nabla(W)=\\frac{\\partial l(W)}{\\partial w_i}=\\sum_l X^l_i\\left(Y^l-\\hat{P}(Y^l=1|X^l,W)\\right)$\n",
    "\n",
    "where\n",
    "- $Y^l-\\hat{P}(Y^l=1|X^l,W)$ is the prediction error\n",
    "- $\\hat{P}(Y^l=1|X^l,W)=\\frac{exp(w_0+\\sum_iw_iX_i)}{1+exp(w_0+\\sum_iw_iX_i)}$\n",
    "\n",
    "\n",
    "According to Mitchell, we accommodate weight $w_0$ by assuming an imaginary $X_0=1$ for all $l$.\n",
    "***\n"
   ]
  },
  {
   "cell_type": "markdown",
   "id": "tracked-fruit",
   "metadata": {},
   "source": [
    "Pattern for gradient:\n",
    "\n",
    "$$\\frac{\\partial l(W)}{\\partial w_0}=\\sum_l 1 (Y^l - P(Y^l=1|X^l,W))$$\n",
    "\n",
    "$$\\frac{\\partial l(W)}{\\partial w_1}=\\sum_l X_1^l (Y^l - P(Y^l=1|X^l,W))$$\n",
    "\n",
    "$$\\vdots$$\n",
    "\n",
    "$$\\frac{\\partial l(W)}{\\partial w_n}=\\sum_l X_n^l (Y^l - P(Y^l=1|X^l,W))$$"
   ]
  },
  {
   "cell_type": "code",
   "execution_count": 4,
   "id": "documented-brave",
   "metadata": {},
   "outputs": [],
   "source": [
    "#?? need to mean center data?\n",
    "#?? when to add imaginary 1 row?\n",
    "#?? how to accommodate w_0? Assume extra x row of all 1's? best way?\n",
    "#?? how to choose epsilon\n",
    "#?? absolute value of difference"
   ]
  },
  {
   "cell_type": "code",
   "execution_count": 5,
   "id": "sweet-husband",
   "metadata": {},
   "outputs": [
    {
     "data": {
      "image/png": "[encoded data removed]",
      "text/plain": [
       "<Figure size 432x288 with 1 Axes>"
      ]
     },
     "metadata": {
      "needs_background": "light"
     },
     "output_type": "display_data"
    }
   ],
   "source": [
    "X1, y1 = make_classification(n_features=2, n_redundant=0, n_informative=1,\n",
    "                             n_clusters_per_class=1, n_samples=200)\n",
    "plt.scatter(X1[:, 0], X1[:, 1], marker='o', c=y1,\n",
    "            s=25, edgecolor='k')\n",
    "plt.show()"
   ]
  },
  {
   "cell_type": "code",
   "execution_count": 6,
   "id": "brown-vacation",
   "metadata": {},
   "outputs": [],
   "source": [
    "X_train, X_test, y_train, y_test = train_test_split(X1, y1, test_size=0.33, random_state=42)"
   ]
  },
  {
   "cell_type": "code",
   "execution_count": 7,
   "id": "industrial-judge",
   "metadata": {},
   "outputs": [
    {
     "data": {
      "image/png": "[encoded data removed]",
      "text/plain": [
       "<Figure size 432x288 with 1 Axes>"
      ]
     },
     "metadata": {
      "needs_background": "light"
     },
     "output_type": "display_data"
    }
   ],
   "source": [
    "plt.scatter(X_train[:, 0], X_train[:, 1], marker='o', c=y_train,\n",
    "            s=25, edgecolor='k')\n",
    "plt.show()"
   ]
  },
  {
   "cell_type": "code",
   "execution_count": 8,
   "id": "strong-notification",
   "metadata": {},
   "outputs": [
    {
     "data": {
      "text/plain": [
       "array([ 1.0661023 ,  3.75967254, -0.27202426])"
      ]
     },
     "execution_count": 8,
     "metadata": {},
     "output_type": "execute_result"
    }
   ],
   "source": [
    "model = LogisticRegression(eta=0.01,epsilon=0.01)\n",
    "model.fit(X_train,y_train)\n",
    "model.weights"
   ]
  },
  {
   "cell_type": "code",
   "execution_count": 9,
   "id": "efficient-omaha",
   "metadata": {},
   "outputs": [],
   "source": [
    "# source: https://stackoverflow.com/questions/31292393/how-do-you-draw-a-line-using-the-weight-vector-in-a-linear-perceptron\n",
    "def plot_data(inputs,targets,weights):\n",
    "    # fig config\n",
    "    plt.figure(figsize=(10,6))\n",
    "    plt.grid(True)\n",
    "\n",
    "    #plot input samples(2D data points) and i have two classes. \n",
    "    #one is +1 and second one is -1, so it red color for +1 and blue color for -1\n",
    "    for input,target in zip(inputs,targets):\n",
    "        plt.plot(input[0],input[1],'ro' if (target == 1.0) else 'bo')\n",
    "\n",
    "    # Here i am calculating slope and intercept with given three weights\n",
    "    for i in np.linspace(np.amin(inputs[:,:1]),np.amax(inputs[:,:1])):\n",
    "        slope = -(weights[0]/weights[2])/(weights[0]/weights[1])  \n",
    "        intercept = -weights[0]/weights[2]\n",
    "\n",
    "        #y =mx+c, m is slope and c is intercept\n",
    "        y = (slope*i) + intercept\n",
    "        plt.plot(i, y, 'k.')"
   ]
  },
  {
   "cell_type": "code",
   "execution_count": 10,
   "id": "stock-company",
   "metadata": {},
   "outputs": [
    {
     "data": {
      "image/png": "[encoded data removed]",
      "text/plain": [
       "<Figure size 720x432 with 1 Axes>"
      ]
     },
     "metadata": {
      "needs_background": "light"
     },
     "output_type": "display_data"
    }
   ],
   "source": [
    "plot_data(X_train,y_train,model.weights)"
   ]
  },
  {
   "cell_type": "markdown",
   "id": "convenient-porter",
   "metadata": {},
   "source": [
    "Better way, from https://stackoverflow.com/questions/31292393/how-do-you-draw-a-line-using-the-weight-vector-in-a-linear-perceptron.\n",
    "\n",
    "```\n",
    "Plug your weights into the general form (w0 + w1x + w2y = 0) and solve for x, x=0, y, y=0:\n",
    "\n",
    "x = -(w0 - w2y)/w1  \n",
    "x = 0 when y = -w0/w2  \n",
    "y = -(w0 - w1x)/w2  \n",
    "y = 0 when x = -w0/w1  \n",
    "Now we have two points that lie on the line: (0, -w0/w2) and (-w0/w1, 0)\n",
    "\n",
    "slope = -(w0/w2)/(w0/w1)  \n",
    "intercept = -w0/w2\n",
    "```"
   ]
  },
  {
   "cell_type": "code",
   "execution_count": 11,
   "id": "cutting-benchmark",
   "metadata": {},
   "outputs": [
    {
     "name": "stdout",
     "output_type": "stream",
     "text": [
      "0.11975257129440674\n",
      "0.9848484848484849\n"
     ]
    }
   ],
   "source": [
    "# test accuracy\n",
    "y_pred_proba = model.predict_proba(X_test)\n",
    "print(log_loss(y_test,y_pred_proba))\n",
    "y_pred = model.predict(X_test)\n",
    "score = recall_score(y_test, y_pred, average='weighted')\n",
    "print(score)"
   ]
  },
  {
   "cell_type": "markdown",
   "id": "gothic-interest",
   "metadata": {},
   "source": [
    "### 3.4. MAP estimation  for Logistic Regression (two class) with Gradient Descent\n",
    "Regularization term helps reduce overfitting, especially when training data is sparse.\n",
    "\n",
    "$$l(W)=?$$\n",
    "\n",
    "$$w_i \\leftarrow w_i -\\eta\\lambda w_i + \\eta \\sum_l X^l_i\\left(Y^l-\\hat{P}(Y^l=1|X^l,W)\\right) $$\n",
    "\n",
    "where\n",
    "- $\\lambda$ is a regularization term, $\\lambda=\\frac{1}{2\\sigma^2}$"
   ]
  },
  {
   "cell_type": "markdown",
   "id": "inappropriate-channel",
   "metadata": {},
   "source": [
    "### 3.5. Model Definition (multiclass)\n",
    "Logistic Regression for more than two classes. Learn $R-1$ set of weights.\n",
    "\n",
    "For $k<R$:\n",
    "\n",
    "$$P(Y=y_k|X=\\{X_1,\\ldots, X_n\\})=\\frac{\\exp{(w_{k,0} + \\sum_{i=1}^n w_{k,i}X_i)}}{1+\\sum_{j=1}^{R-1}\\exp{(w_{j,0} + \\sum_{i=1}^n w_{ji}X_i)}}$$\n",
    "\n",
    "where\n",
    "- $R$: number of classes\n",
    "\n",
    "***\n",
    "\n",
    "For $k=R$:\n",
    "\n",
    "$$P(Y=y_R|X=\\{X_1,\\ldots, X_n\\})=\\frac{1}{1+\\sum_{j=1}^{R-1}\\exp{(w_{j,0} + \\sum_{i=1}^n w_{ji}X_i)}}$$"
   ]
  },
  {
   "cell_type": "markdown",
   "id": "magnetic-april",
   "metadata": {},
   "source": [
    "# one vs all approach\n",
    "One-vs-all is a strategy that involves training N distinct binary classifiers, each designed to recognize a specific class. After that we collectively use those N classifiers to predict the correct class."
   ]
  },
  {
   "cell_type": "code",
   "execution_count": 12,
   "id": "straight-passage",
   "metadata": {},
   "outputs": [
    {
     "name": "stdout",
     "output_type": "stream",
     "text": [
      "(11,)\n"
     ]
    },
    {
     "data": {
      "image/png": "[encoded data removed]",
      "text/plain": [
       "<Figure size 432x288 with 1 Axes>"
      ]
     },
     "metadata": {
      "needs_background": "light"
     },
     "output_type": "display_data"
    },
    {
     "name": "stdout",
     "output_type": "stream",
     "text": [
      "STOP: TOTAL NO. of ITERATIONS REACHED LIMIT.\n",
      "[-1.23667949  1.13847615 -0.40537524]\n",
      "[0. 1. 0. 0.]\n"
     ]
    },
    {
     "data": {
      "text/plain": [
       "array([0.16218567, 0.98852112, 0.12170876, 0.03684283])"
      ]
     },
     "execution_count": 12,
     "metadata": {},
     "output_type": "execute_result"
    },
    {
     "data": {
      "image/png": "[encoded data removed]",
      "text/plain": [
       "<Figure size 720x432 with 1 Axes>"
      ]
     },
     "metadata": {
      "needs_background": "light"
     },
     "output_type": "display_data"
    }
   ],
   "source": [
    "X_train = np.array([[1, 1],\n",
    "                  [0, 0],\n",
    "                  [1, 0],\n",
    "                  [0, 4],\n",
    "                  [5, 1],\n",
    "                  [5, 2],\n",
    "                  [5, -1],\n",
    "                  [5, 10],\n",
    "                  [3, 10],\n",
    "                  [3, 10.5],\n",
    "                  [3, 11]])\n",
    "y_train = np.array([0, 0, 0, 0, 1, 1, 1, 1,0,0,0])\n",
    "print(y_train.shape)\n",
    "\n",
    "plt.scatter(X_train[:, 0], X_train[:, 1], marker='o', c=y_train,\n",
    "            s=25, edgecolor='k')\n",
    "plt.show()\n",
    "\n",
    "model = LogisticRegression(eta=0.01,epsilon=0.01)\n",
    "model.fit(X_train,y_train)\n",
    "print(model.weights)\n",
    "\n",
    "plot_data(X_train,y_train,model.weights)\n",
    "\n",
    "\n",
    "X_test = np.array([[0, 1],\n",
    "                   [5, 0],\n",
    "                   [3, 10.25],\n",
    "                   [0, 5]])\n",
    "print(model.predict(X_test))\n",
    "model.predict_proba(X_test)[:,1]"
   ]
  },
  {
   "cell_type": "code",
   "execution_count": 13,
   "id": "uniform-transformation",
   "metadata": {},
   "outputs": [
    {
     "data": {
      "image/png": "[encoded data removed]",
      "text/plain": [
       "<Figure size 432x288 with 1 Axes>"
      ]
     },
     "metadata": {
      "needs_background": "light"
     },
     "output_type": "display_data"
    },
    {
     "name": "stdout",
     "output_type": "stream",
     "text": [
      "STOP: TOTAL NO. of ITERATIONS REACHED LIMIT.\n",
      "[ 1.34665043 -0.88978117 -0.15115761]\n",
      "[1. 0. 0. 1.]\n"
     ]
    },
    {
     "data": {
      "text/plain": [
       "array([0.76772201, 0.04301432, 0.05355222, 0.64356299])"
      ]
     },
     "execution_count": 13,
     "metadata": {},
     "output_type": "execute_result"
    },
    {
     "data": {
      "image/png": "[encoded data removed]",
      "text/plain": [
       "<Figure size 720x432 with 1 Axes>"
      ]
     },
     "metadata": {
      "needs_background": "light"
     },
     "output_type": "display_data"
    }
   ],
   "source": [
    "X_train = np.array([[1, 1],\n",
    "                  [0, 0],\n",
    "                  [1, 0],\n",
    "                     [0,4],\n",
    "                  [5, 1],\n",
    "                  [5, 2],\n",
    "                  [5, -1],\n",
    "                    [5,10],\n",
    "                  [3, 10],\n",
    "                  [3, 10.5],\n",
    "                  [3, 11]])\n",
    "\n",
    "\n",
    "y_train = np.array([1,1,1,1,0,0,0,0,0,0,0])\n",
    "\n",
    "plt.scatter(X_train[:, 0], X_train[:, 1], marker='o', c=y_train,\n",
    "            s=25, edgecolor='k')\n",
    "plt.show()\n",
    "\n",
    "model = LogisticRegression(eta=0.01,epsilon=0.01)\n",
    "model.fit(X_train,y_train)\n",
    "print(model.weights)\n",
    "\n",
    "plot_data(X_train,y_train,model.weights)\n",
    "\n",
    "X_test = np.array([[0, 1],\n",
    "                   [5, 0],\n",
    "                   [3, 10.25],\n",
    "                   [0, 5]])\n",
    "\n",
    "print(model.predict(X_test))\n",
    "model.predict_proba(X_test)[:,1]"
   ]
  },
  {
   "cell_type": "code",
   "execution_count": 14,
   "id": "enhanced-contrary",
   "metadata": {
    "scrolled": false
   },
   "outputs": [
    {
     "data": {
      "image/png": "[encoded data removed]",
      "text/plain": [
       "<Figure size 432x288 with 1 Axes>"
      ]
     },
     "metadata": {
      "needs_background": "light"
     },
     "output_type": "display_data"
    },
    {
     "name": "stdout",
     "output_type": "stream",
     "text": [
      "[-1.14887306 -0.88885461  0.49175771]\n",
      "[0. 0. 1. 1.]\n"
     ]
    },
    {
     "data": {
      "text/plain": [
       "array([0.3413879 , 0.00370948, 0.77295623, 0.78749901])"
      ]
     },
     "execution_count": 14,
     "metadata": {},
     "output_type": "execute_result"
    },
    {
     "data": {
      "image/png": "[encoded data removed]",
      "text/plain": [
       "<Figure size 432x288 with 1 Axes>"
      ]
     },
     "metadata": {
      "needs_background": "light"
     },
     "output_type": "display_data"
    },
    {
     "data": {
      "image/png": "[encoded data removed]",
      "text/plain": [
       "<Figure size 720x432 with 1 Axes>"
      ]
     },
     "metadata": {
      "needs_background": "light"
     },
     "output_type": "display_data"
    }
   ],
   "source": [
    "X_train = np.array([[1, 1],\n",
    "                  [0, 0],\n",
    "                  [1, 0],\n",
    "                     [0,4],\n",
    "                  [5, 1],\n",
    "                  [5, 2],\n",
    "                  [5, -1],\n",
    "                    [5,10],\n",
    "                  [3, 10],\n",
    "                  [3, 10.5],\n",
    "                  [3, 11]])\n",
    "\n",
    "y_train = np.array([0,0,0,0,0,0,0,0,1,1,1])\n",
    "\n",
    "plt.scatter(X_train[:, 0], X_train[:, 1], marker='o', c=y_train,\n",
    "            s=25, edgecolor='k')\n",
    "plt.show()\n",
    "\n",
    "model = LogisticRegression(eta=0.01,epsilon=0.01)\n",
    "model.fit(X_train,y_train)\n",
    "print(model.weights)\n",
    "\n",
    "X_train = np.array([[1, 1],\n",
    "                  [0, 0],\n",
    "                  [1, 0],\n",
    "                     [0,4],\n",
    "                  [5, 1],\n",
    "                  [5, 2],\n",
    "                  [5, -1],\n",
    "                    [5,10],\n",
    "                  [3, 10],\n",
    "                  [3, 10.5],\n",
    "                  [3, 11]])\n",
    "\n",
    "y_train = np.array([0,0,0,0,0,0,0,0,1,1,1])\n",
    "\n",
    "plt.scatter(X_train[:, 0], X_train[:, 1], marker='o', c=y_train,\n",
    "            s=25, edgecolor='k')\n",
    "plot_data(X_train,y_train,model.weights)\n",
    "\n",
    "X_test = np.array([[0, 1],\n",
    "                   [5, 0],\n",
    "                   [3, 10.25],\n",
    "                   [0, 5]])\n",
    "\n",
    "print(model.predict(X_test))\n",
    "model.predict_proba(X_test)[:,1]"
   ]
  },
  {
   "cell_type": "code",
   "execution_count": 15,
   "id": "swedish-auckland",
   "metadata": {},
   "outputs": [
    {
     "data": {
      "image/png": "[encoded data removed]",
      "text/plain": [
       "<Figure size 432x288 with 1 Axes>"
      ]
     },
     "metadata": {
      "needs_background": "light"
     },
     "output_type": "display_data"
    }
   ],
   "source": [
    "X_train = np.array([[1, 1],\n",
    "                  [0, 0],\n",
    "                  [1, 0],\n",
    "                     [0,4],\n",
    "                  [5, 1],\n",
    "                  [5, 2],\n",
    "                  [5, -1],\n",
    "                    [5,10],\n",
    "                  [3, 10],\n",
    "                  [3, 10.5],\n",
    "                  [3, 11]])\n",
    "\n",
    "plt.scatter(X_train[:, 0], X_train[:, 1], color='k')\n",
    "\n",
    "\n",
    "X_test = np.array([[0, 1],\n",
    "                   [5, 0],\n",
    "                   [3, 10.25],\n",
    "                   [0, 5]])\n",
    "\n",
    "plt.scatter(X_test[:, 0], X_test[:, 1],color='r')\n",
    "\n",
    "plt.show()\n"
   ]
  },
  {
   "cell_type": "code",
   "execution_count": 16,
   "id": "unable-bedroom",
   "metadata": {},
   "outputs": [],
   "source": [
    "# X = np.array([[1, 1],\n",
    "#               [0, 0],\n",
    "#               [1, 0],\n",
    "#               [0, 4],\n",
    "#               [5, 1],\n",
    "#               [5, 2],\n",
    "#               [5, -1],\n",
    "#               [5, 10],\n",
    "#               [3, 10],\n",
    "#               [3, 10.5],\n",
    "#               [3, 11]])\n",
    "# y = np.array([0, 0, 0, 0, 1, 1, 1, 1, 2, 2, 2])\n",
    "\n",
    "# model = MulticlassLogisticRegression(eta=0.01, epsilon=0.01)\n",
    "# # model2 = MulticlassLogisticRegression2(eta=0.01, epsilon=0.01)\n",
    "\n",
    "# model.fit(X,y)\n",
    "# # model2.fit(X,y)\n",
    "\n",
    "# X_test = np.array([[0, 1],\n",
    "#                    [5, 0],\n",
    "#                    [3, 10.25],\n",
    "#                    [0, 5]])\n",
    "\n",
    "# print(model.predict_proba(X_test))\n",
    "# print(model.predict(X_test))\n",
    "# # print()\n",
    "# # print(model2.predict_proba(X_test))\n",
    "# # print(model2.predict(X_test))\n",
    "\n",
    "\n",
    "# plt.scatter(X[:, 0], X[:, 1], marker='o', c=y,s=25)\n",
    "# plt.scatter(X_test[:, 0], X_test[:, 1], marker='o', c='r')\n",
    "# plt.show()"
   ]
  },
  {
   "cell_type": "code",
   "execution_count": 18,
   "id": "existing-jonathan",
   "metadata": {},
   "outputs": [
    {
     "name": "stdout",
     "output_type": "stream",
     "text": [
      "[[0.36975254 0.28177666 0.3484708 ]\n",
      " [0.1353948  0.78253391 0.0820713 ]\n",
      " [0.09425528 0.20846642 0.6972783 ]\n",
      " [0.30278986 0.15488055 0.54232959]]\n",
      "[0 1 2 2]\n"
     ]
    },
    {
     "data": {
      "image/png": "[encoded data removed]",
      "text/plain": [
       "<Figure size 432x288 with 1 Axes>"
      ]
     },
     "metadata": {
      "needs_background": "light"
     },
     "output_type": "display_data"
    }
   ],
   "source": [
    "X = np.array([[1, 1],\n",
    "              [0, 0],\n",
    "              [1, 0],\n",
    "              [0, 4],\n",
    "              [5, 1],\n",
    "              [5, 2],\n",
    "              [5, -1],\n",
    "              [5, 10],\n",
    "              [3, 10],\n",
    "              [3, 10.5],\n",
    "              [3, 11]])\n",
    "y = np.array([0, 0, 0, 0, 1, 1, 1, 1, 2, 2, 2])\n",
    "\n",
    "\n",
    "model = MulticlassLogisticRegression(eta=0.01, \n",
    "                                       epsilon=0.01, \n",
    "                                       penalty='l2', \n",
    "                                       l2_lambda=5)\n",
    "model.fit(X,y)\n",
    "\n",
    "X_test = np.array([[0, 1],\n",
    "                   [5, 0],\n",
    "                   [3, 10.25],\n",
    "                   [0, 5]])\n",
    "\n",
    "print(model.predict_proba(X_test))\n",
    "print(model.predict(X_test))\n",
    "\n",
    "\n",
    "plt.scatter(X[:, 0], X[:, 1], marker='o', c=y,s=25)\n",
    "plt.scatter(X_test[:, 0], X_test[:, 1], marker='o', c='r')\n",
    "plt.show()"
   ]
  },
  {
   "cell_type": "code",
   "execution_count": null,
   "id": "third-ridge",
   "metadata": {},
   "outputs": [],
   "source": []
  }
 ],
 "metadata": {
  "kernelspec": {
   "display_name": "Python 3",
   "language": "python",
   "name": "python3"
  },
  "language_info": {
   "codemirror_mode": {
    "name": "ipython",
    "version": 3
   },
   "file_extension": ".py",
   "mimetype": "text/x-python",
   "name": "python",
   "nbconvert_exporter": "python",
   "pygments_lexer": "ipython3",
   "version": "3.6.12"
  }
 },
 "nbformat": 4,
 "nbformat_minor": 5
}
