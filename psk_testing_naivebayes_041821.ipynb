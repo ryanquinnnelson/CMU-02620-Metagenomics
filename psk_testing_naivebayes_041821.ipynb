{
 "cells": [
  {
   "cell_type": "markdown",
   "metadata": {
    "collapsed": true,
    "pycharm": {
     "name": "#%% md\n"
    }
   },
   "source": [
    "## Testing Naive Bayes implementation"
   ]
  },
  {
   "cell_type": "code",
   "execution_count": 1,
   "metadata": {
    "pycharm": {
     "name": "#%%\n"
    }
   },
   "outputs": [],
   "source": [
    "from packages.metagenomics import naive_bayes\n",
    "from scipy.sparse import csr_matrix\n",
    "import numpy as np"
   ]
  },
  {
   "cell_type": "markdown",
   "metadata": {
    "pycharm": {
     "name": "#%% md\n"
    }
   },
   "source": [
    "#### Initializing the training and testing data"
   ]
  },
  {
   "cell_type": "code",
   "execution_count": 2,
   "metadata": {
    "pycharm": {
     "name": "#%%\n"
    }
   },
   "outputs": [
    {
     "name": "stdout",
     "output_type": "stream",
     "text": [
      "<class 'scipy.sparse.csr.csr_matrix'>\n",
      "(6, 9)\n"
     ]
    }
   ],
   "source": [
    "training_matrix = np.array([[2,2,0,0,0,0,0,0,0],\n",
    "                            [0,0,0,1,1,0,0,0,0],\n",
    "                            [0,0,0,0,0,0,3,3,0],\n",
    "                            [2,1,0,0,0,0,0,0,0],\n",
    "                            [0,0,0,1,1,0,0,0,0],\n",
    "                            [0,0,0,0,0,0,3,2,0]], dtype=float)\n",
    "\n",
    "sparse_training_mtx = csr_matrix(training_matrix)\n",
    "print(type(sparse_training_mtx))\n",
    "print(sparse_training_mtx.shape)\n",
    "\n",
    "training_classes = np.array([2,1,3,2,1,3])"
   ]
  },
  {
   "cell_type": "code",
   "execution_count": 3,
   "metadata": {
    "pycharm": {
     "name": "#%%\n"
    }
   },
   "outputs": [],
   "source": [
    "test_array = np.array([2,1,0,0,0,0,0,0,0], dtype=float)\n",
    "test_array_sparse = csr_matrix(test_array)\n",
    "test_class = 2"
   ]
  },
  {
   "cell_type": "code",
   "execution_count": 4,
   "metadata": {
    "pycharm": {
     "name": "#%%\n"
    }
   },
   "outputs": [
    {
     "name": "stdout",
     "output_type": "stream",
     "text": [
      "{1: 0.3333333333333333, 2: 0.3333333333333333, 3: 0.3333333333333333}\n",
      "3\n",
      "[array([[0., 0., 0., 1., 1., 0., 0., 0., 0.],\n",
      "       [0., 0., 0., 1., 1., 0., 0., 0., 0.]]), array([[2., 2., 0., 0., 0., 0., 0., 0., 0.],\n",
      "       [2., 1., 0., 0., 0., 0., 0., 0., 0.]]), array([[0., 0., 0., 0., 0., 0., 3., 3., 0.],\n",
      "       [0., 0., 0., 0., 0., 0., 3., 2., 0.]])]\n",
      "<class 'numpy.ndarray'>\n"
     ]
    }
   ],
   "source": [
    "# getting class probabilities\n",
    "class_probabilities = naive_bayes.taxid_probability(training_classes)\n",
    "\n",
    "# splitting the training matrix according to class\n",
    "split_training_mtx_list = naive_bayes.split_sparsemtx_by_taxid(training_matrix, training_classes)\n",
    "\n",
    "print(class_probabilities)\n",
    "print(len(split_training_mtx_list))\n",
    "print(split_training_mtx_list)\n",
    "print(type(split_training_mtx_list[0]))"
   ]
  },
  {
   "cell_type": "markdown",
   "metadata": {
    "pycharm": {
     "name": "#%% md\n"
    }
   },
   "source": [
    "#### Testing our new data"
   ]
  },
  {
   "cell_type": "code",
   "execution_count": 5,
   "metadata": {
    "pycharm": {
     "name": "#%%\n"
    }
   },
   "outputs": [
    {
     "name": "stdout",
     "output_type": "stream",
     "text": [
      "[[2. 1. 0. 0. 0. 0. 0. 0. 0.]]\n",
      "<class 'numpy.ndarray'>\n",
      "[0. 0. 0. 1. 1. 0. 0. 0. 0.]\n",
      "[2.  1.5 0.  0.  0.  0.  0.  0.  0. ]\n",
      "[0.  0.  0.  0.  0.  0.  3.  2.5 0. ]\n",
      "{1: 0.0, 2: 1.8333333333333333, 3: 0.0}\n",
      "The new data is classified as class: 2\n"
     ]
    }
   ],
   "source": [
    "final_probabilities = {}\n",
    "class_list = list(class_probabilities.keys())\n",
    "\n",
    "#\n",
    "test_to_array = test_array_sparse.toarray()\n",
    "print(test_to_array)\n",
    "print(type(test_to_array))\n",
    "#\n",
    "for i in range(len(split_training_mtx_list)):\n",
    "    col_sum = split_training_mtx_list[i].sum(axis=0)\n",
    "    col_sum /= split_training_mtx_list[i].shape[0]\n",
    "    print(col_sum)\n",
    "\n",
    "    prod = np.multiply(test_to_array, col_sum)\n",
    "    # multiplying by the taxid probability\n",
    "    total_prod = np.multiply(prod, class_probabilities[class_list[i]])\n",
    "    # print('Total: ',total_prod)\n",
    "    final_probabilities[class_list[i]] = total_prod.sum()\n",
    "\n",
    "print(final_probabilities)\n",
    "\n",
    "prediction = max(final_probabilities, key=final_probabilities.get)\n",
    "print(f'The new data is classified as class: {prediction}')"
   ]
  }
 ],
 "metadata": {
  "kernelspec": {
   "display_name": "Python 3",
   "language": "python",
   "name": "python3"
  },
  "language_info": {
   "codemirror_mode": {
    "name": "ipython",
    "version": 3
   },
   "file_extension": ".py",
   "mimetype": "text/x-python",
   "name": "python",
   "nbconvert_exporter": "python",
   "pygments_lexer": "ipython3",
   "version": "3.7.7"
  }
 },
 "nbformat": 4,
 "nbformat_minor": 1
}