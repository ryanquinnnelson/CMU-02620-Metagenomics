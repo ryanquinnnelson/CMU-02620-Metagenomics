{
 "cells": [
  {
   "cell_type": "markdown",
   "id": "eligible-dance",
   "metadata": {},
   "source": [
    "### Imports"
   ]
  },
  {
   "cell_type": "code",
   "execution_count": 1,
   "id": "stainless-circle",
   "metadata": {},
   "outputs": [],
   "source": [
    "import shutil\n",
    "import csv\n",
    "import datetime\n",
    "import numpy as np\n",
    "import pandas as pd\n",
    "from sklearn.metrics import recall_score\n",
    "from sklearn import preprocessing\n",
    "from sklearn.model_selection import train_test_split\n",
    "from packages.metagenomics import sampling2, encoding2\n",
    "from sklearn.linear_model import LogisticRegression\n",
    "\n",
    "from packages.LogisticRegression.MulticlassLogisticRegression import MulticlassLogisticRegression,MulticlassLogisticRegression2\n"
   ]
  },
  {
   "cell_type": "markdown",
   "id": "silver-static",
   "metadata": {},
   "source": [
    "### Ideas for improvements\n",
    "- try converting back to sparse matrix after adding augmented column?"
   ]
  },
  {
   "cell_type": "code",
   "execution_count": 2,
   "id": "later-bloom",
   "metadata": {},
   "outputs": [],
   "source": [
    "def append_results_to_file(filename, fields=None, rows=None):\n",
    "    \n",
    "    with open(filename, 'a') as f:\n",
    "\n",
    "        write = csv.writer(f)\n",
    "\n",
    "        if fields:\n",
    "            write.writerow(fields)\n",
    "\n",
    "        if rows:\n",
    "            write.writerows(rows)"
   ]
  },
  {
   "cell_type": "code",
   "execution_count": 3,
   "id": "duplicate-atlas",
   "metadata": {},
   "outputs": [],
   "source": [
    "def run_mlr_classification_recall(X_train, X_test, y_train, y_test, eta, epsilon):\n",
    "    \"\"\"\n",
    "    Score is species level recall.\n",
    "    \"\"\"\n",
    "    mlr = MulticlassLogisticRegression2(eta=eta, epsilon=epsilon)\n",
    "    mlr.fit(X_train,y_train)\n",
    "    y_pred = mlr.predict(X_test)\n",
    "    score = recall_score(y_test, y_pred, average='weighted')\n",
    "    return score\n",
    "    "
   ]
  },
  {
   "cell_type": "code",
   "execution_count": 4,
   "id": "nonprofit-cable",
   "metadata": {},
   "outputs": [],
   "source": [
    "def build_fragments(seq_file, taxid_file, output_dir, sample_length, coverage, seed):\n",
    "    # delete output directory if it previously exists\n",
    "    try:\n",
    "        shutil.rmtree(output_dir)\n",
    "    except FileNotFoundError:\n",
    "        print('Existing directory was not found. Process will generate a directory.')\n",
    "\n",
    "    # build fragments\n",
    "    sampling2.generate_fragment_data(seq_file, taxid_file, output_dir, sample_length, coverage, seed)"
   ]
  },
  {
   "cell_type": "code",
   "execution_count": 5,
   "id": "behind-distance",
   "metadata": {},
   "outputs": [],
   "source": [
    "def encode_fragments(output_dir, pattern, k, seed):\n",
    "    \n",
    "    # encode data\n",
    "    fragments = sampling2.read_fragments(output_dir, pattern)\n",
    "    X_enc, y = encoding2.encode_fragment_dataset(fragments,k)\n",
    "    le = preprocessing.LabelEncoder()\n",
    "    y_enc = le.fit_transform(y)\n",
    "    \n",
    "    # calculate number of classes\n",
    "    n_classes = len(np.unique(y_enc))\n",
    "#     print('n_classes:',n_classes)\n",
    "    n_classes_train = 0\n",
    "    n_classes_test = 0\n",
    "    while n_classes_train < n_classes or n_classes_test < n_classes:\n",
    "\n",
    "        # split data into test and training\n",
    "        X_train, X_test, y_train, y_test = train_test_split(X_enc.toarray(), y_enc, test_size=0.33)\n",
    "        n_classes_train = len(np.unique(y_train))\n",
    "        n_classes_test = len(np.unique(y_test))\n",
    "#         print('train:',len(y_train))\n",
    "#         print('test:', len(y_test))\n",
    "    \n",
    "    print(X_enc.shape)\n",
    "    \n",
    "    return X_train, X_test, y_train, y_test"
   ]
  },
  {
   "cell_type": "code",
   "execution_count": 6,
   "id": "freelance-chemical",
   "metadata": {},
   "outputs": [],
   "source": [
    "def calc_number_combinations(list_sample_length,list_coverage,list_k,list_eta,list_epsilon):\n",
    "    n = len(list_sample_length) * len(list_coverage) * len(list_k) *len(list_eta) * len(list_epsilon)\n",
    "    return n"
   ]
  },
  {
   "cell_type": "code",
   "execution_count": 7,
   "id": "fitted-brief",
   "metadata": {},
   "outputs": [],
   "source": [
    "def grid_search_multiclass_mlr(seq_file, \n",
    "                              taxid_file, \n",
    "                              output_dir, \n",
    "                              pattern, \n",
    "                              list_sample_length, \n",
    "                              list_coverage, \n",
    "                              list_k,\n",
    "                              list_eta,\n",
    "                              list_epsilon, \n",
    "                              seed,\n",
    "                              grid_search_file,\n",
    "                              fields,\n",
    "                              experiment,\n",
    "                              score_type):\n",
    "    \n",
    "    # set up grid search results file\n",
    "    append_results_to_file(grid_search_file, fields)\n",
    "    \n",
    "    # calculate number of combinations\n",
    "    n_combinations = calc_number_combinations(list_sample_length,list_coverage,list_k,list_eta,list_epsilon)\n",
    "    \n",
    "    # process combinations\n",
    "    count = 0\n",
    "    for sample_length in list_sample_length:\n",
    "        for coverage in list_coverage:\n",
    "            \n",
    "            # fragment combination\n",
    "            build_fragments(seq_file, taxid_file, output_dir, sample_length, coverage, seed)\n",
    "            for k in list_k:\n",
    "                \n",
    "                # kmer combination\n",
    "                X_train, X_test, y_train, y_test = encode_fragments(output_dir, pattern,k,seed)\n",
    "                for eta in list_eta:\n",
    "                    for epsilon in list_epsilon:\n",
    "                        \n",
    "                        # random forest combination\n",
    "                        score = run_mlr_classification_recall(X_train, X_test, y_train,y_test, eta, epsilon)\n",
    "                        count += 1\n",
    "                        \n",
    "                        # output results to file\n",
    "                        row = [experiment, 'multiclass', 'Logistic Regression', X_train.shape, sample_length, coverage, k, eta, epsilon, score, score_type]\n",
    "                        append_results_to_file(grid_search_file, row)\n",
    "                        \n",
    "                print('Percent complete: {}'.format(count / n_combinations * 100)) # display progress\n",
    "    "
   ]
  },
  {
   "cell_type": "markdown",
   "id": "expired-bowling",
   "metadata": {},
   "source": [
    "# Run Set 1 - MLR Toy\n",
    "2000 lengths dataset"
   ]
  },
  {
   "cell_type": "markdown",
   "id": "fiscal-pension",
   "metadata": {},
   "source": [
    "### Run 4.01\n",
    "Stopped early due to runs taking a long time."
   ]
  },
  {
   "cell_type": "code",
   "execution_count": 8,
   "id": "grateful-characteristic",
   "metadata": {
    "scrolled": false
   },
   "outputs": [],
   "source": [
    "# %%time\n",
    "\n",
    "# # parameters\n",
    "# seq_file = 'data/train_small-db_toy-2000.fasta'\n",
    "# taxid_file = 'data/train_small-db_toy-2000.taxid'\n",
    "# output_dir = 'data/sampling/sampling-toy-2000-mlr'\n",
    "# pattern = 'fragments*.npy'\n",
    "# seed = 42\n",
    "# date_time = datetime.datetime.now().strftime('%Y.%m.%d.%H.%M.%S')\n",
    "# grid_search_file  = 'data/runs-2000/mlr-multi.{}.csv'.format(date_time)\n",
    "# fields = ['experiment','category','classifier','training shape','sample_length','coverage','k','eta', 'epsilon', 'score','score type']\n",
    "# experiment = '4.01'\n",
    "# score_type = 'species_recall'\n",
    "\n",
    "# # combinations to try\n",
    "# list_sample_length = [100]\n",
    "# list_coverage = [0.2,1,10]\n",
    "# list_k = [1,2,4,6,8,10,12]\n",
    "# list_eta = [0.01]\n",
    "# list_epsilon = [0.01]\n",
    "\n",
    "\n",
    "# grid_search_multiclass_mlr(seq_file, \n",
    "#                           taxid_file, \n",
    "#                           output_dir, \n",
    "#                           pattern, \n",
    "#                           list_sample_length, \n",
    "#                           list_coverage, \n",
    "#                           list_k, \n",
    "#                           list_eta,\n",
    "#                           list_epsilon,\n",
    "#                           seed,\n",
    "#                           grid_search_file,\n",
    "#                           fields,\n",
    "#                           experiment,\n",
    "#                           score_type)\n"
   ]
  },
  {
   "cell_type": "markdown",
   "id": "aware-dynamics",
   "metadata": {},
   "source": [
    "### Run 4.02"
   ]
  },
  {
   "cell_type": "code",
   "execution_count": 9,
   "id": "finite-question",
   "metadata": {
    "scrolled": false
   },
   "outputs": [],
   "source": [
    "# %%time\n",
    "\n",
    "# # parameters\n",
    "# seq_file = 'data/train_small-db_toy-2000.fasta'\n",
    "# taxid_file = 'data/train_small-db_toy-2000.taxid'\n",
    "# output_dir = 'data/sampling/sampling-toy-2000-mlr'\n",
    "# pattern = 'fragments*.npy'\n",
    "# seed = 42\n",
    "# date_time = datetime.datetime.now().strftime('%Y.%m.%d.%H.%M.%S')\n",
    "# grid_search_file  = 'data/runs-2000/mlr-multi.{}.csv'.format(date_time)\n",
    "# fields = ['experiment','category','classifier','training shape','sample_length','coverage','k','eta', 'epsilon', 'score','score type']\n",
    "# experiment = '4.02'\n",
    "# score_type = 'species_recall'\n",
    "\n",
    "# # combinations to try\n",
    "# list_sample_length = [200]\n",
    "# list_coverage = [0.3,1,10]\n",
    "# list_k = [1,2,4,6,8,10,12]\n",
    "# list_eta = [0.01]\n",
    "# list_epsilon = [0.01]\n",
    "\n",
    "\n",
    "# grid_search_multiclass_mlr(seq_file, \n",
    "#                           taxid_file, \n",
    "#                           output_dir, \n",
    "#                           pattern, \n",
    "#                           list_sample_length, \n",
    "#                           list_coverage, \n",
    "#                           list_k, \n",
    "#                           list_eta,\n",
    "#                           list_epsilon,\n",
    "#                           seed,\n",
    "#                           grid_search_file,\n",
    "#                           fields,\n",
    "#                           experiment,\n",
    "#                           score_type)\n"
   ]
  },
  {
   "cell_type": "markdown",
   "id": "hairy-procedure",
   "metadata": {},
   "source": [
    "### Run 4.03"
   ]
  },
  {
   "cell_type": "code",
   "execution_count": 10,
   "id": "gothic-tower",
   "metadata": {
    "scrolled": false
   },
   "outputs": [],
   "source": [
    "# %%time\n",
    "\n",
    "# # parameters\n",
    "# seq_file = 'data/train_small-db_toy-2000.fasta'\n",
    "# taxid_file = 'data/train_small-db_toy-2000.taxid'\n",
    "# output_dir = 'data/sampling/sampling-toy-2000-mlr'\n",
    "# pattern = 'fragments*.npy'\n",
    "# seed = 42\n",
    "# date_time = datetime.datetime.now().strftime('%Y.%m.%d.%H.%M.%S')\n",
    "# grid_search_file  = 'data/runs-2000/mlr-multi.{}.csv'.format(date_time)\n",
    "# fields = ['experiment','category','classifier','training shape','sample_length','coverage','k','eta', 'epsilon', 'score','score type']\n",
    "# experiment = '4.03'\n",
    "# score_type = 'species_recall'\n",
    "\n",
    "# # combinations to try\n",
    "# list_sample_length = [400]\n",
    "# list_coverage = [0.5,1,10]\n",
    "# list_k = [1,2,4,6,8,10,12]\n",
    "# list_eta = [0.01]\n",
    "# list_epsilon = [0.01]\n",
    "\n",
    "\n",
    "# grid_search_multiclass_mlr(seq_file, \n",
    "#                           taxid_file, \n",
    "#                           output_dir, \n",
    "#                           pattern, \n",
    "#                           list_sample_length, \n",
    "#                           list_coverage, \n",
    "#                           list_k, \n",
    "#                           list_eta,\n",
    "#                           list_epsilon,\n",
    "#                           seed,\n",
    "#                           grid_search_file,\n",
    "#                           fields,\n",
    "#                           experiment,\n",
    "#                           score_type)\n"
   ]
  },
  {
   "cell_type": "markdown",
   "id": "statistical-border",
   "metadata": {},
   "source": [
    "### Run 4.04"
   ]
  },
  {
   "cell_type": "code",
   "execution_count": 11,
   "id": "unsigned-rover",
   "metadata": {
    "scrolled": false
   },
   "outputs": [],
   "source": [
    "# %%time\n",
    "\n",
    "# # parameters\n",
    "# seq_file = 'data/train_small-db_toy-2000.fasta'\n",
    "# taxid_file = 'data/train_small-db_toy-2000.taxid'\n",
    "# output_dir = 'data/sampling/sampling-toy-2000-mlr'\n",
    "# pattern = 'fragments*.npy'\n",
    "# seed = 42\n",
    "# date_time = datetime.datetime.now().strftime('%Y.%m.%d.%H.%M.%S')\n",
    "# grid_search_file  = 'data/runs-2000/mlr-multi.{}.csv'.format(date_time)\n",
    "# fields = ['experiment','category','classifier','training shape','sample_length','coverage','k','eta', 'epsilon', 'score','score type']\n",
    "# experiment = '4.04'\n",
    "# score_type = 'species_recall'\n",
    "\n",
    "# # combinations to try\n",
    "# list_sample_length = [100]\n",
    "# list_coverage = [100]\n",
    "# list_k = [1,2,4,6,8,10,12]\n",
    "# list_eta = [0.01]\n",
    "# list_epsilon = [0.01]\n",
    "\n",
    "\n",
    "# grid_search_multiclass_mlr(seq_file, \n",
    "#                           taxid_file, \n",
    "#                           output_dir, \n",
    "#                           pattern, \n",
    "#                           list_sample_length, \n",
    "#                           list_coverage, \n",
    "#                           list_k, \n",
    "#                           list_eta,\n",
    "#                           list_epsilon,\n",
    "#                           seed,\n",
    "#                           grid_search_file,\n",
    "#                           fields,\n",
    "#                           experiment,\n",
    "#                           score_type)\n"
   ]
  },
  {
   "cell_type": "markdown",
   "id": "worldwide-reader",
   "metadata": {},
   "source": [
    "### Run 4.05"
   ]
  },
  {
   "cell_type": "code",
   "execution_count": 12,
   "id": "polyphonic-luther",
   "metadata": {
    "scrolled": false
   },
   "outputs": [],
   "source": [
    "# %%time\n",
    "##40 min\n",
    "\n",
    "# # parameters\n",
    "# seq_file = 'data/train_small-db_toy-2000.fasta'\n",
    "# taxid_file = 'data/train_small-db_toy-2000.taxid'\n",
    "# output_dir = 'data/sampling/sampling-toy-2000-mlr'\n",
    "# pattern = 'fragments*.npy'\n",
    "# seed = 42\n",
    "# date_time = datetime.datetime.now().strftime('%Y.%m.%d.%H.%M.%S')\n",
    "# grid_search_file  = 'data/runs-2000/mlr-multi.{}.csv'.format(date_time)\n",
    "# fields = ['experiment','category','classifier','training shape','sample_length','coverage','k','eta', 'epsilon', 'score','score type']\n",
    "# experiment = '4.05'\n",
    "# score_type = 'species_recall'\n",
    "\n",
    "# # combinations to try\n",
    "# list_sample_length = [100]\n",
    "# list_coverage = [200]\n",
    "# list_k = [1,2,4,6,8,10,12]\n",
    "# list_eta = [0.01]\n",
    "# list_epsilon = [0.01]\n",
    "\n",
    "\n",
    "# grid_search_multiclass_mlr(seq_file, \n",
    "#                           taxid_file, \n",
    "#                           output_dir, \n",
    "#                           pattern, \n",
    "#                           list_sample_length, \n",
    "#                           list_coverage, \n",
    "#                           list_k, \n",
    "#                           list_eta,\n",
    "#                           list_epsilon,\n",
    "#                           seed,\n",
    "#                           grid_search_file,\n",
    "#                           fields,\n",
    "#                           experiment,\n",
    "#                           score_type)\n"
   ]
  },
  {
   "cell_type": "markdown",
   "id": "interesting-testing",
   "metadata": {},
   "source": [
    "# Run Set 2 - sklearn with l1 penalty\n",
    "Compare with sklearn implementation of MLR to see if performance is similar."
   ]
  },
  {
   "cell_type": "code",
   "execution_count": 13,
   "id": "minimal-findings",
   "metadata": {},
   "outputs": [],
   "source": [
    "# def calc_number_combinations2(list_sample_length,list_coverage,list_k,list_multiclass,list_classweight):\n",
    "#     n = len(list_sample_length) * len(list_coverage) * len(list_k) *len(list_multiclass) * len(list_classweight)\n",
    "#     return n"
   ]
  },
  {
   "cell_type": "code",
   "execution_count": 14,
   "id": "resident-shark",
   "metadata": {},
   "outputs": [],
   "source": [
    "def encode_fragments2(output_dir, pattern, k, seed):\n",
    "    \"\"\"\n",
    "    Does not convert sparse matrix to numpy matrix.\n",
    "    \"\"\"\n",
    "    \n",
    "    # encode data\n",
    "    fragments = sampling2.read_fragments(output_dir, pattern)\n",
    "    X_enc, y = encoding2.encode_fragment_dataset(fragments,k)\n",
    "    le = preprocessing.LabelEncoder()\n",
    "    y_enc = le.fit_transform(y)\n",
    "    \n",
    "    # calculate number of classes\n",
    "    n_classes = len(np.unique(y_enc))\n",
    "#     print('n_classes:',n_classes)\n",
    "    n_classes_train = 0\n",
    "    n_classes_test = 0\n",
    "    while n_classes_train < n_classes or n_classes_test < n_classes:\n",
    "\n",
    "        # split data into test and training\n",
    "        X_train, X_test, y_train, y_test = train_test_split(X_enc, y_enc, test_size=0.33)\n",
    "        n_classes_train = len(np.unique(y_train))\n",
    "        n_classes_test = len(np.unique(y_test))\n",
    "#         print('train:',y_train)\n",
    "#         print('test:', y_test)\n",
    "    \n",
    "    print(X_enc.shape)\n",
    "    \n",
    "    return X_train, X_test, y_train, y_test"
   ]
  },
  {
   "cell_type": "code",
   "execution_count": 15,
   "id": "flush-transportation",
   "metadata": {},
   "outputs": [],
   "source": [
    "# def run_lr_classification_recall(X_train, X_test, y_train, y_test, multiclass, classweight, seed ):\n",
    "#     \"\"\"\n",
    "#     Score is species level recall. Uses sklearn version of logistic regression.\n",
    "#     \"\"\"\n",
    "#     lr = LogisticRegression(random_state=seed, multi_class=multiclass, class_weight=classweight )\n",
    "#     lr.fit(X_train,y_train)\n",
    "#     y_pred = lr.predict(X_test)\n",
    "#     score = recall_score(y_test, y_pred, average='weighted')\n",
    "#     return score\n",
    "    "
   ]
  },
  {
   "cell_type": "code",
   "execution_count": 16,
   "id": "prescribed-captain",
   "metadata": {},
   "outputs": [],
   "source": [
    "# def grid_search_multiclass_lr(seq_file, \n",
    "#                               taxid_file, \n",
    "#                               output_dir, \n",
    "#                               pattern, \n",
    "#                               list_sample_length, \n",
    "#                               list_coverage, \n",
    "#                               list_k,\n",
    "#                               list_multiclass,\n",
    "#                               list_classweight,\n",
    "#                               seed,\n",
    "#                               grid_search_file,\n",
    "#                               fields,\n",
    "#                               experiment,\n",
    "#                               score_type):\n",
    "    \n",
    "#     # set up grid search results file\n",
    "#     append_results_to_file(grid_search_file, fields)\n",
    "    \n",
    "#     # calculate number of combinations\n",
    "#     n_combinations = calc_number_combinations2(list_sample_length,list_coverage,list_k, list_multiclass, list_classweight)\n",
    "    \n",
    "#     # process combinations\n",
    "#     count = 0\n",
    "#     for sample_length in list_sample_length:\n",
    "#         for coverage in list_coverage:\n",
    "            \n",
    "#             # fragment combination\n",
    "#             build_fragments(seq_file, taxid_file, output_dir, sample_length, coverage, seed)\n",
    "#             for k in list_k:\n",
    "                \n",
    "#                 # kmer combination\n",
    "#                 X_train, X_test, y_train, y_test = encode_fragments2(output_dir, pattern,k,seed)\n",
    "                \n",
    "                \n",
    "#                 for multiclass in list_multiclass:\n",
    "#                     for classweight in list_classweight:\n",
    "\n",
    "                        \n",
    "#                         # random forest combination\n",
    "#                         score = run_lr_classification_recall(X_train, X_test, y_train, y_test, multiclass, classweight, seed)\n",
    "#                         count += 1\n",
    "\n",
    "#                         # output results to file\n",
    "#                         row = [experiment, 'multiclass', 'Logistic Regression (sklearn)', X_train.shape, sample_length, coverage, k, multiclass, classweight, score, score_type]\n",
    "#                         append_results_to_file(grid_search_file, row)\n",
    "\n",
    "#                 print('Percent complete: {}'.format(count / n_combinations * 100)) # display progress\n"
   ]
  },
  {
   "cell_type": "markdown",
   "id": "super-permission",
   "metadata": {},
   "source": [
    "### Run 5.01"
   ]
  },
  {
   "cell_type": "code",
   "execution_count": 17,
   "id": "valued-neighborhood",
   "metadata": {
    "scrolled": false
   },
   "outputs": [],
   "source": [
    "# %%time\n",
    "\n",
    "# # parameters\n",
    "# seq_file = 'data/train_small-db_toy-2000.fasta'\n",
    "# taxid_file = 'data/train_small-db_toy-2000.taxid'\n",
    "# output_dir = 'data/sampling/sampling-toy-2000'\n",
    "# pattern = 'fragments*.npy'\n",
    "# seed = 42\n",
    "# date_time = datetime.datetime.now().strftime('%Y.%m.%d.%H.%M.%S')\n",
    "# grid_search_file  = 'data/runs-2000/lr-multi.{}.csv'.format(date_time)\n",
    "# fields = ['experiment','category','classifier','training shape','sample_length','coverage','k','multiclass', 'class_weight', 'score','score type']\n",
    "# experiment = '5.01'\n",
    "# score_type = 'species_recall'\n",
    "\n",
    "# # combinations to try\n",
    "# list_sample_length = [100,200,400]\n",
    "# list_coverage = [1,10,100,200,400]\n",
    "# list_k = [1]\n",
    "# list_multiclass = ['auto']\n",
    "# list_classweight= [None]\n",
    "\n",
    "\n",
    "# grid_search_multiclass_lr(seq_file, \n",
    "#                           taxid_file, \n",
    "#                           output_dir, \n",
    "#                           pattern, \n",
    "#                           list_sample_length, \n",
    "#                           list_coverage, \n",
    "#                           list_k, \n",
    "#                           list_multiclass,\n",
    "#                           list_classweight,\n",
    "#                           seed,\n",
    "#                           grid_search_file,\n",
    "#                           fields,\n",
    "#                           experiment,\n",
    "#                           score_type)\n"
   ]
  },
  {
   "cell_type": "markdown",
   "id": "innocent-coordination",
   "metadata": {},
   "source": [
    "### Run 5.02"
   ]
  },
  {
   "cell_type": "code",
   "execution_count": 18,
   "id": "accurate-provider",
   "metadata": {
    "scrolled": false
   },
   "outputs": [],
   "source": [
    "# %%time\n",
    "\n",
    "# # parameters\n",
    "# seq_file = 'data/train_small-db_toy-2000.fasta'\n",
    "# taxid_file = 'data/train_small-db_toy-2000.taxid'\n",
    "# output_dir = 'data/sampling/sampling-toy-2000'\n",
    "# pattern = 'fragments*.npy'\n",
    "# seed = 42\n",
    "# date_time = datetime.datetime.now().strftime('%Y.%m.%d.%H.%M.%S')\n",
    "# grid_search_file  = 'data/runs-2000/lr-multi.{}.csv'.format(date_time)\n",
    "# fields = ['experiment','category','classifier','training shape','sample_length','coverage','k','multiclass', 'class_weight', 'score','score type']\n",
    "# experiment = '5.02'\n",
    "# score_type = 'species_recall'\n",
    "\n",
    "# # combinations to try\n",
    "# list_sample_length = [100,200,400]\n",
    "# list_coverage = [1,10,100,200,400]\n",
    "# list_k = [2,4,6,8,10,12]\n",
    "# list_multiclass = ['auto']\n",
    "# list_classweight= [None]\n",
    "\n",
    "\n",
    "# grid_search_multiclass_lr(seq_file, \n",
    "#                           taxid_file, \n",
    "#                           output_dir, \n",
    "#                           pattern, \n",
    "#                           list_sample_length, \n",
    "#                           list_coverage, \n",
    "#                           list_k, \n",
    "#                           list_multiclass,\n",
    "#                           list_classweight,\n",
    "#                           seed,\n",
    "#                           grid_search_file,\n",
    "#                           fields,\n",
    "#                           experiment,\n",
    "#                           score_type)\n"
   ]
  },
  {
   "cell_type": "markdown",
   "id": "racial-pound",
   "metadata": {},
   "source": [
    "# Run Set 3 - MLR with L2 penalty\n",
    "- toy-2000 dataset\n",
    "- See how performance changes with L2 penalty\n",
    "- Changed breakpoint in gradient descent to 100 from 100,000 as well."
   ]
  },
  {
   "cell_type": "code",
   "execution_count": 19,
   "id": "absent-review",
   "metadata": {},
   "outputs": [],
   "source": [
    "def calc_number_combinations(*args):\n",
    "    total = 1\n",
    "    for each in args:\n",
    "        total *= len(each)\n",
    "    return total"
   ]
  },
  {
   "cell_type": "code",
   "execution_count": 20,
   "id": "physical-fraction",
   "metadata": {},
   "outputs": [],
   "source": [
    "def parameter_generator(list_sample_length,list_coverage,list_k):\n",
    "    \n",
    "    for L in list_sample_length:\n",
    "        for c in list_coverage:\n",
    "            for k in list_k:\n",
    "                yield L, c, k"
   ]
  },
  {
   "cell_type": "code",
   "execution_count": 21,
   "id": "international-establishment",
   "metadata": {},
   "outputs": [],
   "source": [
    "def hyperparameter_generator(list_eta,list_epsilon, list_penalty, list_l2_lambda,list_max_iter):\n",
    "    \n",
    "    for eta in list_eta:\n",
    "        for e in list_epsilon:\n",
    "            for penalty in list_penalty:\n",
    "                for l2 in list_l2_lambda:\n",
    "                    for m in list_max_iter:\n",
    "                        yield eta,e,penalty,l2,m"
   ]
  },
  {
   "cell_type": "code",
   "execution_count": 22,
   "id": "mounted-fisher",
   "metadata": {},
   "outputs": [],
   "source": [
    "def run_mlr_classification_recall(X_train, X_test, y_train, y_test, eta, epsilon, penalty, l2_lambda, max_iter):\n",
    "    \"\"\"\n",
    "    Score is species level recall.\n",
    "    \"\"\"\n",
    "    mlr = MulticlassLogisticRegression2(eta=eta, \n",
    "                                        epsilon=epsilon, \n",
    "                                        penalty=penalty, \n",
    "                                        l2_lambda=l2_lambda, \n",
    "                                        max_iter=max_iter)\n",
    "    mlr.fit(X_train,y_train)\n",
    "    y_pred = mlr.predict(X_test)\n",
    "    score = recall_score(y_test, y_pred, average='weighted')\n",
    "    return score\n",
    "    "
   ]
  },
  {
   "cell_type": "code",
   "execution_count": 23,
   "id": "touched-error",
   "metadata": {},
   "outputs": [],
   "source": [
    "def grid_search_multiclass_mlr(seq_file, \n",
    "                              taxid_file, \n",
    "                              output_dir, \n",
    "                              pattern, \n",
    "                              list_sample_length, \n",
    "                              list_coverage, \n",
    "                              list_k,\n",
    "                              list_eta,\n",
    "                              list_epsilon, \n",
    "                              list_penalty,\n",
    "                              list_l2_lambda,\n",
    "                              list_max_iter,\n",
    "                              seed,\n",
    "                              grid_search_file,\n",
    "                              fields,\n",
    "                              experiment,\n",
    "                              score_type):\n",
    "    \n",
    "    # set up grid search results file\n",
    "    append_results_to_file(grid_search_file, fields)\n",
    "    \n",
    "    # calculate number of combinations\n",
    "    n_combinations = calc_number_combinations(list_sample_length,\n",
    "                                              list_coverage,\n",
    "                                              list_k,\n",
    "                                              list_eta,\n",
    "                                              list_epsilon, \n",
    "                                              list_penalty,\n",
    "                                              list_l2_lambda, \n",
    "                                              list_max_iter)\n",
    "    \n",
    "    # process combinations\n",
    "    count = 0\n",
    "    sample_length_prev = -1\n",
    "    coverage_prev = -1\n",
    "    \n",
    "    # parameter combinations\n",
    "    for sample_length, coverage,k in parameter_generator(list_sample_length,list_coverage,list_k):\n",
    "        print(sample_length, coverage,k)\n",
    "        \n",
    "        if sample_length != sample_length_prev or coverage != coverage_prev:\n",
    "            \n",
    "            # fragment combination\n",
    "            build_fragments(seq_file, taxid_file, output_dir, sample_length, coverage, seed)\n",
    "            \n",
    "            # update previous values\n",
    "            sample_length_prev = sample_length\n",
    "            coverage_prev = coverage\n",
    "                \n",
    "        # kmer from fragments\n",
    "        X_train, X_test, y_train, y_test = encode_fragments(output_dir, pattern,k,seed)\n",
    "        \n",
    "        \n",
    "        # hyperparameter combinations\n",
    "        for eta, epsilon, penalty, l2_lambda, max_iter in hyperparameter_generator(list_eta,list_epsilon, list_penalty, list_l2_lambda,list_max_iter):\n",
    "            print(eta, epsilon, penalty, l2_lambda, max_iter)\n",
    "            \n",
    "            # train and score model\n",
    "            score = run_mlr_classification_recall(X_train, X_test, y_train, y_test, eta, epsilon, penalty, l2_lambda, max_iter)\n",
    "            count += 1\n",
    "\n",
    "            # output results to file\n",
    "            row = [experiment, 'multiclass', 'Logistic Regression', X_train.shape, sample_length, coverage, k, eta, epsilon, penalty, l2_lambda, max_iter, score, score_type]\n",
    "            append_results_to_file(grid_search_file, row)\n",
    "                        \n",
    "        print('Percent complete: {}'.format(count / n_combinations * 100)) # display progress\n",
    "    "
   ]
  },
  {
   "cell_type": "markdown",
   "id": "sunrise-highland",
   "metadata": {},
   "source": [
    "### Run 6.01"
   ]
  },
  {
   "cell_type": "code",
   "execution_count": 24,
   "id": "sonic-settle",
   "metadata": {
    "scrolled": true
   },
   "outputs": [],
   "source": [
    "# %%time\n",
    "\n",
    "# # parameters\n",
    "# seq_file = 'data/train_small-db_toy-2000.fasta'\n",
    "# taxid_file = 'data/train_small-db_toy-2000.taxid'\n",
    "# output_dir = 'data/sampling/sampling-toy-2000-mlr'\n",
    "# pattern = 'fragments*.npy'\n",
    "# seed = 42\n",
    "# date_time = datetime.datetime.now().strftime('%Y.%m.%d.%H.%M.%S')\n",
    "# grid_search_file  = 'data/runs-2000/mlr-multi.{}.csv'.format(date_time)\n",
    "# fields = ['experiment','category','classifier','training shape','sample_length','coverage','k','eta', 'epsilon', 'l2_penalty','score','score type']\n",
    "# experiment = '6.01'\n",
    "# score_type = 'species_recall'\n",
    "\n",
    "# # combinations to try\n",
    "# list_sample_length = [100]\n",
    "# list_coverage = [1,10,100,200,400]\n",
    "# list_k = [1,2,4,6,8,10,12]\n",
    "# list_eta = [0.01]\n",
    "# list_epsilon = [0.01]\n",
    "# list_l2_penalty = [1,10,100, 0.1]\n",
    "\n",
    "\n",
    "# grid_search_multiclass_mlr_l2(seq_file, \n",
    "#                           taxid_file, \n",
    "#                           output_dir, \n",
    "#                           pattern, \n",
    "#                           list_sample_length, \n",
    "#                           list_coverage, \n",
    "#                           list_k, \n",
    "#                           list_eta,\n",
    "#                           list_epsilon,\n",
    "#                           list_l2_penalty,\n",
    "#                           seed,\n",
    "#                           grid_search_file,\n",
    "#                           fields,\n",
    "#                           experiment,\n",
    "#                           score_type)\n"
   ]
  },
  {
   "cell_type": "markdown",
   "id": "nearby-moderator",
   "metadata": {},
   "source": [
    "### Run 6.02\n",
    "Testing out range for lambda. It appears that close to zero (0, 0.1) is best, with values decreasing more after 1.0."
   ]
  },
  {
   "cell_type": "code",
   "execution_count": 25,
   "id": "toxic-prince",
   "metadata": {},
   "outputs": [],
   "source": [
    "# %%time\n",
    "\n",
    "# # parameters\n",
    "# seq_file = 'data/train_small-db_toy-2000.fasta'\n",
    "# taxid_file = 'data/train_small-db_toy-2000.taxid'\n",
    "# output_dir = 'data/sampling/sampling-toy-2000'\n",
    "# pattern = 'fragments*.npy'\n",
    "# seed = 42\n",
    "# date_time = datetime.datetime.now().strftime('%Y.%m.%d.%H.%M.%S')\n",
    "# grid_search_file  = 'data/gridsearch-2000/mlr-multi.{}.csv'.format(date_time)\n",
    "# fields = ['experiment',\n",
    "#           'category',\n",
    "#           'classifier',\n",
    "#           'training shape',\n",
    "#           'sample_length',\n",
    "#           'coverage',\n",
    "#           'k',\n",
    "#           'eta', \n",
    "#           'epsilon', \n",
    "#           'penalty',\n",
    "#           'l2_lambda',\n",
    "#           'max_iter',\n",
    "#           'score',\n",
    "#           'score type']\n",
    "\n",
    "# experiment = '6.02'\n",
    "# score_type = 'species_recall'\n",
    "\n",
    "# # combinations to try\n",
    "# list_sample_length = [100]\n",
    "# list_coverage = [200]\n",
    "# list_k = [4]\n",
    "# list_eta = [0.01]\n",
    "# list_epsilon = [0.01]\n",
    "# list_penalty = ['l2']\n",
    "# list_l2_lambda = [0,0.1,0.5,1,3,6,10]\n",
    "# list_max_iter = [100]\n",
    "\n",
    "\n",
    "# grid_search_multiclass_mlr(seq_file, \n",
    "#                                 taxid_file, \n",
    "#                                 output_dir, \n",
    "#                                 pattern, \n",
    "#                                 list_sample_length, \n",
    "#                                 list_coverage, \n",
    "#                                 list_k, \n",
    "#                                 list_eta,\n",
    "#                                 list_epsilon,\n",
    "#                                 list_penalty,\n",
    "#                                 list_l2_lambda,\n",
    "#                                 list_max_iter,\n",
    "#                                 seed,\n",
    "#                                 grid_search_file,\n",
    "#                                 fields,\n",
    "#                                 experiment,\n",
    "#                                 score_type)\n"
   ]
  },
  {
   "cell_type": "markdown",
   "id": "pregnant-trauma",
   "metadata": {},
   "source": [
    "### Run 6.03\n",
    "Finishing out data for plotting"
   ]
  },
  {
   "cell_type": "code",
   "execution_count": 26,
   "id": "contrary-worker",
   "metadata": {},
   "outputs": [],
   "source": [
    "# %%time\n",
    "# 5.5 h\n",
    "\n",
    "# # parameters\n",
    "# seq_file = 'data/train_small-db_toy-2000.fasta'\n",
    "# taxid_file = 'data/train_small-db_toy-2000.taxid'\n",
    "# output_dir = 'data/sampling/sampling-toy-2000'\n",
    "# pattern = 'fragments*.npy'\n",
    "# seed = 42\n",
    "# date_time = datetime.datetime.now().strftime('%Y.%m.%d.%H.%M.%S')\n",
    "# grid_search_file  = 'data/gridsearch-2000/mlr-multi.{}.csv'.format(date_time)\n",
    "# fields = ['experiment',\n",
    "#           'category',\n",
    "#           'classifier',\n",
    "#           'training shape',\n",
    "#           'sample_length',\n",
    "#           'coverage',\n",
    "#           'k',\n",
    "#           'eta', \n",
    "#           'epsilon', \n",
    "#           'penalty',\n",
    "#           'l2_lambda',\n",
    "#           'max_iter',\n",
    "#           'score',\n",
    "#           'score type']\n",
    "\n",
    "# experiment = '6.03'\n",
    "# score_type = 'species_recall'\n",
    "\n",
    "# # combinations to try\n",
    "# list_sample_length = [100]\n",
    "# list_coverage = [400]\n",
    "# list_k = [1,2,4,6,8,10,12]\n",
    "# list_eta = [0.01]\n",
    "# list_epsilon = [0.01]\n",
    "# list_penalty = [None]\n",
    "# list_l2_lambda = [0]\n",
    "# list_max_iter = [100]\n",
    "\n",
    "\n",
    "# grid_search_multiclass_mlr(seq_file, \n",
    "#                                 taxid_file, \n",
    "#                                 output_dir, \n",
    "#                                 pattern, \n",
    "#                                 list_sample_length, \n",
    "#                                 list_coverage, \n",
    "#                                 list_k, \n",
    "#                                 list_eta,\n",
    "#                                 list_epsilon,\n",
    "#                                 list_penalty,\n",
    "#                                 list_l2_lambda,\n",
    "#                                 list_max_iter,\n",
    "#                                 seed,\n",
    "#                                 grid_search_file,\n",
    "#                                 fields,\n",
    "#                                 experiment,\n",
    "#                                 score_type)\n"
   ]
  },
  {
   "cell_type": "markdown",
   "id": "comfortable-pierce",
   "metadata": {},
   "source": [
    "### Run 6.04\n",
    "Finishing out data for plotting\n",
    "Try a larger learning rate to see if that speeds up processing."
   ]
  },
  {
   "cell_type": "code",
   "execution_count": 27,
   "id": "subtle-progressive",
   "metadata": {
    "scrolled": false
   },
   "outputs": [],
   "source": [
    "# %%time\n",
    "# # 4 h 32 min\n",
    "\n",
    "# # parameters\n",
    "# seq_file = 'data/train_small-db_toy-2000.fasta'\n",
    "# taxid_file = 'data/train_small-db_toy-2000.taxid'\n",
    "# output_dir = 'data/sampling/sampling-toy-2000'\n",
    "# pattern = 'fragments*.npy'\n",
    "# seed = 42\n",
    "# date_time = datetime.datetime.now().strftime('%Y.%m.%d.%H.%M.%S')\n",
    "# grid_search_file  = 'data/gridsearch-2000/mlr-multi.{}.csv'.format(date_time)\n",
    "# fields = ['experiment',\n",
    "#           'category',\n",
    "#           'classifier',\n",
    "#           'training shape',\n",
    "#           'sample_length',\n",
    "#           'coverage',\n",
    "#           'k',\n",
    "#           'eta', \n",
    "#           'epsilon', \n",
    "#           'penalty',\n",
    "#           'l2_lambda',\n",
    "#           'max_iter',\n",
    "#           'score',\n",
    "#           'score type']\n",
    "\n",
    "# experiment = '6.04'\n",
    "# score_type = 'species_recall'\n",
    "\n",
    "# # combinations to try\n",
    "# list_sample_length = [200,400]\n",
    "# list_coverage = [100,200,400]\n",
    "# list_k = [1,2,4,6,8,10,12]\n",
    "# list_eta = [0.02]\n",
    "# list_epsilon = [0.01]\n",
    "# list_penalty = [None]\n",
    "# list_l2_lambda = [0]\n",
    "# list_max_iter = [100]\n",
    "\n",
    "\n",
    "# grid_search_multiclass_mlr(seq_file, \n",
    "#                                 taxid_file, \n",
    "#                                 output_dir, \n",
    "#                                 pattern, \n",
    "#                                 list_sample_length, \n",
    "#                                 list_coverage, \n",
    "#                                 list_k, \n",
    "#                                 list_eta,\n",
    "#                                 list_epsilon,\n",
    "#                                 list_penalty,\n",
    "#                                 list_l2_lambda,\n",
    "#                                 list_max_iter,\n",
    "#                                 seed,\n",
    "#                                 grid_search_file,\n",
    "#                                 fields,\n",
    "#                                 experiment,\n",
    "#                                 score_type)\n"
   ]
  },
  {
   "cell_type": "markdown",
   "id": "brave-boulder",
   "metadata": {},
   "source": [
    "# Run Set 4 - sklearn with l1 penalty\n",
    "To compare against L2 results"
   ]
  },
  {
   "cell_type": "code",
   "execution_count": 28,
   "id": "controversial-findings",
   "metadata": {},
   "outputs": [],
   "source": [
    "def hyperparameter_generator_lr(list_penalty,list_multiclass,list_classweight):\n",
    "    \n",
    "    for penalty in list_penalty:\n",
    "        for multiclass in list_multiclass:\n",
    "            for classweight in list_classweight:\n",
    "                yield penalty,multiclass,classweight"
   ]
  },
  {
   "cell_type": "code",
   "execution_count": 29,
   "id": "verbal-laser",
   "metadata": {},
   "outputs": [],
   "source": [
    "def run_lr_classification_recall(X_train, X_test, y_train, y_test, penalty,multiclass,classweight, seed):\n",
    "    \"\"\"\n",
    "    Score is species level recall.\n",
    "    Sets solver to 'saga' for l1 penalty. Uses default solver for l2 penalty. solver='saga'\n",
    "    \"\"\"\n",
    "    lr = LogisticRegression(penalty=penalty, multi_class=multiclass, class_weight=classweight,random_state=seed )\n",
    "    lr.fit(X_train,y_train)\n",
    "    y_pred = lr.predict(X_test)\n",
    "    score = recall_score(y_test, y_pred, average='weighted')\n",
    "    return score\n",
    "    "
   ]
  },
  {
   "cell_type": "code",
   "execution_count": 36,
   "id": "sudden-favorite",
   "metadata": {},
   "outputs": [],
   "source": [
    "def grid_search_multiclass_lr(seq_file, \n",
    "                          taxid_file, \n",
    "                          output_dir, \n",
    "                          pattern, \n",
    "                          list_sample_length, \n",
    "                          list_coverage, \n",
    "                          list_k, \n",
    "                          list_penalty,\n",
    "                          list_multiclass,\n",
    "                          list_classweight,\n",
    "                          seed,\n",
    "                          grid_search_file,\n",
    "                          fields,\n",
    "                          experiment,\n",
    "                          score_type):\n",
    "    \n",
    "    # set up grid search results file\n",
    "    append_results_to_file(grid_search_file, fields)\n",
    "    \n",
    "    # calculate number of combinations\n",
    "    n_combinations = calc_number_combinations(list_sample_length,\n",
    "                                              list_coverage,\n",
    "                                              list_k,\n",
    "                                              list_penalty,\n",
    "                                              list_multiclass,\n",
    "                                              list_classweight)\n",
    "    \n",
    "    # process combinations\n",
    "    count = 0\n",
    "    sample_length_prev = -1\n",
    "    coverage_prev = -1\n",
    "    \n",
    "    # parameter combinations\n",
    "    for sample_length, coverage,k in parameter_generator(list_sample_length,list_coverage,list_k):\n",
    "        print(sample_length, coverage,k)\n",
    "        \n",
    "        if sample_length != sample_length_prev or coverage != coverage_prev:\n",
    "            \n",
    "            # fragment combination\n",
    "            build_fragments(seq_file, taxid_file, output_dir, sample_length, coverage, seed)\n",
    "            \n",
    "            # update previous values\n",
    "            sample_length_prev = sample_length\n",
    "            coverage_prev = coverage\n",
    "                \n",
    "        # kmer from fragments\n",
    "        X_train, X_test, y_train, y_test = encode_fragments2(output_dir, pattern,k,seed)\n",
    "        \n",
    "        \n",
    "        # hyperparameter combinations\n",
    "        for penalty,multiclass,classweight in hyperparameter_generator_lr(list_penalty,list_multiclass,list_classweight):\n",
    "            print(penalty,multiclass,classweight)\n",
    "            \n",
    "            # train and score model\n",
    "            score = run_lr_classification_recall(X_train, X_test, y_train, y_test, penalty,multiclass,classweight, seed)\n",
    "            count += 1\n",
    "\n",
    "            # output results to file\n",
    "            row = [experiment, 'multiclass', 'Logistic Regression (sklearn)', X_train.shape, sample_length, coverage, k, penalty, multiclass, classweight, score, score_type]\n",
    "            append_results_to_file(grid_search_file, row)\n",
    "                        \n",
    "        print('Percent complete: {}'.format(count / n_combinations * 100)) # display progress\n",
    "    "
   ]
  },
  {
   "cell_type": "markdown",
   "id": "directed-change",
   "metadata": {},
   "source": [
    "### Run 7.01 - l1 penalty with saga solver\n",
    "Can't use default solver with l1 penalty."
   ]
  },
  {
   "cell_type": "code",
   "execution_count": 31,
   "id": "separate-birthday",
   "metadata": {},
   "outputs": [],
   "source": [
    "# %%time\n",
    "# # 40 min\n",
    "\n",
    "# # parameters\n",
    "# seq_file = 'data/train_small-db_toy-2000.fasta'\n",
    "# taxid_file = 'data/train_small-db_toy-2000.taxid'\n",
    "# output_dir = 'data/sampling/sampling-toy-2000'\n",
    "# pattern = 'fragments*.npy'\n",
    "# seed = 42\n",
    "# date_time = datetime.datetime.now().strftime('%Y.%m.%d.%H.%M.%S')\n",
    "# grid_search_file  = 'data/gridsearch-2000/lr-multi.{}.csv'.format(date_time)\n",
    "# fields = ['experiment','category','classifier','training shape','sample_length','coverage','k','penalty','multi_class', 'class_weight', 'score','score type']\n",
    "# experiment = '7.01'\n",
    "# score_type = 'species_recall'\n",
    "\n",
    "# # combinations to try\n",
    "# list_sample_length = [100,200,400]\n",
    "# list_coverage = [1,10,100,200,400]\n",
    "# list_k = [1,2,4,6,8,10,12]\n",
    "# list_penalty=['l1']\n",
    "# list_multiclass = ['auto']\n",
    "# list_classweight= [None]\n",
    "\n",
    "\n",
    "# grid_search_multiclass_lr(seq_file, \n",
    "#                           taxid_file, \n",
    "#                           output_dir, \n",
    "#                           pattern, \n",
    "#                           list_sample_length, \n",
    "#                           list_coverage, \n",
    "#                           list_k, \n",
    "#                           list_penalty,\n",
    "#                           list_multiclass,\n",
    "#                           list_classweight,\n",
    "#                           seed,\n",
    "#                           grid_search_file,\n",
    "#                           fields,\n",
    "#                           experiment,\n",
    "#                           score_type)\n"
   ]
  },
  {
   "cell_type": "markdown",
   "id": "oriented-techno",
   "metadata": {},
   "source": [
    "### Run 7.02 - Balanced class weights\n",
    "Set solver back to default."
   ]
  },
  {
   "cell_type": "code",
   "execution_count": 32,
   "id": "engaging-juice",
   "metadata": {},
   "outputs": [],
   "source": [
    "# %%time\n",
    "# 3 min\n",
    "\n",
    "# # parameters\n",
    "# seq_file = 'data/train_small-db_toy-2000.fasta'\n",
    "# taxid_file = 'data/train_small-db_toy-2000.taxid'\n",
    "# output_dir = 'data/sampling/sampling-toy-2000'\n",
    "# pattern = 'fragments*.npy'\n",
    "# seed = 42\n",
    "# date_time = datetime.datetime.now().strftime('%Y.%m.%d.%H.%M.%S')\n",
    "# grid_search_file  = 'data/gridsearch-2000/lr-multi.{}.csv'.format(date_time)\n",
    "# fields = ['experiment','category','classifier','training shape','sample_length','coverage','k','penalty','multi_class', 'class_weight', 'score','score type']\n",
    "# experiment = '7.02'\n",
    "# score_type = 'species_recall'\n",
    "\n",
    "# # combinations to try\n",
    "# list_sample_length = [100,200,400]\n",
    "# list_coverage = [1,10,100,200,400]\n",
    "# list_k = [1,2,4,6,8,10,12]\n",
    "# list_penalty=['l2']\n",
    "# list_multiclass = ['auto']\n",
    "# list_classweight= ['balanced']\n",
    "\n",
    "\n",
    "# grid_search_multiclass_lr(seq_file, \n",
    "#                           taxid_file, \n",
    "#                           output_dir, \n",
    "#                           pattern, \n",
    "#                           list_sample_length, \n",
    "#                           list_coverage, \n",
    "#                           list_k, \n",
    "#                           list_penalty,\n",
    "#                           list_multiclass,\n",
    "#                           list_classweight,\n",
    "#                           seed,\n",
    "#                           grid_search_file,\n",
    "#                           fields,\n",
    "#                           experiment,\n",
    "#                           score_type)\n"
   ]
  },
  {
   "cell_type": "markdown",
   "id": "rocky-firewall",
   "metadata": {},
   "source": [
    "### Run 7.03 - No penalty, no class weights\n",
    "Changed solver back to default."
   ]
  },
  {
   "cell_type": "code",
   "execution_count": 33,
   "id": "opened-extent",
   "metadata": {},
   "outputs": [],
   "source": [
    "# %%time\n",
    "# # 5 min\n",
    "\n",
    "# # parameters\n",
    "# seq_file = 'data/train_small-db_toy-2000.fasta'\n",
    "# taxid_file = 'data/train_small-db_toy-2000.taxid'\n",
    "# output_dir = 'data/sampling/sampling-toy-2000'\n",
    "# pattern = 'fragments*.npy'\n",
    "# seed = 42\n",
    "# date_time = datetime.datetime.now().strftime('%Y.%m.%d.%H.%M.%S')\n",
    "# grid_search_file  = 'data/gridsearch-2000/lr-multi.{}.csv'.format(date_time)\n",
    "# fields = ['experiment','category','classifier','training shape','sample_length','coverage','k','penalty','multi_class', 'class_weight', 'score','score type']\n",
    "# experiment = '7.03'\n",
    "# score_type = 'species_recall'\n",
    "\n",
    "# # combinations to try\n",
    "# list_sample_length = [100,200,400]\n",
    "# list_coverage = [1,10,100,200,400]\n",
    "# list_k = [1,2,4,6,8,10,12]\n",
    "# list_penalty=['none']\n",
    "# list_multiclass = ['auto']\n",
    "# list_classweight= [None]\n",
    "\n",
    "\n",
    "# grid_search_multiclass_lr(seq_file, \n",
    "#                           taxid_file, \n",
    "#                           output_dir, \n",
    "#                           pattern, \n",
    "#                           list_sample_length, \n",
    "#                           list_coverage, \n",
    "#                           list_k, \n",
    "#                           list_penalty,\n",
    "#                           list_multiclass,\n",
    "#                           list_classweight,\n",
    "#                           seed,\n",
    "#                           grid_search_file,\n",
    "#                           fields,\n",
    "#                           experiment,\n",
    "#                           score_type)\n"
   ]
  },
  {
   "cell_type": "markdown",
   "id": "random-story",
   "metadata": {},
   "source": [
    "### Run 7.04 - L2 penalty, ovr"
   ]
  },
  {
   "cell_type": "code",
   "execution_count": 34,
   "id": "material-peace",
   "metadata": {},
   "outputs": [],
   "source": [
    "# %%time\n",
    "# 3min\n",
    "\n",
    "# # parameters\n",
    "# seq_file = 'data/train_small-db_toy-2000.fasta'\n",
    "# taxid_file = 'data/train_small-db_toy-2000.taxid'\n",
    "# output_dir = 'data/sampling/sampling-toy-2000'\n",
    "# pattern = 'fragments*.npy'\n",
    "# seed = 42\n",
    "# date_time = datetime.datetime.now().strftime('%Y.%m.%d.%H.%M.%S')\n",
    "# grid_search_file  = 'data/gridsearch-2000/lr-multi.{}.csv'.format(date_time)\n",
    "# fields = ['experiment','category','classifier','training shape','sample_length','coverage','k','penalty','multi_class', 'class_weight', 'score','score type']\n",
    "# experiment = '7.04'\n",
    "# score_type = 'species_recall'\n",
    "\n",
    "# # combinations to try\n",
    "# list_sample_length = [100,200,400]\n",
    "# list_coverage = [1,10,100,200,400]\n",
    "# list_k = [1,2,4,6,8,10,12]\n",
    "# list_penalty=['l2']\n",
    "# list_multiclass = ['ovr']\n",
    "# list_classweight= [None]\n",
    "\n",
    "\n",
    "# grid_search_multiclass_lr(seq_file, \n",
    "#                           taxid_file, \n",
    "#                           output_dir, \n",
    "#                           pattern, \n",
    "#                           list_sample_length, \n",
    "#                           list_coverage, \n",
    "#                           list_k, \n",
    "#                           list_penalty,\n",
    "#                           list_multiclass,\n",
    "#                           list_classweight,\n",
    "#                           seed,\n",
    "#                           grid_search_file,\n",
    "#                           fields,\n",
    "#                           experiment,\n",
    "#                           score_type)\n"
   ]
  },
  {
   "cell_type": "markdown",
   "id": "every-manufacturer",
   "metadata": {},
   "source": [
    "# Run Set 9 - sklearn with l2 penalty and class weights on 7400 dataset"
   ]
  },
  {
   "cell_type": "markdown",
   "id": "proper-little",
   "metadata": {},
   "source": [
    "### Run 9.01"
   ]
  },
  {
   "cell_type": "code",
   "execution_count": 37,
   "id": "funded-handy",
   "metadata": {},
   "outputs": [
    {
     "name": "stdout",
     "output_type": "stream",
     "text": [
      "100 1 1\n",
      "(4169, 400)\n",
      "l2 auto balanced\n"
     ]
    },
    {
     "name": "stderr",
     "output_type": "stream",
     "text": [
      "/Users/ryanqnelson/opt/anaconda3/envs/cmu/lib/python3.6/site-packages/sklearn/linear_model/_logistic.py:765: ConvergenceWarning: lbfgs failed to converge (status=1):\n",
      "STOP: TOTAL NO. of ITERATIONS REACHED LIMIT.\n",
      "\n",
      "Increase the number of iterations (max_iter) or scale the data as shown in:\n",
      "    https://scikit-learn.org/stable/modules/preprocessing.html\n",
      "Please also refer to the documentation for alternative solver options:\n",
      "    https://scikit-learn.org/stable/modules/linear_model.html#logistic-regression\n",
      "  extra_warning_msg=_LOGISTIC_SOLVER_CONVERGENCE_MSG)\n"
     ]
    },
    {
     "name": "stdout",
     "output_type": "stream",
     "text": [
      "Percent complete: 1.6666666666666667\n",
      "100 1 2\n",
      "(4169, 800)\n",
      "l2 auto balanced\n"
     ]
    },
    {
     "name": "stderr",
     "output_type": "stream",
     "text": [
      "/Users/ryanqnelson/opt/anaconda3/envs/cmu/lib/python3.6/site-packages/sklearn/linear_model/_logistic.py:765: ConvergenceWarning: lbfgs failed to converge (status=1):\n",
      "STOP: TOTAL NO. of ITERATIONS REACHED LIMIT.\n",
      "\n",
      "Increase the number of iterations (max_iter) or scale the data as shown in:\n",
      "    https://scikit-learn.org/stable/modules/preprocessing.html\n",
      "Please also refer to the documentation for alternative solver options:\n",
      "    https://scikit-learn.org/stable/modules/linear_model.html#logistic-regression\n",
      "  extra_warning_msg=_LOGISTIC_SOLVER_CONVERGENCE_MSG)\n"
     ]
    },
    {
     "name": "stdout",
     "output_type": "stream",
     "text": [
      "Percent complete: 3.3333333333333335\n",
      "100 1 4\n",
      "(4169, 6400)\n",
      "l2 auto balanced\n",
      "Percent complete: 5.0\n",
      "100 1 6\n",
      "(4169, 37221)\n",
      "l2 auto balanced\n",
      "Percent complete: 6.666666666666667\n",
      "100 10 1\n",
      "(41252, 400)\n",
      "l2 auto balanced\n"
     ]
    },
    {
     "name": "stderr",
     "output_type": "stream",
     "text": [
      "/Users/ryanqnelson/opt/anaconda3/envs/cmu/lib/python3.6/site-packages/sklearn/linear_model/_logistic.py:765: ConvergenceWarning: lbfgs failed to converge (status=1):\n",
      "STOP: TOTAL NO. of ITERATIONS REACHED LIMIT.\n",
      "\n",
      "Increase the number of iterations (max_iter) or scale the data as shown in:\n",
      "    https://scikit-learn.org/stable/modules/preprocessing.html\n",
      "Please also refer to the documentation for alternative solver options:\n",
      "    https://scikit-learn.org/stable/modules/linear_model.html#logistic-regression\n",
      "  extra_warning_msg=_LOGISTIC_SOLVER_CONVERGENCE_MSG)\n"
     ]
    },
    {
     "name": "stdout",
     "output_type": "stream",
     "text": [
      "Percent complete: 8.333333333333332\n",
      "100 10 2\n",
      "(41252, 800)\n",
      "l2 auto balanced\n"
     ]
    },
    {
     "name": "stderr",
     "output_type": "stream",
     "text": [
      "/Users/ryanqnelson/opt/anaconda3/envs/cmu/lib/python3.6/site-packages/sklearn/linear_model/_logistic.py:765: ConvergenceWarning: lbfgs failed to converge (status=1):\n",
      "STOP: TOTAL NO. of ITERATIONS REACHED LIMIT.\n",
      "\n",
      "Increase the number of iterations (max_iter) or scale the data as shown in:\n",
      "    https://scikit-learn.org/stable/modules/preprocessing.html\n",
      "Please also refer to the documentation for alternative solver options:\n",
      "    https://scikit-learn.org/stable/modules/linear_model.html#logistic-regression\n",
      "  extra_warning_msg=_LOGISTIC_SOLVER_CONVERGENCE_MSG)\n"
     ]
    },
    {
     "name": "stdout",
     "output_type": "stream",
     "text": [
      "Percent complete: 10.0\n",
      "100 10 4\n",
      "(41252, 6400)\n",
      "l2 auto balanced\n"
     ]
    },
    {
     "name": "stderr",
     "output_type": "stream",
     "text": [
      "/Users/ryanqnelson/opt/anaconda3/envs/cmu/lib/python3.6/site-packages/sklearn/linear_model/_logistic.py:765: ConvergenceWarning: lbfgs failed to converge (status=1):\n",
      "STOP: TOTAL NO. of ITERATIONS REACHED LIMIT.\n",
      "\n",
      "Increase the number of iterations (max_iter) or scale the data as shown in:\n",
      "    https://scikit-learn.org/stable/modules/preprocessing.html\n",
      "Please also refer to the documentation for alternative solver options:\n",
      "    https://scikit-learn.org/stable/modules/linear_model.html#logistic-regression\n",
      "  extra_warning_msg=_LOGISTIC_SOLVER_CONVERGENCE_MSG)\n"
     ]
    },
    {
     "name": "stdout",
     "output_type": "stream",
     "text": [
      "Percent complete: 11.666666666666666\n",
      "100 10 6\n",
      "(41252, 65241)\n",
      "l2 auto balanced\n"
     ]
    },
    {
     "name": "stderr",
     "output_type": "stream",
     "text": [
      "/Users/ryanqnelson/opt/anaconda3/envs/cmu/lib/python3.6/site-packages/sklearn/linear_model/_logistic.py:765: ConvergenceWarning: lbfgs failed to converge (status=1):\n",
      "STOP: TOTAL NO. of ITERATIONS REACHED LIMIT.\n",
      "\n",
      "Increase the number of iterations (max_iter) or scale the data as shown in:\n",
      "    https://scikit-learn.org/stable/modules/preprocessing.html\n",
      "Please also refer to the documentation for alternative solver options:\n",
      "    https://scikit-learn.org/stable/modules/linear_model.html#logistic-regression\n",
      "  extra_warning_msg=_LOGISTIC_SOLVER_CONVERGENCE_MSG)\n"
     ]
    },
    {
     "name": "stdout",
     "output_type": "stream",
     "text": [
      "Percent complete: 13.333333333333334\n",
      "100 100 1\n",
      "(412102, 400)\n",
      "l2 auto balanced\n",
      "Percent complete: 15.0\n",
      "100 100 2\n",
      "(412102, 800)\n",
      "l2 auto balanced\n"
     ]
    },
    {
     "name": "stderr",
     "output_type": "stream",
     "text": [
      "/Users/ryanqnelson/opt/anaconda3/envs/cmu/lib/python3.6/site-packages/sklearn/linear_model/_logistic.py:765: ConvergenceWarning: lbfgs failed to converge (status=1):\n",
      "STOP: TOTAL NO. of ITERATIONS REACHED LIMIT.\n",
      "\n",
      "Increase the number of iterations (max_iter) or scale the data as shown in:\n",
      "    https://scikit-learn.org/stable/modules/preprocessing.html\n",
      "Please also refer to the documentation for alternative solver options:\n",
      "    https://scikit-learn.org/stable/modules/linear_model.html#logistic-regression\n",
      "  extra_warning_msg=_LOGISTIC_SOLVER_CONVERGENCE_MSG)\n"
     ]
    },
    {
     "name": "stdout",
     "output_type": "stream",
     "text": [
      "Percent complete: 16.666666666666664\n",
      "100 100 4\n",
      "(412102, 6400)\n",
      "l2 auto balanced\n"
     ]
    },
    {
     "name": "stderr",
     "output_type": "stream",
     "text": [
      "/Users/ryanqnelson/opt/anaconda3/envs/cmu/lib/python3.6/site-packages/sklearn/linear_model/_logistic.py:765: ConvergenceWarning: lbfgs failed to converge (status=1):\n",
      "STOP: TOTAL NO. of ITERATIONS REACHED LIMIT.\n",
      "\n",
      "Increase the number of iterations (max_iter) or scale the data as shown in:\n",
      "    https://scikit-learn.org/stable/modules/preprocessing.html\n",
      "Please also refer to the documentation for alternative solver options:\n",
      "    https://scikit-learn.org/stable/modules/linear_model.html#logistic-regression\n",
      "  extra_warning_msg=_LOGISTIC_SOLVER_CONVERGENCE_MSG)\n"
     ]
    },
    {
     "name": "stdout",
     "output_type": "stream",
     "text": [
      "Percent complete: 18.333333333333332\n",
      "100 100 6\n",
      "(412102, 65536)\n",
      "l2 auto balanced\n"
     ]
    },
    {
     "name": "stderr",
     "output_type": "stream",
     "text": [
      "/Users/ryanqnelson/opt/anaconda3/envs/cmu/lib/python3.6/site-packages/sklearn/linear_model/_logistic.py:765: ConvergenceWarning: lbfgs failed to converge (status=1):\n",
      "STOP: TOTAL NO. of ITERATIONS REACHED LIMIT.\n",
      "\n",
      "Increase the number of iterations (max_iter) or scale the data as shown in:\n",
      "    https://scikit-learn.org/stable/modules/preprocessing.html\n",
      "Please also refer to the documentation for alternative solver options:\n",
      "    https://scikit-learn.org/stable/modules/linear_model.html#logistic-regression\n",
      "  extra_warning_msg=_LOGISTIC_SOLVER_CONVERGENCE_MSG)\n"
     ]
    },
    {
     "name": "stdout",
     "output_type": "stream",
     "text": [
      "Percent complete: 20.0\n",
      "100 200 1\n",
      "(824204, 400)\n",
      "l2 auto balanced\n",
      "Percent complete: 21.666666666666668\n",
      "100 200 2\n",
      "(824204, 800)\n",
      "l2 auto balanced\n"
     ]
    },
    {
     "name": "stderr",
     "output_type": "stream",
     "text": [
      "/Users/ryanqnelson/opt/anaconda3/envs/cmu/lib/python3.6/site-packages/sklearn/linear_model/_logistic.py:765: ConvergenceWarning: lbfgs failed to converge (status=1):\n",
      "STOP: TOTAL NO. of ITERATIONS REACHED LIMIT.\n",
      "\n",
      "Increase the number of iterations (max_iter) or scale the data as shown in:\n",
      "    https://scikit-learn.org/stable/modules/preprocessing.html\n",
      "Please also refer to the documentation for alternative solver options:\n",
      "    https://scikit-learn.org/stable/modules/linear_model.html#logistic-regression\n",
      "  extra_warning_msg=_LOGISTIC_SOLVER_CONVERGENCE_MSG)\n"
     ]
    },
    {
     "name": "stdout",
     "output_type": "stream",
     "text": [
      "Percent complete: 23.333333333333332\n",
      "100 200 4\n",
      "(824204, 6400)\n",
      "l2 auto balanced\n"
     ]
    },
    {
     "name": "stderr",
     "output_type": "stream",
     "text": [
      "/Users/ryanqnelson/opt/anaconda3/envs/cmu/lib/python3.6/site-packages/sklearn/linear_model/_logistic.py:765: ConvergenceWarning: lbfgs failed to converge (status=1):\n",
      "STOP: TOTAL NO. of ITERATIONS REACHED LIMIT.\n",
      "\n",
      "Increase the number of iterations (max_iter) or scale the data as shown in:\n",
      "    https://scikit-learn.org/stable/modules/preprocessing.html\n",
      "Please also refer to the documentation for alternative solver options:\n",
      "    https://scikit-learn.org/stable/modules/linear_model.html#logistic-regression\n",
      "  extra_warning_msg=_LOGISTIC_SOLVER_CONVERGENCE_MSG)\n"
     ]
    },
    {
     "name": "stdout",
     "output_type": "stream",
     "text": [
      "Percent complete: 25.0\n",
      "100 200 6\n",
      "(824204, 65536)\n",
      "l2 auto balanced\n"
     ]
    },
    {
     "name": "stderr",
     "output_type": "stream",
     "text": [
      "/Users/ryanqnelson/opt/anaconda3/envs/cmu/lib/python3.6/site-packages/sklearn/linear_model/_logistic.py:765: ConvergenceWarning: lbfgs failed to converge (status=1):\n",
      "STOP: TOTAL NO. of ITERATIONS REACHED LIMIT.\n",
      "\n",
      "Increase the number of iterations (max_iter) or scale the data as shown in:\n",
      "    https://scikit-learn.org/stable/modules/preprocessing.html\n",
      "Please also refer to the documentation for alternative solver options:\n",
      "    https://scikit-learn.org/stable/modules/linear_model.html#logistic-regression\n",
      "  extra_warning_msg=_LOGISTIC_SOLVER_CONVERGENCE_MSG)\n"
     ]
    },
    {
     "name": "stdout",
     "output_type": "stream",
     "text": [
      "Percent complete: 26.666666666666668\n",
      "100 400 1\n",
      "(1648408, 400)\n",
      "l2 auto balanced\n",
      "Percent complete: 28.333333333333332\n",
      "100 400 2\n",
      "(1648408, 800)\n",
      "l2 auto balanced\n"
     ]
    },
    {
     "name": "stderr",
     "output_type": "stream",
     "text": [
      "/Users/ryanqnelson/opt/anaconda3/envs/cmu/lib/python3.6/site-packages/sklearn/linear_model/_logistic.py:765: ConvergenceWarning: lbfgs failed to converge (status=1):\n",
      "STOP: TOTAL NO. of ITERATIONS REACHED LIMIT.\n",
      "\n",
      "Increase the number of iterations (max_iter) or scale the data as shown in:\n",
      "    https://scikit-learn.org/stable/modules/preprocessing.html\n",
      "Please also refer to the documentation for alternative solver options:\n",
      "    https://scikit-learn.org/stable/modules/linear_model.html#logistic-regression\n",
      "  extra_warning_msg=_LOGISTIC_SOLVER_CONVERGENCE_MSG)\n"
     ]
    },
    {
     "name": "stdout",
     "output_type": "stream",
     "text": [
      "Percent complete: 30.0\n",
      "100 400 4\n",
      "(1648408, 6400)\n",
      "l2 auto balanced\n"
     ]
    },
    {
     "name": "stderr",
     "output_type": "stream",
     "text": [
      "/Users/ryanqnelson/opt/anaconda3/envs/cmu/lib/python3.6/site-packages/sklearn/linear_model/_logistic.py:765: ConvergenceWarning: lbfgs failed to converge (status=1):\n",
      "STOP: TOTAL NO. of ITERATIONS REACHED LIMIT.\n",
      "\n",
      "Increase the number of iterations (max_iter) or scale the data as shown in:\n",
      "    https://scikit-learn.org/stable/modules/preprocessing.html\n",
      "Please also refer to the documentation for alternative solver options:\n",
      "    https://scikit-learn.org/stable/modules/linear_model.html#logistic-regression\n",
      "  extra_warning_msg=_LOGISTIC_SOLVER_CONVERGENCE_MSG)\n"
     ]
    },
    {
     "name": "stdout",
     "output_type": "stream",
     "text": [
      "Percent complete: 31.666666666666664\n",
      "100 400 6\n",
      "(1648408, 65536)\n",
      "l2 auto balanced\n"
     ]
    },
    {
     "name": "stderr",
     "output_type": "stream",
     "text": [
      "/Users/ryanqnelson/opt/anaconda3/envs/cmu/lib/python3.6/site-packages/sklearn/linear_model/_logistic.py:765: ConvergenceWarning: lbfgs failed to converge (status=1):\n",
      "STOP: TOTAL NO. of ITERATIONS REACHED LIMIT.\n",
      "\n",
      "Increase the number of iterations (max_iter) or scale the data as shown in:\n",
      "    https://scikit-learn.org/stable/modules/preprocessing.html\n",
      "Please also refer to the documentation for alternative solver options:\n",
      "    https://scikit-learn.org/stable/modules/linear_model.html#logistic-regression\n",
      "  extra_warning_msg=_LOGISTIC_SOLVER_CONVERGENCE_MSG)\n"
     ]
    },
    {
     "name": "stdout",
     "output_type": "stream",
     "text": [
      "Percent complete: 33.33333333333333\n",
      "200 1 1\n",
      "(2116, 800)\n",
      "l2 auto balanced\n"
     ]
    },
    {
     "name": "stderr",
     "output_type": "stream",
     "text": [
      "/Users/ryanqnelson/opt/anaconda3/envs/cmu/lib/python3.6/site-packages/sklearn/linear_model/_logistic.py:765: ConvergenceWarning: lbfgs failed to converge (status=1):\n",
      "STOP: TOTAL NO. of ITERATIONS REACHED LIMIT.\n",
      "\n",
      "Increase the number of iterations (max_iter) or scale the data as shown in:\n",
      "    https://scikit-learn.org/stable/modules/preprocessing.html\n",
      "Please also refer to the documentation for alternative solver options:\n",
      "    https://scikit-learn.org/stable/modules/linear_model.html#logistic-regression\n",
      "  extra_warning_msg=_LOGISTIC_SOLVER_CONVERGENCE_MSG)\n"
     ]
    },
    {
     "name": "stdout",
     "output_type": "stream",
     "text": [
      "Percent complete: 35.0\n",
      "200 1 2\n",
      "(2116, 1600)\n",
      "l2 auto balanced\n"
     ]
    },
    {
     "name": "stderr",
     "output_type": "stream",
     "text": [
      "/Users/ryanqnelson/opt/anaconda3/envs/cmu/lib/python3.6/site-packages/sklearn/linear_model/_logistic.py:765: ConvergenceWarning: lbfgs failed to converge (status=1):\n",
      "STOP: TOTAL NO. of ITERATIONS REACHED LIMIT.\n",
      "\n",
      "Increase the number of iterations (max_iter) or scale the data as shown in:\n",
      "    https://scikit-learn.org/stable/modules/preprocessing.html\n",
      "Please also refer to the documentation for alternative solver options:\n",
      "    https://scikit-learn.org/stable/modules/linear_model.html#logistic-regression\n",
      "  extra_warning_msg=_LOGISTIC_SOLVER_CONVERGENCE_MSG)\n"
     ]
    },
    {
     "name": "stdout",
     "output_type": "stream",
     "text": [
      "Percent complete: 36.666666666666664\n",
      "200 1 4\n",
      "(2116, 12764)\n",
      "l2 auto balanced\n",
      "Percent complete: 38.333333333333336\n",
      "200 1 6\n",
      "(2116, 49043)\n",
      "l2 auto balanced\n",
      "Percent complete: 40.0\n",
      "200 10 1\n",
      "(20647, 800)\n",
      "l2 auto balanced\n"
     ]
    },
    {
     "name": "stderr",
     "output_type": "stream",
     "text": [
      "/Users/ryanqnelson/opt/anaconda3/envs/cmu/lib/python3.6/site-packages/sklearn/linear_model/_logistic.py:765: ConvergenceWarning: lbfgs failed to converge (status=1):\n",
      "STOP: TOTAL NO. of ITERATIONS REACHED LIMIT.\n",
      "\n",
      "Increase the number of iterations (max_iter) or scale the data as shown in:\n",
      "    https://scikit-learn.org/stable/modules/preprocessing.html\n",
      "Please also refer to the documentation for alternative solver options:\n",
      "    https://scikit-learn.org/stable/modules/linear_model.html#logistic-regression\n",
      "  extra_warning_msg=_LOGISTIC_SOLVER_CONVERGENCE_MSG)\n"
     ]
    },
    {
     "name": "stdout",
     "output_type": "stream",
     "text": [
      "Percent complete: 41.66666666666667\n",
      "200 10 2\n",
      "(20647, 1600)\n",
      "l2 auto balanced\n"
     ]
    },
    {
     "name": "stderr",
     "output_type": "stream",
     "text": [
      "/Users/ryanqnelson/opt/anaconda3/envs/cmu/lib/python3.6/site-packages/sklearn/linear_model/_logistic.py:765: ConvergenceWarning: lbfgs failed to converge (status=1):\n",
      "STOP: TOTAL NO. of ITERATIONS REACHED LIMIT.\n",
      "\n",
      "Increase the number of iterations (max_iter) or scale the data as shown in:\n",
      "    https://scikit-learn.org/stable/modules/preprocessing.html\n",
      "Please also refer to the documentation for alternative solver options:\n",
      "    https://scikit-learn.org/stable/modules/linear_model.html#logistic-regression\n",
      "  extra_warning_msg=_LOGISTIC_SOLVER_CONVERGENCE_MSG)\n"
     ]
    },
    {
     "name": "stdout",
     "output_type": "stream",
     "text": [
      "Percent complete: 43.333333333333336\n",
      "200 10 4\n",
      "(20647, 12800)\n",
      "l2 auto balanced\n",
      "Percent complete: 45.0\n",
      "200 10 6\n",
      "(20647, 129900)\n",
      "l2 auto balanced\n",
      "Percent complete: 46.666666666666664\n",
      "200 100 1\n",
      "(206072, 800)\n",
      "l2 auto balanced\n"
     ]
    },
    {
     "name": "stderr",
     "output_type": "stream",
     "text": [
      "/Users/ryanqnelson/opt/anaconda3/envs/cmu/lib/python3.6/site-packages/sklearn/linear_model/_logistic.py:765: ConvergenceWarning: lbfgs failed to converge (status=1):\n",
      "STOP: TOTAL NO. of ITERATIONS REACHED LIMIT.\n",
      "\n",
      "Increase the number of iterations (max_iter) or scale the data as shown in:\n",
      "    https://scikit-learn.org/stable/modules/preprocessing.html\n",
      "Please also refer to the documentation for alternative solver options:\n",
      "    https://scikit-learn.org/stable/modules/linear_model.html#logistic-regression\n",
      "  extra_warning_msg=_LOGISTIC_SOLVER_CONVERGENCE_MSG)\n"
     ]
    },
    {
     "name": "stdout",
     "output_type": "stream",
     "text": [
      "Percent complete: 48.333333333333336\n",
      "200 100 2\n",
      "(206072, 1600)\n",
      "l2 auto balanced\n"
     ]
    },
    {
     "name": "stderr",
     "output_type": "stream",
     "text": [
      "/Users/ryanqnelson/opt/anaconda3/envs/cmu/lib/python3.6/site-packages/sklearn/linear_model/_logistic.py:765: ConvergenceWarning: lbfgs failed to converge (status=1):\n",
      "STOP: TOTAL NO. of ITERATIONS REACHED LIMIT.\n",
      "\n",
      "Increase the number of iterations (max_iter) or scale the data as shown in:\n",
      "    https://scikit-learn.org/stable/modules/preprocessing.html\n",
      "Please also refer to the documentation for alternative solver options:\n",
      "    https://scikit-learn.org/stable/modules/linear_model.html#logistic-regression\n",
      "  extra_warning_msg=_LOGISTIC_SOLVER_CONVERGENCE_MSG)\n"
     ]
    },
    {
     "name": "stdout",
     "output_type": "stream",
     "text": [
      "Percent complete: 50.0\n",
      "200 100 4\n",
      "(206072, 12800)\n",
      "l2 auto balanced\n"
     ]
    },
    {
     "name": "stderr",
     "output_type": "stream",
     "text": [
      "/Users/ryanqnelson/opt/anaconda3/envs/cmu/lib/python3.6/site-packages/sklearn/linear_model/_logistic.py:765: ConvergenceWarning: lbfgs failed to converge (status=1):\n",
      "STOP: TOTAL NO. of ITERATIONS REACHED LIMIT.\n",
      "\n",
      "Increase the number of iterations (max_iter) or scale the data as shown in:\n",
      "    https://scikit-learn.org/stable/modules/preprocessing.html\n",
      "Please also refer to the documentation for alternative solver options:\n",
      "    https://scikit-learn.org/stable/modules/linear_model.html#logistic-regression\n",
      "  extra_warning_msg=_LOGISTIC_SOLVER_CONVERGENCE_MSG)\n"
     ]
    },
    {
     "name": "stdout",
     "output_type": "stream",
     "text": [
      "Percent complete: 51.66666666666667\n",
      "200 100 6\n",
      "(206072, 135167)\n",
      "l2 auto balanced\n"
     ]
    },
    {
     "name": "stderr",
     "output_type": "stream",
     "text": [
      "/Users/ryanqnelson/opt/anaconda3/envs/cmu/lib/python3.6/site-packages/sklearn/linear_model/_logistic.py:765: ConvergenceWarning: lbfgs failed to converge (status=1):\n",
      "STOP: TOTAL NO. of ITERATIONS REACHED LIMIT.\n",
      "\n",
      "Increase the number of iterations (max_iter) or scale the data as shown in:\n",
      "    https://scikit-learn.org/stable/modules/preprocessing.html\n",
      "Please also refer to the documentation for alternative solver options:\n",
      "    https://scikit-learn.org/stable/modules/linear_model.html#logistic-regression\n",
      "  extra_warning_msg=_LOGISTIC_SOLVER_CONVERGENCE_MSG)\n"
     ]
    },
    {
     "name": "stdout",
     "output_type": "stream",
     "text": [
      "Percent complete: 53.333333333333336\n",
      "200 200 1\n",
      "(412102, 800)\n",
      "l2 auto balanced\n"
     ]
    },
    {
     "name": "stderr",
     "output_type": "stream",
     "text": [
      "/Users/ryanqnelson/opt/anaconda3/envs/cmu/lib/python3.6/site-packages/sklearn/linear_model/_logistic.py:765: ConvergenceWarning: lbfgs failed to converge (status=1):\n",
      "STOP: TOTAL NO. of ITERATIONS REACHED LIMIT.\n",
      "\n",
      "Increase the number of iterations (max_iter) or scale the data as shown in:\n",
      "    https://scikit-learn.org/stable/modules/preprocessing.html\n",
      "Please also refer to the documentation for alternative solver options:\n",
      "    https://scikit-learn.org/stable/modules/linear_model.html#logistic-regression\n",
      "  extra_warning_msg=_LOGISTIC_SOLVER_CONVERGENCE_MSG)\n"
     ]
    },
    {
     "name": "stdout",
     "output_type": "stream",
     "text": [
      "Percent complete: 55.00000000000001\n",
      "200 200 2\n",
      "(412102, 1600)\n",
      "l2 auto balanced\n"
     ]
    },
    {
     "name": "stderr",
     "output_type": "stream",
     "text": [
      "/Users/ryanqnelson/opt/anaconda3/envs/cmu/lib/python3.6/site-packages/sklearn/linear_model/_logistic.py:765: ConvergenceWarning: lbfgs failed to converge (status=1):\n",
      "STOP: TOTAL NO. of ITERATIONS REACHED LIMIT.\n",
      "\n",
      "Increase the number of iterations (max_iter) or scale the data as shown in:\n",
      "    https://scikit-learn.org/stable/modules/preprocessing.html\n",
      "Please also refer to the documentation for alternative solver options:\n",
      "    https://scikit-learn.org/stable/modules/linear_model.html#logistic-regression\n",
      "  extra_warning_msg=_LOGISTIC_SOLVER_CONVERGENCE_MSG)\n"
     ]
    },
    {
     "name": "stdout",
     "output_type": "stream",
     "text": [
      "Percent complete: 56.666666666666664\n",
      "200 200 4\n",
      "(412102, 12800)\n",
      "l2 auto balanced\n"
     ]
    },
    {
     "name": "stderr",
     "output_type": "stream",
     "text": [
      "/Users/ryanqnelson/opt/anaconda3/envs/cmu/lib/python3.6/site-packages/sklearn/linear_model/_logistic.py:765: ConvergenceWarning: lbfgs failed to converge (status=1):\n",
      "STOP: TOTAL NO. of ITERATIONS REACHED LIMIT.\n",
      "\n",
      "Increase the number of iterations (max_iter) or scale the data as shown in:\n",
      "    https://scikit-learn.org/stable/modules/preprocessing.html\n",
      "Please also refer to the documentation for alternative solver options:\n",
      "    https://scikit-learn.org/stable/modules/linear_model.html#logistic-regression\n",
      "  extra_warning_msg=_LOGISTIC_SOLVER_CONVERGENCE_MSG)\n"
     ]
    },
    {
     "name": "stdout",
     "output_type": "stream",
     "text": [
      "Percent complete: 58.333333333333336\n",
      "200 200 6\n",
      "(412102, 135168)\n",
      "l2 auto balanced\n"
     ]
    },
    {
     "name": "stderr",
     "output_type": "stream",
     "text": [
      "/Users/ryanqnelson/opt/anaconda3/envs/cmu/lib/python3.6/site-packages/sklearn/linear_model/_logistic.py:765: ConvergenceWarning: lbfgs failed to converge (status=1):\n",
      "STOP: TOTAL NO. of ITERATIONS REACHED LIMIT.\n",
      "\n",
      "Increase the number of iterations (max_iter) or scale the data as shown in:\n",
      "    https://scikit-learn.org/stable/modules/preprocessing.html\n",
      "Please also refer to the documentation for alternative solver options:\n",
      "    https://scikit-learn.org/stable/modules/linear_model.html#logistic-regression\n",
      "  extra_warning_msg=_LOGISTIC_SOLVER_CONVERGENCE_MSG)\n"
     ]
    },
    {
     "name": "stdout",
     "output_type": "stream",
     "text": [
      "Percent complete: 60.0\n",
      "200 400 1\n",
      "(824204, 800)\n",
      "l2 auto balanced\n"
     ]
    },
    {
     "name": "stderr",
     "output_type": "stream",
     "text": [
      "/Users/ryanqnelson/opt/anaconda3/envs/cmu/lib/python3.6/site-packages/sklearn/linear_model/_logistic.py:765: ConvergenceWarning: lbfgs failed to converge (status=1):\n",
      "STOP: TOTAL NO. of ITERATIONS REACHED LIMIT.\n",
      "\n",
      "Increase the number of iterations (max_iter) or scale the data as shown in:\n",
      "    https://scikit-learn.org/stable/modules/preprocessing.html\n",
      "Please also refer to the documentation for alternative solver options:\n",
      "    https://scikit-learn.org/stable/modules/linear_model.html#logistic-regression\n",
      "  extra_warning_msg=_LOGISTIC_SOLVER_CONVERGENCE_MSG)\n"
     ]
    },
    {
     "name": "stdout",
     "output_type": "stream",
     "text": [
      "Percent complete: 61.66666666666667\n",
      "200 400 2\n",
      "(824204, 1600)\n",
      "l2 auto balanced\n"
     ]
    },
    {
     "name": "stderr",
     "output_type": "stream",
     "text": [
      "/Users/ryanqnelson/opt/anaconda3/envs/cmu/lib/python3.6/site-packages/sklearn/linear_model/_logistic.py:765: ConvergenceWarning: lbfgs failed to converge (status=1):\n",
      "STOP: TOTAL NO. of ITERATIONS REACHED LIMIT.\n",
      "\n",
      "Increase the number of iterations (max_iter) or scale the data as shown in:\n",
      "    https://scikit-learn.org/stable/modules/preprocessing.html\n",
      "Please also refer to the documentation for alternative solver options:\n",
      "    https://scikit-learn.org/stable/modules/linear_model.html#logistic-regression\n",
      "  extra_warning_msg=_LOGISTIC_SOLVER_CONVERGENCE_MSG)\n"
     ]
    },
    {
     "name": "stdout",
     "output_type": "stream",
     "text": [
      "Percent complete: 63.33333333333333\n",
      "200 400 4\n",
      "(824204, 12800)\n",
      "l2 auto balanced\n"
     ]
    },
    {
     "name": "stderr",
     "output_type": "stream",
     "text": [
      "/Users/ryanqnelson/opt/anaconda3/envs/cmu/lib/python3.6/site-packages/sklearn/linear_model/_logistic.py:765: ConvergenceWarning: lbfgs failed to converge (status=1):\n",
      "STOP: TOTAL NO. of ITERATIONS REACHED LIMIT.\n",
      "\n",
      "Increase the number of iterations (max_iter) or scale the data as shown in:\n",
      "    https://scikit-learn.org/stable/modules/preprocessing.html\n",
      "Please also refer to the documentation for alternative solver options:\n",
      "    https://scikit-learn.org/stable/modules/linear_model.html#logistic-regression\n",
      "  extra_warning_msg=_LOGISTIC_SOLVER_CONVERGENCE_MSG)\n"
     ]
    },
    {
     "name": "stdout",
     "output_type": "stream",
     "text": [
      "Percent complete: 65.0\n",
      "200 400 6\n",
      "(824204, 135168)\n",
      "l2 auto balanced\n"
     ]
    },
    {
     "name": "stderr",
     "output_type": "stream",
     "text": [
      "/Users/ryanqnelson/opt/anaconda3/envs/cmu/lib/python3.6/site-packages/sklearn/linear_model/_logistic.py:765: ConvergenceWarning: lbfgs failed to converge (status=1):\n",
      "STOP: TOTAL NO. of ITERATIONS REACHED LIMIT.\n",
      "\n",
      "Increase the number of iterations (max_iter) or scale the data as shown in:\n",
      "    https://scikit-learn.org/stable/modules/preprocessing.html\n",
      "Please also refer to the documentation for alternative solver options:\n",
      "    https://scikit-learn.org/stable/modules/linear_model.html#logistic-regression\n",
      "  extra_warning_msg=_LOGISTIC_SOLVER_CONVERGENCE_MSG)\n"
     ]
    },
    {
     "name": "stdout",
     "output_type": "stream",
     "text": [
      "Percent complete: 66.66666666666666\n",
      "400 1 1\n",
      "(1085, 1600)\n",
      "l2 auto balanced\n"
     ]
    },
    {
     "name": "stderr",
     "output_type": "stream",
     "text": [
      "/Users/ryanqnelson/opt/anaconda3/envs/cmu/lib/python3.6/site-packages/sklearn/linear_model/_logistic.py:765: ConvergenceWarning: lbfgs failed to converge (status=1):\n",
      "STOP: TOTAL NO. of ITERATIONS REACHED LIMIT.\n",
      "\n",
      "Increase the number of iterations (max_iter) or scale the data as shown in:\n",
      "    https://scikit-learn.org/stable/modules/preprocessing.html\n",
      "Please also refer to the documentation for alternative solver options:\n",
      "    https://scikit-learn.org/stable/modules/linear_model.html#logistic-regression\n",
      "  extra_warning_msg=_LOGISTIC_SOLVER_CONVERGENCE_MSG)\n"
     ]
    },
    {
     "name": "stdout",
     "output_type": "stream",
     "text": [
      "Percent complete: 68.33333333333333\n",
      "400 1 2\n",
      "(1085, 3200)\n",
      "l2 auto balanced\n"
     ]
    },
    {
     "name": "stderr",
     "output_type": "stream",
     "text": [
      "/Users/ryanqnelson/opt/anaconda3/envs/cmu/lib/python3.6/site-packages/sklearn/linear_model/_logistic.py:765: ConvergenceWarning: lbfgs failed to converge (status=1):\n",
      "STOP: TOTAL NO. of ITERATIONS REACHED LIMIT.\n",
      "\n",
      "Increase the number of iterations (max_iter) or scale the data as shown in:\n",
      "    https://scikit-learn.org/stable/modules/preprocessing.html\n",
      "Please also refer to the documentation for alternative solver options:\n",
      "    https://scikit-learn.org/stable/modules/linear_model.html#logistic-regression\n",
      "  extra_warning_msg=_LOGISTIC_SOLVER_CONVERGENCE_MSG)\n"
     ]
    },
    {
     "name": "stdout",
     "output_type": "stream",
     "text": [
      "Percent complete: 70.0\n",
      "400 1 4\n",
      "(1085, 24632)\n",
      "l2 auto balanced\n",
      "Percent complete: 71.66666666666667\n",
      "400 1 6\n",
      "(1085, 57719)\n",
      "l2 auto balanced\n",
      "Percent complete: 73.33333333333333\n",
      "400 10 1\n",
      "(10343, 1600)\n",
      "l2 auto balanced\n"
     ]
    },
    {
     "name": "stderr",
     "output_type": "stream",
     "text": [
      "/Users/ryanqnelson/opt/anaconda3/envs/cmu/lib/python3.6/site-packages/sklearn/linear_model/_logistic.py:765: ConvergenceWarning: lbfgs failed to converge (status=1):\n",
      "STOP: TOTAL NO. of ITERATIONS REACHED LIMIT.\n",
      "\n",
      "Increase the number of iterations (max_iter) or scale the data as shown in:\n",
      "    https://scikit-learn.org/stable/modules/preprocessing.html\n",
      "Please also refer to the documentation for alternative solver options:\n",
      "    https://scikit-learn.org/stable/modules/linear_model.html#logistic-regression\n",
      "  extra_warning_msg=_LOGISTIC_SOLVER_CONVERGENCE_MSG)\n"
     ]
    },
    {
     "name": "stdout",
     "output_type": "stream",
     "text": [
      "Percent complete: 75.0\n",
      "400 10 2\n",
      "(10343, 3200)\n",
      "l2 auto balanced\n"
     ]
    },
    {
     "name": "stderr",
     "output_type": "stream",
     "text": [
      "/Users/ryanqnelson/opt/anaconda3/envs/cmu/lib/python3.6/site-packages/sklearn/linear_model/_logistic.py:765: ConvergenceWarning: lbfgs failed to converge (status=1):\n",
      "STOP: TOTAL NO. of ITERATIONS REACHED LIMIT.\n",
      "\n",
      "Increase the number of iterations (max_iter) or scale the data as shown in:\n",
      "    https://scikit-learn.org/stable/modules/preprocessing.html\n",
      "Please also refer to the documentation for alternative solver options:\n",
      "    https://scikit-learn.org/stable/modules/linear_model.html#logistic-regression\n",
      "  extra_warning_msg=_LOGISTIC_SOLVER_CONVERGENCE_MSG)\n"
     ]
    },
    {
     "name": "stdout",
     "output_type": "stream",
     "text": [
      "Percent complete: 76.66666666666667\n",
      "400 10 4\n",
      "(10343, 25600)\n",
      "l2 auto balanced\n",
      "Percent complete: 78.33333333333333\n",
      "400 10 6\n",
      "(10343, 228103)\n",
      "l2 auto balanced\n",
      "Percent complete: 80.0\n",
      "400 100 1\n",
      "(103062, 1600)\n",
      "l2 auto balanced\n"
     ]
    },
    {
     "name": "stderr",
     "output_type": "stream",
     "text": [
      "/Users/ryanqnelson/opt/anaconda3/envs/cmu/lib/python3.6/site-packages/sklearn/linear_model/_logistic.py:765: ConvergenceWarning: lbfgs failed to converge (status=1):\n",
      "STOP: TOTAL NO. of ITERATIONS REACHED LIMIT.\n",
      "\n",
      "Increase the number of iterations (max_iter) or scale the data as shown in:\n",
      "    https://scikit-learn.org/stable/modules/preprocessing.html\n",
      "Please also refer to the documentation for alternative solver options:\n",
      "    https://scikit-learn.org/stable/modules/linear_model.html#logistic-regression\n",
      "  extra_warning_msg=_LOGISTIC_SOLVER_CONVERGENCE_MSG)\n"
     ]
    },
    {
     "name": "stdout",
     "output_type": "stream",
     "text": [
      "Percent complete: 81.66666666666667\n",
      "400 100 2\n",
      "(103062, 3200)\n",
      "l2 auto balanced\n"
     ]
    },
    {
     "name": "stderr",
     "output_type": "stream",
     "text": [
      "/Users/ryanqnelson/opt/anaconda3/envs/cmu/lib/python3.6/site-packages/sklearn/linear_model/_logistic.py:765: ConvergenceWarning: lbfgs failed to converge (status=1):\n",
      "STOP: TOTAL NO. of ITERATIONS REACHED LIMIT.\n",
      "\n",
      "Increase the number of iterations (max_iter) or scale the data as shown in:\n",
      "    https://scikit-learn.org/stable/modules/preprocessing.html\n",
      "Please also refer to the documentation for alternative solver options:\n",
      "    https://scikit-learn.org/stable/modules/linear_model.html#logistic-regression\n",
      "  extra_warning_msg=_LOGISTIC_SOLVER_CONVERGENCE_MSG)\n"
     ]
    },
    {
     "name": "stdout",
     "output_type": "stream",
     "text": [
      "Percent complete: 83.33333333333334\n",
      "400 100 4\n",
      "(103062, 25600)\n",
      "l2 auto balanced\n"
     ]
    },
    {
     "name": "stderr",
     "output_type": "stream",
     "text": [
      "/Users/ryanqnelson/opt/anaconda3/envs/cmu/lib/python3.6/site-packages/sklearn/linear_model/_logistic.py:765: ConvergenceWarning: lbfgs failed to converge (status=1):\n",
      "STOP: TOTAL NO. of ITERATIONS REACHED LIMIT.\n",
      "\n",
      "Increase the number of iterations (max_iter) or scale the data as shown in:\n",
      "    https://scikit-learn.org/stable/modules/preprocessing.html\n",
      "Please also refer to the documentation for alternative solver options:\n",
      "    https://scikit-learn.org/stable/modules/linear_model.html#logistic-regression\n",
      "  extra_warning_msg=_LOGISTIC_SOLVER_CONVERGENCE_MSG)\n"
     ]
    },
    {
     "name": "stdout",
     "output_type": "stream",
     "text": [
      "Percent complete: 85.0\n",
      "400 100 6\n",
      "(103062, 270309)\n",
      "l2 auto balanced\n"
     ]
    },
    {
     "name": "stderr",
     "output_type": "stream",
     "text": [
      "/Users/ryanqnelson/opt/anaconda3/envs/cmu/lib/python3.6/site-packages/sklearn/linear_model/_logistic.py:765: ConvergenceWarning: lbfgs failed to converge (status=1):\n",
      "STOP: TOTAL NO. of ITERATIONS REACHED LIMIT.\n",
      "\n",
      "Increase the number of iterations (max_iter) or scale the data as shown in:\n",
      "    https://scikit-learn.org/stable/modules/preprocessing.html\n",
      "Please also refer to the documentation for alternative solver options:\n",
      "    https://scikit-learn.org/stable/modules/linear_model.html#logistic-regression\n",
      "  extra_warning_msg=_LOGISTIC_SOLVER_CONVERGENCE_MSG)\n"
     ]
    },
    {
     "name": "stdout",
     "output_type": "stream",
     "text": [
      "Percent complete: 86.66666666666667\n",
      "400 200 1\n",
      "(206072, 1600)\n",
      "l2 auto balanced\n"
     ]
    },
    {
     "name": "stderr",
     "output_type": "stream",
     "text": [
      "/Users/ryanqnelson/opt/anaconda3/envs/cmu/lib/python3.6/site-packages/sklearn/linear_model/_logistic.py:765: ConvergenceWarning: lbfgs failed to converge (status=1):\n",
      "STOP: TOTAL NO. of ITERATIONS REACHED LIMIT.\n",
      "\n",
      "Increase the number of iterations (max_iter) or scale the data as shown in:\n",
      "    https://scikit-learn.org/stable/modules/preprocessing.html\n",
      "Please also refer to the documentation for alternative solver options:\n",
      "    https://scikit-learn.org/stable/modules/linear_model.html#logistic-regression\n",
      "  extra_warning_msg=_LOGISTIC_SOLVER_CONVERGENCE_MSG)\n"
     ]
    },
    {
     "name": "stdout",
     "output_type": "stream",
     "text": [
      "Percent complete: 88.33333333333333\n",
      "400 200 2\n",
      "(206072, 3200)\n",
      "l2 auto balanced\n"
     ]
    },
    {
     "name": "stderr",
     "output_type": "stream",
     "text": [
      "/Users/ryanqnelson/opt/anaconda3/envs/cmu/lib/python3.6/site-packages/sklearn/linear_model/_logistic.py:765: ConvergenceWarning: lbfgs failed to converge (status=1):\n",
      "STOP: TOTAL NO. of ITERATIONS REACHED LIMIT.\n",
      "\n",
      "Increase the number of iterations (max_iter) or scale the data as shown in:\n",
      "    https://scikit-learn.org/stable/modules/preprocessing.html\n",
      "Please also refer to the documentation for alternative solver options:\n",
      "    https://scikit-learn.org/stable/modules/linear_model.html#logistic-regression\n",
      "  extra_warning_msg=_LOGISTIC_SOLVER_CONVERGENCE_MSG)\n"
     ]
    },
    {
     "name": "stdout",
     "output_type": "stream",
     "text": [
      "Percent complete: 90.0\n",
      "400 200 4\n",
      "(206072, 25600)\n",
      "l2 auto balanced\n"
     ]
    },
    {
     "name": "stderr",
     "output_type": "stream",
     "text": [
      "/Users/ryanqnelson/opt/anaconda3/envs/cmu/lib/python3.6/site-packages/sklearn/linear_model/_logistic.py:765: ConvergenceWarning: lbfgs failed to converge (status=1):\n",
      "STOP: TOTAL NO. of ITERATIONS REACHED LIMIT.\n",
      "\n",
      "Increase the number of iterations (max_iter) or scale the data as shown in:\n",
      "    https://scikit-learn.org/stable/modules/preprocessing.html\n",
      "Please also refer to the documentation for alternative solver options:\n",
      "    https://scikit-learn.org/stable/modules/linear_model.html#logistic-regression\n",
      "  extra_warning_msg=_LOGISTIC_SOLVER_CONVERGENCE_MSG)\n"
     ]
    },
    {
     "name": "stdout",
     "output_type": "stream",
     "text": [
      "Percent complete: 91.66666666666666\n",
      "400 200 6\n",
      "(206072, 270335)\n",
      "l2 auto balanced\n"
     ]
    },
    {
     "name": "stderr",
     "output_type": "stream",
     "text": [
      "/Users/ryanqnelson/opt/anaconda3/envs/cmu/lib/python3.6/site-packages/sklearn/linear_model/_logistic.py:765: ConvergenceWarning: lbfgs failed to converge (status=1):\n",
      "STOP: TOTAL NO. of ITERATIONS REACHED LIMIT.\n",
      "\n",
      "Increase the number of iterations (max_iter) or scale the data as shown in:\n",
      "    https://scikit-learn.org/stable/modules/preprocessing.html\n",
      "Please also refer to the documentation for alternative solver options:\n",
      "    https://scikit-learn.org/stable/modules/linear_model.html#logistic-regression\n",
      "  extra_warning_msg=_LOGISTIC_SOLVER_CONVERGENCE_MSG)\n"
     ]
    },
    {
     "name": "stdout",
     "output_type": "stream",
     "text": [
      "Percent complete: 93.33333333333333\n",
      "400 400 1\n",
      "(412102, 1600)\n",
      "l2 auto balanced\n"
     ]
    },
    {
     "name": "stderr",
     "output_type": "stream",
     "text": [
      "/Users/ryanqnelson/opt/anaconda3/envs/cmu/lib/python3.6/site-packages/sklearn/linear_model/_logistic.py:765: ConvergenceWarning: lbfgs failed to converge (status=1):\n",
      "STOP: TOTAL NO. of ITERATIONS REACHED LIMIT.\n",
      "\n",
      "Increase the number of iterations (max_iter) or scale the data as shown in:\n",
      "    https://scikit-learn.org/stable/modules/preprocessing.html\n",
      "Please also refer to the documentation for alternative solver options:\n",
      "    https://scikit-learn.org/stable/modules/linear_model.html#logistic-regression\n",
      "  extra_warning_msg=_LOGISTIC_SOLVER_CONVERGENCE_MSG)\n"
     ]
    },
    {
     "name": "stdout",
     "output_type": "stream",
     "text": [
      "Percent complete: 95.0\n",
      "400 400 2\n",
      "(412102, 3200)\n",
      "l2 auto balanced\n"
     ]
    },
    {
     "name": "stderr",
     "output_type": "stream",
     "text": [
      "/Users/ryanqnelson/opt/anaconda3/envs/cmu/lib/python3.6/site-packages/sklearn/linear_model/_logistic.py:765: ConvergenceWarning: lbfgs failed to converge (status=1):\n",
      "STOP: TOTAL NO. of ITERATIONS REACHED LIMIT.\n",
      "\n",
      "Increase the number of iterations (max_iter) or scale the data as shown in:\n",
      "    https://scikit-learn.org/stable/modules/preprocessing.html\n",
      "Please also refer to the documentation for alternative solver options:\n",
      "    https://scikit-learn.org/stable/modules/linear_model.html#logistic-regression\n",
      "  extra_warning_msg=_LOGISTIC_SOLVER_CONVERGENCE_MSG)\n"
     ]
    },
    {
     "name": "stdout",
     "output_type": "stream",
     "text": [
      "Percent complete: 96.66666666666667\n",
      "400 400 4\n",
      "(412102, 25600)\n",
      "l2 auto balanced\n"
     ]
    },
    {
     "name": "stderr",
     "output_type": "stream",
     "text": [
      "/Users/ryanqnelson/opt/anaconda3/envs/cmu/lib/python3.6/site-packages/sklearn/linear_model/_logistic.py:765: ConvergenceWarning: lbfgs failed to converge (status=1):\n",
      "STOP: TOTAL NO. of ITERATIONS REACHED LIMIT.\n",
      "\n",
      "Increase the number of iterations (max_iter) or scale the data as shown in:\n",
      "    https://scikit-learn.org/stable/modules/preprocessing.html\n",
      "Please also refer to the documentation for alternative solver options:\n",
      "    https://scikit-learn.org/stable/modules/linear_model.html#logistic-regression\n",
      "  extra_warning_msg=_LOGISTIC_SOLVER_CONVERGENCE_MSG)\n"
     ]
    },
    {
     "name": "stdout",
     "output_type": "stream",
     "text": [
      "Percent complete: 98.33333333333333\n",
      "400 400 6\n",
      "(412102, 270336)\n",
      "l2 auto balanced\n"
     ]
    },
    {
     "name": "stderr",
     "output_type": "stream",
     "text": [
      "/Users/ryanqnelson/opt/anaconda3/envs/cmu/lib/python3.6/site-packages/sklearn/linear_model/_logistic.py:765: ConvergenceWarning: lbfgs failed to converge (status=1):\n",
      "STOP: TOTAL NO. of ITERATIONS REACHED LIMIT.\n",
      "\n",
      "Increase the number of iterations (max_iter) or scale the data as shown in:\n",
      "    https://scikit-learn.org/stable/modules/preprocessing.html\n",
      "Please also refer to the documentation for alternative solver options:\n",
      "    https://scikit-learn.org/stable/modules/linear_model.html#logistic-regression\n",
      "  extra_warning_msg=_LOGISTIC_SOLVER_CONVERGENCE_MSG)\n"
     ]
    },
    {
     "name": "stdout",
     "output_type": "stream",
     "text": [
      "Percent complete: 100.0\n",
      "CPU times: user 3h 57min 27s, sys: 7min 20s, total: 4h 4min 47s\n",
      "Wall time: 2h 30min 3s\n"
     ]
    }
   ],
   "source": [
    "# %%time\n",
    "# # 2.5 hours\n",
    "\n",
    "# # parameters\n",
    "# seq_file = 'data/train_small-db_toy-7400.fasta'\n",
    "# taxid_file = 'data/train_small-db_toy-7400.taxid'\n",
    "# output_dir = 'data/sampling/sampling-toy-7400'\n",
    "# pattern = 'fragments*.npy'\n",
    "# seed = 42\n",
    "# date_time = datetime.datetime.now().strftime('%Y.%m.%d.%H.%M.%S')\n",
    "# grid_search_file  = 'data/gridsearch-7400/results-lrpackage-l2-balanced.csv'\n",
    "# fields = ['experiment','category','classifier','training shape','sample_length','coverage','k','penalty','multi_class', 'class_weight', 'score','score type']\n",
    "# experiment = '9.01'\n",
    "# score_type = 'species_recall'\n",
    "\n",
    "# # combinations to try\n",
    "# list_sample_length = [100,200,400]\n",
    "# list_coverage = [1,10,100,200,400]\n",
    "# list_k = [1,2,4,6] # ,8,10,12\n",
    "# list_penalty=['l2']\n",
    "# list_multiclass = ['auto']\n",
    "# list_classweight= ['balanced']\n",
    "\n",
    "\n",
    "# grid_search_multiclass_lr(seq_file, \n",
    "#                           taxid_file, \n",
    "#                           output_dir, \n",
    "#                           pattern, \n",
    "#                           list_sample_length, \n",
    "#                           list_coverage, \n",
    "#                           list_k, \n",
    "#                           list_penalty,\n",
    "#                           list_multiclass,\n",
    "#                           list_classweight,\n",
    "#                           seed,\n",
    "#                           grid_search_file,\n",
    "#                           fields,\n",
    "#                           experiment,\n",
    "#                           score_type)\n"
   ]
  },
  {
   "cell_type": "markdown",
   "id": "olive-family",
   "metadata": {},
   "source": [
    "### Run 9.02"
   ]
  },
  {
   "cell_type": "code",
   "execution_count": null,
   "id": "improved-chicken",
   "metadata": {},
   "outputs": [
    {
     "name": "stdout",
     "output_type": "stream",
     "text": [
      "100 1 8\n",
      "(4169, 45226)\n",
      "l2 auto balanced\n"
     ]
    }
   ],
   "source": [
    "%%time\n",
    "\n",
    "# parameters\n",
    "seq_file = 'data/train_small-db_toy-7400.fasta'\n",
    "taxid_file = 'data/train_small-db_toy-7400.taxid'\n",
    "output_dir = 'data/sampling/sampling-toy-7400'\n",
    "pattern = 'fragments*.npy'\n",
    "seed = 42\n",
    "date_time = datetime.datetime.now().strftime('%Y.%m.%d.%H.%M.%S')\n",
    "grid_search_file  = 'data/gridsearch-7400/results-lrpackage-l2-balanced.csv'\n",
    "fields = ['experiment','category','classifier','training shape','sample_length','coverage','k','penalty','multi_class', 'class_weight', 'score','score type']\n",
    "experiment = '9.02'\n",
    "score_type = 'species_recall'\n",
    "\n",
    "# combinations to try\n",
    "list_sample_length = [100,200,400]\n",
    "list_coverage = [1,10,100,200,400]\n",
    "list_k = [8,10,12]\n",
    "list_penalty=['l2']\n",
    "list_multiclass = ['auto']\n",
    "list_classweight= ['balanced']\n",
    "\n",
    "\n",
    "grid_search_multiclass_lr(seq_file, \n",
    "                          taxid_file, \n",
    "                          output_dir, \n",
    "                          pattern, \n",
    "                          list_sample_length, \n",
    "                          list_coverage, \n",
    "                          list_k, \n",
    "                          list_penalty,\n",
    "                          list_multiclass,\n",
    "                          list_classweight,\n",
    "                          seed,\n",
    "                          grid_search_file,\n",
    "                          fields,\n",
    "                          experiment,\n",
    "                          score_type)\n"
   ]
  }
 ],
 "metadata": {
  "kernelspec": {
   "display_name": "Python 3",
   "language": "python",
   "name": "python3"
  },
  "language_info": {
   "codemirror_mode": {
    "name": "ipython",
    "version": 3
   },
   "file_extension": ".py",
   "mimetype": "text/x-python",
   "name": "python",
   "nbconvert_exporter": "python",
   "pygments_lexer": "ipython3",
   "version": "3.6.12"
  }
 },
 "nbformat": 4,
 "nbformat_minor": 5
}
