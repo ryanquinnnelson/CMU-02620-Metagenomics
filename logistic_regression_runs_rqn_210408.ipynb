{
 "cells": [
  {
   "cell_type": "markdown",
   "id": "guilty-founder",
   "metadata": {},
   "source": [
    "### Imports"
   ]
  },
  {
   "cell_type": "code",
   "execution_count": 1,
   "id": "uniform-closer",
   "metadata": {},
   "outputs": [],
   "source": [
    "import shutil\n",
    "import csv\n",
    "import datetime\n",
    "import numpy as np\n",
    "import pandas as pd\n",
    "from sklearn.metrics import recall_score\n",
    "from sklearn import preprocessing\n",
    "from sklearn.model_selection import train_test_split\n",
    "from packages.metagenomics import sampling2, encoding2\n",
    "from sklearn.linear_model import LogisticRegression\n",
    "\n",
    "from packages.LogisticRegression.MulticlassLogisticRegression import MulticlassLogisticRegression,MulticlassLogisticRegression2\n"
   ]
  },
  {
   "cell_type": "code",
   "execution_count": 2,
   "id": "waiting-benchmark",
   "metadata": {},
   "outputs": [],
   "source": [
    "def append_results_to_file(filename, fields=None, rows=None):\n",
    "    \n",
    "    with open(filename, 'a') as f:\n",
    "\n",
    "        write = csv.writer(f)\n",
    "\n",
    "        if fields:\n",
    "            write.writerow(fields)\n",
    "\n",
    "        if rows:\n",
    "            write.writerows(rows)"
   ]
  },
  {
   "cell_type": "code",
   "execution_count": 3,
   "id": "communist-nowhere",
   "metadata": {},
   "outputs": [],
   "source": [
    "def run_mlr_classification_recall(X_train, X_test, y_train, y_test, eta, epsilon):\n",
    "    \"\"\"\n",
    "    Score is species level recall.\n",
    "    \"\"\"\n",
    "    mlr = MulticlassLogisticRegression2(eta=eta, epsilon=epsilon)\n",
    "    mlr.fit(X_train,y_train)\n",
    "    y_pred = mlr.predict(X_test)\n",
    "    score = recall_score(y_test, y_pred, average='weighted')\n",
    "    return score\n",
    "    "
   ]
  },
  {
   "cell_type": "code",
   "execution_count": 4,
   "id": "editorial-syria",
   "metadata": {},
   "outputs": [],
   "source": [
    "def build_fragments(seq_file, taxid_file, output_dir, sample_length, coverage, seed):\n",
    "    # delete output directory if it previously exists\n",
    "    try:\n",
    "        shutil.rmtree(output_dir)\n",
    "    except FileNotFoundError:\n",
    "        print('Existing directory was not found. Process will generate a directory.')\n",
    "\n",
    "    # build fragments\n",
    "    sampling2.generate_fragment_data(seq_file, taxid_file, output_dir, sample_length, coverage, seed)"
   ]
  },
  {
   "cell_type": "code",
   "execution_count": 5,
   "id": "incoming-performer",
   "metadata": {},
   "outputs": [],
   "source": [
    "def encode_fragments(output_dir, pattern, k, seed):\n",
    "    \n",
    "    # encode data\n",
    "    fragments = sampling2.read_fragments(output_dir, pattern)\n",
    "    X_enc, y = encoding2.encode_fragment_dataset(fragments,k)\n",
    "    le = preprocessing.LabelEncoder()\n",
    "    y_enc = le.fit_transform(y)\n",
    "    \n",
    "    # calculate number of classes\n",
    "    n_classes = len(np.unique(y_enc))\n",
    "#     print('n_classes:',n_classes)\n",
    "    n_classes_train = 0\n",
    "    n_classes_test = 0\n",
    "    while n_classes_train < n_classes or n_classes_test < n_classes:\n",
    "\n",
    "        # split data into test and training\n",
    "        X_train, X_test, y_train, y_test = train_test_split(X_enc.toarray(), y_enc, test_size=0.33)\n",
    "        n_classes_train = len(np.unique(y_train))\n",
    "        n_classes_test = len(np.unique(y_test))\n",
    "#         print('train:',len(y_train))\n",
    "#         print('test:', len(y_test))\n",
    "    \n",
    "    print(X_enc.shape)\n",
    "    \n",
    "    return X_train, X_test, y_train, y_test"
   ]
  },
  {
   "cell_type": "code",
   "execution_count": 6,
   "id": "three-million",
   "metadata": {},
   "outputs": [],
   "source": [
    "def calc_number_combinations(list_sample_length,list_coverage,list_k,list_eta,list_epsilon):\n",
    "    n = len(list_sample_length) * len(list_coverage) * len(list_k) *len(list_eta) * len(list_epsilon)\n",
    "    return n"
   ]
  },
  {
   "cell_type": "code",
   "execution_count": 7,
   "id": "wrapped-saying",
   "metadata": {},
   "outputs": [],
   "source": [
    "def grid_search_multiclass_mlr(seq_file, \n",
    "                              taxid_file, \n",
    "                              output_dir, \n",
    "                              pattern, \n",
    "                              list_sample_length, \n",
    "                              list_coverage, \n",
    "                              list_k,\n",
    "                              list_eta,\n",
    "                              list_epsilon, \n",
    "                              seed,\n",
    "                              grid_search_file,\n",
    "                              fields,\n",
    "                              experiment,\n",
    "                              score_type):\n",
    "    \n",
    "    # set up grid search results file\n",
    "    append_results_to_file(grid_search_file, fields)\n",
    "    \n",
    "    # calculate number of combinations\n",
    "    n_combinations = calc_number_combinations(list_sample_length,list_coverage,list_k,list_eta,list_epsilon)\n",
    "    \n",
    "    # process combinations\n",
    "    count = 0\n",
    "    for sample_length in list_sample_length:\n",
    "        for coverage in list_coverage:\n",
    "            \n",
    "            # fragment combination\n",
    "            build_fragments(seq_file, taxid_file, output_dir, sample_length, coverage, seed)\n",
    "            for k in list_k:\n",
    "                \n",
    "                # kmer combination\n",
    "                X_train, X_test, y_train, y_test = encode_fragments(output_dir, pattern,k,seed)\n",
    "                for eta in list_eta:\n",
    "                    for epsilon in list_epsilon:\n",
    "                        \n",
    "                        # random forest combination\n",
    "                        score = run_mlr_classification_recall(X_train, X_test, y_train,y_test, eta, epsilon)\n",
    "                        count += 1\n",
    "                        \n",
    "                        # output results to file\n",
    "                        row = [experiment, 'multiclass', 'Logistic Regression', X_train.shape, sample_length, coverage, k, eta, epsilon, score, score_type]\n",
    "                        append_results_to_file(grid_search_file, row)\n",
    "                        \n",
    "                print('Percent complete: {}'.format(count / n_combinations * 100)) # display progress\n",
    "    "
   ]
  },
  {
   "cell_type": "markdown",
   "id": "corresponding-struggle",
   "metadata": {},
   "source": [
    "# Run Set 1 - MLR Toy\n",
    "2000 lengths dataset"
   ]
  },
  {
   "cell_type": "markdown",
   "id": "great-murray",
   "metadata": {},
   "source": [
    "### Run 4.01\n",
    "Stopped early due to runs taking a long time."
   ]
  },
  {
   "cell_type": "code",
   "execution_count": 8,
   "id": "biblical-large",
   "metadata": {
    "scrolled": false
   },
   "outputs": [],
   "source": [
    "# %%time\n",
    "\n",
    "# # parameters\n",
    "# seq_file = 'data/train_small-db_toy-2000.fasta'\n",
    "# taxid_file = 'data/train_small-db_toy-2000.taxid'\n",
    "# output_dir = 'data/sampling/sampling-toy-2000-mlr'\n",
    "# pattern = 'fragments*.npy'\n",
    "# seed = 42\n",
    "# date_time = datetime.datetime.now().strftime('%Y.%m.%d.%H.%M.%S')\n",
    "# grid_search_file  = 'data/runs-2000/mlr-multi.{}.csv'.format(date_time)\n",
    "# fields = ['experiment','category','classifier','training shape','sample_length','coverage','k','eta', 'epsilon', 'score','score type']\n",
    "# experiment = '4.01'\n",
    "# score_type = 'species_recall'\n",
    "\n",
    "# # combinations to try\n",
    "# list_sample_length = [100]\n",
    "# list_coverage = [0.2,1,10]\n",
    "# list_k = [1,2,4,6,8,10,12]\n",
    "# list_eta = [0.01]\n",
    "# list_epsilon = [0.01]\n",
    "\n",
    "\n",
    "# grid_search_multiclass_mlr(seq_file, \n",
    "#                           taxid_file, \n",
    "#                           output_dir, \n",
    "#                           pattern, \n",
    "#                           list_sample_length, \n",
    "#                           list_coverage, \n",
    "#                           list_k, \n",
    "#                           list_eta,\n",
    "#                           list_epsilon,\n",
    "#                           seed,\n",
    "#                           grid_search_file,\n",
    "#                           fields,\n",
    "#                           experiment,\n",
    "#                           score_type)\n"
   ]
  },
  {
   "cell_type": "markdown",
   "id": "ordinary-alabama",
   "metadata": {},
   "source": [
    "### Run 4.02"
   ]
  },
  {
   "cell_type": "code",
   "execution_count": 9,
   "id": "serial-inquiry",
   "metadata": {
    "scrolled": false
   },
   "outputs": [],
   "source": [
    "# %%time\n",
    "\n",
    "# # parameters\n",
    "# seq_file = 'data/train_small-db_toy-2000.fasta'\n",
    "# taxid_file = 'data/train_small-db_toy-2000.taxid'\n",
    "# output_dir = 'data/sampling/sampling-toy-2000-mlr'\n",
    "# pattern = 'fragments*.npy'\n",
    "# seed = 42\n",
    "# date_time = datetime.datetime.now().strftime('%Y.%m.%d.%H.%M.%S')\n",
    "# grid_search_file  = 'data/runs-2000/mlr-multi.{}.csv'.format(date_time)\n",
    "# fields = ['experiment','category','classifier','training shape','sample_length','coverage','k','eta', 'epsilon', 'score','score type']\n",
    "# experiment = '4.02'\n",
    "# score_type = 'species_recall'\n",
    "\n",
    "# # combinations to try\n",
    "# list_sample_length = [200]\n",
    "# list_coverage = [0.3,1,10]\n",
    "# list_k = [1,2,4,6,8,10,12]\n",
    "# list_eta = [0.01]\n",
    "# list_epsilon = [0.01]\n",
    "\n",
    "\n",
    "# grid_search_multiclass_mlr(seq_file, \n",
    "#                           taxid_file, \n",
    "#                           output_dir, \n",
    "#                           pattern, \n",
    "#                           list_sample_length, \n",
    "#                           list_coverage, \n",
    "#                           list_k, \n",
    "#                           list_eta,\n",
    "#                           list_epsilon,\n",
    "#                           seed,\n",
    "#                           grid_search_file,\n",
    "#                           fields,\n",
    "#                           experiment,\n",
    "#                           score_type)\n"
   ]
  },
  {
   "cell_type": "markdown",
   "id": "important-healthcare",
   "metadata": {},
   "source": [
    "### Run 4.03"
   ]
  },
  {
   "cell_type": "code",
   "execution_count": 10,
   "id": "flexible-insider",
   "metadata": {
    "scrolled": false
   },
   "outputs": [],
   "source": [
    "# %%time\n",
    "\n",
    "# # parameters\n",
    "# seq_file = 'data/train_small-db_toy-2000.fasta'\n",
    "# taxid_file = 'data/train_small-db_toy-2000.taxid'\n",
    "# output_dir = 'data/sampling/sampling-toy-2000-mlr'\n",
    "# pattern = 'fragments*.npy'\n",
    "# seed = 42\n",
    "# date_time = datetime.datetime.now().strftime('%Y.%m.%d.%H.%M.%S')\n",
    "# grid_search_file  = 'data/runs-2000/mlr-multi.{}.csv'.format(date_time)\n",
    "# fields = ['experiment','category','classifier','training shape','sample_length','coverage','k','eta', 'epsilon', 'score','score type']\n",
    "# experiment = '4.03'\n",
    "# score_type = 'species_recall'\n",
    "\n",
    "# # combinations to try\n",
    "# list_sample_length = [400]\n",
    "# list_coverage = [0.5,1,10]\n",
    "# list_k = [1,2,4,6,8,10,12]\n",
    "# list_eta = [0.01]\n",
    "# list_epsilon = [0.01]\n",
    "\n",
    "\n",
    "# grid_search_multiclass_mlr(seq_file, \n",
    "#                           taxid_file, \n",
    "#                           output_dir, \n",
    "#                           pattern, \n",
    "#                           list_sample_length, \n",
    "#                           list_coverage, \n",
    "#                           list_k, \n",
    "#                           list_eta,\n",
    "#                           list_epsilon,\n",
    "#                           seed,\n",
    "#                           grid_search_file,\n",
    "#                           fields,\n",
    "#                           experiment,\n",
    "#                           score_type)\n"
   ]
  },
  {
   "cell_type": "markdown",
   "id": "solar-party",
   "metadata": {},
   "source": [
    "### Run 4.04"
   ]
  },
  {
   "cell_type": "code",
   "execution_count": 11,
   "id": "mediterranean-session",
   "metadata": {
    "scrolled": false
   },
   "outputs": [],
   "source": [
    "# %%time\n",
    "\n",
    "# # parameters\n",
    "# seq_file = 'data/train_small-db_toy-2000.fasta'\n",
    "# taxid_file = 'data/train_small-db_toy-2000.taxid'\n",
    "# output_dir = 'data/sampling/sampling-toy-2000-mlr'\n",
    "# pattern = 'fragments*.npy'\n",
    "# seed = 42\n",
    "# date_time = datetime.datetime.now().strftime('%Y.%m.%d.%H.%M.%S')\n",
    "# grid_search_file  = 'data/runs-2000/mlr-multi.{}.csv'.format(date_time)\n",
    "# fields = ['experiment','category','classifier','training shape','sample_length','coverage','k','eta', 'epsilon', 'score','score type']\n",
    "# experiment = '4.04'\n",
    "# score_type = 'species_recall'\n",
    "\n",
    "# # combinations to try\n",
    "# list_sample_length = [100]\n",
    "# list_coverage = [100]\n",
    "# list_k = [1,2,4,6,8,10,12]\n",
    "# list_eta = [0.01]\n",
    "# list_epsilon = [0.01]\n",
    "\n",
    "\n",
    "# grid_search_multiclass_mlr(seq_file, \n",
    "#                           taxid_file, \n",
    "#                           output_dir, \n",
    "#                           pattern, \n",
    "#                           list_sample_length, \n",
    "#                           list_coverage, \n",
    "#                           list_k, \n",
    "#                           list_eta,\n",
    "#                           list_epsilon,\n",
    "#                           seed,\n",
    "#                           grid_search_file,\n",
    "#                           fields,\n",
    "#                           experiment,\n",
    "#                           score_type)\n"
   ]
  },
  {
   "cell_type": "markdown",
   "id": "transsexual-uncle",
   "metadata": {},
   "source": [
    "### Run 4.05"
   ]
  },
  {
   "cell_type": "code",
   "execution_count": 12,
   "id": "aging-gregory",
   "metadata": {
    "scrolled": false
   },
   "outputs": [],
   "source": [
    "# %%time\n",
    "##40 min\n",
    "\n",
    "# # parameters\n",
    "# seq_file = 'data/train_small-db_toy-2000.fasta'\n",
    "# taxid_file = 'data/train_small-db_toy-2000.taxid'\n",
    "# output_dir = 'data/sampling/sampling-toy-2000-mlr'\n",
    "# pattern = 'fragments*.npy'\n",
    "# seed = 42\n",
    "# date_time = datetime.datetime.now().strftime('%Y.%m.%d.%H.%M.%S')\n",
    "# grid_search_file  = 'data/runs-2000/mlr-multi.{}.csv'.format(date_time)\n",
    "# fields = ['experiment','category','classifier','training shape','sample_length','coverage','k','eta', 'epsilon', 'score','score type']\n",
    "# experiment = '4.05'\n",
    "# score_type = 'species_recall'\n",
    "\n",
    "# # combinations to try\n",
    "# list_sample_length = [100]\n",
    "# list_coverage = [200]\n",
    "# list_k = [1,2,4,6,8,10,12]\n",
    "# list_eta = [0.01]\n",
    "# list_epsilon = [0.01]\n",
    "\n",
    "\n",
    "# grid_search_multiclass_mlr(seq_file, \n",
    "#                           taxid_file, \n",
    "#                           output_dir, \n",
    "#                           pattern, \n",
    "#                           list_sample_length, \n",
    "#                           list_coverage, \n",
    "#                           list_k, \n",
    "#                           list_eta,\n",
    "#                           list_epsilon,\n",
    "#                           seed,\n",
    "#                           grid_search_file,\n",
    "#                           fields,\n",
    "#                           experiment,\n",
    "#                           score_type)\n"
   ]
  },
  {
   "cell_type": "markdown",
   "id": "intelligent-leonard",
   "metadata": {},
   "source": [
    "# Run Set 2 - sklearn with l1 penalty\n",
    "Compare with sklearn implementation of MLR to see if performance is similar."
   ]
  },
  {
   "cell_type": "code",
   "execution_count": 13,
   "id": "temporal-rescue",
   "metadata": {},
   "outputs": [],
   "source": [
    "# def calc_number_combinations2(list_sample_length,list_coverage,list_k,list_multiclass,list_classweight):\n",
    "#     n = len(list_sample_length) * len(list_coverage) * len(list_k) *len(list_multiclass) * len(list_classweight)\n",
    "#     return n"
   ]
  },
  {
   "cell_type": "code",
   "execution_count": 14,
   "id": "behavioral-today",
   "metadata": {},
   "outputs": [],
   "source": [
    "def encode_fragments2(output_dir, pattern, k, seed):\n",
    "    \"\"\"\n",
    "    Does not convert sparse matrix to numpy matrix.\n",
    "    \"\"\"\n",
    "    \n",
    "    # encode data\n",
    "    fragments = sampling2.read_fragments(output_dir, pattern)\n",
    "    X_enc, y = encoding2.encode_fragment_dataset(fragments,k)\n",
    "    le = preprocessing.LabelEncoder()\n",
    "    y_enc = le.fit_transform(y)\n",
    "    \n",
    "    # calculate number of classes\n",
    "    n_classes = len(np.unique(y_enc))\n",
    "#     print('n_classes:',n_classes)\n",
    "    n_classes_train = 0\n",
    "    n_classes_test = 0\n",
    "    while n_classes_train < n_classes or n_classes_test < n_classes:\n",
    "\n",
    "        # split data into test and training\n",
    "        X_train, X_test, y_train, y_test = train_test_split(X_enc, y_enc, test_size=0.33)\n",
    "        n_classes_train = len(np.unique(y_train))\n",
    "        n_classes_test = len(np.unique(y_test))\n",
    "#         print('train:',y_train)\n",
    "#         print('test:', y_test)\n",
    "    \n",
    "    print(X_enc.shape)\n",
    "    \n",
    "    return X_train, X_test, y_train, y_test"
   ]
  },
  {
   "cell_type": "code",
   "execution_count": 15,
   "id": "satisfactory-moral",
   "metadata": {},
   "outputs": [],
   "source": [
    "# def run_lr_classification_recall(X_train, X_test, y_train, y_test, multiclass, classweight, seed ):\n",
    "#     \"\"\"\n",
    "#     Score is species level recall. Uses sklearn version of logistic regression.\n",
    "#     \"\"\"\n",
    "#     lr = LogisticRegression(random_state=seed, multi_class=multiclass, class_weight=classweight )\n",
    "#     lr.fit(X_train,y_train)\n",
    "#     y_pred = lr.predict(X_test)\n",
    "#     score = recall_score(y_test, y_pred, average='weighted')\n",
    "#     return score\n",
    "    "
   ]
  },
  {
   "cell_type": "code",
   "execution_count": 16,
   "id": "herbal-lloyd",
   "metadata": {},
   "outputs": [],
   "source": [
    "# def grid_search_multiclass_lr(seq_file, \n",
    "#                               taxid_file, \n",
    "#                               output_dir, \n",
    "#                               pattern, \n",
    "#                               list_sample_length, \n",
    "#                               list_coverage, \n",
    "#                               list_k,\n",
    "#                               list_multiclass,\n",
    "#                               list_classweight,\n",
    "#                               seed,\n",
    "#                               grid_search_file,\n",
    "#                               fields,\n",
    "#                               experiment,\n",
    "#                               score_type):\n",
    "    \n",
    "#     # set up grid search results file\n",
    "#     append_results_to_file(grid_search_file, fields)\n",
    "    \n",
    "#     # calculate number of combinations\n",
    "#     n_combinations = calc_number_combinations2(list_sample_length,list_coverage,list_k, list_multiclass, list_classweight)\n",
    "    \n",
    "#     # process combinations\n",
    "#     count = 0\n",
    "#     for sample_length in list_sample_length:\n",
    "#         for coverage in list_coverage:\n",
    "            \n",
    "#             # fragment combination\n",
    "#             build_fragments(seq_file, taxid_file, output_dir, sample_length, coverage, seed)\n",
    "#             for k in list_k:\n",
    "                \n",
    "#                 # kmer combination\n",
    "#                 X_train, X_test, y_train, y_test = encode_fragments2(output_dir, pattern,k,seed)\n",
    "                \n",
    "                \n",
    "#                 for multiclass in list_multiclass:\n",
    "#                     for classweight in list_classweight:\n",
    "\n",
    "                        \n",
    "#                         # random forest combination\n",
    "#                         score = run_lr_classification_recall(X_train, X_test, y_train, y_test, multiclass, classweight, seed)\n",
    "#                         count += 1\n",
    "\n",
    "#                         # output results to file\n",
    "#                         row = [experiment, 'multiclass', 'Logistic Regression (sklearn)', X_train.shape, sample_length, coverage, k, multiclass, classweight, score, score_type]\n",
    "#                         append_results_to_file(grid_search_file, row)\n",
    "\n",
    "#                 print('Percent complete: {}'.format(count / n_combinations * 100)) # display progress\n"
   ]
  },
  {
   "cell_type": "markdown",
   "id": "known-james",
   "metadata": {},
   "source": [
    "### Run 5.01"
   ]
  },
  {
   "cell_type": "code",
   "execution_count": 17,
   "id": "seven-stations",
   "metadata": {
    "scrolled": false
   },
   "outputs": [],
   "source": [
    "# %%time\n",
    "\n",
    "# # parameters\n",
    "# seq_file = 'data/train_small-db_toy-2000.fasta'\n",
    "# taxid_file = 'data/train_small-db_toy-2000.taxid'\n",
    "# output_dir = 'data/sampling/sampling-toy-2000'\n",
    "# pattern = 'fragments*.npy'\n",
    "# seed = 42\n",
    "# date_time = datetime.datetime.now().strftime('%Y.%m.%d.%H.%M.%S')\n",
    "# grid_search_file  = 'data/runs-2000/lr-multi.{}.csv'.format(date_time)\n",
    "# fields = ['experiment','category','classifier','training shape','sample_length','coverage','k','multiclass', 'class_weight', 'score','score type']\n",
    "# experiment = '5.01'\n",
    "# score_type = 'species_recall'\n",
    "\n",
    "# # combinations to try\n",
    "# list_sample_length = [100,200,400]\n",
    "# list_coverage = [1,10,100,200,400]\n",
    "# list_k = [1]\n",
    "# list_multiclass = ['auto']\n",
    "# list_classweight= [None]\n",
    "\n",
    "\n",
    "# grid_search_multiclass_lr(seq_file, \n",
    "#                           taxid_file, \n",
    "#                           output_dir, \n",
    "#                           pattern, \n",
    "#                           list_sample_length, \n",
    "#                           list_coverage, \n",
    "#                           list_k, \n",
    "#                           list_multiclass,\n",
    "#                           list_classweight,\n",
    "#                           seed,\n",
    "#                           grid_search_file,\n",
    "#                           fields,\n",
    "#                           experiment,\n",
    "#                           score_type)\n"
   ]
  },
  {
   "cell_type": "markdown",
   "id": "frank-donna",
   "metadata": {},
   "source": [
    "### Run 5.02"
   ]
  },
  {
   "cell_type": "code",
   "execution_count": 18,
   "id": "infinite-clear",
   "metadata": {
    "scrolled": false
   },
   "outputs": [],
   "source": [
    "# %%time\n",
    "\n",
    "# # parameters\n",
    "# seq_file = 'data/train_small-db_toy-2000.fasta'\n",
    "# taxid_file = 'data/train_small-db_toy-2000.taxid'\n",
    "# output_dir = 'data/sampling/sampling-toy-2000'\n",
    "# pattern = 'fragments*.npy'\n",
    "# seed = 42\n",
    "# date_time = datetime.datetime.now().strftime('%Y.%m.%d.%H.%M.%S')\n",
    "# grid_search_file  = 'data/runs-2000/lr-multi.{}.csv'.format(date_time)\n",
    "# fields = ['experiment','category','classifier','training shape','sample_length','coverage','k','multiclass', 'class_weight', 'score','score type']\n",
    "# experiment = '5.02'\n",
    "# score_type = 'species_recall'\n",
    "\n",
    "# # combinations to try\n",
    "# list_sample_length = [100,200,400]\n",
    "# list_coverage = [1,10,100,200,400]\n",
    "# list_k = [2,4,6,8,10,12]\n",
    "# list_multiclass = ['auto']\n",
    "# list_classweight= [None]\n",
    "\n",
    "\n",
    "# grid_search_multiclass_lr(seq_file, \n",
    "#                           taxid_file, \n",
    "#                           output_dir, \n",
    "#                           pattern, \n",
    "#                           list_sample_length, \n",
    "#                           list_coverage, \n",
    "#                           list_k, \n",
    "#                           list_multiclass,\n",
    "#                           list_classweight,\n",
    "#                           seed,\n",
    "#                           grid_search_file,\n",
    "#                           fields,\n",
    "#                           experiment,\n",
    "#                           score_type)\n"
   ]
  },
  {
   "cell_type": "markdown",
   "id": "mental-plaza",
   "metadata": {},
   "source": [
    "# Run Set 3 - MLR with L2 penalty\n",
    "- toy-2000 dataset\n",
    "- See how performance changes with L2 penalty\n",
    "- Changed breakpoint in gradient descent to 100 from 100,000 as well."
   ]
  },
  {
   "cell_type": "code",
   "execution_count": 19,
   "id": "constant-travel",
   "metadata": {},
   "outputs": [],
   "source": [
    "def calc_number_combinations(*args):\n",
    "    total = 1\n",
    "    for each in args:\n",
    "        total *= len(each)\n",
    "    return total"
   ]
  },
  {
   "cell_type": "code",
   "execution_count": 20,
   "id": "otherwise-radiation",
   "metadata": {},
   "outputs": [],
   "source": [
    "def parameter_generator(list_sample_length,list_coverage,list_k):\n",
    "    \n",
    "    for L in list_sample_length:\n",
    "        for c in list_coverage:\n",
    "            for k in list_k:\n",
    "                yield L, c, k"
   ]
  },
  {
   "cell_type": "code",
   "execution_count": 21,
   "id": "express-atlas",
   "metadata": {},
   "outputs": [],
   "source": [
    "def hyperparameter_generator(list_eta,list_epsilon, list_penalty, list_l2_lambda,list_max_iter):\n",
    "    \n",
    "    for eta in list_eta:\n",
    "        for e in list_epsilon:\n",
    "            for penalty in list_penalty:\n",
    "                for l2 in list_l2_lambda:\n",
    "                    for m in list_max_iter:\n",
    "                        yield eta,e,penalty,l2,m"
   ]
  },
  {
   "cell_type": "code",
   "execution_count": 22,
   "id": "front-islam",
   "metadata": {},
   "outputs": [],
   "source": [
    "def run_mlr_classification_recall(X_train, X_test, y_train, y_test, eta, epsilon, penalty, l2_lambda, max_iter):\n",
    "    \"\"\"\n",
    "    Score is species level recall.\n",
    "    \"\"\"\n",
    "    mlr = MulticlassLogisticRegression2(eta=eta, \n",
    "                                        epsilon=epsilon, \n",
    "                                        penalty=penalty, \n",
    "                                        l2_lambda=l2_lambda, \n",
    "                                        max_iter=max_iter)\n",
    "    mlr.fit(X_train,y_train)\n",
    "    y_pred = mlr.predict(X_test)\n",
    "    score = recall_score(y_test, y_pred, average='weighted')\n",
    "    return score\n",
    "    "
   ]
  },
  {
   "cell_type": "code",
   "execution_count": 39,
   "id": "satisfied-consortium",
   "metadata": {},
   "outputs": [],
   "source": [
    "def grid_search_multiclass_mlr(seq_file, \n",
    "                              taxid_file, \n",
    "                              output_dir, \n",
    "                              pattern, \n",
    "                              list_sample_length, \n",
    "                              list_coverage, \n",
    "                              list_k,\n",
    "                              list_eta,\n",
    "                              list_epsilon, \n",
    "                              list_penalty,\n",
    "                              list_l2_lambda,\n",
    "                              list_max_iter,\n",
    "                              seed,\n",
    "                              grid_search_file,\n",
    "                              fields,\n",
    "                              experiment,\n",
    "                              score_type):\n",
    "    \n",
    "    # set up grid search results file\n",
    "    append_results_to_file(grid_search_file, fields)\n",
    "    \n",
    "    # calculate number of combinations\n",
    "    n_combinations = calc_number_combinations(list_sample_length,\n",
    "                                              list_coverage,\n",
    "                                              list_k,\n",
    "                                              list_eta,\n",
    "                                              list_epsilon, \n",
    "                                              list_penalty,\n",
    "                                              list_l2_lambda, \n",
    "                                              list_max_iter)\n",
    "    \n",
    "    # process combinations\n",
    "    count = 0\n",
    "    sample_length_prev = -1\n",
    "    coverage_prev = -1\n",
    "    \n",
    "    # parameter combinations\n",
    "    for sample_length, coverage,k in parameter_generator(list_sample_length,list_coverage,list_k):\n",
    "        print(sample_length, coverage,k)\n",
    "        \n",
    "        if sample_length != sample_length_prev or coverage != coverage_prev:\n",
    "            \n",
    "            # fragment combination\n",
    "            build_fragments(seq_file, taxid_file, output_dir, sample_length, coverage, seed)\n",
    "            \n",
    "            # update previous values\n",
    "            sample_length_prev = sample_length\n",
    "            coverage_prev = coverage\n",
    "                \n",
    "        # kmer from fragments\n",
    "        X_train, X_test, y_train, y_test = encode_fragments(output_dir, pattern,k,seed)\n",
    "        \n",
    "        \n",
    "        # hyperparameter combinations\n",
    "        for eta, epsilon, penalty, l2_lambda, max_iter in hyperparameter_generator(list_eta,list_epsilon, list_penalty, list_l2_lambda,list_max_iter):\n",
    "            print(eta, epsilon, penalty, l2_lambda, max_iter)\n",
    "            \n",
    "            # train and score model\n",
    "            score = run_mlr_classification_recall(X_train, X_test, y_train, y_test, eta, epsilon, penalty, l2_lambda, max_iter)\n",
    "            count += 1\n",
    "\n",
    "            # output results to file\n",
    "            row = [experiment, 'multiclass', 'Logistic Regression', X_train.shape, sample_length, coverage, k, eta, epsilon, penalty, l2_lambda, max_iter, score, score_type]\n",
    "            append_results_to_file(grid_search_file, row)\n",
    "                        \n",
    "        print('Percent complete: {}'.format(count / n_combinations * 100)) # display progress\n",
    "    "
   ]
  },
  {
   "cell_type": "markdown",
   "id": "revolutionary-given",
   "metadata": {},
   "source": [
    "### Run 6.01"
   ]
  },
  {
   "cell_type": "code",
   "execution_count": 24,
   "id": "white-europe",
   "metadata": {
    "scrolled": true
   },
   "outputs": [],
   "source": [
    "# %%time\n",
    "\n",
    "# # parameters\n",
    "# seq_file = 'data/train_small-db_toy-2000.fasta'\n",
    "# taxid_file = 'data/train_small-db_toy-2000.taxid'\n",
    "# output_dir = 'data/sampling/sampling-toy-2000-mlr'\n",
    "# pattern = 'fragments*.npy'\n",
    "# seed = 42\n",
    "# date_time = datetime.datetime.now().strftime('%Y.%m.%d.%H.%M.%S')\n",
    "# grid_search_file  = 'data/runs-2000/mlr-multi.{}.csv'.format(date_time)\n",
    "# fields = ['experiment','category','classifier','training shape','sample_length','coverage','k','eta', 'epsilon', 'l2_penalty','score','score type']\n",
    "# experiment = '6.01'\n",
    "# score_type = 'species_recall'\n",
    "\n",
    "# # combinations to try\n",
    "# list_sample_length = [100]\n",
    "# list_coverage = [1,10,100,200,400]\n",
    "# list_k = [1,2,4,6,8,10,12]\n",
    "# list_eta = [0.01]\n",
    "# list_epsilon = [0.01]\n",
    "# list_l2_penalty = [1,10,100, 0.1]\n",
    "\n",
    "\n",
    "# grid_search_multiclass_mlr_l2(seq_file, \n",
    "#                           taxid_file, \n",
    "#                           output_dir, \n",
    "#                           pattern, \n",
    "#                           list_sample_length, \n",
    "#                           list_coverage, \n",
    "#                           list_k, \n",
    "#                           list_eta,\n",
    "#                           list_epsilon,\n",
    "#                           list_l2_penalty,\n",
    "#                           seed,\n",
    "#                           grid_search_file,\n",
    "#                           fields,\n",
    "#                           experiment,\n",
    "#                           score_type)\n"
   ]
  },
  {
   "cell_type": "markdown",
   "id": "latin-broadcast",
   "metadata": {},
   "source": [
    "### Run 6.02\n",
    "Testing out range for lambda. It appears that close to zero (0, 0.1) is best, with values decreasing more after 1.0."
   ]
  },
  {
   "cell_type": "code",
   "execution_count": 44,
   "id": "tight-quarterly",
   "metadata": {},
   "outputs": [],
   "source": [
    "# %%time\n",
    "\n",
    "# # parameters\n",
    "# seq_file = 'data/train_small-db_toy-2000.fasta'\n",
    "# taxid_file = 'data/train_small-db_toy-2000.taxid'\n",
    "# output_dir = 'data/sampling/sampling-toy-2000'\n",
    "# pattern = 'fragments*.npy'\n",
    "# seed = 42\n",
    "# date_time = datetime.datetime.now().strftime('%Y.%m.%d.%H.%M.%S')\n",
    "# grid_search_file  = 'data/gridsearch-2000/mlr-multi.{}.csv'.format(date_time)\n",
    "# fields = ['experiment',\n",
    "#           'category',\n",
    "#           'classifier',\n",
    "#           'training shape',\n",
    "#           'sample_length',\n",
    "#           'coverage',\n",
    "#           'k',\n",
    "#           'eta', \n",
    "#           'epsilon', \n",
    "#           'penalty',\n",
    "#           'l2_lambda',\n",
    "#           'max_iter',\n",
    "#           'score',\n",
    "#           'score type']\n",
    "\n",
    "# experiment = '6.02'\n",
    "# score_type = 'species_recall'\n",
    "\n",
    "# # combinations to try\n",
    "# list_sample_length = [100]\n",
    "# list_coverage = [200]\n",
    "# list_k = [4]\n",
    "# list_eta = [0.01]\n",
    "# list_epsilon = [0.01]\n",
    "# list_penalty = ['l2']\n",
    "# list_l2_lambda = [0,0.1,0.5,1,3,6,10]\n",
    "# list_max_iter = [100]\n",
    "\n",
    "\n",
    "# grid_search_multiclass_mlr(seq_file, \n",
    "#                                 taxid_file, \n",
    "#                                 output_dir, \n",
    "#                                 pattern, \n",
    "#                                 list_sample_length, \n",
    "#                                 list_coverage, \n",
    "#                                 list_k, \n",
    "#                                 list_eta,\n",
    "#                                 list_epsilon,\n",
    "#                                 list_penalty,\n",
    "#                                 list_l2_lambda,\n",
    "#                                 list_max_iter,\n",
    "#                                 seed,\n",
    "#                                 grid_search_file,\n",
    "#                                 fields,\n",
    "#                                 experiment,\n",
    "#                                 score_type)\n"
   ]
  },
  {
   "cell_type": "markdown",
   "id": "inappropriate-permit",
   "metadata": {},
   "source": [
    "# Run Set 4 - sklearn with l1 penalty\n",
    "To compare against L2 results"
   ]
  },
  {
   "cell_type": "code",
   "execution_count": 45,
   "id": "balanced-fabric",
   "metadata": {},
   "outputs": [],
   "source": [
    "def hyperparameter_generator_lr(list_penalty,list_multiclass,list_classweight):\n",
    "    \n",
    "    for penalty in list_penalty:\n",
    "        for multiclass in list_multiclass:\n",
    "            for classweight in list_classweight:\n",
    "                yield penalty,multiclass,classweight"
   ]
  },
  {
   "cell_type": "code",
   "execution_count": 57,
   "id": "tamil-objective",
   "metadata": {},
   "outputs": [],
   "source": [
    "def run_lr_classification_recall(X_train, X_test, y_train, y_test, penalty,multiclass,classweight, seed):\n",
    "    \"\"\"\n",
    "    Score is species level recall.\n",
    "    Sets solver to 'saga' for l1 penalty. Uses default solver for l2 penalty. solver='saga'\n",
    "    \"\"\"\n",
    "    lr = LogisticRegression(penalty=penalty, multi_class=multiclass, class_weight=classweight,random_state=seed )\n",
    "    lr.fit(X_train,y_train)\n",
    "    y_pred = lr.predict(X_test)\n",
    "    score = recall_score(y_test, y_pred, average='weighted')\n",
    "    return score\n",
    "    "
   ]
  },
  {
   "cell_type": "code",
   "execution_count": 53,
   "id": "swedish-pasta",
   "metadata": {},
   "outputs": [],
   "source": [
    "def grid_search_multiclass_lr(seq_file, \n",
    "                          taxid_file, \n",
    "                          output_dir, \n",
    "                          pattern, \n",
    "                          list_sample_length, \n",
    "                          list_coverage, \n",
    "                          list_k, \n",
    "                          list_penalty,\n",
    "                          list_multiclass,\n",
    "                          list_classweight,\n",
    "                          seed,\n",
    "                          grid_search_file,\n",
    "                          fields,\n",
    "                          experiment,\n",
    "                          score_type):\n",
    "    \n",
    "    # set up grid search results file\n",
    "    append_results_to_file(grid_search_file, fields)\n",
    "    \n",
    "    # calculate number of combinations\n",
    "    n_combinations = calc_number_combinations(list_sample_length,\n",
    "                                              list_coverage,\n",
    "                                              list_k,\n",
    "                                              list_eta,\n",
    "                                              list_epsilon, \n",
    "                                              list_penalty,\n",
    "                                              list_l2_lambda, \n",
    "                                              list_max_iter)\n",
    "    \n",
    "    # process combinations\n",
    "    count = 0\n",
    "    sample_length_prev = -1\n",
    "    coverage_prev = -1\n",
    "    \n",
    "    # parameter combinations\n",
    "    for sample_length, coverage,k in parameter_generator(list_sample_length,list_coverage,list_k):\n",
    "        print(sample_length, coverage,k)\n",
    "        \n",
    "        if sample_length != sample_length_prev or coverage != coverage_prev:\n",
    "            \n",
    "            # fragment combination\n",
    "            build_fragments(seq_file, taxid_file, output_dir, sample_length, coverage, seed)\n",
    "            \n",
    "            # update previous values\n",
    "            sample_length_prev = sample_length\n",
    "            coverage_prev = coverage\n",
    "                \n",
    "        # kmer from fragments\n",
    "        X_train, X_test, y_train, y_test = encode_fragments2(output_dir, pattern,k,seed)\n",
    "        \n",
    "        \n",
    "        # hyperparameter combinations\n",
    "        for penalty,multiclass,classweight in hyperparameter_generator_lr(list_penalty,list_multiclass,list_classweight):\n",
    "            print(penalty,multiclass,classweight)\n",
    "            \n",
    "            # train and score model\n",
    "            score = run_lr_classification_recall(X_train, X_test, y_train, y_test, penalty,multiclass,classweight, seed)\n",
    "            count += 1\n",
    "\n",
    "            # output results to file\n",
    "            row = [experiment, 'multiclass', 'Logistic Regression (sklearn)', X_train.shape, sample_length, coverage, k, penalty, multiclass, classweight, score, score_type]\n",
    "            append_results_to_file(grid_search_file, row)\n",
    "                        \n",
    "        print('Percent complete: {}'.format(count / n_combinations * 100)) # display progress\n",
    "    "
   ]
  },
  {
   "cell_type": "markdown",
   "id": "stainless-wildlife",
   "metadata": {},
   "source": [
    "### Run 7.01 - l1 penalty with saga solver\n",
    "Can't use default solver with l1 penalty."
   ]
  },
  {
   "cell_type": "code",
   "execution_count": 56,
   "id": "likely-birmingham",
   "metadata": {},
   "outputs": [
    {
     "name": "stdout",
     "output_type": "stream",
     "text": [
      "100 1 1\n",
      "(85, 400)\n",
      "l1 auto None\n",
      "Percent complete: 0.9523809523809524\n",
      "100 1 2\n",
      "(85, 793)\n",
      "l1 auto None\n",
      "Percent complete: 1.9047619047619049\n",
      "100 1 4\n",
      "(85, 1722)\n",
      "l1 auto None\n",
      "Percent complete: 2.857142857142857\n",
      "100 1 6\n",
      "(85, 1338)\n",
      "l1 auto None\n",
      "Percent complete: 3.8095238095238098\n",
      "100 1 8\n",
      "(85, 1018)\n",
      "l1 auto None\n",
      "Percent complete: 4.761904761904762\n",
      "100 1 10\n",
      "(85, 850)\n",
      "l1 auto None\n",
      "Percent complete: 5.714285714285714\n",
      "100 1 12\n",
      "(85, 680)\n",
      "l1 auto None\n"
     ]
    },
    {
     "name": "stderr",
     "output_type": "stream",
     "text": [
      "/Users/ryanqnelson/opt/anaconda3/envs/cmu/lib/python3.6/site-packages/sklearn/linear_model/_sag.py:329: ConvergenceWarning: The max_iter was reached which means the coef_ did not converge\n",
      "  \"the coef_ did not converge\", ConvergenceWarning)\n",
      "/Users/ryanqnelson/opt/anaconda3/envs/cmu/lib/python3.6/site-packages/sklearn/linear_model/_sag.py:329: ConvergenceWarning: The max_iter was reached which means the coef_ did not converge\n",
      "  \"the coef_ did not converge\", ConvergenceWarning)\n",
      "/Users/ryanqnelson/opt/anaconda3/envs/cmu/lib/python3.6/site-packages/sklearn/linear_model/_sag.py:329: ConvergenceWarning: The max_iter was reached which means the coef_ did not converge\n",
      "  \"the coef_ did not converge\", ConvergenceWarning)\n",
      "/Users/ryanqnelson/opt/anaconda3/envs/cmu/lib/python3.6/site-packages/sklearn/linear_model/_sag.py:329: ConvergenceWarning: The max_iter was reached which means the coef_ did not converge\n",
      "  \"the coef_ did not converge\", ConvergenceWarning)\n"
     ]
    },
    {
     "name": "stdout",
     "output_type": "stream",
     "text": [
      "Percent complete: 6.666666666666667\n",
      "100 10 1\n",
      "(816, 400)\n",
      "l1 auto None\n"
     ]
    },
    {
     "name": "stderr",
     "output_type": "stream",
     "text": [
      "/Users/ryanqnelson/opt/anaconda3/envs/cmu/lib/python3.6/site-packages/sklearn/linear_model/_sag.py:329: ConvergenceWarning: The max_iter was reached which means the coef_ did not converge\n",
      "  \"the coef_ did not converge\", ConvergenceWarning)\n"
     ]
    },
    {
     "name": "stdout",
     "output_type": "stream",
     "text": [
      "Percent complete: 7.6190476190476195\n",
      "100 10 2\n",
      "(816, 800)\n",
      "l1 auto None\n"
     ]
    },
    {
     "name": "stderr",
     "output_type": "stream",
     "text": [
      "/Users/ryanqnelson/opt/anaconda3/envs/cmu/lib/python3.6/site-packages/sklearn/linear_model/_sag.py:329: ConvergenceWarning: The max_iter was reached which means the coef_ did not converge\n",
      "  \"the coef_ did not converge\", ConvergenceWarning)\n"
     ]
    },
    {
     "name": "stdout",
     "output_type": "stream",
     "text": [
      "Percent complete: 8.571428571428571\n",
      "100 10 4\n",
      "(816, 5689)\n",
      "l1 auto None\n"
     ]
    },
    {
     "name": "stderr",
     "output_type": "stream",
     "text": [
      "/Users/ryanqnelson/opt/anaconda3/envs/cmu/lib/python3.6/site-packages/sklearn/linear_model/_sag.py:329: ConvergenceWarning: The max_iter was reached which means the coef_ did not converge\n",
      "  \"the coef_ did not converge\", ConvergenceWarning)\n"
     ]
    },
    {
     "name": "stdout",
     "output_type": "stream",
     "text": [
      "Percent complete: 9.523809523809524\n",
      "100 10 6\n",
      "(816, 10714)\n",
      "l1 auto None\n"
     ]
    },
    {
     "name": "stderr",
     "output_type": "stream",
     "text": [
      "/Users/ryanqnelson/opt/anaconda3/envs/cmu/lib/python3.6/site-packages/sklearn/linear_model/_sag.py:329: ConvergenceWarning: The max_iter was reached which means the coef_ did not converge\n",
      "  \"the coef_ did not converge\", ConvergenceWarning)\n",
      "/Users/ryanqnelson/opt/anaconda3/envs/cmu/lib/python3.6/site-packages/sklearn/linear_model/_sag.py:329: ConvergenceWarning: The max_iter was reached which means the coef_ did not converge\n",
      "  \"the coef_ did not converge\", ConvergenceWarning)\n"
     ]
    },
    {
     "name": "stdout",
     "output_type": "stream",
     "text": [
      "Percent complete: 10.476190476190476\n",
      "100 10 8\n",
      "(816, 9328)\n",
      "l1 auto None\n",
      "Percent complete: 11.428571428571429\n",
      "100 10 10\n",
      "(816, 7885)\n",
      "l1 auto None\n",
      "Percent complete: 12.380952380952381\n",
      "100 10 12\n",
      "(816, 6317)\n",
      "l1 auto None\n",
      "Percent complete: 13.333333333333334\n",
      "100 100 1\n",
      "(8141, 400)\n",
      "l1 auto None\n",
      "Percent complete: 14.285714285714285\n",
      "100 100 2\n",
      "(8141, 800)\n",
      "l1 auto None\n"
     ]
    },
    {
     "name": "stderr",
     "output_type": "stream",
     "text": [
      "/Users/ryanqnelson/opt/anaconda3/envs/cmu/lib/python3.6/site-packages/sklearn/linear_model/_sag.py:329: ConvergenceWarning: The max_iter was reached which means the coef_ did not converge\n",
      "  \"the coef_ did not converge\", ConvergenceWarning)\n"
     ]
    },
    {
     "name": "stdout",
     "output_type": "stream",
     "text": [
      "Percent complete: 15.238095238095239\n",
      "100 100 4\n",
      "(8141, 6399)\n",
      "l1 auto None\n"
     ]
    },
    {
     "name": "stderr",
     "output_type": "stream",
     "text": [
      "/Users/ryanqnelson/opt/anaconda3/envs/cmu/lib/python3.6/site-packages/sklearn/linear_model/_sag.py:329: ConvergenceWarning: The max_iter was reached which means the coef_ did not converge\n",
      "  \"the coef_ did not converge\", ConvergenceWarning)\n"
     ]
    },
    {
     "name": "stdout",
     "output_type": "stream",
     "text": [
      "Percent complete: 16.19047619047619\n",
      "100 100 6\n",
      "(8141, 38665)\n",
      "l1 auto None\n"
     ]
    },
    {
     "name": "stderr",
     "output_type": "stream",
     "text": [
      "/Users/ryanqnelson/opt/anaconda3/envs/cmu/lib/python3.6/site-packages/sklearn/linear_model/_sag.py:329: ConvergenceWarning: The max_iter was reached which means the coef_ did not converge\n",
      "  \"the coef_ did not converge\", ConvergenceWarning)\n"
     ]
    },
    {
     "name": "stdout",
     "output_type": "stream",
     "text": [
      "Percent complete: 17.142857142857142\n",
      "100 100 8\n",
      "(8141, 53604)\n",
      "l1 auto None\n"
     ]
    },
    {
     "name": "stderr",
     "output_type": "stream",
     "text": [
      "/Users/ryanqnelson/opt/anaconda3/envs/cmu/lib/python3.6/site-packages/sklearn/linear_model/_sag.py:329: ConvergenceWarning: The max_iter was reached which means the coef_ did not converge\n",
      "  \"the coef_ did not converge\", ConvergenceWarning)\n"
     ]
    },
    {
     "name": "stdout",
     "output_type": "stream",
     "text": [
      "Percent complete: 18.095238095238095\n",
      "100 100 10\n",
      "(8141, 48759)\n",
      "l1 auto None\n"
     ]
    },
    {
     "name": "stderr",
     "output_type": "stream",
     "text": [
      "/Users/ryanqnelson/opt/anaconda3/envs/cmu/lib/python3.6/site-packages/sklearn/linear_model/_sag.py:329: ConvergenceWarning: The max_iter was reached which means the coef_ did not converge\n",
      "  \"the coef_ did not converge\", ConvergenceWarning)\n"
     ]
    },
    {
     "name": "stdout",
     "output_type": "stream",
     "text": [
      "Percent complete: 19.047619047619047\n",
      "100 100 12\n",
      "(8141, 39395)\n",
      "l1 auto None\n"
     ]
    },
    {
     "name": "stderr",
     "output_type": "stream",
     "text": [
      "/Users/ryanqnelson/opt/anaconda3/envs/cmu/lib/python3.6/site-packages/sklearn/linear_model/_sag.py:329: ConvergenceWarning: The max_iter was reached which means the coef_ did not converge\n",
      "  \"the coef_ did not converge\", ConvergenceWarning)\n"
     ]
    },
    {
     "name": "stdout",
     "output_type": "stream",
     "text": [
      "Percent complete: 20.0\n",
      "100 200 1\n",
      "(16282, 400)\n",
      "l1 auto None\n",
      "Percent complete: 20.952380952380953\n",
      "100 200 2\n",
      "(16282, 800)\n",
      "l1 auto None\n"
     ]
    },
    {
     "name": "stderr",
     "output_type": "stream",
     "text": [
      "/Users/ryanqnelson/opt/anaconda3/envs/cmu/lib/python3.6/site-packages/sklearn/linear_model/_sag.py:329: ConvergenceWarning: The max_iter was reached which means the coef_ did not converge\n",
      "  \"the coef_ did not converge\", ConvergenceWarning)\n"
     ]
    },
    {
     "name": "stdout",
     "output_type": "stream",
     "text": [
      "Percent complete: 21.904761904761905\n",
      "100 200 4\n",
      "(16282, 6400)\n",
      "l1 auto None\n"
     ]
    },
    {
     "name": "stderr",
     "output_type": "stream",
     "text": [
      "/Users/ryanqnelson/opt/anaconda3/envs/cmu/lib/python3.6/site-packages/sklearn/linear_model/_sag.py:329: ConvergenceWarning: The max_iter was reached which means the coef_ did not converge\n",
      "  \"the coef_ did not converge\", ConvergenceWarning)\n"
     ]
    },
    {
     "name": "stdout",
     "output_type": "stream",
     "text": [
      "Percent complete: 22.857142857142858\n",
      "100 200 6\n",
      "(16282, 43939)\n",
      "l1 auto None\n"
     ]
    },
    {
     "name": "stderr",
     "output_type": "stream",
     "text": [
      "/Users/ryanqnelson/opt/anaconda3/envs/cmu/lib/python3.6/site-packages/sklearn/linear_model/_sag.py:329: ConvergenceWarning: The max_iter was reached which means the coef_ did not converge\n",
      "  \"the coef_ did not converge\", ConvergenceWarning)\n"
     ]
    },
    {
     "name": "stdout",
     "output_type": "stream",
     "text": [
      "Percent complete: 23.809523809523807\n",
      "100 200 8\n",
      "(16282, 68550)\n",
      "l1 auto None\n"
     ]
    },
    {
     "name": "stderr",
     "output_type": "stream",
     "text": [
      "/Users/ryanqnelson/opt/anaconda3/envs/cmu/lib/python3.6/site-packages/sklearn/linear_model/_sag.py:329: ConvergenceWarning: The max_iter was reached which means the coef_ did not converge\n",
      "  \"the coef_ did not converge\", ConvergenceWarning)\n"
     ]
    },
    {
     "name": "stdout",
     "output_type": "stream",
     "text": [
      "Percent complete: 24.761904761904763\n",
      "100 200 10\n",
      "(16282, 63875)\n",
      "l1 auto None\n"
     ]
    },
    {
     "name": "stderr",
     "output_type": "stream",
     "text": [
      "/Users/ryanqnelson/opt/anaconda3/envs/cmu/lib/python3.6/site-packages/sklearn/linear_model/_sag.py:329: ConvergenceWarning: The max_iter was reached which means the coef_ did not converge\n",
      "  \"the coef_ did not converge\", ConvergenceWarning)\n"
     ]
    },
    {
     "name": "stdout",
     "output_type": "stream",
     "text": [
      "Percent complete: 25.71428571428571\n",
      "100 200 12\n",
      "(16282, 51766)\n",
      "l1 auto None\n"
     ]
    },
    {
     "name": "stderr",
     "output_type": "stream",
     "text": [
      "/Users/ryanqnelson/opt/anaconda3/envs/cmu/lib/python3.6/site-packages/sklearn/linear_model/_sag.py:329: ConvergenceWarning: The max_iter was reached which means the coef_ did not converge\n",
      "  \"the coef_ did not converge\", ConvergenceWarning)\n"
     ]
    },
    {
     "name": "stdout",
     "output_type": "stream",
     "text": [
      "Percent complete: 26.666666666666668\n",
      "100 400 1\n",
      "(32564, 400)\n",
      "l1 auto None\n",
      "Percent complete: 27.61904761904762\n",
      "100 400 2\n",
      "(32564, 800)\n",
      "l1 auto None\n"
     ]
    },
    {
     "name": "stderr",
     "output_type": "stream",
     "text": [
      "/Users/ryanqnelson/opt/anaconda3/envs/cmu/lib/python3.6/site-packages/sklearn/linear_model/_sag.py:329: ConvergenceWarning: The max_iter was reached which means the coef_ did not converge\n",
      "  \"the coef_ did not converge\", ConvergenceWarning)\n"
     ]
    },
    {
     "name": "stdout",
     "output_type": "stream",
     "text": [
      "Percent complete: 28.57142857142857\n",
      "100 400 4\n",
      "(32564, 6400)\n",
      "l1 auto None\n"
     ]
    },
    {
     "name": "stderr",
     "output_type": "stream",
     "text": [
      "/Users/ryanqnelson/opt/anaconda3/envs/cmu/lib/python3.6/site-packages/sklearn/linear_model/_sag.py:329: ConvergenceWarning: The max_iter was reached which means the coef_ did not converge\n",
      "  \"the coef_ did not converge\", ConvergenceWarning)\n"
     ]
    },
    {
     "name": "stdout",
     "output_type": "stream",
     "text": [
      "Percent complete: 29.523809523809526\n",
      "100 400 6\n",
      "(32564, 46691)\n",
      "l1 auto None\n"
     ]
    },
    {
     "name": "stderr",
     "output_type": "stream",
     "text": [
      "/Users/ryanqnelson/opt/anaconda3/envs/cmu/lib/python3.6/site-packages/sklearn/linear_model/_sag.py:329: ConvergenceWarning: The max_iter was reached which means the coef_ did not converge\n",
      "  \"the coef_ did not converge\", ConvergenceWarning)\n"
     ]
    },
    {
     "name": "stdout",
     "output_type": "stream",
     "text": [
      "Percent complete: 30.476190476190478\n",
      "100 400 8\n",
      "(32564, 77733)\n",
      "l1 auto None\n"
     ]
    },
    {
     "name": "stderr",
     "output_type": "stream",
     "text": [
      "/Users/ryanqnelson/opt/anaconda3/envs/cmu/lib/python3.6/site-packages/sklearn/linear_model/_sag.py:329: ConvergenceWarning: The max_iter was reached which means the coef_ did not converge\n",
      "  \"the coef_ did not converge\", ConvergenceWarning)\n"
     ]
    },
    {
     "name": "stdout",
     "output_type": "stream",
     "text": [
      "Percent complete: 31.428571428571427\n",
      "100 400 10\n",
      "(32564, 73479)\n",
      "l1 auto None\n"
     ]
    },
    {
     "name": "stderr",
     "output_type": "stream",
     "text": [
      "/Users/ryanqnelson/opt/anaconda3/envs/cmu/lib/python3.6/site-packages/sklearn/linear_model/_sag.py:329: ConvergenceWarning: The max_iter was reached which means the coef_ did not converge\n",
      "  \"the coef_ did not converge\", ConvergenceWarning)\n"
     ]
    },
    {
     "name": "stdout",
     "output_type": "stream",
     "text": [
      "Percent complete: 32.38095238095238\n",
      "100 400 12\n",
      "(32564, 59669)\n",
      "l1 auto None\n"
     ]
    },
    {
     "name": "stderr",
     "output_type": "stream",
     "text": [
      "/Users/ryanqnelson/opt/anaconda3/envs/cmu/lib/python3.6/site-packages/sklearn/linear_model/_sag.py:329: ConvergenceWarning: The max_iter was reached which means the coef_ did not converge\n",
      "  \"the coef_ did not converge\", ConvergenceWarning)\n",
      "/Users/ryanqnelson/opt/anaconda3/envs/cmu/lib/python3.6/site-packages/sklearn/linear_model/_sag.py:329: ConvergenceWarning: The max_iter was reached which means the coef_ did not converge\n",
      "  \"the coef_ did not converge\", ConvergenceWarning)\n",
      "/Users/ryanqnelson/opt/anaconda3/envs/cmu/lib/python3.6/site-packages/sklearn/linear_model/_sag.py:329: ConvergenceWarning: The max_iter was reached which means the coef_ did not converge\n",
      "  \"the coef_ did not converge\", ConvergenceWarning)\n",
      "/Users/ryanqnelson/opt/anaconda3/envs/cmu/lib/python3.6/site-packages/sklearn/linear_model/_sag.py:329: ConvergenceWarning: The max_iter was reached which means the coef_ did not converge\n",
      "  \"the coef_ did not converge\", ConvergenceWarning)\n",
      "/Users/ryanqnelson/opt/anaconda3/envs/cmu/lib/python3.6/site-packages/sklearn/linear_model/_sag.py:329: ConvergenceWarning: The max_iter was reached which means the coef_ did not converge\n",
      "  \"the coef_ did not converge\", ConvergenceWarning)\n"
     ]
    },
    {
     "name": "stdout",
     "output_type": "stream",
     "text": [
      "Percent complete: 33.33333333333333\n",
      "200 1 1\n",
      "(44, 800)\n",
      "l1 auto None\n",
      "Percent complete: 34.285714285714285\n",
      "200 1 2\n",
      "(44, 1444)\n",
      "l1 auto None\n",
      "Percent complete: 35.23809523809524\n",
      "200 1 4\n",
      "(44, 1910)\n",
      "l1 auto None\n",
      "Percent complete: 36.19047619047619\n",
      "200 1 6\n",
      "(44, 1429)\n",
      "l1 auto None\n",
      "Percent complete: 37.142857142857146\n",
      "200 1 8\n",
      "(44, 1096)\n",
      "l1 auto None\n",
      "Percent complete: 38.095238095238095\n",
      "200 1 10\n",
      "(44, 878)\n",
      "l1 auto None\n",
      "Percent complete: 39.04761904761905\n",
      "200 1 12\n",
      "(44, 703)\n",
      "l1 auto None\n",
      "Percent complete: 40.0\n",
      "200 10 1\n",
      "(409, 800)\n",
      "l1 auto None\n"
     ]
    },
    {
     "name": "stderr",
     "output_type": "stream",
     "text": [
      "/Users/ryanqnelson/opt/anaconda3/envs/cmu/lib/python3.6/site-packages/sklearn/linear_model/_sag.py:329: ConvergenceWarning: The max_iter was reached which means the coef_ did not converge\n",
      "  \"the coef_ did not converge\", ConvergenceWarning)\n"
     ]
    },
    {
     "name": "stdout",
     "output_type": "stream",
     "text": [
      "Percent complete: 40.95238095238095\n",
      "200 10 2\n",
      "(409, 1600)\n",
      "l1 auto None\n"
     ]
    },
    {
     "name": "stderr",
     "output_type": "stream",
     "text": [
      "/Users/ryanqnelson/opt/anaconda3/envs/cmu/lib/python3.6/site-packages/sklearn/linear_model/_sag.py:329: ConvergenceWarning: The max_iter was reached which means the coef_ did not converge\n",
      "  \"the coef_ did not converge\", ConvergenceWarning)\n"
     ]
    },
    {
     "name": "stdout",
     "output_type": "stream",
     "text": [
      "Percent complete: 41.904761904761905\n",
      "200 10 4\n",
      "(409, 9082)\n",
      "l1 auto None\n"
     ]
    },
    {
     "name": "stderr",
     "output_type": "stream",
     "text": [
      "/Users/ryanqnelson/opt/anaconda3/envs/cmu/lib/python3.6/site-packages/sklearn/linear_model/_sag.py:329: ConvergenceWarning: The max_iter was reached which means the coef_ did not converge\n",
      "  \"the coef_ did not converge\", ConvergenceWarning)\n",
      "/Users/ryanqnelson/opt/anaconda3/envs/cmu/lib/python3.6/site-packages/sklearn/linear_model/_sag.py:329: ConvergenceWarning: The max_iter was reached which means the coef_ did not converge\n",
      "  \"the coef_ did not converge\", ConvergenceWarning)\n"
     ]
    },
    {
     "name": "stdout",
     "output_type": "stream",
     "text": [
      "Percent complete: 42.857142857142854\n",
      "200 10 6\n",
      "(409, 11985)\n",
      "l1 auto None\n",
      "Percent complete: 43.80952380952381\n",
      "200 10 8\n",
      "(409, 9852)\n",
      "l1 auto None\n",
      "Percent complete: 44.761904761904766\n",
      "200 10 10\n"
     ]
    },
    {
     "name": "stderr",
     "output_type": "stream",
     "text": [
      "/Users/ryanqnelson/opt/anaconda3/envs/cmu/lib/python3.6/site-packages/sklearn/linear_model/_sag.py:329: ConvergenceWarning: The max_iter was reached which means the coef_ did not converge\n",
      "  \"the coef_ did not converge\", ConvergenceWarning)\n"
     ]
    },
    {
     "name": "stdout",
     "output_type": "stream",
     "text": [
      "(409, 7945)\n",
      "l1 auto None\n",
      "Percent complete: 45.714285714285715\n",
      "200 10 12\n",
      "(409, 6361)\n",
      "l1 auto None\n",
      "Percent complete: 46.666666666666664\n",
      "200 100 1\n",
      "(4071, 800)\n",
      "l1 auto None\n"
     ]
    },
    {
     "name": "stderr",
     "output_type": "stream",
     "text": [
      "/Users/ryanqnelson/opt/anaconda3/envs/cmu/lib/python3.6/site-packages/sklearn/linear_model/_sag.py:329: ConvergenceWarning: The max_iter was reached which means the coef_ did not converge\n",
      "  \"the coef_ did not converge\", ConvergenceWarning)\n"
     ]
    },
    {
     "name": "stdout",
     "output_type": "stream",
     "text": [
      "Percent complete: 47.61904761904761\n",
      "200 100 2\n",
      "(4071, 1600)\n",
      "l1 auto None\n"
     ]
    },
    {
     "name": "stderr",
     "output_type": "stream",
     "text": [
      "/Users/ryanqnelson/opt/anaconda3/envs/cmu/lib/python3.6/site-packages/sklearn/linear_model/_sag.py:329: ConvergenceWarning: The max_iter was reached which means the coef_ did not converge\n",
      "  \"the coef_ did not converge\", ConvergenceWarning)\n"
     ]
    },
    {
     "name": "stdout",
     "output_type": "stream",
     "text": [
      "Percent complete: 48.57142857142857\n",
      "200 100 4\n",
      "(4071, 12772)\n",
      "l1 auto None\n"
     ]
    },
    {
     "name": "stderr",
     "output_type": "stream",
     "text": [
      "/Users/ryanqnelson/opt/anaconda3/envs/cmu/lib/python3.6/site-packages/sklearn/linear_model/_sag.py:329: ConvergenceWarning: The max_iter was reached which means the coef_ did not converge\n",
      "  \"the coef_ did not converge\", ConvergenceWarning)\n"
     ]
    },
    {
     "name": "stdout",
     "output_type": "stream",
     "text": [
      "Percent complete: 49.523809523809526\n",
      "200 100 6\n",
      "(4071, 60742)\n",
      "l1 auto None\n"
     ]
    },
    {
     "name": "stderr",
     "output_type": "stream",
     "text": [
      "/Users/ryanqnelson/opt/anaconda3/envs/cmu/lib/python3.6/site-packages/sklearn/linear_model/_sag.py:329: ConvergenceWarning: The max_iter was reached which means the coef_ did not converge\n",
      "  \"the coef_ did not converge\", ConvergenceWarning)\n"
     ]
    },
    {
     "name": "stdout",
     "output_type": "stream",
     "text": [
      "Percent complete: 50.476190476190474\n",
      "200 100 8\n",
      "(4071, 71903)\n",
      "l1 auto None\n"
     ]
    },
    {
     "name": "stderr",
     "output_type": "stream",
     "text": [
      "/Users/ryanqnelson/opt/anaconda3/envs/cmu/lib/python3.6/site-packages/sklearn/linear_model/_sag.py:329: ConvergenceWarning: The max_iter was reached which means the coef_ did not converge\n",
      "  \"the coef_ did not converge\", ConvergenceWarning)\n"
     ]
    },
    {
     "name": "stdout",
     "output_type": "stream",
     "text": [
      "Percent complete: 51.42857142857142\n",
      "200 100 10\n",
      "(4071, 60817)\n",
      "l1 auto None\n"
     ]
    },
    {
     "name": "stderr",
     "output_type": "stream",
     "text": [
      "/Users/ryanqnelson/opt/anaconda3/envs/cmu/lib/python3.6/site-packages/sklearn/linear_model/_sag.py:329: ConvergenceWarning: The max_iter was reached which means the coef_ did not converge\n",
      "  \"the coef_ did not converge\", ConvergenceWarning)\n"
     ]
    },
    {
     "name": "stdout",
     "output_type": "stream",
     "text": [
      "Percent complete: 52.38095238095239\n",
      "200 100 12\n",
      "(4071, 48991)\n",
      "l1 auto None\n"
     ]
    },
    {
     "name": "stderr",
     "output_type": "stream",
     "text": [
      "/Users/ryanqnelson/opt/anaconda3/envs/cmu/lib/python3.6/site-packages/sklearn/linear_model/_sag.py:329: ConvergenceWarning: The max_iter was reached which means the coef_ did not converge\n",
      "  \"the coef_ did not converge\", ConvergenceWarning)\n"
     ]
    },
    {
     "name": "stdout",
     "output_type": "stream",
     "text": [
      "Percent complete: 53.333333333333336\n",
      "200 200 1\n",
      "(8141, 800)\n",
      "l1 auto None\n"
     ]
    },
    {
     "name": "stderr",
     "output_type": "stream",
     "text": [
      "/Users/ryanqnelson/opt/anaconda3/envs/cmu/lib/python3.6/site-packages/sklearn/linear_model/_sag.py:329: ConvergenceWarning: The max_iter was reached which means the coef_ did not converge\n",
      "  \"the coef_ did not converge\", ConvergenceWarning)\n"
     ]
    },
    {
     "name": "stdout",
     "output_type": "stream",
     "text": [
      "Percent complete: 54.285714285714285\n",
      "200 200 2\n",
      "(8141, 1600)\n",
      "l1 auto None\n"
     ]
    },
    {
     "name": "stderr",
     "output_type": "stream",
     "text": [
      "/Users/ryanqnelson/opt/anaconda3/envs/cmu/lib/python3.6/site-packages/sklearn/linear_model/_sag.py:329: ConvergenceWarning: The max_iter was reached which means the coef_ did not converge\n",
      "  \"the coef_ did not converge\", ConvergenceWarning)\n"
     ]
    },
    {
     "name": "stdout",
     "output_type": "stream",
     "text": [
      "Percent complete: 55.23809523809524\n",
      "200 200 4\n",
      "(8141, 12799)\n",
      "l1 auto None\n"
     ]
    },
    {
     "name": "stderr",
     "output_type": "stream",
     "text": [
      "/Users/ryanqnelson/opt/anaconda3/envs/cmu/lib/python3.6/site-packages/sklearn/linear_model/_sag.py:329: ConvergenceWarning: The max_iter was reached which means the coef_ did not converge\n",
      "  \"the coef_ did not converge\", ConvergenceWarning)\n"
     ]
    },
    {
     "name": "stdout",
     "output_type": "stream",
     "text": [
      "Percent complete: 56.19047619047619\n",
      "200 200 6\n",
      "(8141, 77930)\n",
      "l1 auto None\n"
     ]
    },
    {
     "name": "stderr",
     "output_type": "stream",
     "text": [
      "/Users/ryanqnelson/opt/anaconda3/envs/cmu/lib/python3.6/site-packages/sklearn/linear_model/_sag.py:329: ConvergenceWarning: The max_iter was reached which means the coef_ did not converge\n",
      "  \"the coef_ did not converge\", ConvergenceWarning)\n"
     ]
    },
    {
     "name": "stdout",
     "output_type": "stream",
     "text": [
      "Percent complete: 57.14285714285714\n",
      "200 200 8\n",
      "(8141, 108026)\n",
      "l1 auto None\n"
     ]
    },
    {
     "name": "stderr",
     "output_type": "stream",
     "text": [
      "/Users/ryanqnelson/opt/anaconda3/envs/cmu/lib/python3.6/site-packages/sklearn/linear_model/_sag.py:329: ConvergenceWarning: The max_iter was reached which means the coef_ did not converge\n",
      "  \"the coef_ did not converge\", ConvergenceWarning)\n"
     ]
    },
    {
     "name": "stdout",
     "output_type": "stream",
     "text": [
      "Percent complete: 58.0952380952381\n",
      "200 200 10\n",
      "(8141, 94148)\n",
      "l1 auto None\n"
     ]
    },
    {
     "name": "stderr",
     "output_type": "stream",
     "text": [
      "/Users/ryanqnelson/opt/anaconda3/envs/cmu/lib/python3.6/site-packages/sklearn/linear_model/_sag.py:329: ConvergenceWarning: The max_iter was reached which means the coef_ did not converge\n",
      "  \"the coef_ did not converge\", ConvergenceWarning)\n"
     ]
    },
    {
     "name": "stdout",
     "output_type": "stream",
     "text": [
      "Percent complete: 59.04761904761905\n",
      "200 200 12\n",
      "(8141, 76066)\n",
      "l1 auto None\n"
     ]
    },
    {
     "name": "stderr",
     "output_type": "stream",
     "text": [
      "/Users/ryanqnelson/opt/anaconda3/envs/cmu/lib/python3.6/site-packages/sklearn/linear_model/_sag.py:329: ConvergenceWarning: The max_iter was reached which means the coef_ did not converge\n",
      "  \"the coef_ did not converge\", ConvergenceWarning)\n"
     ]
    },
    {
     "name": "stdout",
     "output_type": "stream",
     "text": [
      "Percent complete: 60.0\n",
      "200 400 1\n",
      "(16282, 800)\n",
      "l1 auto None\n"
     ]
    },
    {
     "name": "stderr",
     "output_type": "stream",
     "text": [
      "/Users/ryanqnelson/opt/anaconda3/envs/cmu/lib/python3.6/site-packages/sklearn/linear_model/_sag.py:329: ConvergenceWarning: The max_iter was reached which means the coef_ did not converge\n",
      "  \"the coef_ did not converge\", ConvergenceWarning)\n"
     ]
    },
    {
     "name": "stdout",
     "output_type": "stream",
     "text": [
      "Percent complete: 60.952380952380956\n",
      "200 400 2\n",
      "(16282, 1600)\n",
      "l1 auto None\n"
     ]
    },
    {
     "name": "stderr",
     "output_type": "stream",
     "text": [
      "/Users/ryanqnelson/opt/anaconda3/envs/cmu/lib/python3.6/site-packages/sklearn/linear_model/_sag.py:329: ConvergenceWarning: The max_iter was reached which means the coef_ did not converge\n",
      "  \"the coef_ did not converge\", ConvergenceWarning)\n"
     ]
    },
    {
     "name": "stdout",
     "output_type": "stream",
     "text": [
      "Percent complete: 61.904761904761905\n",
      "200 400 4\n",
      "(16282, 12800)\n",
      "l1 auto None\n"
     ]
    },
    {
     "name": "stderr",
     "output_type": "stream",
     "text": [
      "/Users/ryanqnelson/opt/anaconda3/envs/cmu/lib/python3.6/site-packages/sklearn/linear_model/_sag.py:329: ConvergenceWarning: The max_iter was reached which means the coef_ did not converge\n",
      "  \"the coef_ did not converge\", ConvergenceWarning)\n"
     ]
    },
    {
     "name": "stdout",
     "output_type": "stream",
     "text": [
      "Percent complete: 62.857142857142854\n",
      "200 400 6\n",
      "(16282, 88349)\n",
      "l1 auto None\n"
     ]
    },
    {
     "name": "stderr",
     "output_type": "stream",
     "text": [
      "/Users/ryanqnelson/opt/anaconda3/envs/cmu/lib/python3.6/site-packages/sklearn/linear_model/_sag.py:329: ConvergenceWarning: The max_iter was reached which means the coef_ did not converge\n",
      "  \"the coef_ did not converge\", ConvergenceWarning)\n"
     ]
    },
    {
     "name": "stdout",
     "output_type": "stream",
     "text": [
      "Percent complete: 63.8095238095238\n",
      "200 400 8\n",
      "(16282, 136646)\n",
      "l1 auto None\n"
     ]
    },
    {
     "name": "stderr",
     "output_type": "stream",
     "text": [
      "/Users/ryanqnelson/opt/anaconda3/envs/cmu/lib/python3.6/site-packages/sklearn/linear_model/_sag.py:329: ConvergenceWarning: The max_iter was reached which means the coef_ did not converge\n",
      "  \"the coef_ did not converge\", ConvergenceWarning)\n"
     ]
    },
    {
     "name": "stdout",
     "output_type": "stream",
     "text": [
      "Percent complete: 64.76190476190476\n",
      "200 400 10\n",
      "(16282, 121850)\n",
      "l1 auto None\n"
     ]
    },
    {
     "name": "stderr",
     "output_type": "stream",
     "text": [
      "/Users/ryanqnelson/opt/anaconda3/envs/cmu/lib/python3.6/site-packages/sklearn/linear_model/_sag.py:329: ConvergenceWarning: The max_iter was reached which means the coef_ did not converge\n",
      "  \"the coef_ did not converge\", ConvergenceWarning)\n"
     ]
    },
    {
     "name": "stdout",
     "output_type": "stream",
     "text": [
      "Percent complete: 65.71428571428571\n",
      "200 400 12\n",
      "(16282, 98704)\n",
      "l1 auto None\n"
     ]
    },
    {
     "name": "stderr",
     "output_type": "stream",
     "text": [
      "/Users/ryanqnelson/opt/anaconda3/envs/cmu/lib/python3.6/site-packages/sklearn/linear_model/_sag.py:329: ConvergenceWarning: The max_iter was reached which means the coef_ did not converge\n",
      "  \"the coef_ did not converge\", ConvergenceWarning)\n",
      "/Users/ryanqnelson/opt/anaconda3/envs/cmu/lib/python3.6/site-packages/sklearn/linear_model/_sag.py:329: ConvergenceWarning: The max_iter was reached which means the coef_ did not converge\n",
      "  \"the coef_ did not converge\", ConvergenceWarning)\n",
      "/Users/ryanqnelson/opt/anaconda3/envs/cmu/lib/python3.6/site-packages/sklearn/linear_model/_sag.py:329: ConvergenceWarning: The max_iter was reached which means the coef_ did not converge\n",
      "  \"the coef_ did not converge\", ConvergenceWarning)\n",
      "/Users/ryanqnelson/opt/anaconda3/envs/cmu/lib/python3.6/site-packages/sklearn/linear_model/_sag.py:329: ConvergenceWarning: The max_iter was reached which means the coef_ did not converge\n",
      "  \"the coef_ did not converge\", ConvergenceWarning)\n"
     ]
    },
    {
     "name": "stdout",
     "output_type": "stream",
     "text": [
      "Percent complete: 66.66666666666666\n",
      "400 1 1\n",
      "(23, 1592)\n",
      "l1 auto None\n",
      "Percent complete: 67.61904761904762\n",
      "400 1 2\n",
      "(23, 2327)\n",
      "l1 auto None\n",
      "Percent complete: 68.57142857142857\n",
      "400 1 4\n",
      "(23, 2146)\n",
      "l1 auto None\n",
      "Percent complete: 69.52380952380952\n",
      "400 1 6\n",
      "(23, 1511)\n",
      "l1 auto None\n",
      "Percent complete: 70.47619047619048\n",
      "400 1 8\n",
      "(23, 1150)\n",
      "l1 auto None\n",
      "Percent complete: 71.42857142857143\n",
      "400 1 10\n",
      "(23, 920)\n",
      "l1 auto None\n",
      "Percent complete: 72.38095238095238\n",
      "400 1 12\n",
      "(23, 759)\n",
      "l1 auto None\n",
      "Percent complete: 73.33333333333333\n",
      "400 10 1\n",
      "(205, 1600)\n",
      "l1 auto None\n"
     ]
    },
    {
     "name": "stderr",
     "output_type": "stream",
     "text": [
      "/Users/ryanqnelson/opt/anaconda3/envs/cmu/lib/python3.6/site-packages/sklearn/linear_model/_sag.py:329: ConvergenceWarning: The max_iter was reached which means the coef_ did not converge\n",
      "  \"the coef_ did not converge\", ConvergenceWarning)\n"
     ]
    },
    {
     "name": "stdout",
     "output_type": "stream",
     "text": [
      "Percent complete: 74.28571428571429\n",
      "400 10 2\n",
      "(205, 3199)\n",
      "l1 auto None\n"
     ]
    },
    {
     "name": "stderr",
     "output_type": "stream",
     "text": [
      "/Users/ryanqnelson/opt/anaconda3/envs/cmu/lib/python3.6/site-packages/sklearn/linear_model/_sag.py:329: ConvergenceWarning: The max_iter was reached which means the coef_ did not converge\n",
      "  \"the coef_ did not converge\", ConvergenceWarning)\n"
     ]
    },
    {
     "name": "stdout",
     "output_type": "stream",
     "text": [
      "Percent complete: 75.23809523809524\n",
      "400 10 4\n",
      "(205, 12558)\n",
      "l1 auto None\n"
     ]
    },
    {
     "name": "stderr",
     "output_type": "stream",
     "text": [
      "/Users/ryanqnelson/opt/anaconda3/envs/cmu/lib/python3.6/site-packages/sklearn/linear_model/_sag.py:329: ConvergenceWarning: The max_iter was reached which means the coef_ did not converge\n",
      "  \"the coef_ did not converge\", ConvergenceWarning)\n",
      "/Users/ryanqnelson/opt/anaconda3/envs/cmu/lib/python3.6/site-packages/sklearn/linear_model/_sag.py:329: ConvergenceWarning: The max_iter was reached which means the coef_ did not converge\n",
      "  \"the coef_ did not converge\", ConvergenceWarning)\n"
     ]
    },
    {
     "name": "stdout",
     "output_type": "stream",
     "text": [
      "Percent complete: 76.19047619047619\n",
      "400 10 6\n",
      "(205, 12586)\n",
      "l1 auto None\n",
      "Percent complete: 77.14285714285715\n",
      "400 10 8\n",
      "(205, 10003)\n",
      "l1 auto None\n",
      "Percent complete: 78.0952380952381\n",
      "400 10 10\n",
      "(205, 8033)\n",
      "l1 auto None\n",
      "Percent complete: 79.04761904761905\n",
      "400 10 12\n"
     ]
    },
    {
     "name": "stderr",
     "output_type": "stream",
     "text": [
      "/Users/ryanqnelson/opt/anaconda3/envs/cmu/lib/python3.6/site-packages/sklearn/linear_model/_sag.py:329: ConvergenceWarning: The max_iter was reached which means the coef_ did not converge\n",
      "  \"the coef_ did not converge\", ConvergenceWarning)\n",
      "/Users/ryanqnelson/opt/anaconda3/envs/cmu/lib/python3.6/site-packages/sklearn/linear_model/_sag.py:329: ConvergenceWarning: The max_iter was reached which means the coef_ did not converge\n",
      "  \"the coef_ did not converge\", ConvergenceWarning)\n"
     ]
    },
    {
     "name": "stdout",
     "output_type": "stream",
     "text": [
      "(205, 6631)\n",
      "l1 auto None\n",
      "Percent complete: 80.0\n",
      "400 100 1\n"
     ]
    },
    {
     "name": "stderr",
     "output_type": "stream",
     "text": [
      "/Users/ryanqnelson/opt/anaconda3/envs/cmu/lib/python3.6/site-packages/sklearn/linear_model/_sag.py:329: ConvergenceWarning: The max_iter was reached which means the coef_ did not converge\n",
      "  \"the coef_ did not converge\", ConvergenceWarning)\n"
     ]
    },
    {
     "name": "stdout",
     "output_type": "stream",
     "text": [
      "(2037, 1600)\n",
      "l1 auto None\n"
     ]
    },
    {
     "name": "stderr",
     "output_type": "stream",
     "text": [
      "/Users/ryanqnelson/opt/anaconda3/envs/cmu/lib/python3.6/site-packages/sklearn/linear_model/_sag.py:329: ConvergenceWarning: The max_iter was reached which means the coef_ did not converge\n",
      "  \"the coef_ did not converge\", ConvergenceWarning)\n"
     ]
    },
    {
     "name": "stdout",
     "output_type": "stream",
     "text": [
      "Percent complete: 80.95238095238095\n",
      "400 100 2\n",
      "(2037, 3200)\n",
      "l1 auto None\n"
     ]
    },
    {
     "name": "stderr",
     "output_type": "stream",
     "text": [
      "/Users/ryanqnelson/opt/anaconda3/envs/cmu/lib/python3.6/site-packages/sklearn/linear_model/_sag.py:329: ConvergenceWarning: The max_iter was reached which means the coef_ did not converge\n",
      "  \"the coef_ did not converge\", ConvergenceWarning)\n"
     ]
    },
    {
     "name": "stdout",
     "output_type": "stream",
     "text": [
      "Percent complete: 81.9047619047619\n",
      "400 100 4\n",
      "(2037, 25059)\n",
      "l1 auto None\n"
     ]
    },
    {
     "name": "stderr",
     "output_type": "stream",
     "text": [
      "/Users/ryanqnelson/opt/anaconda3/envs/cmu/lib/python3.6/site-packages/sklearn/linear_model/_sag.py:329: ConvergenceWarning: The max_iter was reached which means the coef_ did not converge\n",
      "  \"the coef_ did not converge\", ConvergenceWarning)\n"
     ]
    },
    {
     "name": "stdout",
     "output_type": "stream",
     "text": [
      "Percent complete: 82.85714285714286\n",
      "400 100 6\n",
      "(2037, 80853)\n",
      "l1 auto None\n"
     ]
    },
    {
     "name": "stderr",
     "output_type": "stream",
     "text": [
      "/Users/ryanqnelson/opt/anaconda3/envs/cmu/lib/python3.6/site-packages/sklearn/linear_model/_sag.py:329: ConvergenceWarning: The max_iter was reached which means the coef_ did not converge\n",
      "  \"the coef_ did not converge\", ConvergenceWarning)\n"
     ]
    },
    {
     "name": "stdout",
     "output_type": "stream",
     "text": [
      "Percent complete: 83.80952380952381\n",
      "400 100 8\n",
      "(2037, 81580)\n",
      "l1 auto None\n"
     ]
    },
    {
     "name": "stderr",
     "output_type": "stream",
     "text": [
      "/Users/ryanqnelson/opt/anaconda3/envs/cmu/lib/python3.6/site-packages/sklearn/linear_model/_sag.py:329: ConvergenceWarning: The max_iter was reached which means the coef_ did not converge\n",
      "  \"the coef_ did not converge\", ConvergenceWarning)\n"
     ]
    },
    {
     "name": "stdout",
     "output_type": "stream",
     "text": [
      "Percent complete: 84.76190476190476\n",
      "400 100 10\n",
      "(2037, 67552)\n",
      "l1 auto None\n"
     ]
    },
    {
     "name": "stderr",
     "output_type": "stream",
     "text": [
      "/Users/ryanqnelson/opt/anaconda3/envs/cmu/lib/python3.6/site-packages/sklearn/linear_model/_sag.py:329: ConvergenceWarning: The max_iter was reached which means the coef_ did not converge\n",
      "  \"the coef_ did not converge\", ConvergenceWarning)\n"
     ]
    },
    {
     "name": "stdout",
     "output_type": "stream",
     "text": [
      "Percent complete: 85.71428571428571\n",
      "400 100 12\n",
      "(2037, 55940)\n",
      "l1 auto None\n"
     ]
    },
    {
     "name": "stderr",
     "output_type": "stream",
     "text": [
      "/Users/ryanqnelson/opt/anaconda3/envs/cmu/lib/python3.6/site-packages/sklearn/linear_model/_sag.py:329: ConvergenceWarning: The max_iter was reached which means the coef_ did not converge\n",
      "  \"the coef_ did not converge\", ConvergenceWarning)\n"
     ]
    },
    {
     "name": "stdout",
     "output_type": "stream",
     "text": [
      "Percent complete: 86.66666666666667\n",
      "400 200 1\n",
      "(4071, 1600)\n",
      "l1 auto None\n"
     ]
    },
    {
     "name": "stderr",
     "output_type": "stream",
     "text": [
      "/Users/ryanqnelson/opt/anaconda3/envs/cmu/lib/python3.6/site-packages/sklearn/linear_model/_sag.py:329: ConvergenceWarning: The max_iter was reached which means the coef_ did not converge\n",
      "  \"the coef_ did not converge\", ConvergenceWarning)\n"
     ]
    },
    {
     "name": "stdout",
     "output_type": "stream",
     "text": [
      "Percent complete: 87.61904761904762\n",
      "400 200 2\n",
      "(4071, 3200)\n",
      "l1 auto None\n"
     ]
    },
    {
     "name": "stderr",
     "output_type": "stream",
     "text": [
      "/Users/ryanqnelson/opt/anaconda3/envs/cmu/lib/python3.6/site-packages/sklearn/linear_model/_sag.py:329: ConvergenceWarning: The max_iter was reached which means the coef_ did not converge\n",
      "  \"the coef_ did not converge\", ConvergenceWarning)\n"
     ]
    },
    {
     "name": "stdout",
     "output_type": "stream",
     "text": [
      "Percent complete: 88.57142857142857\n",
      "400 200 4\n",
      "(4071, 25514)\n",
      "l1 auto None\n"
     ]
    },
    {
     "name": "stderr",
     "output_type": "stream",
     "text": [
      "/Users/ryanqnelson/opt/anaconda3/envs/cmu/lib/python3.6/site-packages/sklearn/linear_model/_sag.py:329: ConvergenceWarning: The max_iter was reached which means the coef_ did not converge\n",
      "  \"the coef_ did not converge\", ConvergenceWarning)\n"
     ]
    },
    {
     "name": "stdout",
     "output_type": "stream",
     "text": [
      "Percent complete: 89.52380952380953\n",
      "400 200 6\n",
      "(4071, 117598)\n",
      "l1 auto None\n"
     ]
    },
    {
     "name": "stderr",
     "output_type": "stream",
     "text": [
      "/Users/ryanqnelson/opt/anaconda3/envs/cmu/lib/python3.6/site-packages/sklearn/linear_model/_sag.py:329: ConvergenceWarning: The max_iter was reached which means the coef_ did not converge\n",
      "  \"the coef_ did not converge\", ConvergenceWarning)\n"
     ]
    },
    {
     "name": "stdout",
     "output_type": "stream",
     "text": [
      "Percent complete: 90.47619047619048\n",
      "400 200 8\n",
      "(4071, 138154)\n",
      "l1 auto None\n"
     ]
    },
    {
     "name": "stderr",
     "output_type": "stream",
     "text": [
      "/Users/ryanqnelson/opt/anaconda3/envs/cmu/lib/python3.6/site-packages/sklearn/linear_model/_sag.py:329: ConvergenceWarning: The max_iter was reached which means the coef_ did not converge\n",
      "  \"the coef_ did not converge\", ConvergenceWarning)\n"
     ]
    },
    {
     "name": "stdout",
     "output_type": "stream",
     "text": [
      "Percent complete: 91.42857142857143\n",
      "400 200 10\n",
      "(4071, 116996)\n",
      "l1 auto None\n"
     ]
    },
    {
     "name": "stderr",
     "output_type": "stream",
     "text": [
      "/Users/ryanqnelson/opt/anaconda3/envs/cmu/lib/python3.6/site-packages/sklearn/linear_model/_sag.py:329: ConvergenceWarning: The max_iter was reached which means the coef_ did not converge\n",
      "  \"the coef_ did not converge\", ConvergenceWarning)\n"
     ]
    },
    {
     "name": "stdout",
     "output_type": "stream",
     "text": [
      "Percent complete: 92.38095238095238\n",
      "400 200 12\n",
      "(4071, 97172)\n",
      "l1 auto None\n"
     ]
    },
    {
     "name": "stderr",
     "output_type": "stream",
     "text": [
      "/Users/ryanqnelson/opt/anaconda3/envs/cmu/lib/python3.6/site-packages/sklearn/linear_model/_sag.py:329: ConvergenceWarning: The max_iter was reached which means the coef_ did not converge\n",
      "  \"the coef_ did not converge\", ConvergenceWarning)\n"
     ]
    },
    {
     "name": "stdout",
     "output_type": "stream",
     "text": [
      "Percent complete: 93.33333333333333\n",
      "400 400 1\n",
      "(8141, 1600)\n",
      "l1 auto None\n"
     ]
    },
    {
     "name": "stderr",
     "output_type": "stream",
     "text": [
      "/Users/ryanqnelson/opt/anaconda3/envs/cmu/lib/python3.6/site-packages/sklearn/linear_model/_sag.py:329: ConvergenceWarning: The max_iter was reached which means the coef_ did not converge\n",
      "  \"the coef_ did not converge\", ConvergenceWarning)\n"
     ]
    },
    {
     "name": "stdout",
     "output_type": "stream",
     "text": [
      "Percent complete: 94.28571428571428\n",
      "400 400 2\n",
      "(8141, 3200)\n",
      "l1 auto None\n"
     ]
    },
    {
     "name": "stderr",
     "output_type": "stream",
     "text": [
      "/Users/ryanqnelson/opt/anaconda3/envs/cmu/lib/python3.6/site-packages/sklearn/linear_model/_sag.py:329: ConvergenceWarning: The max_iter was reached which means the coef_ did not converge\n",
      "  \"the coef_ did not converge\", ConvergenceWarning)\n"
     ]
    },
    {
     "name": "stdout",
     "output_type": "stream",
     "text": [
      "Percent complete: 95.23809523809523\n",
      "400 400 4\n",
      "(8141, 25588)\n",
      "l1 auto None\n"
     ]
    },
    {
     "name": "stderr",
     "output_type": "stream",
     "text": [
      "/Users/ryanqnelson/opt/anaconda3/envs/cmu/lib/python3.6/site-packages/sklearn/linear_model/_sag.py:329: ConvergenceWarning: The max_iter was reached which means the coef_ did not converge\n",
      "  \"the coef_ did not converge\", ConvergenceWarning)\n"
     ]
    },
    {
     "name": "stdout",
     "output_type": "stream",
     "text": [
      "Percent complete: 96.19047619047619\n",
      "400 400 6\n",
      "(8141, 148288)\n",
      "l1 auto None\n"
     ]
    },
    {
     "name": "stderr",
     "output_type": "stream",
     "text": [
      "/Users/ryanqnelson/opt/anaconda3/envs/cmu/lib/python3.6/site-packages/sklearn/linear_model/_sag.py:329: ConvergenceWarning: The max_iter was reached which means the coef_ did not converge\n",
      "  \"the coef_ did not converge\", ConvergenceWarning)\n"
     ]
    },
    {
     "name": "stdout",
     "output_type": "stream",
     "text": [
      "Percent complete: 97.14285714285714\n",
      "400 400 8\n",
      "(8141, 200257)\n",
      "l1 auto None\n"
     ]
    },
    {
     "name": "stderr",
     "output_type": "stream",
     "text": [
      "/Users/ryanqnelson/opt/anaconda3/envs/cmu/lib/python3.6/site-packages/sklearn/linear_model/_sag.py:329: ConvergenceWarning: The max_iter was reached which means the coef_ did not converge\n",
      "  \"the coef_ did not converge\", ConvergenceWarning)\n"
     ]
    },
    {
     "name": "stdout",
     "output_type": "stream",
     "text": [
      "Percent complete: 98.09523809523809\n",
      "400 400 10\n",
      "(8141, 174176)\n",
      "l1 auto None\n"
     ]
    },
    {
     "name": "stderr",
     "output_type": "stream",
     "text": [
      "/Users/ryanqnelson/opt/anaconda3/envs/cmu/lib/python3.6/site-packages/sklearn/linear_model/_sag.py:329: ConvergenceWarning: The max_iter was reached which means the coef_ did not converge\n",
      "  \"the coef_ did not converge\", ConvergenceWarning)\n"
     ]
    },
    {
     "name": "stdout",
     "output_type": "stream",
     "text": [
      "Percent complete: 99.04761904761905\n",
      "400 400 12\n",
      "(8141, 145094)\n",
      "l1 auto None\n",
      "Percent complete: 100.0\n",
      "CPU times: user 40min 34s, sys: 14 s, total: 40min 48s\n",
      "Wall time: 41min 7s\n"
     ]
    },
    {
     "name": "stderr",
     "output_type": "stream",
     "text": [
      "/Users/ryanqnelson/opt/anaconda3/envs/cmu/lib/python3.6/site-packages/sklearn/linear_model/_sag.py:329: ConvergenceWarning: The max_iter was reached which means the coef_ did not converge\n",
      "  \"the coef_ did not converge\", ConvergenceWarning)\n"
     ]
    }
   ],
   "source": [
    "# %%time\n",
    "# # 40 min\n",
    "\n",
    "# # parameters\n",
    "# seq_file = 'data/train_small-db_toy-2000.fasta'\n",
    "# taxid_file = 'data/train_small-db_toy-2000.taxid'\n",
    "# output_dir = 'data/sampling/sampling-toy-2000'\n",
    "# pattern = 'fragments*.npy'\n",
    "# seed = 42\n",
    "# date_time = datetime.datetime.now().strftime('%Y.%m.%d.%H.%M.%S')\n",
    "# grid_search_file  = 'data/gridsearch-2000/lr-multi.{}.csv'.format(date_time)\n",
    "# fields = ['experiment','category','classifier','training shape','sample_length','coverage','k','penalty','multi_class', 'class_weight', 'score','score type']\n",
    "# experiment = '7.01'\n",
    "# score_type = 'species_recall'\n",
    "\n",
    "# # combinations to try\n",
    "# list_sample_length = [100,200,400]\n",
    "# list_coverage = [1,10,100,200,400]\n",
    "# list_k = [1,2,4,6,8,10,12]\n",
    "# list_penalty=['l1']\n",
    "# list_multiclass = ['auto']\n",
    "# list_classweight= [None]\n",
    "\n",
    "\n",
    "# grid_search_multiclass_lr(seq_file, \n",
    "#                           taxid_file, \n",
    "#                           output_dir, \n",
    "#                           pattern, \n",
    "#                           list_sample_length, \n",
    "#                           list_coverage, \n",
    "#                           list_k, \n",
    "#                           list_penalty,\n",
    "#                           list_multiclass,\n",
    "#                           list_classweight,\n",
    "#                           seed,\n",
    "#                           grid_search_file,\n",
    "#                           fields,\n",
    "#                           experiment,\n",
    "#                           score_type)\n"
   ]
  },
  {
   "cell_type": "markdown",
   "id": "physical-victor",
   "metadata": {},
   "source": [
    "### Run 7.02 - Balanced class weights\n",
    "Set solver back to default."
   ]
  },
  {
   "cell_type": "code",
   "execution_count": 60,
   "id": "recovered-essex",
   "metadata": {},
   "outputs": [
    {
     "name": "stdout",
     "output_type": "stream",
     "text": [
      "100 1 1\n",
      "(85, 400)\n",
      "l2 auto balanced\n",
      "Percent complete: 0.9523809523809524\n",
      "100 1 2\n",
      "(85, 793)\n",
      "l2 auto balanced\n",
      "Percent complete: 1.9047619047619049\n",
      "100 1 4\n",
      "(85, 1722)\n",
      "l2 auto balanced\n",
      "Percent complete: 2.857142857142857\n",
      "100 1 6\n",
      "(85, 1338)\n",
      "l2 auto balanced\n",
      "Percent complete: 3.8095238095238098\n",
      "100 1 8\n",
      "(85, 1018)\n",
      "l2 auto balanced\n",
      "Percent complete: 4.761904761904762\n",
      "100 1 10\n",
      "(85, 850)\n",
      "l2 auto balanced\n",
      "Percent complete: 5.714285714285714\n",
      "100 1 12\n",
      "(85, 680)\n",
      "l2 auto balanced\n",
      "Percent complete: 6.666666666666667\n",
      "100 10 1\n",
      "(816, 400)\n",
      "l2 auto balanced\n",
      "Percent complete: 7.6190476190476195\n",
      "100 10 2\n",
      "(816, 800)\n",
      "l2 auto balanced\n"
     ]
    },
    {
     "name": "stderr",
     "output_type": "stream",
     "text": [
      "/Users/ryanqnelson/opt/anaconda3/envs/cmu/lib/python3.6/site-packages/sklearn/linear_model/_logistic.py:765: ConvergenceWarning: lbfgs failed to converge (status=1):\n",
      "STOP: TOTAL NO. of ITERATIONS REACHED LIMIT.\n",
      "\n",
      "Increase the number of iterations (max_iter) or scale the data as shown in:\n",
      "    https://scikit-learn.org/stable/modules/preprocessing.html\n",
      "Please also refer to the documentation for alternative solver options:\n",
      "    https://scikit-learn.org/stable/modules/linear_model.html#logistic-regression\n",
      "  extra_warning_msg=_LOGISTIC_SOLVER_CONVERGENCE_MSG)\n"
     ]
    },
    {
     "name": "stdout",
     "output_type": "stream",
     "text": [
      "Percent complete: 8.571428571428571\n",
      "100 10 4\n",
      "(816, 5689)\n",
      "l2 auto balanced\n",
      "Percent complete: 9.523809523809524\n",
      "100 10 6\n",
      "(816, 10714)\n",
      "l2 auto balanced\n",
      "Percent complete: 10.476190476190476\n",
      "100 10 8\n",
      "(816, 9328)\n",
      "l2 auto balanced\n",
      "Percent complete: 11.428571428571429\n",
      "100 10 10\n",
      "(816, 7885)\n",
      "l2 auto balanced\n",
      "Percent complete: 12.380952380952381\n",
      "100 10 12\n",
      "(816, 6317)\n",
      "l2 auto balanced\n",
      "Percent complete: 13.333333333333334\n",
      "100 100 1\n",
      "(8141, 400)\n",
      "l2 auto balanced\n"
     ]
    },
    {
     "name": "stderr",
     "output_type": "stream",
     "text": [
      "/Users/ryanqnelson/opt/anaconda3/envs/cmu/lib/python3.6/site-packages/sklearn/linear_model/_logistic.py:765: ConvergenceWarning: lbfgs failed to converge (status=1):\n",
      "STOP: TOTAL NO. of ITERATIONS REACHED LIMIT.\n",
      "\n",
      "Increase the number of iterations (max_iter) or scale the data as shown in:\n",
      "    https://scikit-learn.org/stable/modules/preprocessing.html\n",
      "Please also refer to the documentation for alternative solver options:\n",
      "    https://scikit-learn.org/stable/modules/linear_model.html#logistic-regression\n",
      "  extra_warning_msg=_LOGISTIC_SOLVER_CONVERGENCE_MSG)\n"
     ]
    },
    {
     "name": "stdout",
     "output_type": "stream",
     "text": [
      "Percent complete: 14.285714285714285\n",
      "100 100 2\n",
      "(8141, 800)\n",
      "l2 auto balanced\n"
     ]
    },
    {
     "name": "stderr",
     "output_type": "stream",
     "text": [
      "/Users/ryanqnelson/opt/anaconda3/envs/cmu/lib/python3.6/site-packages/sklearn/linear_model/_logistic.py:765: ConvergenceWarning: lbfgs failed to converge (status=1):\n",
      "STOP: TOTAL NO. of ITERATIONS REACHED LIMIT.\n",
      "\n",
      "Increase the number of iterations (max_iter) or scale the data as shown in:\n",
      "    https://scikit-learn.org/stable/modules/preprocessing.html\n",
      "Please also refer to the documentation for alternative solver options:\n",
      "    https://scikit-learn.org/stable/modules/linear_model.html#logistic-regression\n",
      "  extra_warning_msg=_LOGISTIC_SOLVER_CONVERGENCE_MSG)\n"
     ]
    },
    {
     "name": "stdout",
     "output_type": "stream",
     "text": [
      "Percent complete: 15.238095238095239\n",
      "100 100 4\n",
      "(8141, 6399)\n",
      "l2 auto balanced\n",
      "Percent complete: 16.19047619047619\n",
      "100 100 6\n",
      "(8141, 38665)\n",
      "l2 auto balanced\n",
      "Percent complete: 17.142857142857142\n",
      "100 100 8\n",
      "(8141, 53604)\n",
      "l2 auto balanced\n",
      "Percent complete: 18.095238095238095\n",
      "100 100 10\n",
      "(8141, 48759)\n",
      "l2 auto balanced\n",
      "Percent complete: 19.047619047619047\n",
      "100 100 12\n",
      "(8141, 39395)\n",
      "l2 auto balanced\n",
      "Percent complete: 20.0\n",
      "100 200 1\n",
      "(16282, 400)\n",
      "l2 auto balanced\n",
      "Percent complete: 20.952380952380953\n",
      "100 200 2\n",
      "(16282, 800)\n",
      "l2 auto balanced\n"
     ]
    },
    {
     "name": "stderr",
     "output_type": "stream",
     "text": [
      "/Users/ryanqnelson/opt/anaconda3/envs/cmu/lib/python3.6/site-packages/sklearn/linear_model/_logistic.py:765: ConvergenceWarning: lbfgs failed to converge (status=1):\n",
      "STOP: TOTAL NO. of ITERATIONS REACHED LIMIT.\n",
      "\n",
      "Increase the number of iterations (max_iter) or scale the data as shown in:\n",
      "    https://scikit-learn.org/stable/modules/preprocessing.html\n",
      "Please also refer to the documentation for alternative solver options:\n",
      "    https://scikit-learn.org/stable/modules/linear_model.html#logistic-regression\n",
      "  extra_warning_msg=_LOGISTIC_SOLVER_CONVERGENCE_MSG)\n"
     ]
    },
    {
     "name": "stdout",
     "output_type": "stream",
     "text": [
      "Percent complete: 21.904761904761905\n",
      "100 200 4\n",
      "(16282, 6400)\n",
      "l2 auto balanced\n"
     ]
    },
    {
     "name": "stderr",
     "output_type": "stream",
     "text": [
      "/Users/ryanqnelson/opt/anaconda3/envs/cmu/lib/python3.6/site-packages/sklearn/linear_model/_logistic.py:765: ConvergenceWarning: lbfgs failed to converge (status=1):\n",
      "STOP: TOTAL NO. of ITERATIONS REACHED LIMIT.\n",
      "\n",
      "Increase the number of iterations (max_iter) or scale the data as shown in:\n",
      "    https://scikit-learn.org/stable/modules/preprocessing.html\n",
      "Please also refer to the documentation for alternative solver options:\n",
      "    https://scikit-learn.org/stable/modules/linear_model.html#logistic-regression\n",
      "  extra_warning_msg=_LOGISTIC_SOLVER_CONVERGENCE_MSG)\n"
     ]
    },
    {
     "name": "stdout",
     "output_type": "stream",
     "text": [
      "Percent complete: 22.857142857142858\n",
      "100 200 6\n",
      "(16282, 43939)\n",
      "l2 auto balanced\n",
      "Percent complete: 23.809523809523807\n",
      "100 200 8\n",
      "(16282, 68550)\n",
      "l2 auto balanced\n",
      "Percent complete: 24.761904761904763\n",
      "100 200 10\n",
      "(16282, 63875)\n",
      "l2 auto balanced\n",
      "Percent complete: 25.71428571428571\n",
      "100 200 12\n",
      "(16282, 51766)\n",
      "l2 auto balanced\n",
      "Percent complete: 26.666666666666668\n",
      "100 400 1\n",
      "(32564, 400)\n",
      "l2 auto balanced\n",
      "Percent complete: 27.61904761904762\n",
      "100 400 2\n",
      "(32564, 800)\n",
      "l2 auto balanced\n"
     ]
    },
    {
     "name": "stderr",
     "output_type": "stream",
     "text": [
      "/Users/ryanqnelson/opt/anaconda3/envs/cmu/lib/python3.6/site-packages/sklearn/linear_model/_logistic.py:765: ConvergenceWarning: lbfgs failed to converge (status=1):\n",
      "STOP: TOTAL NO. of ITERATIONS REACHED LIMIT.\n",
      "\n",
      "Increase the number of iterations (max_iter) or scale the data as shown in:\n",
      "    https://scikit-learn.org/stable/modules/preprocessing.html\n",
      "Please also refer to the documentation for alternative solver options:\n",
      "    https://scikit-learn.org/stable/modules/linear_model.html#logistic-regression\n",
      "  extra_warning_msg=_LOGISTIC_SOLVER_CONVERGENCE_MSG)\n"
     ]
    },
    {
     "name": "stdout",
     "output_type": "stream",
     "text": [
      "Percent complete: 28.57142857142857\n",
      "100 400 4\n",
      "(32564, 6400)\n",
      "l2 auto balanced\n"
     ]
    },
    {
     "name": "stderr",
     "output_type": "stream",
     "text": [
      "/Users/ryanqnelson/opt/anaconda3/envs/cmu/lib/python3.6/site-packages/sklearn/linear_model/_logistic.py:765: ConvergenceWarning: lbfgs failed to converge (status=1):\n",
      "STOP: TOTAL NO. of ITERATIONS REACHED LIMIT.\n",
      "\n",
      "Increase the number of iterations (max_iter) or scale the data as shown in:\n",
      "    https://scikit-learn.org/stable/modules/preprocessing.html\n",
      "Please also refer to the documentation for alternative solver options:\n",
      "    https://scikit-learn.org/stable/modules/linear_model.html#logistic-regression\n",
      "  extra_warning_msg=_LOGISTIC_SOLVER_CONVERGENCE_MSG)\n"
     ]
    },
    {
     "name": "stdout",
     "output_type": "stream",
     "text": [
      "Percent complete: 29.523809523809526\n",
      "100 400 6\n",
      "(32564, 46691)\n",
      "l2 auto balanced\n",
      "Percent complete: 30.476190476190478\n",
      "100 400 8\n",
      "(32564, 77733)\n",
      "l2 auto balanced\n",
      "Percent complete: 31.428571428571427\n",
      "100 400 10\n",
      "(32564, 73479)\n",
      "l2 auto balanced\n",
      "Percent complete: 32.38095238095238\n",
      "100 400 12\n",
      "(32564, 59669)\n",
      "l2 auto balanced\n",
      "Percent complete: 33.33333333333333\n",
      "200 1 1\n",
      "(44, 800)\n",
      "l2 auto balanced\n",
      "Percent complete: 34.285714285714285\n",
      "200 1 2\n",
      "(44, 1444)\n",
      "l2 auto balanced\n",
      "Percent complete: 35.23809523809524\n",
      "200 1 4\n",
      "(44, 1910)\n",
      "l2 auto balanced\n",
      "Percent complete: 36.19047619047619\n",
      "200 1 6\n",
      "(44, 1429)\n",
      "l2 auto balanced\n",
      "Percent complete: 37.142857142857146\n",
      "200 1 8\n",
      "(44, 1096)\n",
      "l2 auto balanced\n",
      "Percent complete: 38.095238095238095\n",
      "200 1 10\n",
      "(44, 878)\n",
      "l2 auto balanced\n",
      "Percent complete: 39.04761904761905\n",
      "200 1 12\n",
      "(44, 703)\n",
      "l2 auto balanced\n",
      "Percent complete: 40.0\n",
      "200 10 1\n",
      "(409, 800)\n",
      "l2 auto balanced\n",
      "Percent complete: 40.95238095238095\n",
      "200 10 2\n"
     ]
    },
    {
     "name": "stderr",
     "output_type": "stream",
     "text": [
      "/Users/ryanqnelson/opt/anaconda3/envs/cmu/lib/python3.6/site-packages/sklearn/linear_model/_logistic.py:765: ConvergenceWarning: lbfgs failed to converge (status=1):\n",
      "STOP: TOTAL NO. of ITERATIONS REACHED LIMIT.\n",
      "\n",
      "Increase the number of iterations (max_iter) or scale the data as shown in:\n",
      "    https://scikit-learn.org/stable/modules/preprocessing.html\n",
      "Please also refer to the documentation for alternative solver options:\n",
      "    https://scikit-learn.org/stable/modules/linear_model.html#logistic-regression\n",
      "  extra_warning_msg=_LOGISTIC_SOLVER_CONVERGENCE_MSG)\n"
     ]
    },
    {
     "name": "stdout",
     "output_type": "stream",
     "text": [
      "(409, 1600)\n",
      "l2 auto balanced\n",
      "Percent complete: 41.904761904761905\n",
      "200 10 4\n",
      "(409, 9082)\n",
      "l2 auto balanced\n",
      "Percent complete: 42.857142857142854\n",
      "200 10 6\n",
      "(409, 11985)\n",
      "l2 auto balanced\n",
      "Percent complete: 43.80952380952381\n",
      "200 10 8\n",
      "(409, 9852)\n",
      "l2 auto balanced\n",
      "Percent complete: 44.761904761904766\n",
      "200 10 10\n",
      "(409, 7945)\n",
      "l2 auto balanced\n",
      "Percent complete: 45.714285714285715\n",
      "200 10 12\n",
      "(409, 6361)\n",
      "l2 auto balanced\n",
      "Percent complete: 46.666666666666664\n",
      "200 100 1\n",
      "(4071, 800)\n",
      "l2 auto balanced\n"
     ]
    },
    {
     "name": "stderr",
     "output_type": "stream",
     "text": [
      "/Users/ryanqnelson/opt/anaconda3/envs/cmu/lib/python3.6/site-packages/sklearn/linear_model/_logistic.py:765: ConvergenceWarning: lbfgs failed to converge (status=1):\n",
      "STOP: TOTAL NO. of ITERATIONS REACHED LIMIT.\n",
      "\n",
      "Increase the number of iterations (max_iter) or scale the data as shown in:\n",
      "    https://scikit-learn.org/stable/modules/preprocessing.html\n",
      "Please also refer to the documentation for alternative solver options:\n",
      "    https://scikit-learn.org/stable/modules/linear_model.html#logistic-regression\n",
      "  extra_warning_msg=_LOGISTIC_SOLVER_CONVERGENCE_MSG)\n"
     ]
    },
    {
     "name": "stdout",
     "output_type": "stream",
     "text": [
      "Percent complete: 47.61904761904761\n",
      "200 100 2\n",
      "(4071, 1600)\n",
      "l2 auto balanced\n"
     ]
    },
    {
     "name": "stderr",
     "output_type": "stream",
     "text": [
      "/Users/ryanqnelson/opt/anaconda3/envs/cmu/lib/python3.6/site-packages/sklearn/linear_model/_logistic.py:765: ConvergenceWarning: lbfgs failed to converge (status=1):\n",
      "STOP: TOTAL NO. of ITERATIONS REACHED LIMIT.\n",
      "\n",
      "Increase the number of iterations (max_iter) or scale the data as shown in:\n",
      "    https://scikit-learn.org/stable/modules/preprocessing.html\n",
      "Please also refer to the documentation for alternative solver options:\n",
      "    https://scikit-learn.org/stable/modules/linear_model.html#logistic-regression\n",
      "  extra_warning_msg=_LOGISTIC_SOLVER_CONVERGENCE_MSG)\n"
     ]
    },
    {
     "name": "stdout",
     "output_type": "stream",
     "text": [
      "Percent complete: 48.57142857142857\n",
      "200 100 4\n",
      "(4071, 12772)\n",
      "l2 auto balanced\n",
      "Percent complete: 49.523809523809526\n",
      "200 100 6\n",
      "(4071, 60742)\n",
      "l2 auto balanced\n",
      "Percent complete: 50.476190476190474\n",
      "200 100 8\n",
      "(4071, 71903)\n",
      "l2 auto balanced\n",
      "Percent complete: 51.42857142857142\n",
      "200 100 10\n",
      "(4071, 60817)\n",
      "l2 auto balanced\n",
      "Percent complete: 52.38095238095239\n",
      "200 100 12\n",
      "(4071, 48991)\n",
      "l2 auto balanced\n",
      "Percent complete: 53.333333333333336\n",
      "200 200 1\n",
      "(8141, 800)\n",
      "l2 auto balanced\n"
     ]
    },
    {
     "name": "stderr",
     "output_type": "stream",
     "text": [
      "/Users/ryanqnelson/opt/anaconda3/envs/cmu/lib/python3.6/site-packages/sklearn/linear_model/_logistic.py:765: ConvergenceWarning: lbfgs failed to converge (status=1):\n",
      "STOP: TOTAL NO. of ITERATIONS REACHED LIMIT.\n",
      "\n",
      "Increase the number of iterations (max_iter) or scale the data as shown in:\n",
      "    https://scikit-learn.org/stable/modules/preprocessing.html\n",
      "Please also refer to the documentation for alternative solver options:\n",
      "    https://scikit-learn.org/stable/modules/linear_model.html#logistic-regression\n",
      "  extra_warning_msg=_LOGISTIC_SOLVER_CONVERGENCE_MSG)\n"
     ]
    },
    {
     "name": "stdout",
     "output_type": "stream",
     "text": [
      "Percent complete: 54.285714285714285\n",
      "200 200 2\n",
      "(8141, 1600)\n",
      "l2 auto balanced\n"
     ]
    },
    {
     "name": "stderr",
     "output_type": "stream",
     "text": [
      "/Users/ryanqnelson/opt/anaconda3/envs/cmu/lib/python3.6/site-packages/sklearn/linear_model/_logistic.py:765: ConvergenceWarning: lbfgs failed to converge (status=1):\n",
      "STOP: TOTAL NO. of ITERATIONS REACHED LIMIT.\n",
      "\n",
      "Increase the number of iterations (max_iter) or scale the data as shown in:\n",
      "    https://scikit-learn.org/stable/modules/preprocessing.html\n",
      "Please also refer to the documentation for alternative solver options:\n",
      "    https://scikit-learn.org/stable/modules/linear_model.html#logistic-regression\n",
      "  extra_warning_msg=_LOGISTIC_SOLVER_CONVERGENCE_MSG)\n"
     ]
    },
    {
     "name": "stdout",
     "output_type": "stream",
     "text": [
      "Percent complete: 55.23809523809524\n",
      "200 200 4\n",
      "(8141, 12799)\n",
      "l2 auto balanced\n",
      "Percent complete: 56.19047619047619\n",
      "200 200 6\n",
      "(8141, 77930)\n",
      "l2 auto balanced\n",
      "Percent complete: 57.14285714285714\n",
      "200 200 8\n",
      "(8141, 108026)\n",
      "l2 auto balanced\n",
      "Percent complete: 58.0952380952381\n",
      "200 200 10\n",
      "(8141, 94148)\n",
      "l2 auto balanced\n",
      "Percent complete: 59.04761904761905\n",
      "200 200 12\n",
      "(8141, 76066)\n",
      "l2 auto balanced\n",
      "Percent complete: 60.0\n",
      "200 400 1\n",
      "(16282, 800)\n",
      "l2 auto balanced\n"
     ]
    },
    {
     "name": "stderr",
     "output_type": "stream",
     "text": [
      "/Users/ryanqnelson/opt/anaconda3/envs/cmu/lib/python3.6/site-packages/sklearn/linear_model/_logistic.py:765: ConvergenceWarning: lbfgs failed to converge (status=1):\n",
      "STOP: TOTAL NO. of ITERATIONS REACHED LIMIT.\n",
      "\n",
      "Increase the number of iterations (max_iter) or scale the data as shown in:\n",
      "    https://scikit-learn.org/stable/modules/preprocessing.html\n",
      "Please also refer to the documentation for alternative solver options:\n",
      "    https://scikit-learn.org/stable/modules/linear_model.html#logistic-regression\n",
      "  extra_warning_msg=_LOGISTIC_SOLVER_CONVERGENCE_MSG)\n"
     ]
    },
    {
     "name": "stdout",
     "output_type": "stream",
     "text": [
      "Percent complete: 60.952380952380956\n",
      "200 400 2\n",
      "(16282, 1600)\n",
      "l2 auto balanced\n"
     ]
    },
    {
     "name": "stderr",
     "output_type": "stream",
     "text": [
      "/Users/ryanqnelson/opt/anaconda3/envs/cmu/lib/python3.6/site-packages/sklearn/linear_model/_logistic.py:765: ConvergenceWarning: lbfgs failed to converge (status=1):\n",
      "STOP: TOTAL NO. of ITERATIONS REACHED LIMIT.\n",
      "\n",
      "Increase the number of iterations (max_iter) or scale the data as shown in:\n",
      "    https://scikit-learn.org/stable/modules/preprocessing.html\n",
      "Please also refer to the documentation for alternative solver options:\n",
      "    https://scikit-learn.org/stable/modules/linear_model.html#logistic-regression\n",
      "  extra_warning_msg=_LOGISTIC_SOLVER_CONVERGENCE_MSG)\n"
     ]
    },
    {
     "name": "stdout",
     "output_type": "stream",
     "text": [
      "Percent complete: 61.904761904761905\n",
      "200 400 4\n",
      "(16282, 12800)\n",
      "l2 auto balanced\n",
      "Percent complete: 62.857142857142854\n",
      "200 400 6\n",
      "(16282, 88349)\n",
      "l2 auto balanced\n",
      "Percent complete: 63.8095238095238\n",
      "200 400 8\n",
      "(16282, 136646)\n",
      "l2 auto balanced\n",
      "Percent complete: 64.76190476190476\n",
      "200 400 10\n",
      "(16282, 121850)\n",
      "l2 auto balanced\n",
      "Percent complete: 65.71428571428571\n",
      "200 400 12\n",
      "(16282, 98704)\n",
      "l2 auto balanced\n",
      "Percent complete: 66.66666666666666\n",
      "400 1 1\n",
      "(23, 1592)\n",
      "l2 auto balanced\n",
      "Percent complete: 67.61904761904762\n",
      "400 1 2\n",
      "(23, 2327)\n",
      "l2 auto balanced\n",
      "Percent complete: 68.57142857142857\n",
      "400 1 4\n",
      "(23, 2146)\n",
      "l2 auto balanced\n",
      "Percent complete: 69.52380952380952\n",
      "400 1 6\n",
      "(23, 1511)\n",
      "l2 auto balanced\n",
      "Percent complete: 70.47619047619048\n",
      "400 1 8\n",
      "(23, 1150)\n",
      "l2 auto balanced\n",
      "Percent complete: 71.42857142857143\n",
      "400 1 10\n",
      "(23, 920)\n",
      "l2 auto balanced\n",
      "Percent complete: 72.38095238095238\n",
      "400 1 12\n",
      "(23, 759)\n",
      "l2 auto balanced\n",
      "Percent complete: 73.33333333333333\n",
      "400 10 1\n",
      "(205, 1600)\n",
      "l2 auto balanced\n",
      "Percent complete: 74.28571428571429\n",
      "400 10 2\n",
      "(205, 3199)\n",
      "l2 auto balanced\n",
      "Percent complete: 75.23809523809524\n",
      "400 10 4\n",
      "(205, 12558)\n",
      "l2 auto balanced\n",
      "Percent complete: 76.19047619047619\n",
      "400 10 6\n",
      "(205, 12586)\n",
      "l2 auto balanced\n",
      "Percent complete: 77.14285714285715\n",
      "400 10 8\n",
      "(205, 10003)\n",
      "l2 auto balanced\n",
      "Percent complete: 78.0952380952381\n",
      "400 10 10\n",
      "(205, 8033)\n",
      "l2 auto balanced\n",
      "Percent complete: 79.04761904761905\n",
      "400 10 12\n",
      "(205, 6631)\n",
      "l2 auto balanced\n",
      "Percent complete: 80.0\n",
      "400 100 1\n",
      "(2037, 1600)\n",
      "l2 auto balanced\n"
     ]
    },
    {
     "name": "stderr",
     "output_type": "stream",
     "text": [
      "/Users/ryanqnelson/opt/anaconda3/envs/cmu/lib/python3.6/site-packages/sklearn/linear_model/_logistic.py:765: ConvergenceWarning: lbfgs failed to converge (status=1):\n",
      "STOP: TOTAL NO. of ITERATIONS REACHED LIMIT.\n",
      "\n",
      "Increase the number of iterations (max_iter) or scale the data as shown in:\n",
      "    https://scikit-learn.org/stable/modules/preprocessing.html\n",
      "Please also refer to the documentation for alternative solver options:\n",
      "    https://scikit-learn.org/stable/modules/linear_model.html#logistic-regression\n",
      "  extra_warning_msg=_LOGISTIC_SOLVER_CONVERGENCE_MSG)\n"
     ]
    },
    {
     "name": "stdout",
     "output_type": "stream",
     "text": [
      "Percent complete: 80.95238095238095\n",
      "400 100 2\n",
      "(2037, 3200)\n",
      "l2 auto balanced\n"
     ]
    },
    {
     "name": "stderr",
     "output_type": "stream",
     "text": [
      "/Users/ryanqnelson/opt/anaconda3/envs/cmu/lib/python3.6/site-packages/sklearn/linear_model/_logistic.py:765: ConvergenceWarning: lbfgs failed to converge (status=1):\n",
      "STOP: TOTAL NO. of ITERATIONS REACHED LIMIT.\n",
      "\n",
      "Increase the number of iterations (max_iter) or scale the data as shown in:\n",
      "    https://scikit-learn.org/stable/modules/preprocessing.html\n",
      "Please also refer to the documentation for alternative solver options:\n",
      "    https://scikit-learn.org/stable/modules/linear_model.html#logistic-regression\n",
      "  extra_warning_msg=_LOGISTIC_SOLVER_CONVERGENCE_MSG)\n"
     ]
    },
    {
     "name": "stdout",
     "output_type": "stream",
     "text": [
      "Percent complete: 81.9047619047619\n",
      "400 100 4\n",
      "(2037, 25059)\n",
      "l2 auto balanced\n",
      "Percent complete: 82.85714285714286\n",
      "400 100 6\n",
      "(2037, 80853)\n",
      "l2 auto balanced\n",
      "Percent complete: 83.80952380952381\n",
      "400 100 8\n",
      "(2037, 81580)\n",
      "l2 auto balanced\n",
      "Percent complete: 84.76190476190476\n",
      "400 100 10\n",
      "(2037, 67552)\n",
      "l2 auto balanced\n",
      "Percent complete: 85.71428571428571\n",
      "400 100 12\n",
      "(2037, 55940)\n",
      "l2 auto balanced\n",
      "Percent complete: 86.66666666666667\n",
      "400 200 1\n",
      "(4071, 1600)\n",
      "l2 auto balanced\n"
     ]
    },
    {
     "name": "stderr",
     "output_type": "stream",
     "text": [
      "/Users/ryanqnelson/opt/anaconda3/envs/cmu/lib/python3.6/site-packages/sklearn/linear_model/_logistic.py:765: ConvergenceWarning: lbfgs failed to converge (status=1):\n",
      "STOP: TOTAL NO. of ITERATIONS REACHED LIMIT.\n",
      "\n",
      "Increase the number of iterations (max_iter) or scale the data as shown in:\n",
      "    https://scikit-learn.org/stable/modules/preprocessing.html\n",
      "Please also refer to the documentation for alternative solver options:\n",
      "    https://scikit-learn.org/stable/modules/linear_model.html#logistic-regression\n",
      "  extra_warning_msg=_LOGISTIC_SOLVER_CONVERGENCE_MSG)\n"
     ]
    },
    {
     "name": "stdout",
     "output_type": "stream",
     "text": [
      "Percent complete: 87.61904761904762\n",
      "400 200 2\n",
      "(4071, 3200)\n",
      "l2 auto balanced\n"
     ]
    },
    {
     "name": "stderr",
     "output_type": "stream",
     "text": [
      "/Users/ryanqnelson/opt/anaconda3/envs/cmu/lib/python3.6/site-packages/sklearn/linear_model/_logistic.py:765: ConvergenceWarning: lbfgs failed to converge (status=1):\n",
      "STOP: TOTAL NO. of ITERATIONS REACHED LIMIT.\n",
      "\n",
      "Increase the number of iterations (max_iter) or scale the data as shown in:\n",
      "    https://scikit-learn.org/stable/modules/preprocessing.html\n",
      "Please also refer to the documentation for alternative solver options:\n",
      "    https://scikit-learn.org/stable/modules/linear_model.html#logistic-regression\n",
      "  extra_warning_msg=_LOGISTIC_SOLVER_CONVERGENCE_MSG)\n"
     ]
    },
    {
     "name": "stdout",
     "output_type": "stream",
     "text": [
      "Percent complete: 88.57142857142857\n",
      "400 200 4\n",
      "(4071, 25514)\n",
      "l2 auto balanced\n",
      "Percent complete: 89.52380952380953\n",
      "400 200 6\n",
      "(4071, 117598)\n",
      "l2 auto balanced\n",
      "Percent complete: 90.47619047619048\n",
      "400 200 8\n",
      "(4071, 138154)\n",
      "l2 auto balanced\n",
      "Percent complete: 91.42857142857143\n",
      "400 200 10\n",
      "(4071, 116996)\n",
      "l2 auto balanced\n",
      "Percent complete: 92.38095238095238\n",
      "400 200 12\n",
      "(4071, 97172)\n",
      "l2 auto balanced\n",
      "Percent complete: 93.33333333333333\n",
      "400 400 1\n",
      "(8141, 1600)\n",
      "l2 auto balanced\n"
     ]
    },
    {
     "name": "stderr",
     "output_type": "stream",
     "text": [
      "/Users/ryanqnelson/opt/anaconda3/envs/cmu/lib/python3.6/site-packages/sklearn/linear_model/_logistic.py:765: ConvergenceWarning: lbfgs failed to converge (status=1):\n",
      "STOP: TOTAL NO. of ITERATIONS REACHED LIMIT.\n",
      "\n",
      "Increase the number of iterations (max_iter) or scale the data as shown in:\n",
      "    https://scikit-learn.org/stable/modules/preprocessing.html\n",
      "Please also refer to the documentation for alternative solver options:\n",
      "    https://scikit-learn.org/stable/modules/linear_model.html#logistic-regression\n",
      "  extra_warning_msg=_LOGISTIC_SOLVER_CONVERGENCE_MSG)\n"
     ]
    },
    {
     "name": "stdout",
     "output_type": "stream",
     "text": [
      "Percent complete: 94.28571428571428\n",
      "400 400 2\n",
      "(8141, 3200)\n",
      "l2 auto balanced\n"
     ]
    },
    {
     "name": "stderr",
     "output_type": "stream",
     "text": [
      "/Users/ryanqnelson/opt/anaconda3/envs/cmu/lib/python3.6/site-packages/sklearn/linear_model/_logistic.py:765: ConvergenceWarning: lbfgs failed to converge (status=1):\n",
      "STOP: TOTAL NO. of ITERATIONS REACHED LIMIT.\n",
      "\n",
      "Increase the number of iterations (max_iter) or scale the data as shown in:\n",
      "    https://scikit-learn.org/stable/modules/preprocessing.html\n",
      "Please also refer to the documentation for alternative solver options:\n",
      "    https://scikit-learn.org/stable/modules/linear_model.html#logistic-regression\n",
      "  extra_warning_msg=_LOGISTIC_SOLVER_CONVERGENCE_MSG)\n"
     ]
    },
    {
     "name": "stdout",
     "output_type": "stream",
     "text": [
      "Percent complete: 95.23809523809523\n",
      "400 400 4\n",
      "(8141, 25588)\n",
      "l2 auto balanced\n",
      "Percent complete: 96.19047619047619\n",
      "400 400 6\n",
      "(8141, 148288)\n",
      "l2 auto balanced\n",
      "Percent complete: 97.14285714285714\n",
      "400 400 8\n",
      "(8141, 200257)\n",
      "l2 auto balanced\n",
      "Percent complete: 98.09523809523809\n",
      "400 400 10\n",
      "(8141, 174176)\n",
      "l2 auto balanced\n",
      "Percent complete: 99.04761904761905\n",
      "400 400 12\n",
      "(8141, 145094)\n",
      "l2 auto balanced\n",
      "Percent complete: 100.0\n",
      "CPU times: user 8min 17s, sys: 9.39 s, total: 8min 26s\n",
      "Wall time: 3min 27s\n"
     ]
    }
   ],
   "source": [
    "# %%time\n",
    "# 3 min\n",
    "\n",
    "# # parameters\n",
    "# seq_file = 'data/train_small-db_toy-2000.fasta'\n",
    "# taxid_file = 'data/train_small-db_toy-2000.taxid'\n",
    "# output_dir = 'data/sampling/sampling-toy-2000'\n",
    "# pattern = 'fragments*.npy'\n",
    "# seed = 42\n",
    "# date_time = datetime.datetime.now().strftime('%Y.%m.%d.%H.%M.%S')\n",
    "# grid_search_file  = 'data/gridsearch-2000/lr-multi.{}.csv'.format(date_time)\n",
    "# fields = ['experiment','category','classifier','training shape','sample_length','coverage','k','penalty','multi_class', 'class_weight', 'score','score type']\n",
    "# experiment = '7.02'\n",
    "# score_type = 'species_recall'\n",
    "\n",
    "# # combinations to try\n",
    "# list_sample_length = [100,200,400]\n",
    "# list_coverage = [1,10,100,200,400]\n",
    "# list_k = [1,2,4,6,8,10,12]\n",
    "# list_penalty=['l2']\n",
    "# list_multiclass = ['auto']\n",
    "# list_classweight= ['balanced']\n",
    "\n",
    "\n",
    "# grid_search_multiclass_lr(seq_file, \n",
    "#                           taxid_file, \n",
    "#                           output_dir, \n",
    "#                           pattern, \n",
    "#                           list_sample_length, \n",
    "#                           list_coverage, \n",
    "#                           list_k, \n",
    "#                           list_penalty,\n",
    "#                           list_multiclass,\n",
    "#                           list_classweight,\n",
    "#                           seed,\n",
    "#                           grid_search_file,\n",
    "#                           fields,\n",
    "#                           experiment,\n",
    "#                           score_type)\n"
   ]
  },
  {
   "cell_type": "markdown",
   "id": "duplicate-guide",
   "metadata": {},
   "source": [
    "### Run 7.03 - No penalty, no class weights\n",
    "Changed solver back to default."
   ]
  },
  {
   "cell_type": "code",
   "execution_count": 59,
   "id": "framed-auckland",
   "metadata": {},
   "outputs": [
    {
     "name": "stdout",
     "output_type": "stream",
     "text": [
      "100 1 1\n",
      "(85, 400)\n",
      "none auto None\n",
      "Percent complete: 0.9523809523809524\n",
      "100 1 2\n",
      "(85, 793)\n",
      "none auto None\n",
      "Percent complete: 1.9047619047619049\n",
      "100 1 4\n",
      "(85, 1722)\n",
      "none auto None\n",
      "Percent complete: 2.857142857142857\n",
      "100 1 6\n",
      "(85, 1338)\n",
      "none auto None\n",
      "Percent complete: 3.8095238095238098\n",
      "100 1 8\n",
      "(85, 1018)\n",
      "none auto None\n",
      "Percent complete: 4.761904761904762\n",
      "100 1 10\n",
      "(85, 850)\n",
      "none auto None\n",
      "Percent complete: 5.714285714285714\n",
      "100 1 12\n",
      "(85, 680)\n",
      "none auto None\n",
      "Percent complete: 6.666666666666667\n",
      "100 10 1\n",
      "(816, 400)\n",
      "none auto None\n",
      "Percent complete: 7.6190476190476195\n",
      "100 10 2\n",
      "(816, 800)\n",
      "none auto None\n",
      "Percent complete: 8.571428571428571\n",
      "100 10 4\n",
      "(816, 5689)\n",
      "none auto None\n",
      "Percent complete: 9.523809523809524\n",
      "100 10 6\n",
      "(816, 10714)\n",
      "none auto None\n",
      "Percent complete: 10.476190476190476\n",
      "100 10 8\n",
      "(816, 9328)\n",
      "none auto None\n",
      "Percent complete: 11.428571428571429\n",
      "100 10 10\n",
      "(816, 7885)\n",
      "none auto None\n",
      "Percent complete: 12.380952380952381\n",
      "100 10 12\n",
      "(816, 6317)\n",
      "none auto None\n",
      "Percent complete: 13.333333333333334\n",
      "100 100 1\n",
      "(8141, 400)\n",
      "none auto None\n"
     ]
    },
    {
     "name": "stderr",
     "output_type": "stream",
     "text": [
      "/Users/ryanqnelson/opt/anaconda3/envs/cmu/lib/python3.6/site-packages/sklearn/linear_model/_logistic.py:765: ConvergenceWarning: lbfgs failed to converge (status=1):\n",
      "STOP: TOTAL NO. of ITERATIONS REACHED LIMIT.\n",
      "\n",
      "Increase the number of iterations (max_iter) or scale the data as shown in:\n",
      "    https://scikit-learn.org/stable/modules/preprocessing.html\n",
      "Please also refer to the documentation for alternative solver options:\n",
      "    https://scikit-learn.org/stable/modules/linear_model.html#logistic-regression\n",
      "  extra_warning_msg=_LOGISTIC_SOLVER_CONVERGENCE_MSG)\n"
     ]
    },
    {
     "name": "stdout",
     "output_type": "stream",
     "text": [
      "Percent complete: 14.285714285714285\n",
      "100 100 2\n",
      "(8141, 800)\n",
      "none auto None\n"
     ]
    },
    {
     "name": "stderr",
     "output_type": "stream",
     "text": [
      "/Users/ryanqnelson/opt/anaconda3/envs/cmu/lib/python3.6/site-packages/sklearn/linear_model/_logistic.py:765: ConvergenceWarning: lbfgs failed to converge (status=1):\n",
      "STOP: TOTAL NO. of ITERATIONS REACHED LIMIT.\n",
      "\n",
      "Increase the number of iterations (max_iter) or scale the data as shown in:\n",
      "    https://scikit-learn.org/stable/modules/preprocessing.html\n",
      "Please also refer to the documentation for alternative solver options:\n",
      "    https://scikit-learn.org/stable/modules/linear_model.html#logistic-regression\n",
      "  extra_warning_msg=_LOGISTIC_SOLVER_CONVERGENCE_MSG)\n"
     ]
    },
    {
     "name": "stdout",
     "output_type": "stream",
     "text": [
      "Percent complete: 15.238095238095239\n",
      "100 100 4\n",
      "(8141, 6399)\n",
      "none auto None\n",
      "Percent complete: 16.19047619047619\n",
      "100 100 6\n",
      "(8141, 38665)\n",
      "none auto None\n",
      "Percent complete: 17.142857142857142\n",
      "100 100 8\n",
      "(8141, 53604)\n",
      "none auto None\n",
      "Percent complete: 18.095238095238095\n",
      "100 100 10\n",
      "(8141, 48759)\n",
      "none auto None\n",
      "Percent complete: 19.047619047619047\n",
      "100 100 12\n",
      "(8141, 39395)\n",
      "none auto None\n",
      "Percent complete: 20.0\n",
      "100 200 1\n",
      "(16282, 400)\n",
      "none auto None\n",
      "Percent complete: 20.952380952380953\n",
      "100 200 2\n",
      "(16282, 800)\n",
      "none auto None\n"
     ]
    },
    {
     "name": "stderr",
     "output_type": "stream",
     "text": [
      "/Users/ryanqnelson/opt/anaconda3/envs/cmu/lib/python3.6/site-packages/sklearn/linear_model/_logistic.py:765: ConvergenceWarning: lbfgs failed to converge (status=1):\n",
      "STOP: TOTAL NO. of ITERATIONS REACHED LIMIT.\n",
      "\n",
      "Increase the number of iterations (max_iter) or scale the data as shown in:\n",
      "    https://scikit-learn.org/stable/modules/preprocessing.html\n",
      "Please also refer to the documentation for alternative solver options:\n",
      "    https://scikit-learn.org/stable/modules/linear_model.html#logistic-regression\n",
      "  extra_warning_msg=_LOGISTIC_SOLVER_CONVERGENCE_MSG)\n"
     ]
    },
    {
     "name": "stdout",
     "output_type": "stream",
     "text": [
      "Percent complete: 21.904761904761905\n",
      "100 200 4\n",
      "(16282, 6400)\n",
      "none auto None\n",
      "Percent complete: 22.857142857142858\n",
      "100 200 6\n",
      "(16282, 43939)\n",
      "none auto None\n",
      "Percent complete: 23.809523809523807\n",
      "100 200 8\n",
      "(16282, 68550)\n",
      "none auto None\n",
      "Percent complete: 24.761904761904763\n",
      "100 200 10\n",
      "(16282, 63875)\n",
      "none auto None\n",
      "Percent complete: 25.71428571428571\n",
      "100 200 12\n",
      "(16282, 51766)\n",
      "none auto None\n",
      "Percent complete: 26.666666666666668\n",
      "100 400 1\n",
      "(32564, 400)\n",
      "none auto None\n",
      "Percent complete: 27.61904761904762\n",
      "100 400 2\n",
      "(32564, 800)\n",
      "none auto None\n"
     ]
    },
    {
     "name": "stderr",
     "output_type": "stream",
     "text": [
      "/Users/ryanqnelson/opt/anaconda3/envs/cmu/lib/python3.6/site-packages/sklearn/linear_model/_logistic.py:765: ConvergenceWarning: lbfgs failed to converge (status=1):\n",
      "STOP: TOTAL NO. of ITERATIONS REACHED LIMIT.\n",
      "\n",
      "Increase the number of iterations (max_iter) or scale the data as shown in:\n",
      "    https://scikit-learn.org/stable/modules/preprocessing.html\n",
      "Please also refer to the documentation for alternative solver options:\n",
      "    https://scikit-learn.org/stable/modules/linear_model.html#logistic-regression\n",
      "  extra_warning_msg=_LOGISTIC_SOLVER_CONVERGENCE_MSG)\n"
     ]
    },
    {
     "name": "stdout",
     "output_type": "stream",
     "text": [
      "Percent complete: 28.57142857142857\n",
      "100 400 4\n",
      "(32564, 6400)\n",
      "none auto None\n",
      "Percent complete: 29.523809523809526\n",
      "100 400 6\n",
      "(32564, 46691)\n",
      "none auto None\n",
      "Percent complete: 30.476190476190478\n",
      "100 400 8\n",
      "(32564, 77733)\n",
      "none auto None\n",
      "Percent complete: 31.428571428571427\n",
      "100 400 10\n",
      "(32564, 73479)\n",
      "none auto None\n",
      "Percent complete: 32.38095238095238\n",
      "100 400 12\n",
      "(32564, 59669)\n",
      "none auto None\n",
      "Percent complete: 33.33333333333333\n",
      "200 1 1\n",
      "(44, 800)\n",
      "none auto None\n",
      "Percent complete: 34.285714285714285\n",
      "200 1 2\n",
      "(44, 1444)\n",
      "none auto None\n",
      "Percent complete: 35.23809523809524\n",
      "200 1 4\n",
      "(44, 1910)\n",
      "none auto None\n",
      "Percent complete: 36.19047619047619\n",
      "200 1 6\n",
      "(44, 1429)\n",
      "none auto None\n",
      "Percent complete: 37.142857142857146\n",
      "200 1 8\n",
      "(44, 1096)\n",
      "none auto None\n",
      "Percent complete: 38.095238095238095\n",
      "200 1 10\n",
      "(44, 878)\n",
      "none auto None\n",
      "Percent complete: 39.04761904761905\n",
      "200 1 12\n",
      "(44, 703)\n",
      "none auto None\n",
      "Percent complete: 40.0\n",
      "200 10 1\n",
      "(409, 800)\n",
      "none auto None\n",
      "Percent complete: 40.95238095238095\n",
      "200 10 2\n",
      "(409, 1600)\n",
      "none auto None\n",
      "Percent complete: 41.904761904761905\n",
      "200 10 4\n",
      "(409, 9082)\n",
      "none auto None\n",
      "Percent complete: 42.857142857142854\n",
      "200 10 6\n",
      "(409, 11985)\n",
      "none auto None\n",
      "Percent complete: 43.80952380952381\n",
      "200 10 8\n",
      "(409, 9852)\n",
      "none auto None\n",
      "Percent complete: 44.761904761904766\n",
      "200 10 10\n",
      "(409, 7945)\n",
      "none auto None\n",
      "Percent complete: 45.714285714285715\n",
      "200 10 12\n",
      "(409, 6361)\n",
      "none auto None\n",
      "Percent complete: 46.666666666666664\n",
      "200 100 1\n",
      "(4071, 800)\n",
      "none auto None\n",
      "Percent complete: 47.61904761904761\n",
      "200 100 2\n",
      "(4071, 1600)\n",
      "none auto None\n",
      "Percent complete: 48.57142857142857\n",
      "200 100 4\n",
      "(4071, 12772)\n",
      "none auto None\n",
      "Percent complete: 49.523809523809526\n",
      "200 100 6\n",
      "(4071, 60742)\n",
      "none auto None\n",
      "Percent complete: 50.476190476190474\n",
      "200 100 8\n",
      "(4071, 71903)\n",
      "none auto None\n",
      "Percent complete: 51.42857142857142\n",
      "200 100 10\n",
      "(4071, 60817)\n",
      "none auto None\n",
      "Percent complete: 52.38095238095239\n",
      "200 100 12\n",
      "(4071, 48991)\n",
      "none auto None\n",
      "Percent complete: 53.333333333333336\n",
      "200 200 1\n",
      "(8141, 800)\n",
      "none auto None\n"
     ]
    },
    {
     "name": "stderr",
     "output_type": "stream",
     "text": [
      "/Users/ryanqnelson/opt/anaconda3/envs/cmu/lib/python3.6/site-packages/sklearn/linear_model/_logistic.py:765: ConvergenceWarning: lbfgs failed to converge (status=1):\n",
      "STOP: TOTAL NO. of ITERATIONS REACHED LIMIT.\n",
      "\n",
      "Increase the number of iterations (max_iter) or scale the data as shown in:\n",
      "    https://scikit-learn.org/stable/modules/preprocessing.html\n",
      "Please also refer to the documentation for alternative solver options:\n",
      "    https://scikit-learn.org/stable/modules/linear_model.html#logistic-regression\n",
      "  extra_warning_msg=_LOGISTIC_SOLVER_CONVERGENCE_MSG)\n"
     ]
    },
    {
     "name": "stdout",
     "output_type": "stream",
     "text": [
      "Percent complete: 54.285714285714285\n",
      "200 200 2\n",
      "(8141, 1600)\n",
      "none auto None\n",
      "Percent complete: 55.23809523809524\n",
      "200 200 4\n",
      "(8141, 12799)\n",
      "none auto None\n",
      "Percent complete: 56.19047619047619\n",
      "200 200 6\n",
      "(8141, 77930)\n",
      "none auto None\n",
      "Percent complete: 57.14285714285714\n",
      "200 200 8\n",
      "(8141, 108026)\n",
      "none auto None\n",
      "Percent complete: 58.0952380952381\n",
      "200 200 10\n",
      "(8141, 94148)\n",
      "none auto None\n",
      "Percent complete: 59.04761904761905\n",
      "200 200 12\n",
      "(8141, 76066)\n",
      "none auto None\n",
      "Percent complete: 60.0\n",
      "200 400 1\n",
      "(16282, 800)\n",
      "none auto None\n"
     ]
    },
    {
     "name": "stderr",
     "output_type": "stream",
     "text": [
      "/Users/ryanqnelson/opt/anaconda3/envs/cmu/lib/python3.6/site-packages/sklearn/linear_model/_logistic.py:765: ConvergenceWarning: lbfgs failed to converge (status=1):\n",
      "STOP: TOTAL NO. of ITERATIONS REACHED LIMIT.\n",
      "\n",
      "Increase the number of iterations (max_iter) or scale the data as shown in:\n",
      "    https://scikit-learn.org/stable/modules/preprocessing.html\n",
      "Please also refer to the documentation for alternative solver options:\n",
      "    https://scikit-learn.org/stable/modules/linear_model.html#logistic-regression\n",
      "  extra_warning_msg=_LOGISTIC_SOLVER_CONVERGENCE_MSG)\n"
     ]
    },
    {
     "name": "stdout",
     "output_type": "stream",
     "text": [
      "Percent complete: 60.952380952380956\n",
      "200 400 2\n",
      "(16282, 1600)\n",
      "none auto None\n",
      "Percent complete: 61.904761904761905\n",
      "200 400 4\n",
      "(16282, 12800)\n",
      "none auto None\n",
      "Percent complete: 62.857142857142854\n",
      "200 400 6\n",
      "(16282, 88349)\n",
      "none auto None\n",
      "Percent complete: 63.8095238095238\n",
      "200 400 8\n",
      "(16282, 136646)\n",
      "none auto None\n",
      "Percent complete: 64.76190476190476\n",
      "200 400 10\n",
      "(16282, 121850)\n",
      "none auto None\n",
      "Percent complete: 65.71428571428571\n",
      "200 400 12\n",
      "(16282, 98704)\n",
      "none auto None\n",
      "Percent complete: 66.66666666666666\n",
      "400 1 1\n",
      "(23, 1592)\n",
      "none auto None\n",
      "Percent complete: 67.61904761904762\n",
      "400 1 2\n",
      "(23, 2327)\n",
      "none auto None\n",
      "Percent complete: 68.57142857142857\n",
      "400 1 4\n",
      "(23, 2146)\n",
      "none auto None\n",
      "Percent complete: 69.52380952380952\n",
      "400 1 6\n",
      "(23, 1511)\n",
      "none auto None\n",
      "Percent complete: 70.47619047619048\n",
      "400 1 8\n",
      "(23, 1150)\n",
      "none auto None\n",
      "Percent complete: 71.42857142857143\n",
      "400 1 10\n",
      "(23, 920)\n",
      "none auto None\n",
      "Percent complete: 72.38095238095238\n",
      "400 1 12\n",
      "(23, 759)\n",
      "none auto None\n",
      "Percent complete: 73.33333333333333\n",
      "400 10 1\n",
      "(205, 1600)\n",
      "none auto None\n",
      "Percent complete: 74.28571428571429\n",
      "400 10 2\n",
      "(205, 3199)\n",
      "none auto None\n",
      "Percent complete: 75.23809523809524\n",
      "400 10 4\n",
      "(205, 12558)\n",
      "none auto None\n",
      "Percent complete: 76.19047619047619\n",
      "400 10 6\n",
      "(205, 12586)\n",
      "none auto None\n",
      "Percent complete: 77.14285714285715\n",
      "400 10 8\n",
      "(205, 10003)\n",
      "none auto None\n",
      "Percent complete: 78.0952380952381\n",
      "400 10 10\n",
      "(205, 8033)\n",
      "none auto None\n",
      "Percent complete: 79.04761904761905\n",
      "400 10 12\n",
      "(205, 6631)\n",
      "none auto None\n",
      "Percent complete: 80.0\n",
      "400 100 1\n",
      "(2037, 1600)\n",
      "none auto None\n",
      "Percent complete: 80.95238095238095\n",
      "400 100 2\n",
      "(2037, 3200)\n",
      "none auto None\n",
      "Percent complete: 81.9047619047619\n",
      "400 100 4\n",
      "(2037, 25059)\n",
      "none auto None\n",
      "Percent complete: 82.85714285714286\n",
      "400 100 6\n",
      "(2037, 80853)\n",
      "none auto None\n",
      "Percent complete: 83.80952380952381\n",
      "400 100 8\n",
      "(2037, 81580)\n",
      "none auto None\n",
      "Percent complete: 84.76190476190476\n",
      "400 100 10\n",
      "(2037, 67552)\n",
      "none auto None\n",
      "Percent complete: 85.71428571428571\n",
      "400 100 12\n",
      "(2037, 55940)\n",
      "none auto None\n",
      "Percent complete: 86.66666666666667\n",
      "400 200 1\n",
      "(4071, 1600)\n",
      "none auto None\n",
      "Percent complete: 87.61904761904762\n",
      "400 200 2\n",
      "(4071, 3200)\n",
      "none auto None\n",
      "Percent complete: 88.57142857142857\n",
      "400 200 4\n",
      "(4071, 25514)\n",
      "none auto None\n",
      "Percent complete: 89.52380952380953\n",
      "400 200 6\n",
      "(4071, 117598)\n",
      "none auto None\n",
      "Percent complete: 90.47619047619048\n",
      "400 200 8\n",
      "(4071, 138154)\n",
      "none auto None\n",
      "Percent complete: 91.42857142857143\n",
      "400 200 10\n",
      "(4071, 116996)\n",
      "none auto None\n",
      "Percent complete: 92.38095238095238\n",
      "400 200 12\n",
      "(4071, 97172)\n",
      "none auto None\n",
      "Percent complete: 93.33333333333333\n",
      "400 400 1\n",
      "(8141, 1600)\n",
      "none auto None\n",
      "Percent complete: 94.28571428571428\n",
      "400 400 2\n",
      "(8141, 3200)\n",
      "none auto None\n",
      "Percent complete: 95.23809523809523\n",
      "400 400 4\n",
      "(8141, 25588)\n",
      "none auto None\n",
      "Percent complete: 96.19047619047619\n",
      "400 400 6\n",
      "(8141, 148288)\n",
      "none auto None\n",
      "Percent complete: 97.14285714285714\n",
      "400 400 8\n",
      "(8141, 200257)\n",
      "none auto None\n",
      "Percent complete: 98.09523809523809\n",
      "400 400 10\n",
      "(8141, 174176)\n",
      "none auto None\n",
      "Percent complete: 99.04761904761905\n",
      "400 400 12\n",
      "(8141, 145094)\n",
      "none auto None\n",
      "Percent complete: 100.0\n",
      "CPU times: user 5min 23s, sys: 7.86 s, total: 5min 30s\n",
      "Wall time: 2min 43s\n"
     ]
    }
   ],
   "source": [
    "# %%time\n",
    "# # 5 min\n",
    "\n",
    "# # parameters\n",
    "# seq_file = 'data/train_small-db_toy-2000.fasta'\n",
    "# taxid_file = 'data/train_small-db_toy-2000.taxid'\n",
    "# output_dir = 'data/sampling/sampling-toy-2000'\n",
    "# pattern = 'fragments*.npy'\n",
    "# seed = 42\n",
    "# date_time = datetime.datetime.now().strftime('%Y.%m.%d.%H.%M.%S')\n",
    "# grid_search_file  = 'data/gridsearch-2000/lr-multi.{}.csv'.format(date_time)\n",
    "# fields = ['experiment','category','classifier','training shape','sample_length','coverage','k','penalty','multi_class', 'class_weight', 'score','score type']\n",
    "# experiment = '7.03'\n",
    "# score_type = 'species_recall'\n",
    "\n",
    "# # combinations to try\n",
    "# list_sample_length = [100,200,400]\n",
    "# list_coverage = [1,10,100,200,400]\n",
    "# list_k = [1,2,4,6,8,10,12]\n",
    "# list_penalty=['none']\n",
    "# list_multiclass = ['auto']\n",
    "# list_classweight= [None]\n",
    "\n",
    "\n",
    "# grid_search_multiclass_lr(seq_file, \n",
    "#                           taxid_file, \n",
    "#                           output_dir, \n",
    "#                           pattern, \n",
    "#                           list_sample_length, \n",
    "#                           list_coverage, \n",
    "#                           list_k, \n",
    "#                           list_penalty,\n",
    "#                           list_multiclass,\n",
    "#                           list_classweight,\n",
    "#                           seed,\n",
    "#                           grid_search_file,\n",
    "#                           fields,\n",
    "#                           experiment,\n",
    "#                           score_type)\n"
   ]
  },
  {
   "cell_type": "markdown",
   "id": "industrial-scoop",
   "metadata": {},
   "source": [
    "### Run 7.04 - L2 penalty, ovr"
   ]
  },
  {
   "cell_type": "code",
   "execution_count": null,
   "id": "greenhouse-addition",
   "metadata": {},
   "outputs": [
    {
     "name": "stdout",
     "output_type": "stream",
     "text": [
      "100 1 1\n",
      "(85, 400)\n",
      "l2 ovr None\n",
      "Percent complete: 0.9523809523809524\n",
      "100 1 2\n",
      "(85, 793)\n",
      "l2 ovr None\n",
      "Percent complete: 1.9047619047619049\n",
      "100 1 4\n",
      "(85, 1722)\n",
      "l2 ovr None\n",
      "Percent complete: 2.857142857142857\n",
      "100 1 6\n",
      "(85, 1338)\n",
      "l2 ovr None\n",
      "Percent complete: 3.8095238095238098\n",
      "100 1 8\n",
      "(85, 1018)\n",
      "l2 ovr None\n",
      "Percent complete: 4.761904761904762\n",
      "100 1 10\n",
      "(85, 850)\n",
      "l2 ovr None\n",
      "Percent complete: 5.714285714285714\n",
      "100 1 12\n",
      "(85, 680)\n",
      "l2 ovr None\n",
      "Percent complete: 6.666666666666667\n",
      "100 10 1\n",
      "(816, 400)\n",
      "l2 ovr None\n",
      "Percent complete: 7.6190476190476195\n",
      "100 10 2\n",
      "(816, 800)\n",
      "l2 ovr None\n",
      "Percent complete: 8.571428571428571\n",
      "100 10 4\n",
      "(816, 5689)\n",
      "l2 ovr None\n",
      "Percent complete: 9.523809523809524\n",
      "100 10 6\n",
      "(816, 10714)\n",
      "l2 ovr None\n",
      "Percent complete: 10.476190476190476\n",
      "100 10 8\n",
      "(816, 9328)\n",
      "l2 ovr None\n",
      "Percent complete: 11.428571428571429\n",
      "100 10 10\n",
      "(816, 7885)\n",
      "l2 ovr None\n",
      "Percent complete: 12.380952380952381\n",
      "100 10 12\n",
      "(816, 6317)\n",
      "l2 ovr None\n",
      "Percent complete: 13.333333333333334\n",
      "100 100 1\n",
      "(8141, 400)\n",
      "l2 ovr None\n",
      "Percent complete: 14.285714285714285\n",
      "100 100 2\n",
      "(8141, 800)\n",
      "l2 ovr None\n",
      "Percent complete: 15.238095238095239\n",
      "100 100 4\n",
      "(8141, 6399)\n",
      "l2 ovr None\n",
      "Percent complete: 16.19047619047619\n",
      "100 100 6\n",
      "(8141, 38665)\n",
      "l2 ovr None\n",
      "Percent complete: 17.142857142857142\n",
      "100 100 8\n",
      "(8141, 53604)\n",
      "l2 ovr None\n",
      "Percent complete: 18.095238095238095\n",
      "100 100 10\n",
      "(8141, 48759)\n",
      "l2 ovr None\n",
      "Percent complete: 19.047619047619047\n",
      "100 100 12\n",
      "(8141, 39395)\n",
      "l2 ovr None\n",
      "Percent complete: 20.0\n",
      "100 200 1\n",
      "(16282, 400)\n",
      "l2 ovr None\n",
      "Percent complete: 20.952380952380953\n",
      "100 200 2\n",
      "(16282, 800)\n",
      "l2 ovr None\n",
      "Percent complete: 21.904761904761905\n",
      "100 200 4\n",
      "(16282, 6400)\n",
      "l2 ovr None\n",
      "Percent complete: 22.857142857142858\n",
      "100 200 6\n",
      "(16282, 43939)\n",
      "l2 ovr None\n",
      "Percent complete: 23.809523809523807\n",
      "100 200 8\n",
      "(16282, 68550)\n",
      "l2 ovr None\n",
      "Percent complete: 24.761904761904763\n",
      "100 200 10\n",
      "(16282, 63875)\n",
      "l2 ovr None\n",
      "Percent complete: 25.71428571428571\n",
      "100 200 12\n",
      "(16282, 51766)\n",
      "l2 ovr None\n",
      "Percent complete: 26.666666666666668\n",
      "100 400 1\n",
      "(32564, 400)\n",
      "l2 ovr None\n",
      "Percent complete: 27.61904761904762\n",
      "100 400 2\n",
      "(32564, 800)\n",
      "l2 ovr None\n",
      "Percent complete: 28.57142857142857\n",
      "100 400 4\n",
      "(32564, 6400)\n",
      "l2 ovr None\n",
      "Percent complete: 29.523809523809526\n",
      "100 400 6\n",
      "(32564, 46691)\n",
      "l2 ovr None\n",
      "Percent complete: 30.476190476190478\n",
      "100 400 8\n",
      "(32564, 77733)\n",
      "l2 ovr None\n",
      "Percent complete: 31.428571428571427\n",
      "100 400 10\n",
      "(32564, 73479)\n",
      "l2 ovr None\n",
      "Percent complete: 32.38095238095238\n",
      "100 400 12\n",
      "(32564, 59669)\n",
      "l2 ovr None\n",
      "Percent complete: 33.33333333333333\n",
      "200 1 1\n",
      "(44, 800)\n",
      "l2 ovr None\n",
      "Percent complete: 34.285714285714285\n",
      "200 1 2\n",
      "(44, 1444)\n",
      "l2 ovr None\n",
      "Percent complete: 35.23809523809524\n",
      "200 1 4\n",
      "(44, 1910)\n",
      "l2 ovr None\n",
      "Percent complete: 36.19047619047619\n",
      "200 1 6\n",
      "(44, 1429)\n",
      "l2 ovr None\n",
      "Percent complete: 37.142857142857146\n",
      "200 1 8\n",
      "(44, 1096)\n",
      "l2 ovr None\n",
      "Percent complete: 38.095238095238095\n",
      "200 1 10\n",
      "(44, 878)\n",
      "l2 ovr None\n",
      "Percent complete: 39.04761904761905\n",
      "200 1 12\n",
      "(44, 703)\n",
      "l2 ovr None\n",
      "Percent complete: 40.0\n",
      "200 10 1\n",
      "(409, 800)\n",
      "l2 ovr None\n",
      "Percent complete: 40.95238095238095\n",
      "200 10 2\n",
      "(409, 1600)\n",
      "l2 ovr None\n",
      "Percent complete: 41.904761904761905\n",
      "200 10 4\n",
      "(409, 9082)\n",
      "l2 ovr None\n",
      "Percent complete: 42.857142857142854\n",
      "200 10 6\n",
      "(409, 11985)\n",
      "l2 ovr None\n",
      "Percent complete: 43.80952380952381\n",
      "200 10 8\n",
      "(409, 9852)\n",
      "l2 ovr None\n",
      "Percent complete: 44.761904761904766\n",
      "200 10 10\n",
      "(409, 7945)\n",
      "l2 ovr None\n",
      "Percent complete: 45.714285714285715\n",
      "200 10 12\n",
      "(409, 6361)\n",
      "l2 ovr None\n",
      "Percent complete: 46.666666666666664\n",
      "200 100 1\n",
      "(4071, 800)\n",
      "l2 ovr None\n"
     ]
    },
    {
     "name": "stderr",
     "output_type": "stream",
     "text": [
      "/Users/ryanqnelson/opt/anaconda3/envs/cmu/lib/python3.6/site-packages/sklearn/linear_model/_logistic.py:765: ConvergenceWarning: lbfgs failed to converge (status=1):\n",
      "STOP: TOTAL NO. of ITERATIONS REACHED LIMIT.\n",
      "\n",
      "Increase the number of iterations (max_iter) or scale the data as shown in:\n",
      "    https://scikit-learn.org/stable/modules/preprocessing.html\n",
      "Please also refer to the documentation for alternative solver options:\n",
      "    https://scikit-learn.org/stable/modules/linear_model.html#logistic-regression\n",
      "  extra_warning_msg=_LOGISTIC_SOLVER_CONVERGENCE_MSG)\n",
      "/Users/ryanqnelson/opt/anaconda3/envs/cmu/lib/python3.6/site-packages/sklearn/linear_model/_logistic.py:765: ConvergenceWarning: lbfgs failed to converge (status=1):\n",
      "STOP: TOTAL NO. of ITERATIONS REACHED LIMIT.\n",
      "\n",
      "Increase the number of iterations (max_iter) or scale the data as shown in:\n",
      "    https://scikit-learn.org/stable/modules/preprocessing.html\n",
      "Please also refer to the documentation for alternative solver options:\n",
      "    https://scikit-learn.org/stable/modules/linear_model.html#logistic-regression\n",
      "  extra_warning_msg=_LOGISTIC_SOLVER_CONVERGENCE_MSG)\n",
      "/Users/ryanqnelson/opt/anaconda3/envs/cmu/lib/python3.6/site-packages/sklearn/linear_model/_logistic.py:765: ConvergenceWarning: lbfgs failed to converge (status=1):\n",
      "STOP: TOTAL NO. of ITERATIONS REACHED LIMIT.\n",
      "\n",
      "Increase the number of iterations (max_iter) or scale the data as shown in:\n",
      "    https://scikit-learn.org/stable/modules/preprocessing.html\n",
      "Please also refer to the documentation for alternative solver options:\n",
      "    https://scikit-learn.org/stable/modules/linear_model.html#logistic-regression\n",
      "  extra_warning_msg=_LOGISTIC_SOLVER_CONVERGENCE_MSG)\n",
      "/Users/ryanqnelson/opt/anaconda3/envs/cmu/lib/python3.6/site-packages/sklearn/linear_model/_logistic.py:765: ConvergenceWarning: lbfgs failed to converge (status=1):\n",
      "STOP: TOTAL NO. of ITERATIONS REACHED LIMIT.\n",
      "\n",
      "Increase the number of iterations (max_iter) or scale the data as shown in:\n",
      "    https://scikit-learn.org/stable/modules/preprocessing.html\n",
      "Please also refer to the documentation for alternative solver options:\n",
      "    https://scikit-learn.org/stable/modules/linear_model.html#logistic-regression\n",
      "  extra_warning_msg=_LOGISTIC_SOLVER_CONVERGENCE_MSG)\n",
      "/Users/ryanqnelson/opt/anaconda3/envs/cmu/lib/python3.6/site-packages/sklearn/linear_model/_logistic.py:765: ConvergenceWarning: lbfgs failed to converge (status=1):\n",
      "STOP: TOTAL NO. of ITERATIONS REACHED LIMIT.\n",
      "\n",
      "Increase the number of iterations (max_iter) or scale the data as shown in:\n",
      "    https://scikit-learn.org/stable/modules/preprocessing.html\n",
      "Please also refer to the documentation for alternative solver options:\n",
      "    https://scikit-learn.org/stable/modules/linear_model.html#logistic-regression\n",
      "  extra_warning_msg=_LOGISTIC_SOLVER_CONVERGENCE_MSG)\n"
     ]
    },
    {
     "name": "stdout",
     "output_type": "stream",
     "text": [
      "Percent complete: 47.61904761904761\n",
      "200 100 2\n",
      "(4071, 1600)\n",
      "l2 ovr None\n",
      "Percent complete: 48.57142857142857\n",
      "200 100 4\n",
      "(4071, 12772)\n",
      "l2 ovr None\n",
      "Percent complete: 49.523809523809526\n",
      "200 100 6\n",
      "(4071, 60742)\n",
      "l2 ovr None\n",
      "Percent complete: 50.476190476190474\n",
      "200 100 8\n",
      "(4071, 71903)\n",
      "l2 ovr None\n",
      "Percent complete: 51.42857142857142\n",
      "200 100 10\n",
      "(4071, 60817)\n",
      "l2 ovr None\n",
      "Percent complete: 52.38095238095239\n",
      "200 100 12\n",
      "(4071, 48991)\n",
      "l2 ovr None\n",
      "Percent complete: 53.333333333333336\n",
      "200 200 1\n",
      "(8141, 800)\n",
      "l2 ovr None\n"
     ]
    },
    {
     "name": "stderr",
     "output_type": "stream",
     "text": [
      "/Users/ryanqnelson/opt/anaconda3/envs/cmu/lib/python3.6/site-packages/sklearn/linear_model/_logistic.py:765: ConvergenceWarning: lbfgs failed to converge (status=1):\n",
      "STOP: TOTAL NO. of ITERATIONS REACHED LIMIT.\n",
      "\n",
      "Increase the number of iterations (max_iter) or scale the data as shown in:\n",
      "    https://scikit-learn.org/stable/modules/preprocessing.html\n",
      "Please also refer to the documentation for alternative solver options:\n",
      "    https://scikit-learn.org/stable/modules/linear_model.html#logistic-regression\n",
      "  extra_warning_msg=_LOGISTIC_SOLVER_CONVERGENCE_MSG)\n",
      "/Users/ryanqnelson/opt/anaconda3/envs/cmu/lib/python3.6/site-packages/sklearn/linear_model/_logistic.py:765: ConvergenceWarning: lbfgs failed to converge (status=1):\n",
      "STOP: TOTAL NO. of ITERATIONS REACHED LIMIT.\n",
      "\n",
      "Increase the number of iterations (max_iter) or scale the data as shown in:\n",
      "    https://scikit-learn.org/stable/modules/preprocessing.html\n",
      "Please also refer to the documentation for alternative solver options:\n",
      "    https://scikit-learn.org/stable/modules/linear_model.html#logistic-regression\n",
      "  extra_warning_msg=_LOGISTIC_SOLVER_CONVERGENCE_MSG)\n",
      "/Users/ryanqnelson/opt/anaconda3/envs/cmu/lib/python3.6/site-packages/sklearn/linear_model/_logistic.py:765: ConvergenceWarning: lbfgs failed to converge (status=1):\n",
      "STOP: TOTAL NO. of ITERATIONS REACHED LIMIT.\n",
      "\n",
      "Increase the number of iterations (max_iter) or scale the data as shown in:\n",
      "    https://scikit-learn.org/stable/modules/preprocessing.html\n",
      "Please also refer to the documentation for alternative solver options:\n",
      "    https://scikit-learn.org/stable/modules/linear_model.html#logistic-regression\n",
      "  extra_warning_msg=_LOGISTIC_SOLVER_CONVERGENCE_MSG)\n"
     ]
    },
    {
     "name": "stdout",
     "output_type": "stream",
     "text": [
      "Percent complete: 54.285714285714285\n",
      "200 200 2\n",
      "(8141, 1600)\n",
      "l2 ovr None\n"
     ]
    },
    {
     "name": "stderr",
     "output_type": "stream",
     "text": [
      "/Users/ryanqnelson/opt/anaconda3/envs/cmu/lib/python3.6/site-packages/sklearn/linear_model/_logistic.py:765: ConvergenceWarning: lbfgs failed to converge (status=1):\n",
      "STOP: TOTAL NO. of ITERATIONS REACHED LIMIT.\n",
      "\n",
      "Increase the number of iterations (max_iter) or scale the data as shown in:\n",
      "    https://scikit-learn.org/stable/modules/preprocessing.html\n",
      "Please also refer to the documentation for alternative solver options:\n",
      "    https://scikit-learn.org/stable/modules/linear_model.html#logistic-regression\n",
      "  extra_warning_msg=_LOGISTIC_SOLVER_CONVERGENCE_MSG)\n",
      "/Users/ryanqnelson/opt/anaconda3/envs/cmu/lib/python3.6/site-packages/sklearn/linear_model/_logistic.py:765: ConvergenceWarning: lbfgs failed to converge (status=1):\n",
      "STOP: TOTAL NO. of ITERATIONS REACHED LIMIT.\n",
      "\n",
      "Increase the number of iterations (max_iter) or scale the data as shown in:\n",
      "    https://scikit-learn.org/stable/modules/preprocessing.html\n",
      "Please also refer to the documentation for alternative solver options:\n",
      "    https://scikit-learn.org/stable/modules/linear_model.html#logistic-regression\n",
      "  extra_warning_msg=_LOGISTIC_SOLVER_CONVERGENCE_MSG)\n",
      "/Users/ryanqnelson/opt/anaconda3/envs/cmu/lib/python3.6/site-packages/sklearn/linear_model/_logistic.py:765: ConvergenceWarning: lbfgs failed to converge (status=1):\n",
      "STOP: TOTAL NO. of ITERATIONS REACHED LIMIT.\n",
      "\n",
      "Increase the number of iterations (max_iter) or scale the data as shown in:\n",
      "    https://scikit-learn.org/stable/modules/preprocessing.html\n",
      "Please also refer to the documentation for alternative solver options:\n",
      "    https://scikit-learn.org/stable/modules/linear_model.html#logistic-regression\n",
      "  extra_warning_msg=_LOGISTIC_SOLVER_CONVERGENCE_MSG)\n"
     ]
    },
    {
     "name": "stdout",
     "output_type": "stream",
     "text": [
      "Percent complete: 55.23809523809524\n",
      "200 200 4\n",
      "(8141, 12799)\n",
      "l2 ovr None\n",
      "Percent complete: 56.19047619047619\n",
      "200 200 6\n",
      "(8141, 77930)\n",
      "l2 ovr None\n",
      "Percent complete: 57.14285714285714\n",
      "200 200 8\n",
      "(8141, 108026)\n",
      "l2 ovr None\n",
      "Percent complete: 58.0952380952381\n",
      "200 200 10\n",
      "(8141, 94148)\n",
      "l2 ovr None\n",
      "Percent complete: 59.04761904761905\n",
      "200 200 12\n",
      "(8141, 76066)\n",
      "l2 ovr None\n",
      "Percent complete: 60.0\n",
      "200 400 1\n",
      "(16282, 800)\n",
      "l2 ovr None\n"
     ]
    },
    {
     "name": "stderr",
     "output_type": "stream",
     "text": [
      "/Users/ryanqnelson/opt/anaconda3/envs/cmu/lib/python3.6/site-packages/sklearn/linear_model/_logistic.py:765: ConvergenceWarning: lbfgs failed to converge (status=1):\n",
      "STOP: TOTAL NO. of ITERATIONS REACHED LIMIT.\n",
      "\n",
      "Increase the number of iterations (max_iter) or scale the data as shown in:\n",
      "    https://scikit-learn.org/stable/modules/preprocessing.html\n",
      "Please also refer to the documentation for alternative solver options:\n",
      "    https://scikit-learn.org/stable/modules/linear_model.html#logistic-regression\n",
      "  extra_warning_msg=_LOGISTIC_SOLVER_CONVERGENCE_MSG)\n"
     ]
    },
    {
     "name": "stdout",
     "output_type": "stream",
     "text": [
      "Percent complete: 60.952380952380956\n",
      "200 400 2\n",
      "(16282, 1600)\n",
      "l2 ovr None\n"
     ]
    },
    {
     "name": "stderr",
     "output_type": "stream",
     "text": [
      "/Users/ryanqnelson/opt/anaconda3/envs/cmu/lib/python3.6/site-packages/sklearn/linear_model/_logistic.py:765: ConvergenceWarning: lbfgs failed to converge (status=1):\n",
      "STOP: TOTAL NO. of ITERATIONS REACHED LIMIT.\n",
      "\n",
      "Increase the number of iterations (max_iter) or scale the data as shown in:\n",
      "    https://scikit-learn.org/stable/modules/preprocessing.html\n",
      "Please also refer to the documentation for alternative solver options:\n",
      "    https://scikit-learn.org/stable/modules/linear_model.html#logistic-regression\n",
      "  extra_warning_msg=_LOGISTIC_SOLVER_CONVERGENCE_MSG)\n",
      "/Users/ryanqnelson/opt/anaconda3/envs/cmu/lib/python3.6/site-packages/sklearn/linear_model/_logistic.py:765: ConvergenceWarning: lbfgs failed to converge (status=1):\n",
      "STOP: TOTAL NO. of ITERATIONS REACHED LIMIT.\n",
      "\n",
      "Increase the number of iterations (max_iter) or scale the data as shown in:\n",
      "    https://scikit-learn.org/stable/modules/preprocessing.html\n",
      "Please also refer to the documentation for alternative solver options:\n",
      "    https://scikit-learn.org/stable/modules/linear_model.html#logistic-regression\n",
      "  extra_warning_msg=_LOGISTIC_SOLVER_CONVERGENCE_MSG)\n",
      "/Users/ryanqnelson/opt/anaconda3/envs/cmu/lib/python3.6/site-packages/sklearn/linear_model/_logistic.py:765: ConvergenceWarning: lbfgs failed to converge (status=1):\n",
      "STOP: TOTAL NO. of ITERATIONS REACHED LIMIT.\n",
      "\n",
      "Increase the number of iterations (max_iter) or scale the data as shown in:\n",
      "    https://scikit-learn.org/stable/modules/preprocessing.html\n",
      "Please also refer to the documentation for alternative solver options:\n",
      "    https://scikit-learn.org/stable/modules/linear_model.html#logistic-regression\n",
      "  extra_warning_msg=_LOGISTIC_SOLVER_CONVERGENCE_MSG)\n",
      "/Users/ryanqnelson/opt/anaconda3/envs/cmu/lib/python3.6/site-packages/sklearn/linear_model/_logistic.py:765: ConvergenceWarning: lbfgs failed to converge (status=1):\n",
      "STOP: TOTAL NO. of ITERATIONS REACHED LIMIT.\n",
      "\n",
      "Increase the number of iterations (max_iter) or scale the data as shown in:\n",
      "    https://scikit-learn.org/stable/modules/preprocessing.html\n",
      "Please also refer to the documentation for alternative solver options:\n",
      "    https://scikit-learn.org/stable/modules/linear_model.html#logistic-regression\n",
      "  extra_warning_msg=_LOGISTIC_SOLVER_CONVERGENCE_MSG)\n"
     ]
    },
    {
     "name": "stdout",
     "output_type": "stream",
     "text": [
      "Percent complete: 61.904761904761905\n",
      "200 400 4\n",
      "(16282, 12800)\n",
      "l2 ovr None\n",
      "Percent complete: 62.857142857142854\n",
      "200 400 6\n",
      "(16282, 88349)\n",
      "l2 ovr None\n",
      "Percent complete: 63.8095238095238\n",
      "200 400 8\n",
      "(16282, 136646)\n",
      "l2 ovr None\n",
      "Percent complete: 64.76190476190476\n",
      "200 400 10\n",
      "(16282, 121850)\n",
      "l2 ovr None\n",
      "Percent complete: 65.71428571428571\n",
      "200 400 12\n",
      "(16282, 98704)\n",
      "l2 ovr None\n",
      "Percent complete: 66.66666666666666\n",
      "400 1 1\n",
      "(23, 1592)\n",
      "l2 ovr None\n",
      "Percent complete: 67.61904761904762\n",
      "400 1 2\n",
      "(23, 2327)\n",
      "l2 ovr None\n",
      "Percent complete: 68.57142857142857\n",
      "400 1 4\n",
      "(23, 2146)\n",
      "l2 ovr None\n",
      "Percent complete: 69.52380952380952\n",
      "400 1 6\n",
      "(23, 1511)\n",
      "l2 ovr None\n",
      "Percent complete: 70.47619047619048\n",
      "400 1 8\n",
      "(23, 1150)\n",
      "l2 ovr None\n",
      "Percent complete: 71.42857142857143\n",
      "400 1 10\n",
      "(23, 920)\n",
      "l2 ovr None\n",
      "Percent complete: 72.38095238095238\n",
      "400 1 12\n",
      "(23, 759)\n",
      "l2 ovr None\n",
      "Percent complete: 73.33333333333333\n",
      "400 10 1\n",
      "(205, 1600)\n",
      "l2 ovr None\n",
      "Percent complete: 74.28571428571429\n",
      "400 10 2\n",
      "(205, 3199)\n",
      "l2 ovr None\n",
      "Percent complete: 75.23809523809524\n",
      "400 10 4\n",
      "(205, 12558)\n",
      "l2 ovr None\n",
      "Percent complete: 76.19047619047619\n",
      "400 10 6\n",
      "(205, 12586)\n",
      "l2 ovr None\n",
      "Percent complete: 77.14285714285715\n",
      "400 10 8\n",
      "(205, 10003)\n",
      "l2 ovr None\n",
      "Percent complete: 78.0952380952381\n",
      "400 10 10\n",
      "(205, 8033)\n",
      "l2 ovr None\n",
      "Percent complete: 79.04761904761905\n",
      "400 10 12\n",
      "(205, 6631)\n",
      "l2 ovr None\n",
      "Percent complete: 80.0\n",
      "400 100 1\n",
      "(2037, 1600)\n",
      "l2 ovr None\n"
     ]
    },
    {
     "name": "stderr",
     "output_type": "stream",
     "text": [
      "/Users/ryanqnelson/opt/anaconda3/envs/cmu/lib/python3.6/site-packages/sklearn/linear_model/_logistic.py:765: ConvergenceWarning: lbfgs failed to converge (status=1):\n",
      "STOP: TOTAL NO. of ITERATIONS REACHED LIMIT.\n",
      "\n",
      "Increase the number of iterations (max_iter) or scale the data as shown in:\n",
      "    https://scikit-learn.org/stable/modules/preprocessing.html\n",
      "Please also refer to the documentation for alternative solver options:\n",
      "    https://scikit-learn.org/stable/modules/linear_model.html#logistic-regression\n",
      "  extra_warning_msg=_LOGISTIC_SOLVER_CONVERGENCE_MSG)\n",
      "/Users/ryanqnelson/opt/anaconda3/envs/cmu/lib/python3.6/site-packages/sklearn/linear_model/_logistic.py:765: ConvergenceWarning: lbfgs failed to converge (status=1):\n",
      "STOP: TOTAL NO. of ITERATIONS REACHED LIMIT.\n",
      "\n",
      "Increase the number of iterations (max_iter) or scale the data as shown in:\n",
      "    https://scikit-learn.org/stable/modules/preprocessing.html\n",
      "Please also refer to the documentation for alternative solver options:\n",
      "    https://scikit-learn.org/stable/modules/linear_model.html#logistic-regression\n",
      "  extra_warning_msg=_LOGISTIC_SOLVER_CONVERGENCE_MSG)\n",
      "/Users/ryanqnelson/opt/anaconda3/envs/cmu/lib/python3.6/site-packages/sklearn/linear_model/_logistic.py:765: ConvergenceWarning: lbfgs failed to converge (status=1):\n",
      "STOP: TOTAL NO. of ITERATIONS REACHED LIMIT.\n",
      "\n",
      "Increase the number of iterations (max_iter) or scale the data as shown in:\n",
      "    https://scikit-learn.org/stable/modules/preprocessing.html\n",
      "Please also refer to the documentation for alternative solver options:\n",
      "    https://scikit-learn.org/stable/modules/linear_model.html#logistic-regression\n",
      "  extra_warning_msg=_LOGISTIC_SOLVER_CONVERGENCE_MSG)\n"
     ]
    },
    {
     "name": "stdout",
     "output_type": "stream",
     "text": [
      "Percent complete: 80.95238095238095\n",
      "400 100 2\n",
      "(2037, 3200)\n",
      "l2 ovr None\n",
      "Percent complete: 81.9047619047619\n",
      "400 100 4\n",
      "(2037, 25059)\n",
      "l2 ovr None\n",
      "Percent complete: 82.85714285714286\n",
      "400 100 6\n",
      "(2037, 80853)\n",
      "l2 ovr None\n",
      "Percent complete: 83.80952380952381\n",
      "400 100 8\n",
      "(2037, 81580)\n",
      "l2 ovr None\n",
      "Percent complete: 84.76190476190476\n",
      "400 100 10\n",
      "(2037, 67552)\n",
      "l2 ovr None\n",
      "Percent complete: 85.71428571428571\n",
      "400 100 12\n",
      "(2037, 55940)\n",
      "l2 ovr None\n",
      "Percent complete: 86.66666666666667\n",
      "400 200 1\n",
      "(4071, 1600)\n",
      "l2 ovr None\n"
     ]
    },
    {
     "name": "stderr",
     "output_type": "stream",
     "text": [
      "/Users/ryanqnelson/opt/anaconda3/envs/cmu/lib/python3.6/site-packages/sklearn/linear_model/_logistic.py:765: ConvergenceWarning: lbfgs failed to converge (status=1):\n",
      "STOP: TOTAL NO. of ITERATIONS REACHED LIMIT.\n",
      "\n",
      "Increase the number of iterations (max_iter) or scale the data as shown in:\n",
      "    https://scikit-learn.org/stable/modules/preprocessing.html\n",
      "Please also refer to the documentation for alternative solver options:\n",
      "    https://scikit-learn.org/stable/modules/linear_model.html#logistic-regression\n",
      "  extra_warning_msg=_LOGISTIC_SOLVER_CONVERGENCE_MSG)\n",
      "/Users/ryanqnelson/opt/anaconda3/envs/cmu/lib/python3.6/site-packages/sklearn/linear_model/_logistic.py:765: ConvergenceWarning: lbfgs failed to converge (status=1):\n",
      "STOP: TOTAL NO. of ITERATIONS REACHED LIMIT.\n",
      "\n",
      "Increase the number of iterations (max_iter) or scale the data as shown in:\n",
      "    https://scikit-learn.org/stable/modules/preprocessing.html\n",
      "Please also refer to the documentation for alternative solver options:\n",
      "    https://scikit-learn.org/stable/modules/linear_model.html#logistic-regression\n",
      "  extra_warning_msg=_LOGISTIC_SOLVER_CONVERGENCE_MSG)\n",
      "/Users/ryanqnelson/opt/anaconda3/envs/cmu/lib/python3.6/site-packages/sklearn/linear_model/_logistic.py:765: ConvergenceWarning: lbfgs failed to converge (status=1):\n",
      "STOP: TOTAL NO. of ITERATIONS REACHED LIMIT.\n",
      "\n",
      "Increase the number of iterations (max_iter) or scale the data as shown in:\n",
      "    https://scikit-learn.org/stable/modules/preprocessing.html\n",
      "Please also refer to the documentation for alternative solver options:\n",
      "    https://scikit-learn.org/stable/modules/linear_model.html#logistic-regression\n",
      "  extra_warning_msg=_LOGISTIC_SOLVER_CONVERGENCE_MSG)\n"
     ]
    },
    {
     "name": "stdout",
     "output_type": "stream",
     "text": [
      "Percent complete: 87.61904761904762\n",
      "400 200 2\n",
      "(4071, 3200)\n",
      "l2 ovr None\n",
      "Percent complete: 88.57142857142857\n",
      "400 200 4\n",
      "(4071, 25514)\n",
      "l2 ovr None\n",
      "Percent complete: 89.52380952380953\n",
      "400 200 6\n",
      "(4071, 117598)\n",
      "l2 ovr None\n",
      "Percent complete: 90.47619047619048\n",
      "400 200 8\n",
      "(4071, 138154)\n",
      "l2 ovr None\n"
     ]
    }
   ],
   "source": [
    "%%time\n",
    "\n",
    "# parameters\n",
    "seq_file = 'data/train_small-db_toy-2000.fasta'\n",
    "taxid_file = 'data/train_small-db_toy-2000.taxid'\n",
    "output_dir = 'data/sampling/sampling-toy-2000'\n",
    "pattern = 'fragments*.npy'\n",
    "seed = 42\n",
    "date_time = datetime.datetime.now().strftime('%Y.%m.%d.%H.%M.%S')\n",
    "grid_search_file  = 'data/gridsearch-2000/lr-multi.{}.csv'.format(date_time)\n",
    "fields = ['experiment','category','classifier','training shape','sample_length','coverage','k','penalty','multi_class', 'class_weight', 'score','score type']\n",
    "experiment = '7.04'\n",
    "score_type = 'species_recall'\n",
    "\n",
    "# combinations to try\n",
    "list_sample_length = [100,200,400]\n",
    "list_coverage = [1,10,100,200,400]\n",
    "list_k = [1,2,4,6,8,10,12]\n",
    "list_penalty=['l2']\n",
    "list_multiclass = ['ovr']\n",
    "list_classweight= [None]\n",
    "\n",
    "\n",
    "grid_search_multiclass_lr(seq_file, \n",
    "                          taxid_file, \n",
    "                          output_dir, \n",
    "                          pattern, \n",
    "                          list_sample_length, \n",
    "                          list_coverage, \n",
    "                          list_k, \n",
    "                          list_penalty,\n",
    "                          list_multiclass,\n",
    "                          list_classweight,\n",
    "                          seed,\n",
    "                          grid_search_file,\n",
    "                          fields,\n",
    "                          experiment,\n",
    "                          score_type)\n"
   ]
  }
 ],
 "metadata": {
  "kernelspec": {
   "display_name": "Python 3",
   "language": "python",
   "name": "python3"
  },
  "language_info": {
   "codemirror_mode": {
    "name": "ipython",
    "version": 3
   },
   "file_extension": ".py",
   "mimetype": "text/x-python",
   "name": "python",
   "nbconvert_exporter": "python",
   "pygments_lexer": "ipython3",
   "version": "3.6.12"
  }
 },
 "nbformat": 4,
 "nbformat_minor": 5
}
