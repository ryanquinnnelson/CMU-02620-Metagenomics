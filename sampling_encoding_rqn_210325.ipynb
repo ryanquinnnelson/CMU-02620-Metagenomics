{
 "cells": [
  {
   "cell_type": "code",
   "execution_count": 1,
   "id": "opposed-grove",
   "metadata": {},
   "outputs": [],
   "source": [
    "from packages.metagenomics import sampling2, encoding2, sampling, encoding\n",
    "from Bio import SeqIO\n",
    "import numpy as np\n",
    "from Bio.Seq import Seq"
   ]
  },
  {
   "cell_type": "markdown",
   "id": "sonic-novelty",
   "metadata": {},
   "source": [
    "# 1. Test sampling process"
   ]
  },
  {
   "cell_type": "markdown",
   "id": "welcome-invitation",
   "metadata": {},
   "source": [
    "### Functions"
   ]
  },
  {
   "cell_type": "code",
   "execution_count": 2,
   "id": "affiliated-syndicate",
   "metadata": {},
   "outputs": [
    {
     "name": "stdout",
     "output_type": "stream",
     "text": [
      "test concatenate_columns(): PASS\n"
     ]
    }
   ],
   "source": [
    "def concatenate_columns(row):\n",
    "    l = row.tolist()\n",
    "    fragment = l[:-1]\n",
    "    taxid = l[-1]\n",
    "    \n",
    "    sequence = ''.join(fragment)\n",
    "    return [sequence, taxid]\n",
    "\n",
    "    \n",
    "print('test concatenate_columns(): PASS')\n",
    "test_a = np.array(['1','2','3','4','5'])\n",
    "test_row = concatenate_columns(test_a)\n",
    "assert test_row[0] == '1234'\n",
    "assert test_row[1] == '5'"
   ]
  },
  {
   "cell_type": "markdown",
   "id": "outdoor-privacy",
   "metadata": {},
   "source": [
    "### Test sampling on toy dataset"
   ]
  },
  {
   "cell_type": "code",
   "execution_count": 3,
   "id": "prescription-heritage",
   "metadata": {},
   "outputs": [
    {
     "ename": "ValueError",
     "evalue": "('Output directory already exists:', 'data/sampling/sampling-toy-2000')",
     "output_type": "error",
     "traceback": [
      "\u001b[0;31m---------------------------------------------------------------------------\u001b[0m",
      "\u001b[0;31mValueError\u001b[0m                                Traceback (most recent call last)",
      "\u001b[0;32m<timed exec>\u001b[0m in \u001b[0;36m<module>\u001b[0;34m\u001b[0m\n",
      "\u001b[0;32m~/GitHub/C-A-L-C-I-F-E-R/CMU-02620-Metagenomics/packages/metagenomics/sampling.py\u001b[0m in \u001b[0;36mgenerate_fragment_data\u001b[0;34m(seq_file, taxid_file, output_dir, sample_length, coverage, seed)\u001b[0m\n\u001b[1;32m    262\u001b[0m     \"\"\"\n\u001b[1;32m    263\u001b[0m     \u001b[0;31m# prepare output directory\u001b[0m\u001b[0;34m\u001b[0m\u001b[0;34m\u001b[0m\u001b[0;34m\u001b[0m\u001b[0m\n\u001b[0;32m--> 264\u001b[0;31m     \u001b[0m_create_fragment_directory\u001b[0m\u001b[0;34m(\u001b[0m\u001b[0moutput_dir\u001b[0m\u001b[0;34m)\u001b[0m\u001b[0;34m\u001b[0m\u001b[0;34m\u001b[0m\u001b[0m\n\u001b[0m\u001b[1;32m    265\u001b[0m \u001b[0;34m\u001b[0m\u001b[0m\n\u001b[1;32m    266\u001b[0m     \u001b[0;31m# read taxid data\u001b[0m\u001b[0;34m\u001b[0m\u001b[0;34m\u001b[0m\u001b[0;34m\u001b[0m\u001b[0m\n",
      "\u001b[0;32m~/GitHub/C-A-L-C-I-F-E-R/CMU-02620-Metagenomics/packages/metagenomics/sampling.py\u001b[0m in \u001b[0;36m_create_fragment_directory\u001b[0;34m(output_dir)\u001b[0m\n\u001b[1;32m    226\u001b[0m \u001b[0;34m\u001b[0m\u001b[0m\n\u001b[1;32m    227\u001b[0m     \u001b[0;32mif\u001b[0m \u001b[0mdir_exists\u001b[0m\u001b[0;34m:\u001b[0m\u001b[0;34m\u001b[0m\u001b[0;34m\u001b[0m\u001b[0m\n\u001b[0;32m--> 228\u001b[0;31m         \u001b[0;32mraise\u001b[0m \u001b[0mValueError\u001b[0m\u001b[0;34m(\u001b[0m\u001b[0;34m'Output directory already exists:'\u001b[0m\u001b[0;34m,\u001b[0m \u001b[0moutput_dir\u001b[0m\u001b[0;34m)\u001b[0m\u001b[0;34m\u001b[0m\u001b[0;34m\u001b[0m\u001b[0m\n\u001b[0m\u001b[1;32m    229\u001b[0m     \u001b[0;32melse\u001b[0m\u001b[0;34m:\u001b[0m\u001b[0;34m\u001b[0m\u001b[0;34m\u001b[0m\u001b[0m\n\u001b[1;32m    230\u001b[0m         \u001b[0mos\u001b[0m\u001b[0;34m.\u001b[0m\u001b[0mmkdir\u001b[0m\u001b[0;34m(\u001b[0m\u001b[0moutput_dir\u001b[0m\u001b[0;34m)\u001b[0m\u001b[0;34m\u001b[0m\u001b[0;34m\u001b[0m\u001b[0m\n",
      "\u001b[0;31mValueError\u001b[0m: ('Output directory already exists:', 'data/sampling/sampling-toy-2000')"
     ]
    }
   ],
   "source": [
    "%%time\n",
    "\n",
    "seq_file = 'data/train_small-db_toy-2000.fasta'\n",
    "taxid_file = 'data/train_small-db_toy-2000.taxid'\n",
    "output_dir = 'data/sampling/sampling-toy-2000'\n",
    "sample_length = 20\n",
    "coverage = 1\n",
    "seed = 42\n",
    "\n",
    "sampling.generate_fragment_data(seq_file, taxid_file, output_dir, sample_length, coverage, seed)"
   ]
  },
  {
   "cell_type": "code",
   "execution_count": 4,
   "id": "southwest-spider",
   "metadata": {},
   "outputs": [
    {
     "data": {
      "text/plain": [
       "(409, 2)"
      ]
     },
     "execution_count": 4,
     "metadata": {},
     "output_type": "execute_result"
    }
   ],
   "source": [
    "input_dir = 'data/sampling/sampling-toy-2000'\n",
    "pattern = 'fragments*.npy'\n",
    "\n",
    "fragments_toy = sampling.read_fragments(input_dir, pattern)\n",
    "fragments_toy.shape"
   ]
  },
  {
   "cell_type": "code",
   "execution_count": 5,
   "id": "perceived-encounter",
   "metadata": {
    "scrolled": true
   },
   "outputs": [
    {
     "name": "stdout",
     "output_type": "stream",
     "text": [
      "['gcagttaaacccgacgcata', '1280']\n",
      "['ttgattgatagtggcaagac', '1280']\n",
      "['gcctgactgtttatatttgc', '1280']\n",
      "['ttaaacccgacgcatagcaa', '1280']\n",
      "['ctgatgttttgccgctatac', '1280']\n"
     ]
    }
   ],
   "source": [
    "# ['NC_013451', 'NC_006375', 'NC_019565', 'NC_015407', 'NC_016841']\n",
    "# [1280, 1590, 210, 2102, 573]\n",
    "\n",
    "for each in fragments_toy.astype('str').tolist()[:5]:\n",
    "    print(each)"
   ]
  },
  {
   "cell_type": "code",
   "execution_count": 6,
   "id": "spanish-temperature",
   "metadata": {},
   "outputs": [
    {
     "name": "stdout",
     "output_type": "stream",
     "text": [
      "seq length: 1442\n",
      "(73, 2)\n",
      "All fragments found in this sequence.\n",
      "\n",
      "seq length: 1917\n",
      "(96, 2)\n",
      "All fragments found in this sequence.\n",
      "\n",
      "seq length: 1634\n",
      "(82, 2)\n",
      "All fragments found in this sequence.\n",
      "\n",
      "seq length: 1840\n",
      "(92, 2)\n",
      "All fragments found in this sequence.\n",
      "\n",
      "seq length: 1308\n",
      "(66, 2)\n",
      "All fragments found in this sequence.\n",
      "\n"
     ]
    }
   ],
   "source": [
    "# confirm all fragments are in the expected data\n",
    "mapping = {'NC_013451':b'1280',\n",
    "           'NC_006375':b'1590',\n",
    "           'NC_019565':b'210',\n",
    "           'NC_015407':b'2102',\n",
    "           'NC_016841':b'573'}\n",
    "\n",
    "# read in sequences\n",
    "input_file = 'data/train_small-db_toy-2000.fasta'\n",
    "for seq_record in SeqIO.parse(input_file, \"fasta\"):\n",
    "    \n",
    "    key = mapping[seq_record.id]\n",
    "    print('seq length:', len(seq_record.seq))\n",
    "\n",
    "    # get only those fragments for the species\n",
    "    fragments_to_consider = fragments_toy[np.where(fragments_toy[:,1] == key)]\n",
    "    print(fragments_to_consider.shape)\n",
    "\n",
    "    # check whether all fragments for this species can be found in the sequence\n",
    "    for each in fragments_to_consider:\n",
    "        frag = each[0].decode('utf-8')\n",
    "        assert frag in seq_record.seq, frag\n",
    "    print('All fragments found in this sequence.')\n",
    "    print()\n"
   ]
  },
  {
   "cell_type": "markdown",
   "id": "placed-salad",
   "metadata": {},
   "source": [
    "### Test sampling2 on toy dataset"
   ]
  },
  {
   "cell_type": "code",
   "execution_count": 7,
   "id": "sustainable-coffee",
   "metadata": {},
   "outputs": [
    {
     "ename": "ValueError",
     "evalue": "('Output directory already exists:', 'data/sampling/sampling-toy-2000-2')",
     "output_type": "error",
     "traceback": [
      "\u001b[0;31m---------------------------------------------------------------------------\u001b[0m",
      "\u001b[0;31mValueError\u001b[0m                                Traceback (most recent call last)",
      "\u001b[0;32m<timed exec>\u001b[0m in \u001b[0;36m<module>\u001b[0;34m\u001b[0m\n",
      "\u001b[0;32m~/GitHub/C-A-L-C-I-F-E-R/CMU-02620-Metagenomics/packages/metagenomics/sampling2.py\u001b[0m in \u001b[0;36mgenerate_fragment_data\u001b[0;34m(seq_file, taxid_file, output_dir, sample_length, coverage, seed)\u001b[0m\n\u001b[1;32m    272\u001b[0m     \"\"\"\n\u001b[1;32m    273\u001b[0m     \u001b[0;31m# prepare output directory\u001b[0m\u001b[0;34m\u001b[0m\u001b[0;34m\u001b[0m\u001b[0;34m\u001b[0m\u001b[0m\n\u001b[0;32m--> 274\u001b[0;31m     \u001b[0m_create_fragment_directory\u001b[0m\u001b[0;34m(\u001b[0m\u001b[0moutput_dir\u001b[0m\u001b[0;34m)\u001b[0m\u001b[0;34m\u001b[0m\u001b[0;34m\u001b[0m\u001b[0m\n\u001b[0m\u001b[1;32m    275\u001b[0m \u001b[0;34m\u001b[0m\u001b[0m\n\u001b[1;32m    276\u001b[0m     \u001b[0;31m# read taxid data\u001b[0m\u001b[0;34m\u001b[0m\u001b[0;34m\u001b[0m\u001b[0;34m\u001b[0m\u001b[0m\n",
      "\u001b[0;32m~/GitHub/C-A-L-C-I-F-E-R/CMU-02620-Metagenomics/packages/metagenomics/sampling2.py\u001b[0m in \u001b[0;36m_create_fragment_directory\u001b[0;34m(output_dir)\u001b[0m\n\u001b[1;32m    233\u001b[0m \u001b[0;34m\u001b[0m\u001b[0m\n\u001b[1;32m    234\u001b[0m     \u001b[0;32mif\u001b[0m \u001b[0mdir_exists\u001b[0m\u001b[0;34m:\u001b[0m\u001b[0;34m\u001b[0m\u001b[0;34m\u001b[0m\u001b[0m\n\u001b[0;32m--> 235\u001b[0;31m         \u001b[0;32mraise\u001b[0m \u001b[0mValueError\u001b[0m\u001b[0;34m(\u001b[0m\u001b[0;34m'Output directory already exists:'\u001b[0m\u001b[0;34m,\u001b[0m \u001b[0moutput_dir\u001b[0m\u001b[0;34m)\u001b[0m\u001b[0;34m\u001b[0m\u001b[0;34m\u001b[0m\u001b[0m\n\u001b[0m\u001b[1;32m    236\u001b[0m     \u001b[0;32melse\u001b[0m\u001b[0;34m:\u001b[0m\u001b[0;34m\u001b[0m\u001b[0;34m\u001b[0m\u001b[0m\n\u001b[1;32m    237\u001b[0m         \u001b[0mos\u001b[0m\u001b[0;34m.\u001b[0m\u001b[0mmkdir\u001b[0m\u001b[0;34m(\u001b[0m\u001b[0moutput_dir\u001b[0m\u001b[0;34m)\u001b[0m\u001b[0;34m\u001b[0m\u001b[0;34m\u001b[0m\u001b[0m\n",
      "\u001b[0;31mValueError\u001b[0m: ('Output directory already exists:', 'data/sampling/sampling-toy-2000-2')"
     ]
    }
   ],
   "source": [
    "%%time\n",
    "\n",
    "seq_file = 'data/train_small-db_toy-2000.fasta'\n",
    "taxid_file = 'data/train_small-db_toy-2000.taxid'\n",
    "output_dir = 'data/sampling/sampling-toy-2000-2'\n",
    "sample_length = 20\n",
    "coverage = 1\n",
    "seed = 42\n",
    "\n",
    "sampling2.generate_fragment_data(seq_file, taxid_file, output_dir, sample_length, coverage, seed)"
   ]
  },
  {
   "cell_type": "code",
   "execution_count": 8,
   "id": "certified-logistics",
   "metadata": {},
   "outputs": [
    {
     "data": {
      "text/plain": [
       "(409, 21)"
      ]
     },
     "execution_count": 8,
     "metadata": {},
     "output_type": "execute_result"
    }
   ],
   "source": [
    "input_dir = 'data/sampling/sampling-toy-2000-2'\n",
    "pattern = 'fragments*.npy'\n",
    "\n",
    "fragments_toy2 = sampling2.read_fragments(input_dir, pattern)\n",
    "fragments_toy2.shape"
   ]
  },
  {
   "cell_type": "code",
   "execution_count": 9,
   "id": "organizational-teacher",
   "metadata": {
    "scrolled": true
   },
   "outputs": [
    {
     "name": "stdout",
     "output_type": "stream",
     "text": [
      "['g', 'c', 'a', 'g', 't', 't', 'a', 'a', 'a', 'c', 'c', 'c', 'g', 'a', 'c', 'g', 'c', 'a', 't', 'a', '1280']\n",
      "['t', 't', 'g', 'a', 't', 't', 'g', 'a', 't', 'a', 'g', 't', 'g', 'g', 'c', 'a', 'a', 'g', 'a', 'c', '1280']\n",
      "['g', 'c', 'c', 't', 'g', 'a', 'c', 't', 'g', 't', 't', 't', 'a', 't', 'a', 't', 't', 't', 'g', 'c', '1280']\n",
      "['t', 't', 'a', 'a', 'a', 'c', 'c', 'c', 'g', 'a', 'c', 'g', 'c', 'a', 't', 'a', 'g', 'c', 'a', 'a', '1280']\n",
      "['c', 't', 'g', 'a', 't', 'g', 't', 't', 't', 't', 'g', 'c', 'c', 'g', 'c', 't', 'a', 't', 'a', 'c', '1280']\n"
     ]
    }
   ],
   "source": [
    "# ['NC_013451', 'NC_006375', 'NC_019565', 'NC_015407', 'NC_016841']\n",
    "# [1280, 1590, 210, 2102, 573]\n",
    "\n",
    "for each in fragments_toy2.astype('str').tolist()[:5]:\n",
    "    print(each)"
   ]
  },
  {
   "cell_type": "code",
   "execution_count": 10,
   "id": "available-population",
   "metadata": {},
   "outputs": [
    {
     "data": {
      "text/plain": [
       "409"
      ]
     },
     "execution_count": 10,
     "metadata": {},
     "output_type": "execute_result"
    }
   ],
   "source": [
    "fragments_toy2_rows = []\n",
    "for each in fragments_toy2.astype('str'):\n",
    "    row = concatenate_columns(each)\n",
    "    fragments_toy2_rows.append(row)\n",
    "len(fragments_toy2_rows)"
   ]
  },
  {
   "cell_type": "code",
   "execution_count": 11,
   "id": "operating-audio",
   "metadata": {},
   "outputs": [],
   "source": [
    "# compare results from two sampling modules\n",
    "assert fragments_toy.astype('str').tolist() == fragments_toy2_rows"
   ]
  },
  {
   "cell_type": "code",
   "execution_count": 12,
   "id": "valuable-texture",
   "metadata": {
    "scrolled": true
   },
   "outputs": [
    {
     "name": "stdout",
     "output_type": "stream",
     "text": [
      "seq length: 1442\n",
      "(73, 21)\n",
      "All fragments found in this sequence.\n",
      "\n",
      "seq length: 1917\n",
      "(96, 21)\n",
      "All fragments found in this sequence.\n",
      "\n",
      "seq length: 1634\n",
      "(82, 21)\n",
      "All fragments found in this sequence.\n",
      "\n",
      "seq length: 1840\n",
      "(92, 21)\n",
      "All fragments found in this sequence.\n",
      "\n",
      "seq length: 1308\n",
      "(66, 21)\n",
      "All fragments found in this sequence.\n",
      "\n"
     ]
    }
   ],
   "source": [
    "# confirm all fragments are in the expected data\n",
    "mapping = {'NC_013451':b'1280',\n",
    "           'NC_006375':b'1590',\n",
    "           'NC_019565':b'210',\n",
    "           'NC_015407':b'2102',\n",
    "           'NC_016841':b'573'}\n",
    "\n",
    "# read in sequences\n",
    "input_file = 'data/train_small-db_toy-2000.fasta'\n",
    "for seq_record in SeqIO.parse(input_file, \"fasta\"):\n",
    "    \n",
    "    key = mapping[seq_record.id]\n",
    "\n",
    "    print('seq length:', len(seq_record.seq))\n",
    "\n",
    "    # get only those fragments for the species\n",
    "    fragments_to_consider = fragments_toy2[np.where(fragments_toy2[:,-1] == key)].astype('str')\n",
    "    print(fragments_to_consider.shape)\n",
    "\n",
    "    # check whether all fragments for this species can be found in the sequence\n",
    "    for each in fragments_to_consider:\n",
    "        row = concatenate_columns(each)\n",
    "        assert row[0] in seq_record.seq, row[0]\n",
    "        assert row[1] == key.decode('utf-8')\n",
    "    print('All fragments found in this sequence.')\n",
    "    print()\n"
   ]
  },
  {
   "cell_type": "markdown",
   "id": "scientific-crazy",
   "metadata": {},
   "source": [
    "### Test sampling on small-db (coverage=0.05)"
   ]
  },
  {
   "cell_type": "code",
   "execution_count": 13,
   "id": "intelligent-balloon",
   "metadata": {},
   "outputs": [
    {
     "ename": "ValueError",
     "evalue": "('Output directory already exists:', 'data/sampling/sampling-small-05')",
     "output_type": "error",
     "traceback": [
      "\u001b[0;31m---------------------------------------------------------------------------\u001b[0m",
      "\u001b[0;31mValueError\u001b[0m                                Traceback (most recent call last)",
      "\u001b[0;32m<timed exec>\u001b[0m in \u001b[0;36m<module>\u001b[0;34m\u001b[0m\n",
      "\u001b[0;32m~/GitHub/C-A-L-C-I-F-E-R/CMU-02620-Metagenomics/packages/metagenomics/sampling.py\u001b[0m in \u001b[0;36mgenerate_fragment_data\u001b[0;34m(seq_file, taxid_file, output_dir, sample_length, coverage, seed)\u001b[0m\n\u001b[1;32m    262\u001b[0m     \"\"\"\n\u001b[1;32m    263\u001b[0m     \u001b[0;31m# prepare output directory\u001b[0m\u001b[0;34m\u001b[0m\u001b[0;34m\u001b[0m\u001b[0;34m\u001b[0m\u001b[0m\n\u001b[0;32m--> 264\u001b[0;31m     \u001b[0m_create_fragment_directory\u001b[0m\u001b[0;34m(\u001b[0m\u001b[0moutput_dir\u001b[0m\u001b[0;34m)\u001b[0m\u001b[0;34m\u001b[0m\u001b[0;34m\u001b[0m\u001b[0m\n\u001b[0m\u001b[1;32m    265\u001b[0m \u001b[0;34m\u001b[0m\u001b[0m\n\u001b[1;32m    266\u001b[0m     \u001b[0;31m# read taxid data\u001b[0m\u001b[0;34m\u001b[0m\u001b[0;34m\u001b[0m\u001b[0;34m\u001b[0m\u001b[0m\n",
      "\u001b[0;32m~/GitHub/C-A-L-C-I-F-E-R/CMU-02620-Metagenomics/packages/metagenomics/sampling.py\u001b[0m in \u001b[0;36m_create_fragment_directory\u001b[0;34m(output_dir)\u001b[0m\n\u001b[1;32m    226\u001b[0m \u001b[0;34m\u001b[0m\u001b[0m\n\u001b[1;32m    227\u001b[0m     \u001b[0;32mif\u001b[0m \u001b[0mdir_exists\u001b[0m\u001b[0;34m:\u001b[0m\u001b[0;34m\u001b[0m\u001b[0;34m\u001b[0m\u001b[0m\n\u001b[0;32m--> 228\u001b[0;31m         \u001b[0;32mraise\u001b[0m \u001b[0mValueError\u001b[0m\u001b[0;34m(\u001b[0m\u001b[0;34m'Output directory already exists:'\u001b[0m\u001b[0;34m,\u001b[0m \u001b[0moutput_dir\u001b[0m\u001b[0;34m)\u001b[0m\u001b[0;34m\u001b[0m\u001b[0;34m\u001b[0m\u001b[0m\n\u001b[0m\u001b[1;32m    229\u001b[0m     \u001b[0;32melse\u001b[0m\u001b[0;34m:\u001b[0m\u001b[0;34m\u001b[0m\u001b[0;34m\u001b[0m\u001b[0m\n\u001b[1;32m    230\u001b[0m         \u001b[0mos\u001b[0m\u001b[0;34m.\u001b[0m\u001b[0mmkdir\u001b[0m\u001b[0;34m(\u001b[0m\u001b[0moutput_dir\u001b[0m\u001b[0;34m)\u001b[0m\u001b[0;34m\u001b[0m\u001b[0;34m\u001b[0m\u001b[0m\n",
      "\u001b[0;31mValueError\u001b[0m: ('Output directory already exists:', 'data/sampling/sampling-small-05')"
     ]
    }
   ],
   "source": [
    "%%time\n",
    "# 34s\n",
    "\n",
    "seq_file = '/Users/ryanqnelson/Downloads/large-scale-metagenomics-1.0/data/train-dataset/train_small-db.fasta'\n",
    "taxid_file = 'data/train_small-db.species-level.taxid'\n",
    "output_dir = 'data/sampling/sampling-small-05'\n",
    "sample_length = 200\n",
    "coverage = 0.05\n",
    "seed = 42\n",
    "\n",
    "sampling.generate_fragment_data(seq_file, taxid_file, output_dir, sample_length, coverage, seed)"
   ]
  },
  {
   "cell_type": "code",
   "execution_count": 14,
   "id": "spoken-acoustic",
   "metadata": {},
   "outputs": [
    {
     "data": {
      "text/plain": [
       "(690539, 2)"
      ]
     },
     "execution_count": 14,
     "metadata": {},
     "output_type": "execute_result"
    }
   ],
   "source": [
    "input_dir = 'data/sampling/sampling-small-05'\n",
    "pattern = 'fragments*.npy'\n",
    "\n",
    "fragments_small = sampling.read_fragments(input_dir, pattern)\n",
    "fragments_small.shape"
   ]
  },
  {
   "cell_type": "markdown",
   "id": "dutch-fishing",
   "metadata": {},
   "source": [
    "### Test sampling on small-db (coverage=0.05)"
   ]
  },
  {
   "cell_type": "code",
   "execution_count": 15,
   "id": "shared-chester",
   "metadata": {},
   "outputs": [
    {
     "ename": "ValueError",
     "evalue": "('Output directory already exists:', 'data/sampling/sampling-small-05-2')",
     "output_type": "error",
     "traceback": [
      "\u001b[0;31m---------------------------------------------------------------------------\u001b[0m",
      "\u001b[0;31mValueError\u001b[0m                                Traceback (most recent call last)",
      "\u001b[0;32m<timed exec>\u001b[0m in \u001b[0;36m<module>\u001b[0;34m\u001b[0m\n",
      "\u001b[0;32m~/GitHub/C-A-L-C-I-F-E-R/CMU-02620-Metagenomics/packages/metagenomics/sampling2.py\u001b[0m in \u001b[0;36mgenerate_fragment_data\u001b[0;34m(seq_file, taxid_file, output_dir, sample_length, coverage, seed)\u001b[0m\n\u001b[1;32m    272\u001b[0m     \"\"\"\n\u001b[1;32m    273\u001b[0m     \u001b[0;31m# prepare output directory\u001b[0m\u001b[0;34m\u001b[0m\u001b[0;34m\u001b[0m\u001b[0;34m\u001b[0m\u001b[0m\n\u001b[0;32m--> 274\u001b[0;31m     \u001b[0m_create_fragment_directory\u001b[0m\u001b[0;34m(\u001b[0m\u001b[0moutput_dir\u001b[0m\u001b[0;34m)\u001b[0m\u001b[0;34m\u001b[0m\u001b[0;34m\u001b[0m\u001b[0m\n\u001b[0m\u001b[1;32m    275\u001b[0m \u001b[0;34m\u001b[0m\u001b[0m\n\u001b[1;32m    276\u001b[0m     \u001b[0;31m# read taxid data\u001b[0m\u001b[0;34m\u001b[0m\u001b[0;34m\u001b[0m\u001b[0;34m\u001b[0m\u001b[0m\n",
      "\u001b[0;32m~/GitHub/C-A-L-C-I-F-E-R/CMU-02620-Metagenomics/packages/metagenomics/sampling2.py\u001b[0m in \u001b[0;36m_create_fragment_directory\u001b[0;34m(output_dir)\u001b[0m\n\u001b[1;32m    233\u001b[0m \u001b[0;34m\u001b[0m\u001b[0m\n\u001b[1;32m    234\u001b[0m     \u001b[0;32mif\u001b[0m \u001b[0mdir_exists\u001b[0m\u001b[0;34m:\u001b[0m\u001b[0;34m\u001b[0m\u001b[0;34m\u001b[0m\u001b[0m\n\u001b[0;32m--> 235\u001b[0;31m         \u001b[0;32mraise\u001b[0m \u001b[0mValueError\u001b[0m\u001b[0;34m(\u001b[0m\u001b[0;34m'Output directory already exists:'\u001b[0m\u001b[0;34m,\u001b[0m \u001b[0moutput_dir\u001b[0m\u001b[0;34m)\u001b[0m\u001b[0;34m\u001b[0m\u001b[0;34m\u001b[0m\u001b[0m\n\u001b[0m\u001b[1;32m    236\u001b[0m     \u001b[0;32melse\u001b[0m\u001b[0;34m:\u001b[0m\u001b[0;34m\u001b[0m\u001b[0;34m\u001b[0m\u001b[0m\n\u001b[1;32m    237\u001b[0m         \u001b[0mos\u001b[0m\u001b[0;34m.\u001b[0m\u001b[0mmkdir\u001b[0m\u001b[0;34m(\u001b[0m\u001b[0moutput_dir\u001b[0m\u001b[0;34m)\u001b[0m\u001b[0;34m\u001b[0m\u001b[0;34m\u001b[0m\u001b[0m\n",
      "\u001b[0;31mValueError\u001b[0m: ('Output directory already exists:', 'data/sampling/sampling-small-05-2')"
     ]
    }
   ],
   "source": [
    "%%time\n",
    "# 2 min with sampling2\n",
    "\n",
    "seq_file = '/Users/ryanqnelson/Downloads/large-scale-metagenomics-1.0/data/train-dataset/train_small-db.fasta'\n",
    "taxid_file = 'data/train_small-db.species-level.taxid'\n",
    "output_dir = 'data/sampling/sampling-small-05-2'\n",
    "sample_length = 200\n",
    "coverage = 0.05\n",
    "seed = 42\n",
    "\n",
    "sampling2.generate_fragment_data(seq_file, taxid_file, output_dir, sample_length, coverage, seed)"
   ]
  },
  {
   "cell_type": "code",
   "execution_count": 16,
   "id": "temporal-natural",
   "metadata": {},
   "outputs": [
    {
     "data": {
      "text/plain": [
       "(690539, 201)"
      ]
     },
     "execution_count": 16,
     "metadata": {},
     "output_type": "execute_result"
    }
   ],
   "source": [
    "input_dir = 'data/sampling/sampling-small-05-2'\n",
    "pattern = 'fragments*.npy'\n",
    "\n",
    "fragments_small2 = sampling2.read_fragments(input_dir, pattern)\n",
    "fragments_small2.shape"
   ]
  },
  {
   "cell_type": "code",
   "execution_count": 17,
   "id": "historical-shuttle",
   "metadata": {},
   "outputs": [
    {
     "data": {
      "text/plain": [
       "690539"
      ]
     },
     "execution_count": 17,
     "metadata": {},
     "output_type": "execute_result"
    }
   ],
   "source": [
    "fragments_small2_rows = []\n",
    "for each in fragments_small2.astype('str'):\n",
    "    row = concatenate_columns(each)\n",
    "    fragments_small2_rows.append(row)\n",
    "len(fragments_small2_rows)"
   ]
  },
  {
   "cell_type": "code",
   "execution_count": 18,
   "id": "raised-police",
   "metadata": {},
   "outputs": [],
   "source": [
    "# compare results from two sampling modules\n",
    "assert fragments_small.astype('str').tolist() == fragments_small2_rows"
   ]
  },
  {
   "cell_type": "markdown",
   "id": "alive-malawi",
   "metadata": {},
   "source": [
    "# 2. Test encoding process"
   ]
  },
  {
   "cell_type": "markdown",
   "id": "coastal-reporter",
   "metadata": {},
   "source": [
    "### Test encoding on toy set"
   ]
  },
  {
   "cell_type": "code",
   "execution_count": 35,
   "id": "civil-junior",
   "metadata": {},
   "outputs": [
    {
     "name": "stdout",
     "output_type": "stream",
     "text": [
      "(409,)\n",
      "(409,)\n",
      "(409, 921)\n"
     ]
    }
   ],
   "source": [
    "input_dir = 'data/sampling/sampling-toy-2000'\n",
    "pattern = 'fragments*.npy'\n",
    "\n",
    "fragments_toy = sampling.read_fragments(input_dir, pattern)\n",
    "fragments_toy.shape\n",
    "\n",
    "k=4\n",
    "X_toy = np.delete(fragments_toy,1,axis=1).reshape(-1,)\n",
    "y_toy = fragments_toy[:,-1]\n",
    "print(X_toy.shape)\n",
    "print(y_toy.shape)\n",
    "\n",
    "X_toy_encoded = encoding.encode_fragment_dataset(X_toy,k)\n",
    "print(X_toy_encoded.shape)"
   ]
  },
  {
   "cell_type": "markdown",
   "id": "vulnerable-glenn",
   "metadata": {},
   "source": [
    "### Test encoding2 on toy set"
   ]
  },
  {
   "cell_type": "code",
   "execution_count": 20,
   "id": "radio-trustee",
   "metadata": {},
   "outputs": [
    {
     "name": "stdout",
     "output_type": "stream",
     "text": [
      "(409, 921)\n",
      "(409,)\n"
     ]
    }
   ],
   "source": [
    "input_dir = 'data/sampling/sampling-toy-2000-2'\n",
    "pattern = 'fragments*.npy'\n",
    "\n",
    "fragments_toy2 = sampling2.read_fragments(input_dir, pattern)\n",
    "fragments_toy2.shape\n",
    "\n",
    "k=4\n",
    "X_toy_encoded2, y_toy2 = encoding2.encode_fragment_dataset(fragments_toy2,k)\n",
    "print(X_toy_encoded2.shape)\n",
    "print(y_toy2.shape)"
   ]
  },
  {
   "cell_type": "code",
   "execution_count": 21,
   "id": "original-transcript",
   "metadata": {},
   "outputs": [],
   "source": [
    "# compare two encoding techniques\n",
    "np.testing.assert_array_equal(X_toy_encoded.toarray(), X_toy_encoded2.toarray())\n",
    "np.testing.assert_array_equal(y_toy.astype('str'), y_toy2)"
   ]
  },
  {
   "cell_type": "markdown",
   "id": "disciplinary-cabin",
   "metadata": {},
   "source": [
    "### Test encoding on small-db (coverage=0.05)"
   ]
  },
  {
   "cell_type": "code",
   "execution_count": 22,
   "id": "temporal-transparency",
   "metadata": {},
   "outputs": [
    {
     "name": "stdout",
     "output_type": "stream",
     "text": [
      "(690539,)\n",
      "(690539,)\n",
      "(690539, 135168)\n",
      "CPU times: user 35.4 s, sys: 928 ms, total: 36.3 s\n",
      "Wall time: 36.4 s\n"
     ]
    }
   ],
   "source": [
    "%%time \n",
    "# 40 sec, (689790, 135168) with sampling,encoding\n",
    "\n",
    "input_dir = 'data/sampling/sampling-small-05'\n",
    "pattern = 'fragments*.npy'\n",
    "\n",
    "fragments_small = sampling.read_fragments(input_dir, pattern)\n",
    "fragments_small.shape\n",
    "\n",
    "\n",
    "k=6\n",
    "X_small = np.delete(fragments_small,1,axis=1).reshape(-1,)\n",
    "y_small = fragments_small[:,-1]\n",
    "print(X_small.shape)\n",
    "print(y_small.shape)\n",
    "\n",
    "X_small_encoded = encoding.encode_fragment_dataset(X_small,k)\n",
    "print(X_small_encoded.shape)"
   ]
  },
  {
   "cell_type": "markdown",
   "id": "upper-tissue",
   "metadata": {},
   "source": [
    "### Test encoding2 on small-db (coverage=0.05)"
   ]
  },
  {
   "cell_type": "code",
   "execution_count": 23,
   "id": "offensive-dependence",
   "metadata": {},
   "outputs": [
    {
     "name": "stdout",
     "output_type": "stream",
     "text": [
      "(690539, 135168)\n",
      "CPU times: user 1min 2s, sys: 1.35 s, total: 1min 3s\n",
      "Wall time: 1min 3s\n"
     ]
    }
   ],
   "source": [
    "%%time \n",
    "# 1 min , (690539, 135168) with sampling2,encoding2\n",
    "\n",
    "input_dir = 'data/sampling/sampling-small-05-2'\n",
    "pattern = 'fragments*.npy'\n",
    "\n",
    "fragments_small2 = sampling2.read_fragments(input_dir, pattern)\n",
    "fragments_small2.shape\n",
    "\n",
    "\n",
    "k=6\n",
    "X_small_encoded2, y_small2 = encoding2.encode_fragment_dataset(fragments_small2,k)\n",
    "print(X_small_encoded2.shape)"
   ]
  },
  {
   "cell_type": "code",
   "execution_count": 24,
   "id": "difficult-orleans",
   "metadata": {},
   "outputs": [
    {
     "name": "stdout",
     "output_type": "stream",
     "text": [
      "CPU times: user 37 s, sys: 54.6 s, total: 1min 31s\n",
      "Wall time: 1min 53s\n"
     ]
    }
   ],
   "source": [
    "%%time\n",
    "# 2 min\n",
    "\n",
    "# compare two encoding techniques\n",
    "np.testing.assert_array_equal(X_small_encoded[:10000].toarray(), X_small_encoded2[:10000].toarray())\n",
    "np.testing.assert_array_equal(y_small.astype('str'),y_small2)\n"
   ]
  },
  {
   "cell_type": "markdown",
   "id": "southeast-performer",
   "metadata": {},
   "source": [
    "### Test larger k values"
   ]
  },
  {
   "cell_type": "code",
   "execution_count": 25,
   "id": "waiting-moral",
   "metadata": {},
   "outputs": [
    {
     "name": "stdout",
     "output_type": "stream",
     "text": [
      "(690539,)\n",
      "(690539,)\n",
      "(690539, 8859697)\n",
      "CPU times: user 1min 29s, sys: 2.93 s, total: 1min 32s\n",
      "Wall time: 1min 33s\n"
     ]
    }
   ],
   "source": [
    "%%time \n",
    "# 1.5 min with sampling,encoding\n",
    "\n",
    "input_dir = 'data/sampling/sampling-small-05'\n",
    "pattern = 'fragments*.npy'\n",
    "\n",
    "fragments_small = sampling.read_fragments(input_dir, pattern)\n",
    "fragments_small.shape\n",
    "\n",
    "k=10\n",
    "\n",
    "X_small = np.delete(fragments_small,1,axis=1).reshape(-1,)\n",
    "y_small = fragments_small[:,-1]\n",
    "print(X_small.shape)\n",
    "print(y_small.shape)\n",
    "\n",
    "X_small_encoded = encoding.encode_fragment_dataset(X_small,k)\n",
    "print(X_small_encoded.shape)"
   ]
  },
  {
   "cell_type": "code",
   "execution_count": 26,
   "id": "altered-linux",
   "metadata": {},
   "outputs": [
    {
     "name": "stdout",
     "output_type": "stream",
     "text": [
      "(690539, 8859697)\n",
      "CPU times: user 1min 58s, sys: 3.04 s, total: 2min 1s\n",
      "Wall time: 2min 2s\n"
     ]
    }
   ],
   "source": [
    "%%time \n",
    "# 54 s, (690539, 81920) with sampling2,encoding2\n",
    "\n",
    "input_dir = 'data/sampling/sampling-small-05-2'\n",
    "pattern = 'fragments*.npy'\n",
    "\n",
    "fragments_small2 = sampling2.read_fragments(input_dir, pattern)\n",
    "fragments_small2.shape\n",
    "\n",
    "k=10\n",
    "\n",
    "X_small_encoded2, y_small2 = encoding2.encode_fragment_dataset(fragments_small2,k)\n",
    "print(X_small_encoded2.shape)"
   ]
  },
  {
   "cell_type": "code",
   "execution_count": 32,
   "id": "medium-commander",
   "metadata": {
    "scrolled": true
   },
   "outputs": [
    {
     "name": "stdout",
     "output_type": "stream",
     "text": [
      "(690539,)\n",
      "(690539,)\n",
      "(690539, 20)\n"
     ]
    }
   ],
   "source": [
    "# ensure kmers are the same\n",
    "\n",
    "input_dir = 'data/sampling/sampling-small-05'\n",
    "pattern = 'fragments*.npy'\n",
    "k = 10\n",
    "fragments_small = sampling.read_fragments(input_dir, pattern)\n",
    "fragments_small.shape\n",
    "X_small = np.delete(fragments_small,1,axis=1).reshape(-1,)\n",
    "y_small = fragments_small[:,-1]\n",
    "print(X_small.shape)\n",
    "print(y_small.shape)\n",
    "\n",
    "\n",
    "X_small_kmers = encoding._generate_kmers(X_small,k)\n",
    "print(X_small_kmers.shape)"
   ]
  },
  {
   "cell_type": "code",
   "execution_count": 33,
   "id": "global-cleanup",
   "metadata": {},
   "outputs": [
    {
     "name": "stdout",
     "output_type": "stream",
     "text": [
      "(690539, 20)\n"
     ]
    }
   ],
   "source": [
    "input_dir = 'data/sampling/sampling-small-05-2'\n",
    "pattern = 'fragments*.npy'\n",
    "\n",
    "k = 10\n",
    "\n",
    "fragments_small2 = sampling2.read_fragments(input_dir, pattern)\n",
    "fragments_small2.shape\n",
    "\n",
    "X_small_kmers2, y_small2 = encoding2._group_kmers(fragments_small2,k)\n",
    "print(X_small_kmers2.shape)"
   ]
  },
  {
   "cell_type": "code",
   "execution_count": 34,
   "id": "finite-symposium",
   "metadata": {},
   "outputs": [],
   "source": [
    "np.testing.assert_array_equal(X_small_kmers, X_small_kmers2)"
   ]
  }
 ],
 "metadata": {
  "kernelspec": {
   "display_name": "Python 3",
   "language": "python",
   "name": "python3"
  },
  "language_info": {
   "codemirror_mode": {
    "name": "ipython",
    "version": 3
   },
   "file_extension": ".py",
   "mimetype": "text/x-python",
   "name": "python",
   "nbconvert_exporter": "python",
   "pygments_lexer": "ipython3",
   "version": "3.6.12"
  }
 },
 "nbformat": 4,
 "nbformat_minor": 5
}
