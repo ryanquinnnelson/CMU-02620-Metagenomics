{
 "cells": [
  {
   "cell_type": "markdown",
   "id": "biological-hospital",
   "metadata": {},
   "source": [
    "### Imports"
   ]
  },
  {
   "cell_type": "code",
   "execution_count": 38,
   "id": "straight-directory",
   "metadata": {},
   "outputs": [],
   "source": [
    "from packages.metagenomics import sampling2, encoding2\n",
    "from Bio import SeqIO\n",
    "import numpy as np\n",
    "from Bio.Seq import Seq\n",
    "from sklearn.ensemble import RandomForestClassifier\n",
    "from sklearn import datasets\n",
    "from sklearn.multiclass import OneVsRestClassifier\n",
    "from sklearn import preprocessing\n",
    "from sklearn.model_selection import train_test_split\n",
    "import shutil"
   ]
  },
  {
   "cell_type": "markdown",
   "id": "protective-simon",
   "metadata": {},
   "source": [
    "### Load and Encode Toy Dataset"
   ]
  },
  {
   "cell_type": "code",
   "execution_count": 9,
   "id": "aquatic-direction",
   "metadata": {},
   "outputs": [
    {
     "name": "stdout",
     "output_type": "stream",
     "text": [
      "(409, 201)\n"
     ]
    }
   ],
   "source": [
    "seq_file = 'data/train_small-db_toy-2000.fasta'\n",
    "taxid_file = 'data/train_small-db_toy-2000.taxid'\n",
    "output_dir = 'data/sampling/sampling-toy-2000'\n",
    "pattern = 'fragments*.npy'\n",
    "sample_length = 200\n",
    "coverage = 10\n",
    "seed = 42\n",
    "\n",
    "\n",
    "\n",
    "print(fragments_toy.shape)"
   ]
  },
  {
   "cell_type": "code",
   "execution_count": 39,
   "id": "greenhouse-channels",
   "metadata": {},
   "outputs": [],
   "source": [
    "def run_rf_classification(seq_file, taxid_file, output_dir, sample_length, coverage, seed, pattern, k, max_depth, n_estimators):\n",
    "    \n",
    "    # delete directory\n",
    "    shutil.rmtree(output_dir)\n",
    "    \n",
    "    # build fragments\n",
    "    sampling2.generate_fragment_data(seq_file, taxid_file, output_dir, sample_length, coverage, seed)\n",
    "    \n",
    "    # encode data\n",
    "    fragments = sampling2.read_fragments(output_dir, pattern)\n",
    "    X_enc, y = encoding2.encode_fragment_dataset(fragments,k)\n",
    "    le = preprocessing.LabelEncoder()\n",
    "    y_enc = le.fit_transform(y)\n",
    "\n",
    "    # split data into test and training\n",
    "    X_train, X_test, y_train, y_test = train_test_split(X_enc, y_enc, test_size=0.33, random_state=seed)\n",
    "\n",
    "    # classifier\n",
    "    rf = RandomForestClassifier(max_depth=max_depth, n_estimators=n_estimators, random_state=seed)\n",
    "    rf.fit(X_train,y_train)\n",
    "    score = rf.score(X_test, y_test)\n",
    "    return score\n",
    "    "
   ]
  },
  {
   "cell_type": "code",
   "execution_count": 36,
   "id": "premium-viewer",
   "metadata": {},
   "outputs": [],
   "source": [
    "def grid_search_multiclass_rf(list_sample_length, list_coverage, fragments, list_k, list_max_depth, list_n_estimators, seed):\n",
    "    \n",
    "    results = []\n",
    "    for sample_length in list_sample_length:\n",
    "        for coverage in list_coverage:\n",
    "            for k in list_k:\n",
    "                for max_depth in list_max_depth:\n",
    "                    for n_estimators in list_n_estimators:\n",
    "                        score = run_rf_classification()\n",
    "                        print('{}|{}|{}|{}|{}|{}|{}|{}'.format('multiclass', 'Random Forest', sample_length, coverage, k, max_depth, n_estimators, score ))\n",
    "\n",
    "    "
   ]
  },
  {
   "cell_type": "code",
   "execution_count": 37,
   "id": "actual-glass",
   "metadata": {},
   "outputs": [
    {
     "name": "stdout",
     "output_type": "stream",
     "text": [
      "multiclass|Random Forest|200|10|4|2|20|0.2\n",
      "multiclass|Random Forest|200|10|4|2|60|0.2222222222222222\n",
      "multiclass|Random Forest|200|10|4|2|100|0.18518518518518517\n",
      "multiclass|Random Forest|200|10|4|2|140|0.18518518518518517\n",
      "multiclass|Random Forest|200|10|4|2|180|0.18518518518518517\n",
      "multiclass|Random Forest|200|10|4|6|20|0.28888888888888886\n",
      "multiclass|Random Forest|200|10|4|6|60|0.25925925925925924\n",
      "multiclass|Random Forest|200|10|4|6|100|0.2222222222222222\n",
      "multiclass|Random Forest|200|10|4|6|140|0.21481481481481482\n",
      "multiclass|Random Forest|200|10|4|6|180|0.2222222222222222\n",
      "multiclass|Random Forest|200|10|4|10|20|0.2814814814814815\n",
      "multiclass|Random Forest|200|10|4|10|60|0.28888888888888886\n",
      "multiclass|Random Forest|200|10|4|10|100|0.2518518518518518\n",
      "multiclass|Random Forest|200|10|4|10|140|0.2518518518518518\n",
      "multiclass|Random Forest|200|10|4|10|180|0.2740740740740741\n",
      "multiclass|Random Forest|200|10|4|14|20|0.28888888888888886\n",
      "multiclass|Random Forest|200|10|4|14|60|0.3037037037037037\n",
      "multiclass|Random Forest|200|10|4|14|100|0.32592592592592595\n",
      "multiclass|Random Forest|200|10|4|14|140|0.31851851851851853\n",
      "multiclass|Random Forest|200|10|4|14|180|0.31851851851851853\n",
      "multiclass|Random Forest|200|10|4|18|20|0.2962962962962963\n",
      "multiclass|Random Forest|200|10|4|18|60|0.35555555555555557\n",
      "multiclass|Random Forest|200|10|4|18|100|0.34814814814814815\n",
      "multiclass|Random Forest|200|10|4|18|140|0.34074074074074073\n",
      "multiclass|Random Forest|200|10|4|18|180|0.34074074074074073\n",
      "multiclass|Random Forest|200|10|6|2|20|0.18518518518518517\n",
      "multiclass|Random Forest|200|10|6|2|60|0.18518518518518517\n",
      "multiclass|Random Forest|200|10|6|2|100|0.18518518518518517\n",
      "multiclass|Random Forest|200|10|6|2|140|0.18518518518518517\n",
      "multiclass|Random Forest|200|10|6|2|180|0.18518518518518517\n",
      "multiclass|Random Forest|200|10|6|6|20|0.18518518518518517\n",
      "multiclass|Random Forest|200|10|6|6|60|0.2\n",
      "multiclass|Random Forest|200|10|6|6|100|0.18518518518518517\n",
      "multiclass|Random Forest|200|10|6|6|140|0.18518518518518517\n",
      "multiclass|Random Forest|200|10|6|6|180|0.18518518518518517\n",
      "multiclass|Random Forest|200|10|6|10|20|0.18518518518518517\n",
      "multiclass|Random Forest|200|10|6|10|60|0.21481481481481482\n",
      "multiclass|Random Forest|200|10|6|10|100|0.2074074074074074\n",
      "multiclass|Random Forest|200|10|6|10|140|0.2074074074074074\n",
      "multiclass|Random Forest|200|10|6|10|180|0.2074074074074074\n",
      "multiclass|Random Forest|200|10|6|14|20|0.2\n",
      "multiclass|Random Forest|200|10|6|14|60|0.2\n",
      "multiclass|Random Forest|200|10|6|14|100|0.2074074074074074\n",
      "multiclass|Random Forest|200|10|6|14|140|0.2074074074074074\n",
      "multiclass|Random Forest|200|10|6|14|180|0.2074074074074074\n",
      "multiclass|Random Forest|200|10|6|18|20|0.2074074074074074\n",
      "multiclass|Random Forest|200|10|6|18|60|0.2\n",
      "multiclass|Random Forest|200|10|6|18|100|0.2222222222222222\n",
      "multiclass|Random Forest|200|10|6|18|140|0.2222222222222222\n",
      "multiclass|Random Forest|200|10|6|18|180|0.21481481481481482\n",
      "multiclass|Random Forest|200|10|8|2|20|0.18518518518518517\n",
      "multiclass|Random Forest|200|10|8|2|60|0.18518518518518517\n",
      "multiclass|Random Forest|200|10|8|2|100|0.18518518518518517\n",
      "multiclass|Random Forest|200|10|8|2|140|0.18518518518518517\n",
      "multiclass|Random Forest|200|10|8|2|180|0.18518518518518517\n",
      "multiclass|Random Forest|200|10|8|6|20|0.1925925925925926\n",
      "multiclass|Random Forest|200|10|8|6|60|0.18518518518518517\n",
      "multiclass|Random Forest|200|10|8|6|100|0.1925925925925926\n",
      "multiclass|Random Forest|200|10|8|6|140|0.1925925925925926\n",
      "multiclass|Random Forest|200|10|8|6|180|0.18518518518518517\n",
      "multiclass|Random Forest|200|10|8|10|20|0.2\n",
      "multiclass|Random Forest|200|10|8|10|60|0.1925925925925926\n",
      "multiclass|Random Forest|200|10|8|10|100|0.2\n",
      "multiclass|Random Forest|200|10|8|10|140|0.1925925925925926\n",
      "multiclass|Random Forest|200|10|8|10|180|0.2\n",
      "multiclass|Random Forest|200|10|8|14|20|0.2\n",
      "multiclass|Random Forest|200|10|8|14|60|0.2\n",
      "multiclass|Random Forest|200|10|8|14|100|0.2\n",
      "multiclass|Random Forest|200|10|8|14|140|0.2\n",
      "multiclass|Random Forest|200|10|8|14|180|0.2\n",
      "multiclass|Random Forest|200|10|8|18|20|0.21481481481481482\n",
      "multiclass|Random Forest|200|10|8|18|60|0.2\n",
      "multiclass|Random Forest|200|10|8|18|100|0.2\n",
      "multiclass|Random Forest|200|10|8|18|140|0.2074074074074074\n",
      "multiclass|Random Forest|200|10|8|18|180|0.21481481481481482\n"
     ]
    }
   ],
   "source": [
    "list_k = [i for i in range(4,10,2)]\n",
    "list_max_depth = [i for i in range(2,20,4)]\n",
    "list_n_estimators = [i for i in range(20,200,40)]\n",
    "\n",
    "grid_search_multiclass_rf(sample_length, coverage, fragments_toy, list_k, list_max_depth,list_n_estimators, seed )"
   ]
  },
  {
   "cell_type": "code",
   "execution_count": null,
   "id": "foster-filename",
   "metadata": {},
   "outputs": [],
   "source": [
    "# removing directory\n",
    "shutil.rmtree('data/sampling/sampling-toy-2000')"
   ]
  }
 ],
 "metadata": {
  "kernelspec": {
   "display_name": "Python 3",
   "language": "python",
   "name": "python3"
  },
  "language_info": {
   "codemirror_mode": {
    "name": "ipython",
    "version": 3
   },
   "file_extension": ".py",
   "mimetype": "text/x-python",
   "name": "python",
   "nbconvert_exporter": "python",
   "pygments_lexer": "ipython3",
   "version": "3.6.12"
  }
 },
 "nbformat": 4,
 "nbformat_minor": 5
}
